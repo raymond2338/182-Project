{
 "cells": [
  {
   "cell_type": "code",
   "execution_count": 1,
   "metadata": {},
   "outputs": [
    {
     "name": "stderr",
     "output_type": "stream",
     "text": [
      "/home/aditya/Tools/anaconda3/lib/python3.6/site-packages/sklearn/ensemble/weight_boosting.py:29: DeprecationWarning: numpy.core.umath_tests is an internal NumPy module and should not be imported. It will be removed in a future NumPy release.\n",
      "  from numpy.core.umath_tests import inner1d\n"
     ]
    }
   ],
   "source": [
    "import numpy as np\n",
    "import pandas as pd\n",
    "from sklearn.linear_model import LogisticRegression\n",
    "from sklearn.ensemble import RandomForestClassifier\n",
    "from sklearn.metrics import recall_score, precision_score, precision_recall_fscore_support"
   ]
  },
  {
   "cell_type": "code",
   "execution_count": 2,
   "metadata": {},
   "outputs": [],
   "source": [
    "data_formation = pd.read_csv(\"data/X_resampled_formation.csv\").values\n",
    "test_data_formation = pd.read_csv(\"data/X_test_formation.csv\").values\n",
    "label_formation = pd.read_csv(\"data/y_resampled_formation.csv\").idxmax(axis=1).values\n",
    "test_label_formation = pd.read_csv(\"data/y_test_formation.csv\").idxmax(axis=1).values"
   ]
  },
  {
   "cell_type": "markdown",
   "metadata": {},
   "source": [
    "# Logistic Regression Model"
   ]
  },
  {
   "cell_type": "code",
   "execution_count": 3,
   "metadata": {},
   "outputs": [],
   "source": [
    "logistic_reg_clf = LogisticRegression(penalty = 'l2', solver='lbfgs',\n",
    "                                      multi_class='multinomial').fit(data_formation, label_formation)"
   ]
  },
  {
   "cell_type": "code",
   "execution_count": 4,
   "metadata": {},
   "outputs": [
    {
     "name": "stdout",
     "output_type": "stream",
     "text": [
      "Validation Accuracy: 0.364241\n"
     ]
    }
   ],
   "source": [
    "validation_acc = logistic_reg_clf.score(test_data_formation, test_label_formation)\n",
    "print(\"Validation Accuracy: %f\" % (validation_acc))"
   ]
  },
  {
   "cell_type": "code",
   "execution_count": 14,
   "metadata": {},
   "outputs": [
    {
     "name": "stdout",
     "output_type": "stream",
     "text": [
      "Averages\n",
      "0.35561701414403385\n",
      "0.3642406114988368\n",
      "0.35939007448535754\n",
      "Per Class\n",
      "[0.24701195 0.25138122 0.47519582]\n",
      "[0.23220974 0.2300885  0.51376147]\n",
      "[0.23938224 0.24026403 0.49372669]\n"
     ]
    }
   ],
   "source": [
    "y_pred = logistic_reg_clf.predict(test_data_formation)\n",
    "p_score_avg, r_score_avg, f1_score_avg, _ = precision_recall_fscore_support(test_label_formation, y_pred, average='weighted')\n",
    "print(\"Averages\")\n",
    "print(p_score_avg)\n",
    "print(r_score_avg)\n",
    "print(f1_score_avg)\n",
    "\n",
    "\n",
    "p_scores, r_scores, f1_scores, _ = precision_recall_fscore_support(test_label_formation, y_pred, average=None)\n",
    "print(\"Per Class\")\n",
    "print(p_scores)\n",
    "print(r_scores)\n",
    "print(f1_scores)"
   ]
  },
  {
   "cell_type": "markdown",
   "metadata": {},
   "source": [
    "# Random Forest"
   ]
  },
  {
   "cell_type": "code",
   "execution_count": 15,
   "metadata": {},
   "outputs": [],
   "source": [
    "random_forest_clf = RandomForestClassifier(n_estimators=50).fit(data_formation, label_formation)"
   ]
  },
  {
   "cell_type": "code",
   "execution_count": 16,
   "metadata": {},
   "outputs": [
    {
     "name": "stdout",
     "output_type": "stream",
     "text": [
      "Validation Accuracy: 0.364241\n"
     ]
    }
   ],
   "source": [
    "validation_acc = random_forest_clf.score(test_data_formation, test_label_formation)\n",
    "print(\"Validation Accuracy: %f\" % (validation_acc))"
   ]
  },
  {
   "cell_type": "code",
   "execution_count": 17,
   "metadata": {},
   "outputs": [
    {
     "name": "stdout",
     "output_type": "stream",
     "text": [
      "Averages\n",
      "0.35395456472118136\n",
      "0.3642406114988368\n",
      "0.357203131926634\n",
      "Per Class\n",
      "[0.26954492 0.25340136 0.45780051]\n",
      "[0.28838951 0.18836915 0.50529287]\n",
      "[0.27864897 0.21609862 0.48037571]\n"
     ]
    }
   ],
   "source": [
    "y_pred = random_forest_clf.predict(test_data_formation)\n",
    "p_score_avg, r_score_avg, f1_score_avg, _ = precision_recall_fscore_support(test_label_formation, y_pred, average='weighted')\n",
    "print(\"Averages\")\n",
    "print(p_score_avg)\n",
    "print(r_score_avg)\n",
    "print(f1_score_avg)\n",
    "\n",
    "\n",
    "p_scores, r_scores, f1_scores, _ = precision_recall_fscore_support(test_label_formation, y_pred, average=None)\n",
    "print(\"Per Class\")\n",
    "print(p_scores)\n",
    "print(r_scores)\n",
    "print(f1_scores)"
   ]
  },
  {
   "cell_type": "code",
   "execution_count": null,
   "metadata": {},
   "outputs": [],
   "source": []
  }
 ],
 "metadata": {
  "kernelspec": {
   "display_name": "Python 3",
   "language": "python",
   "name": "python3"
  },
  "language_info": {
   "codemirror_mode": {
    "name": "ipython",
    "version": 3
   },
   "file_extension": ".py",
   "mimetype": "text/x-python",
   "name": "python",
   "nbconvert_exporter": "python",
   "pygments_lexer": "ipython3",
   "version": "3.6.6"
  }
 },
 "nbformat": 4,
 "nbformat_minor": 2
}
