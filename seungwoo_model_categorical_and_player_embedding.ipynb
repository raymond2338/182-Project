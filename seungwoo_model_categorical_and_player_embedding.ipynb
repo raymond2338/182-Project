{
 "cells": [
  {
   "cell_type": "code",
   "execution_count": 1,
   "metadata": {},
   "outputs": [
    {
     "name": "stderr",
     "output_type": "stream",
     "text": [
      "/Users/seungwooson/anaconda/lib/python3.5/site-packages/h5py/__init__.py:34: FutureWarning: Conversion of the second argument of issubdtype from `float` to `np.floating` is deprecated. In future, it will be treated as `np.float64 == np.dtype(float).type`.\n",
      "  from ._conv import register_converters as _register_converters\n",
      "Using TensorFlow backend.\n"
     ]
    }
   ],
   "source": [
    "%matplotlib inline\n",
    "import pandas as pd\n",
    "from pandas import Series\n",
    "import numpy as np\n",
    "from functools import reduce\n",
    "from sklearn.preprocessing import LabelEncoder\n",
    "from keras.layers import Dense, Lambda\n",
    "from keras.initializers import glorot_normal\n",
    "from keras.optimizers import Adam\n",
    "from keras.models import Sequential\n",
    "from sklearn.model_selection import train_test_split\n",
    "from sklearn.preprocessing import LabelEncoder\n",
    "from numpy import array\n",
    "from keras.utils import to_categorical\n",
    "import tensorflow as tf\n",
    "from sklearn.metrics import recall_score, precision_score, precision_recall_fscore_support\n",
    "import sqlite3\n",
    "import keras\n",
    "from scipy.special import softmax\n",
    "from sklearn.metrics import accuracy_score"
   ]
  },
  {
   "cell_type": "code",
   "execution_count": 2,
   "metadata": {},
   "outputs": [],
   "source": [
    "%%capture\n",
    "from tqdm import tqdm_notebook\n",
    "from tqdm import tnrange"
   ]
  },
  {
   "cell_type": "code",
   "execution_count": 4,
   "metadata": {},
   "outputs": [],
   "source": [
    "df_final = pd.read_csv(\"data_cleaned_new_features.csv\")"
   ]
  },
  {
   "cell_type": "code",
   "execution_count": 5,
   "metadata": {},
   "outputs": [],
   "source": [
    "df_final['season'] = pd.factorize(df_final['season'])[0]"
   ]
  },
  {
   "cell_type": "code",
   "execution_count": 6,
   "metadata": {},
   "outputs": [],
   "source": [
    "home_team_stats = ['home_buildUpPlaySpeed', 'home_buildUpPlayDribbling',\n",
    "       'home_buildUpPlayPassing', 'home_chanceCreationPassing',\n",
    "       'home_chanceCreationCrossing', 'home_chanceCreationShooting',\n",
    "       'home_defencePressure', 'home_defenceAggression',\n",
    "       'home_defenceTeamWidth']\n",
    "away_team_stats = ['away_buildUpPlaySpeed', 'away_buildUpPlayDribbling',\n",
    "       'away_buildUpPlayPassing', 'away_chanceCreationPassing',\n",
    "       'away_chanceCreationCrossing', 'away_chanceCreationShooting',\n",
    "       'away_defencePressure', 'away_defenceAggression',\n",
    "       'away_defenceTeamWidth']\n",
    "attributes_col = ['overall_rating', 'potential', 'preferred_foot', 'attacking_work_rate',\n",
    "       'defensive_work_rate', 'crossing', 'finishing', 'heading_accuracy',\n",
    "       'short_passing', 'volleys', 'dribbling', 'curve', 'free_kick_accuracy',\n",
    "       'long_passing', 'ball_control', 'acceleration', 'sprint_speed',\n",
    "       'agility', 'reactions', 'balance', 'shot_power', 'jumping', 'stamina',\n",
    "       'strength', 'long_shots', 'aggression', 'interceptions', 'positioning',\n",
    "       'vision', 'penalties', 'marking', 'standing_tackle', 'sliding_tackle',\n",
    "       'gk_diving', 'gk_handling', 'gk_kicking', 'gk_positioning',\n",
    "       'gk_reflexes']\n",
    "attributes_col.remove(\"preferred_foot\")\n",
    "attributes_col.remove(\"attacking_work_rate\")\n",
    "attributes_col.remove(\"defensive_work_rate\")\n",
    "def nameColumns(playerNum, homeOrAway):\n",
    "    cols = attributes_col\n",
    "    player_cols = []\n",
    "    for col in cols:\n",
    "        player_cols.append(homeOrAway + \"_player_\" + str(playerNum) + \"_\" + col)\n",
    "    return player_cols\n",
    "home_player_num = []\n",
    "away_player_num = []\n",
    "for i in range(1, 12):\n",
    "    home_player_num.append(nameColumns(homeOrAway='home', playerNum=i))\n",
    "    away_player_num.append(nameColumns(homeOrAway='away', playerNum=i))\n",
    "home_player_num = np.array(home_player_num).flatten()\n",
    "away_player_num = np.array(away_player_num).flatten()\n",
    "home_record = ['home_win_record', 'home_loss_record', 'home_draw_record']\n",
    "away_record = ['away_win_record', 'away_loss_record', 'away_draw_record']"
   ]
  },
  {
   "cell_type": "code",
   "execution_count": 7,
   "metadata": {},
   "outputs": [],
   "source": [
    "from collections import Counter\n",
    "home_players_y, away_players_y = [], []\n",
    "for i in range(1, 12):\n",
    "    home_players_y.append(\"home_player_Y\"+str(i))\n",
    "    away_players_y.append(\"away_player_Y\"+str(i))\n",
    "def formations(df):\n",
    "    formation_dict = Counter(df)\n",
    "    sorted_keys = sorted(formation_dict)\n",
    "    formation = ''\n",
    "    for key in sorted_keys[1:-1]:\n",
    "        y = formation_dict[key]\n",
    "        formation += '%d-' % y\n",
    "    formation += '%d' % formation_dict[sorted_keys[-1]]\n",
    "    return formation\n",
    "df_final[\"home_formations\"] = df_final[home_players_y].apply(formations, axis=1)\n",
    "df_final[\"away_formations\"] = df_final[away_players_y].apply(formations, axis=1)"
   ]
  },
  {
   "cell_type": "code",
   "execution_count": 8,
   "metadata": {},
   "outputs": [],
   "source": [
    "desired_cols = np.concatenate((['season', 'home_formations'], home_team_stats, home_player_num, home_record, ['away_formations'], away_team_stats, away_player_num, away_record), axis=0)"
   ]
  },
  {
   "cell_type": "code",
   "execution_count": 9,
   "metadata": {},
   "outputs": [],
   "source": [
    "X = df_final[desired_cols]\n",
    "y = df_final['label_home']"
   ]
  },
  {
   "cell_type": "code",
   "execution_count": 10,
   "metadata": {},
   "outputs": [
    {
     "name": "stderr",
     "output_type": "stream",
     "text": [
      "/Users/seungwooson/anaconda/lib/python3.5/site-packages/ipykernel_launcher.py:1: SettingWithCopyWarning: \n",
      "A value is trying to be set on a copy of a slice from a DataFrame.\n",
      "Try using .loc[row_indexer,col_indexer] = value instead\n",
      "\n",
      "See the caveats in the documentation: http://pandas.pydata.org/pandas-docs/stable/indexing.html#indexing-view-versus-copy\n",
      "  \"\"\"Entry point for launching an IPython kernel.\n",
      "/Users/seungwooson/anaconda/lib/python3.5/site-packages/ipykernel_launcher.py:2: SettingWithCopyWarning: \n",
      "A value is trying to be set on a copy of a slice from a DataFrame.\n",
      "Try using .loc[row_indexer,col_indexer] = value instead\n",
      "\n",
      "See the caveats in the documentation: http://pandas.pydata.org/pandas-docs/stable/indexing.html#indexing-view-versus-copy\n",
      "  \n"
     ]
    }
   ],
   "source": [
    "X['home_formations'] = pd.factorize(X['home_formations'])[0]\n",
    "X['away_formations'] = pd.factorize(X['away_formations'])[0]"
   ]
  },
  {
   "cell_type": "code",
   "execution_count": 86,
   "metadata": {},
   "outputs": [],
   "source": [
    "models_without_player_emb = []"
   ]
  },
  {
   "cell_type": "code",
   "execution_count": 87,
   "metadata": {
    "scrolled": true
   },
   "outputs": [
    {
     "name": "stderr",
     "output_type": "stream",
     "text": [
      "/Users/seungwooson/anaconda/lib/python3.5/site-packages/ipykernel_launcher.py:17: UserWarning: The `merge` function is deprecated and will be removed after 08/2017. Use instead layers from `keras.layers.merge`, e.g. `add`, `concatenate`, etc.\n",
      "/Users/seungwooson/anaconda/lib/python3.5/site-packages/keras/legacy/layers.py:465: UserWarning: The `Merge` layer is deprecated and will be removed after 08/2017. Use instead layers from `keras.layers.merge`, e.g. `add`, `concatenate`, etc.\n",
      "  name=name)\n",
      "/Users/seungwooson/anaconda/lib/python3.5/site-packages/ipykernel_launcher.py:37: UserWarning: The `Merge` layer is deprecated and will be removed after 08/2017. Use instead layers from `keras.layers.merge`, e.g. `add`, `concatenate`, etc.\n",
      "/Users/seungwooson/anaconda/lib/python3.5/site-packages/ipykernel_launcher.py:39: UserWarning: The `merge` function is deprecated and will be removed after 08/2017. Use instead layers from `keras.layers.merge`, e.g. `add`, `concatenate`, etc.\n"
     ]
    }
   ],
   "source": [
    "from keras.models import Model\n",
    "from keras.layers import Input, Dense, Merge, merge, Concatenate, Reshape, Dropout, BatchNormalization, PReLU\n",
    "from keras.layers.embeddings import Embedding\n",
    "\n",
    "#Add Player Stats \n",
    "player_input = Input(shape=(35,))\n",
    "x = Dense(3, activation='relu')(player_input)\n",
    "player_output = x\n",
    "player_model = Model(player_input, player_output)\n",
    "\n",
    "[home_player_1, home_player_2, home_player_3, home_player_4, home_player_5, home_player_6, home_player_7, home_player_8, home_player_9, home_player_10, home_player_11,\\\n",
    "away_player_1, away_player_2, away_player_3, away_player_4, away_player_5, away_player_6, away_player_7, away_player_8, away_player_9, away_player_10, away_player_11] \\\n",
    "= [Input(shape=(35,)) for i in range(22)]\n",
    "\n",
    "players_input = [home_player_1, home_player_2, home_player_3, home_player_4, home_player_5, home_player_6, home_player_7, home_player_8, home_player_9, home_player_10, home_player_11,\\\n",
    "away_player_1, away_player_2, away_player_3, away_player_4, away_player_5, away_player_6, away_player_7, away_player_8, away_player_9, away_player_10, away_player_11]\n",
    "\n",
    "players_encoded = [player_model(i) for i in players_input]\n",
    "\n",
    "player_merged = merge(players_encoded, mode='concat')\n",
    "\n",
    "#Add Categorical Column Embeddings\n",
    "categorical_vars = [\"home_formations\", \"season\", \"away_formations\"]\n",
    "for categorical_var in categorical_vars :\n",
    "    model = Sequential()\n",
    "    no_of_unique_cat  = X[categorical_var].nunique()\n",
    "    embedding_size = min(np.ceil((no_of_unique_cat)/2), 50 )\n",
    "    embedding_size = int(embedding_size)\n",
    "    vocab  = no_of_unique_cat\n",
    "    model.add(Embedding(vocab ,embedding_size, input_length = 1 ))\n",
    "    model.add(Reshape(target_shape=(embedding_size,)))\n",
    "    models_without_player_emb.append(model)\n",
    "#Add rest numeric columns\n",
    "numeric_len = len(X.columns) - len(categorical_vars) - len(home_player_num) - len(away_player_num)\n",
    "model_numeric = Sequential()\n",
    "model_numeric.add(Dense(16, input_shape=[numeric_len]))\n",
    "models_without_player_emb.append(model_numeric)\n",
    "\n",
    "model_without_player_emb = Sequential()\n",
    "model_without_player_emb.add(Merge(models_without_player_emb, mode='concat'))\n",
    "\n",
    "combinedInput = merge([model_without_player_emb.output, player_merged], mode='concat')\n"
   ]
  },
  {
   "cell_type": "code",
   "execution_count": 88,
   "metadata": {},
   "outputs": [],
   "source": [
    "## RERUN FROM HERE"
   ]
  },
  {
   "cell_type": "code",
   "execution_count": 89,
   "metadata": {},
   "outputs": [
    {
     "name": "stderr",
     "output_type": "stream",
     "text": [
      "/Users/seungwooson/anaconda/lib/python3.5/site-packages/keras/activations.py:115: UserWarning: Do not pass a layer instance (such as PReLU) as the activation argument of another layer. Instead, advanced activation layers should be used just like any other layer in a model.\n",
      "  identifier=identifier.__class__.__name__))\n"
     ]
    }
   ],
   "source": [
    "xavier_init = glorot_normal(seed=35)\n",
    "combined = Dense(27, activation=PReLU(), kernel_initializer=xavier_init)(combinedInput)\n",
    "combined = BatchNormalization()(combined)\n",
    "combined = Dense(9, activation=PReLU(),  kernel_initializer=xavier_init)(combined)\n",
    "combined = BatchNormalization()(combined)\n",
    "combined = Dense(3, activation='softmax')(combined)\n",
    "full_model = Model(inputs=np.concatenate([model_without_player_emb.input, players_input], axis=0).tolist(), outputs=combined)\n",
    "\n",
    "learning_rate = 1e-3\n",
    "epochs = 100\n",
    "# decay_rate = learning_rate / epochs\n",
    "# opt = Adam(lr=learning_rate, decay=decay_rate)\n",
    "opt = Adam(lr=learning_rate)\n",
    "\n",
    "full_model.compile(loss='categorical_crossentropy', optimizer=opt, metrics=['accuracy'])"
   ]
  },
  {
   "cell_type": "code",
   "execution_count": 59,
   "metadata": {},
   "outputs": [],
   "source": [
    "### DO NOT CHANGE BELOW"
   ]
  },
  {
   "cell_type": "code",
   "execution_count": 21,
   "metadata": {},
   "outputs": [
    {
     "name": "stderr",
     "output_type": "stream",
     "text": [
      "/Users/seungwooson/anaconda/lib/python3.5/site-packages/sklearn/preprocessing/data.py:334: DataConversionWarning: Data with input dtype int64, float64 were all converted to float64 by MinMaxScaler.\n",
      "  return self.partial_fit(X, y)\n",
      "/Users/seungwooson/anaconda/lib/python3.5/site-packages/ipykernel_launcher.py:4: SettingWithCopyWarning: \n",
      "A value is trying to be set on a copy of a slice from a DataFrame.\n",
      "Try using .loc[row_indexer,col_indexer] = value instead\n",
      "\n",
      "See the caveats in the documentation: http://pandas.pydata.org/pandas-docs/stable/indexing.html#indexing-view-versus-copy\n",
      "  after removing the cwd from sys.path.\n",
      "/Users/seungwooson/anaconda/lib/python3.5/site-packages/pandas/core/indexing.py:537: SettingWithCopyWarning: \n",
      "A value is trying to be set on a copy of a slice from a DataFrame.\n",
      "Try using .loc[row_indexer,col_indexer] = value instead\n",
      "\n",
      "See the caveats in the documentation: http://pandas.pydata.org/pandas-docs/stable/indexing.html#indexing-view-versus-copy\n",
      "  self.obj[item] = s\n"
     ]
    }
   ],
   "source": [
    "numeric_cols = [col for col in X.columns.values if col not in categorical_vars]\n",
    "from sklearn.preprocessing import MinMaxScaler\n",
    "scaler = MinMaxScaler().fit(X[numeric_cols])\n",
    "X[numeric_cols] = scaler.transform(X[numeric_cols])\n",
    "from sklearn.model_selection import train_test_split\n",
    "X_train, X_test, y_train, y_test = train_test_split(X, y, \n",
    "                                                    test_size=0.1, random_state=0)\n",
    "from keras.utils import np_utils\n",
    "y_train, y_test = [i+1 for i in y_train], [i+1 for i in y_test]\n",
    "y_train_enc, y_test_enc = np_utils.to_categorical(y_train), np_utils.to_categorical(y_test)"
   ]
  },
  {
   "cell_type": "code",
   "execution_count": 22,
   "metadata": {},
   "outputs": [],
   "source": [
    "X_train_inputs = []\n",
    "X_train_inputs.append(X_train[\"home_formations\"])\n",
    "X_train_inputs.append(X_train[\"season\"])\n",
    "X_train_inputs.append(X_train[\"away_formations\"])\n",
    "X_train_inputs.append(X_train[np.concatenate((home_team_stats, home_record, away_team_stats, away_record), axis=0)])\n",
    "for i in range(1, 12):\n",
    "    X_train_inputs.append(X_train[nameColumns(homeOrAway=\"home\", playerNum=i)])\n",
    "for i in range(1, 12):\n",
    "    X_train_inputs.append(X_train[nameColumns(homeOrAway=\"away\", playerNum=i)])"
   ]
  },
  {
   "cell_type": "code",
   "execution_count": 23,
   "metadata": {},
   "outputs": [],
   "source": [
    "X_test_inputs = []\n",
    "X_test_inputs.append(X_test[\"home_formations\"])\n",
    "X_test_inputs.append(X_test[\"season\"])\n",
    "X_test_inputs.append(X_test[\"away_formations\"])\n",
    "X_test_inputs.append(X_test[np.concatenate((home_team_stats, home_record, away_team_stats, away_record), axis=0)])\n",
    "for i in range(1, 12):\n",
    "    X_test_inputs.append(X_test[nameColumns(homeOrAway=\"home\", playerNum=i)])\n",
    "for i in range(1, 12):\n",
    "    X_test_inputs.append(X_test[nameColumns(homeOrAway=\"away\", playerNum=i)])"
   ]
  },
  {
   "cell_type": "code",
   "execution_count": null,
   "metadata": {},
   "outputs": [],
   "source": [
    "### DO NOT CHANGE ABOVE"
   ]
  },
  {
   "cell_type": "code",
   "execution_count": 82,
   "metadata": {},
   "outputs": [],
   "source": [
    "from keras.callbacks import ModelCheckpoint, ReduceLROnPlateau\n",
    "filepath=\"./experiments/weights-improvement-{epoch:02d}-{val_acc:.2f}.hdf5\"\n",
    "\n",
    "checkpoint = ModelCheckpoint(filepath, monitor='val_acc', verbose=0, save_best_only=True, save_weights_only=True, mode='max')\n",
    "reduce_lr = ReduceLROnPlateau(monitor='val_loss', factor=0.2,\n",
    "                          patience=5, min_lr=5e-4)\n",
    "callbacks_list = [checkpoint, reduce_lr]"
   ]
  },
  {
   "cell_type": "code",
   "execution_count": 50,
   "metadata": {},
   "outputs": [
    {
     "name": "stdout",
     "output_type": "stream",
     "text": [
      "Train on 18054 samples, validate on 2006 samples\n",
      "Epoch 1/23\n",
      "18054/18054 [==============================] - 13s 707us/step - loss: 0.9640 - acc: 0.5394 - val_loss: 0.9186 - val_acc: 0.5718\n",
      "Epoch 2/23\n",
      "18054/18054 [==============================] - 11s 624us/step - loss: 0.9254 - acc: 0.5650 - val_loss: 0.9364 - val_acc: 0.5479\n",
      "Epoch 3/23\n",
      "18054/18054 [==============================] - 11s 623us/step - loss: 0.9207 - acc: 0.5658 - val_loss: 0.9152 - val_acc: 0.5738\n",
      "Epoch 4/23\n",
      "18054/18054 [==============================] - 11s 607us/step - loss: 0.9159 - acc: 0.5758 - val_loss: 0.9136 - val_acc: 0.5733\n",
      "Epoch 5/23\n",
      "18054/18054 [==============================] - 11s 605us/step - loss: 0.9127 - acc: 0.5723 - val_loss: 0.9098 - val_acc: 0.5718\n",
      "Epoch 6/23\n",
      "18054/18054 [==============================] - 11s 636us/step - loss: 0.9108 - acc: 0.5739 - val_loss: 0.9101 - val_acc: 0.5783\n",
      "Epoch 7/23\n",
      "18054/18054 [==============================] - 11s 630us/step - loss: 0.9096 - acc: 0.5747 - val_loss: 0.9095 - val_acc: 0.5663\n",
      "Epoch 8/23\n",
      "18054/18054 [==============================] - 11s 627us/step - loss: 0.9056 - acc: 0.5779 - val_loss: 0.9093 - val_acc: 0.5728\n",
      "Epoch 9/23\n",
      "18054/18054 [==============================] - 11s 617us/step - loss: 0.9066 - acc: 0.5777 - val_loss: 0.9034 - val_acc: 0.5823\n",
      "Epoch 10/23\n",
      "18054/18054 [==============================] - 11s 632us/step - loss: 0.9024 - acc: 0.5801 - val_loss: 0.8959 - val_acc: 0.5808\n",
      "Epoch 11/23\n",
      "18054/18054 [==============================] - 11s 626us/step - loss: 0.9011 - acc: 0.5818 - val_loss: 0.9071 - val_acc: 0.5823\n",
      "Epoch 12/23\n",
      "18054/18054 [==============================] - 11s 634us/step - loss: 0.9005 - acc: 0.5852 - val_loss: 0.9056 - val_acc: 0.5803\n",
      "Epoch 13/23\n",
      "18054/18054 [==============================] - 11s 619us/step - loss: 0.8964 - acc: 0.5845 - val_loss: 0.9197 - val_acc: 0.5798\n",
      "Epoch 14/23\n",
      "18054/18054 [==============================] - 12s 643us/step - loss: 0.8919 - acc: 0.5877 - val_loss: 0.8989 - val_acc: 0.5803\n",
      "Epoch 15/23\n",
      "18054/18054 [==============================] - 11s 624us/step - loss: 0.8954 - acc: 0.5846 - val_loss: 0.9200 - val_acc: 0.5743\n",
      "Epoch 16/23\n",
      "18054/18054 [==============================] - 12s 657us/step - loss: 0.8903 - acc: 0.5869 - val_loss: 0.9012 - val_acc: 0.5877\n",
      "Epoch 17/23\n",
      "18054/18054 [==============================] - 11s 628us/step - loss: 0.8844 - acc: 0.5918 - val_loss: 0.9022 - val_acc: 0.5842\n",
      "Epoch 18/23\n",
      "18054/18054 [==============================] - 11s 617us/step - loss: 0.8844 - acc: 0.5919 - val_loss: 0.8974 - val_acc: 0.5872\n",
      "Epoch 19/23\n",
      "18054/18054 [==============================] - 12s 649us/step - loss: 0.8799 - acc: 0.5958 - val_loss: 0.8961 - val_acc: 0.5882\n",
      "Epoch 20/23\n",
      "18054/18054 [==============================] - 11s 628us/step - loss: 0.8771 - acc: 0.5969 - val_loss: 0.8960 - val_acc: 0.5862\n",
      "Epoch 21/23\n",
      "18054/18054 [==============================] - 11s 635us/step - loss: 0.8780 - acc: 0.5975 - val_loss: 0.9047 - val_acc: 0.5847\n",
      "Epoch 22/23\n",
      "18054/18054 [==============================] - 11s 625us/step - loss: 0.8781 - acc: 0.6011 - val_loss: 0.8954 - val_acc: 0.5957\n",
      "Epoch 23/23\n",
      "18054/18054 [==============================] - 11s 633us/step - loss: 0.8806 - acc: 0.5921 - val_loss: 0.8998 - val_acc: 0.5977\n"
     ]
    }
   ],
   "source": [
    "history = full_model.fit(x=X_train_inputs, y=y_train_enc, batch_size=8, shuffle=True, epochs=23, \n",
    "          validation_data=(X_test_inputs, y_test_enc), callbacks=callbacks_list)"
   ]
  },
  {
   "cell_type": "code",
   "execution_count": 51,
   "metadata": {},
   "outputs": [
    {
     "name": "stdout",
     "output_type": "stream",
     "text": [
      "dict_keys(['loss', 'val_loss', 'lr', 'val_acc', 'acc'])\n"
     ]
    },
    {
     "data": {
      "image/png": "[encoded data removed]",
      "text/plain": [
       "<Figure size 432x288 with 1 Axes>"
      ]
     },
     "metadata": {},
     "output_type": "display_data"
    }
   ],
   "source": [
    "import matplotlib.pyplot as plt\n",
    "\n",
    "# list all data in history\n",
    "print(history.history.keys())\n",
    "# summarize history for accuracy\n",
    "plt.plot(history.history['acc'])\n",
    "plt.plot(history.history['val_acc'])\n",
    "plt.title('model accuracy')\n",
    "plt.ylabel('accuracy')\n",
    "plt.xlabel('epoch')\n",
    "plt.legend(['train', 'test'], loc='upper left')\n",
    "plt.show()"
   ]
  },
  {
   "cell_type": "code",
   "execution_count": 52,
   "metadata": {},
   "outputs": [
    {
     "data": {
      "image/png": "[encoded data removed]",
      "text/plain": [
       "<Figure size 432x288 with 1 Axes>"
      ]
     },
     "metadata": {},
     "output_type": "display_data"
    }
   ],
   "source": [
    "# summarize history for loss\n",
    "plt.plot(history.history['loss'])\n",
    "plt.plot(history.history['val_loss'])\n",
    "plt.title('model loss')\n",
    "plt.ylabel('loss')\n",
    "plt.xlabel('epoch')\n",
    "plt.legend(['train', 'test'], loc='upper left')\n",
    "plt.show()"
   ]
  },
  {
   "cell_type": "code",
   "execution_count": 53,
   "metadata": {},
   "outputs": [
    {
     "name": "stdout",
     "output_type": "stream",
     "text": [
      "2006/2006 [==============================] - 0s 112us/step\n"
     ]
    },
    {
     "data": {
      "text/plain": [
       "[0.8998042682588754, 0.5977068794213406]"
      ]
     },
     "execution_count": 53,
     "metadata": {},
     "output_type": "execute_result"
    }
   ],
   "source": [
    "full_model.evaluate(X_test_inputs, y_test_enc)"
   ]
  },
  {
   "cell_type": "code",
   "execution_count": 54,
   "metadata": {},
   "outputs": [
    {
     "name": "stdout",
     "output_type": "stream",
     "text": [
      "18054/18054 [==============================] - 2s 90us/step\n"
     ]
    },
    {
     "data": {
      "text/plain": [
       "[0.8473272730150769, 0.6195856873822976]"
      ]
     },
     "execution_count": 54,
     "metadata": {},
     "output_type": "execute_result"
    }
   ],
   "source": [
    "full_model.evaluate(X_train_inputs, y_train_enc)"
   ]
  },
  {
   "cell_type": "code",
   "execution_count": null,
   "metadata": {},
   "outputs": [],
   "source": [
    "# full_model.load_weights(\"./weights-improvement-23-0.60.hdf5\")"
   ]
  }
 ],
 "metadata": {
  "kernelspec": {
   "display_name": "Python 3",
   "language": "python",
   "name": "python3"
  },
  "language_info": {
   "codemirror_mode": {
    "name": "ipython",
    "version": 3
   },
   "file_extension": ".py",
   "mimetype": "text/x-python",
   "name": "python",
   "nbconvert_exporter": "python",
   "pygments_lexer": "ipython3",
   "version": "3.5.5"
  }
 },
 "nbformat": 4,
 "nbformat_minor": 2
}
