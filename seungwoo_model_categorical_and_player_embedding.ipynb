{
 "cells": [
  {
   "cell_type": "code",
   "execution_count": 2,
   "metadata": {},
   "outputs": [
    {
     "name": "stderr",
     "output_type": "stream",
     "text": [
      "/Users/seungwooson/anaconda/lib/python3.5/site-packages/h5py/__init__.py:34: FutureWarning: Conversion of the second argument of issubdtype from `float` to `np.floating` is deprecated. In future, it will be treated as `np.float64 == np.dtype(float).type`.\n",
      "  from ._conv import register_converters as _register_converters\n",
      "Using TensorFlow backend.\n"
     ]
    }
   ],
   "source": [
    "%matplotlib inline\n",
    "import pandas as pd\n",
    "from pandas import Series\n",
    "import numpy as np\n",
    "from functools import reduce\n",
    "from sklearn.preprocessing import LabelEncoder\n",
    "from keras.layers import Dense, Lambda\n",
    "from keras.initializers import glorot_normal\n",
    "from keras.optimizers import Adam\n",
    "from keras.models import Sequential\n",
    "from sklearn.model_selection import train_test_split\n",
    "from sklearn.preprocessing import LabelEncoder\n",
    "from numpy import array\n",
    "from keras.utils import to_categorical\n",
    "import tensorflow as tf\n",
    "from sklearn.metrics import recall_score, precision_score, precision_recall_fscore_support\n",
    "import sqlite3\n",
    "import keras\n",
    "from scipy.special import softmax\n",
    "from sklearn.metrics import accuracy_score"
   ]
  },
  {
   "cell_type": "code",
   "execution_count": 3,
   "metadata": {},
   "outputs": [],
   "source": [
    "%%capture\n",
    "from tqdm import tqdm_notebook\n",
    "from tqdm import tnrange"
   ]
  },
  {
   "cell_type": "code",
   "execution_count": 4,
   "metadata": {},
   "outputs": [],
   "source": [
    "df_final = pd.read_csv(\"data_cleaned_new_features.csv\")"
   ]
  },
  {
   "cell_type": "code",
   "execution_count": 5,
   "metadata": {},
   "outputs": [],
   "source": [
    "df_final['season'] = pd.factorize(df_final['season'])[0]"
   ]
  },
  {
   "cell_type": "code",
   "execution_count": 10,
   "metadata": {},
   "outputs": [],
   "source": [
    "home_team_stats = ['home_buildUpPlaySpeed', 'home_buildUpPlayDribbling',\n",
    "       'home_buildUpPlayPassing', 'home_chanceCreationPassing',\n",
    "       'home_chanceCreationCrossing', 'home_chanceCreationShooting',\n",
    "       'home_defencePressure', 'home_defenceAggression',\n",
    "       'home_defenceTeamWidth']\n",
    "away_team_stats = ['away_buildUpPlaySpeed', 'away_buildUpPlayDribbling',\n",
    "       'away_buildUpPlayPassing', 'away_chanceCreationPassing',\n",
    "       'away_chanceCreationCrossing', 'away_chanceCreationShooting',\n",
    "       'away_defencePressure', 'away_defenceAggression',\n",
    "       'away_defenceTeamWidth']\n",
    "attributes_col = ['overall_rating', 'potential', 'preferred_foot', 'attacking_work_rate',\n",
    "       'defensive_work_rate', 'crossing', 'finishing', 'heading_accuracy',\n",
    "       'short_passing', 'volleys', 'dribbling', 'curve', 'free_kick_accuracy',\n",
    "       'long_passing', 'ball_control', 'acceleration', 'sprint_speed',\n",
    "       'agility', 'reactions', 'balance', 'shot_power', 'jumping', 'stamina',\n",
    "       'strength', 'long_shots', 'aggression', 'interceptions', 'positioning',\n",
    "       'vision', 'penalties', 'marking', 'standing_tackle', 'sliding_tackle',\n",
    "       'gk_diving', 'gk_handling', 'gk_kicking', 'gk_positioning',\n",
    "       'gk_reflexes']\n",
    "attributes_col.remove(\"preferred_foot\")\n",
    "attributes_col.remove(\"attacking_work_rate\")\n",
    "attributes_col.remove(\"defensive_work_rate\")\n",
    "def nameColumns(playerNum, homeOrAway):\n",
    "    cols = attributes_col\n",
    "    player_cols = []\n",
    "    for col in cols:\n",
    "        player_cols.append(homeOrAway + \"_player_\" + str(playerNum) + \"_\" + col)\n",
    "    return player_cols\n",
    "home_player_num = []\n",
    "away_player_num = []\n",
    "for i in range(1, 12):\n",
    "    home_player_num.append(nameColumns(homeOrAway='home', playerNum=i))\n",
    "    away_player_num.append(nameColumns(homeOrAway='away', playerNum=i))\n",
    "home_player_num = np.array(home_player_num).flatten()\n",
    "away_player_num = np.array(away_player_num).flatten()\n",
    "home_record = ['home_win_record', 'home_loss_record', 'home_draw_record']\n",
    "away_record = ['away_win_record', 'away_loss_record', 'away_draw_record']"
   ]
  },
  {
   "cell_type": "code",
   "execution_count": 9,
   "metadata": {},
   "outputs": [],
   "source": [
    "from collections import Counter\n",
    "home_players_y, away_players_y = [], []\n",
    "for i in range(1, 12):\n",
    "    home_players_y.append(\"home_player_Y\"+str(i))\n",
    "    away_players_y.append(\"away_player_Y\"+str(i))\n",
    "def formations(df):\n",
    "    formation_dict = Counter(df)\n",
    "    sorted_keys = sorted(formation_dict)\n",
    "    formation = ''\n",
    "    for key in sorted_keys[1:-1]:\n",
    "        y = formation_dict[key]\n",
    "        formation += '%d-' % y\n",
    "    formation += '%d' % formation_dict[sorted_keys[-1]]\n",
    "    return formation\n",
    "df_final[\"home_formations\"] = df_final[home_players_y].apply(formations, axis=1)\n",
    "df_final[\"away_formations\"] = df_final[away_players_y].apply(formations, axis=1)"
   ]
  },
  {
   "cell_type": "code",
   "execution_count": 11,
   "metadata": {},
   "outputs": [],
   "source": [
    "desired_cols = np.concatenate((['season', 'home_formations'], home_team_stats, home_player_num, home_record, ['away_formations'], away_team_stats, away_player_num, away_record), axis=0)"
   ]
  },
  {
   "cell_type": "code",
   "execution_count": 12,
   "metadata": {},
   "outputs": [],
   "source": [
    "X = df_final[desired_cols]\n",
    "y = df_final['label_home']"
   ]
  },
  {
   "cell_type": "code",
   "execution_count": 13,
   "metadata": {},
   "outputs": [
    {
     "name": "stderr",
     "output_type": "stream",
     "text": [
      "/Users/seungwooson/anaconda/lib/python3.5/site-packages/ipykernel_launcher.py:1: SettingWithCopyWarning: \n",
      "A value is trying to be set on a copy of a slice from a DataFrame.\n",
      "Try using .loc[row_indexer,col_indexer] = value instead\n",
      "\n",
      "See the caveats in the documentation: http://pandas.pydata.org/pandas-docs/stable/indexing.html#indexing-view-versus-copy\n",
      "  \"\"\"Entry point for launching an IPython kernel.\n",
      "/Users/seungwooson/anaconda/lib/python3.5/site-packages/ipykernel_launcher.py:2: SettingWithCopyWarning: \n",
      "A value is trying to be set on a copy of a slice from a DataFrame.\n",
      "Try using .loc[row_indexer,col_indexer] = value instead\n",
      "\n",
      "See the caveats in the documentation: http://pandas.pydata.org/pandas-docs/stable/indexing.html#indexing-view-versus-copy\n",
      "  \n"
     ]
    }
   ],
   "source": [
    "X['home_formations'] = pd.factorize(X['home_formations'])[0]\n",
    "X['away_formations'] = pd.factorize(X['away_formations'])[0]"
   ]
  },
  {
   "cell_type": "code",
   "execution_count": 113,
   "metadata": {},
   "outputs": [],
   "source": [
    "models_without_player_emb = []"
   ]
  },
  {
   "cell_type": "code",
   "execution_count": 114,
   "metadata": {
    "scrolled": true
   },
   "outputs": [
    {
     "name": "stderr",
     "output_type": "stream",
     "text": [
      "/Users/seungwooson/anaconda/lib/python3.5/site-packages/ipykernel_launcher.py:17: UserWarning: The `merge` function is deprecated and will be removed after 08/2017. Use instead layers from `keras.layers.merge`, e.g. `add`, `concatenate`, etc.\n",
      "/Users/seungwooson/anaconda/lib/python3.5/site-packages/keras/legacy/layers.py:465: UserWarning: The `Merge` layer is deprecated and will be removed after 08/2017. Use instead layers from `keras.layers.merge`, e.g. `add`, `concatenate`, etc.\n",
      "  name=name)\n",
      "/Users/seungwooson/anaconda/lib/python3.5/site-packages/ipykernel_launcher.py:39: UserWarning: The `Merge` layer is deprecated and will be removed after 08/2017. Use instead layers from `keras.layers.merge`, e.g. `add`, `concatenate`, etc.\n",
      "/Users/seungwooson/anaconda/lib/python3.5/site-packages/ipykernel_launcher.py:41: UserWarning: The `merge` function is deprecated and will be removed after 08/2017. Use instead layers from `keras.layers.merge`, e.g. `add`, `concatenate`, etc.\n"
     ]
    }
   ],
   "source": [
    "from keras.models import Model\n",
    "from keras.layers import Input, Dense, merge, Concatenate, Reshape, Dropout, BatchNormalization, PReLU\n",
    "from keras.layers.embeddings import Embedding\n",
    "\n",
    "#Add Player Stats \n",
    "player_input = Input(shape=(35,))\n",
    "x = Dense(3, activation='relu')(player_input)\n",
    "player_output = x\n",
    "player_model = Model(player_input, player_output)\n",
    "\n",
    "[home_player_1, home_player_2, home_player_3, home_player_4, home_player_5, home_player_6, home_player_7, home_player_8, home_player_9, home_player_10, home_player_11,\\\n",
    "away_player_1, away_player_2, away_player_3, away_player_4, away_player_5, away_player_6, away_player_7, away_player_8, away_player_9, away_player_10, away_player_11] \\\n",
    "= [Input(shape=(35,)) for i in range(22)]\n",
    "\n",
    "players_input = [home_player_1, home_player_2, home_player_3, home_player_4, home_player_5, home_player_6, home_player_7, home_player_8, home_player_9, home_player_10, home_player_11,\\\n",
    "away_player_1, away_player_2, away_player_3, away_player_4, away_player_5, away_player_6, away_player_7, away_player_8, away_player_9, away_player_10, away_player_11]\n",
    "\n",
    "players_encoded = [player_model(i) for i in players_input]\n",
    "\n",
    "player_merged = merge(players_encoded, mode='concat')\n",
    "\n",
    "#Add Categorical Column Embeddings\n",
    "categorical_vars = [\"home_formations\", \"season\", \"away_formations\"]\n",
    "for categorical_var in categorical_vars :\n",
    "    model = Sequential()\n",
    "    no_of_unique_cat  = X[categorical_var].nunique()\n",
    "    embedding_size = min(np.ceil((no_of_unique_cat)/2), 50 )\n",
    "    embedding_size = int(embedding_size)\n",
    "    vocab  = no_of_unique_cat\n",
    "    model.add(Embedding(vocab ,embedding_size, input_length = 1 ))\n",
    "    model.add(Reshape(target_shape=(embedding_size,)))\n",
    "    models_without_player_emb.append(model)\n",
    "#Add rest numeric columns\n",
    "numeric_len = len(X.columns) - len(categorical_vars) - len(home_player_num) - len(away_player_num)\n",
    "model_numeric = Sequential()\n",
    "model_numeric.add(Dense(16, input_shape=[numeric_len]))\n",
    "inputs.append(model_numeric(Input(shape=(numeric_len,))))\n",
    "models_without_player_emb.append(model_numeric)\n",
    "\n",
    "model_without_player_emb = Sequential()\n",
    "model_without_player_emb.add(Merge(models_without_player_emb, mode='concat'))\n",
    "\n",
    "combinedInput = merge([model_without_player_emb.output, player_merged], mode='concat')\n"
   ]
  },
  {
   "cell_type": "code",
   "execution_count": 127,
   "metadata": {},
   "outputs": [
    {
     "name": "stderr",
     "output_type": "stream",
     "text": [
      "/Users/seungwooson/anaconda/lib/python3.5/site-packages/keras/activations.py:115: UserWarning: Do not pass a layer instance (such as PReLU) as the activation argument of another layer. Instead, advanced activation layers should be used just like any other layer in a model.\n",
      "  identifier=identifier.__class__.__name__))\n"
     ]
    }
   ],
   "source": [
    "xavier_init = glorot_normal(seed=35)\n",
    "combined = Dense(27, activation=PReLU(), kernel_initializer=xavier_init)(combinedInput)\n",
    "combined = BatchNormalization()(combined)\n",
    "combined = Dense(9, activation=PReLU(),  kernel_initializer=xavier_init)(combined)\n",
    "combined = BatchNormalization()(combined)\n",
    "combined = Dense(3, activation='softmax')(combined)\n",
    "full_model = Model(inputs=np.concatenate([model_without_player_emb.input, players_input], axis=0).tolist(), outputs=combined)\n",
    "\n",
    "learning_rate = 1e-3\n",
    "epochs = 100\n",
    "decay_rate = learning_rate / epochs\n",
    "opt = Adam(lr=learning_rate, decay=decay_rate)\n",
    "\n",
    "full_model.compile(loss='categorical_crossentropy', optimizer=opt, metrics=['accuracy'])"
   ]
  },
  {
   "cell_type": "code",
   "execution_count": 132,
   "metadata": {},
   "outputs": [
    {
     "name": "stderr",
     "output_type": "stream",
     "text": [
      "/Users/seungwooson/anaconda/lib/python3.5/site-packages/sklearn/preprocessing/data.py:334: DataConversionWarning: Data with input dtype int64, float64 were all converted to float64 by MinMaxScaler.\n",
      "  return self.partial_fit(X, y)\n",
      "/Users/seungwooson/anaconda/lib/python3.5/site-packages/ipykernel_launcher.py:4: SettingWithCopyWarning: \n",
      "A value is trying to be set on a copy of a slice from a DataFrame.\n",
      "Try using .loc[row_indexer,col_indexer] = value instead\n",
      "\n",
      "See the caveats in the documentation: http://pandas.pydata.org/pandas-docs/stable/indexing.html#indexing-view-versus-copy\n",
      "  after removing the cwd from sys.path.\n",
      "/Users/seungwooson/anaconda/lib/python3.5/site-packages/pandas/core/indexing.py:537: SettingWithCopyWarning: \n",
      "A value is trying to be set on a copy of a slice from a DataFrame.\n",
      "Try using .loc[row_indexer,col_indexer] = value instead\n",
      "\n",
      "See the caveats in the documentation: http://pandas.pydata.org/pandas-docs/stable/indexing.html#indexing-view-versus-copy\n",
      "  self.obj[item] = s\n"
     ]
    }
   ],
   "source": [
    "numeric_cols = [col for col in X.columns.values if col not in categorical_vars]\n",
    "from sklearn.preprocessing import MinMaxScaler\n",
    "scaler = MinMaxScaler().fit(X[numeric_cols])\n",
    "X[numeric_cols] = scaler.transform(X[numeric_cols])\n",
    "from sklearn.model_selection import train_test_split\n",
    "X_train, X_test, y_train, y_test = train_test_split(X, y, \n",
    "                                                    test_size=0.1, random_state=0)\n",
    "from keras.utils import np_utils\n",
    "y_train, y_test = [i+1 for i in y_train], [i+1 for i in y_test]\n",
    "y_train_enc, y_test_enc = np_utils.to_categorical(y_train), np_utils.to_categorical(y_test)"
   ]
  },
  {
   "cell_type": "code",
   "execution_count": 134,
   "metadata": {},
   "outputs": [],
   "source": [
    "X_train_inputs = []\n",
    "X_train_inputs.append(X_train[\"home_formations\"])\n",
    "X_train_inputs.append(X_train[\"season\"])\n",
    "X_train_inputs.append(X_train[\"away_formations\"])\n",
    "X_train_inputs.append(X_train[np.concatenate((home_team_stats, home_record, away_team_stats, away_record), axis=0)])\n",
    "for i in range(1, 12):\n",
    "    X_train_inputs.append(X_train[nameColumns(homeOrAway=\"home\", playerNum=i)])\n",
    "for i in range(1, 12):\n",
    "    X_train_inputs.append(X_train[nameColumns(homeOrAway=\"away\", playerNum=i)])"
   ]
  },
  {
   "cell_type": "code",
   "execution_count": 135,
   "metadata": {},
   "outputs": [],
   "source": [
    "X_test_inputs = []\n",
    "X_test_inputs.append(X_test[\"home_formations\"])\n",
    "X_test_inputs.append(X_test[\"season\"])\n",
    "X_test_inputs.append(X_test[\"away_formations\"])\n",
    "X_test_inputs.append(X_test[np.concatenate((home_team_stats, home_record, away_team_stats, away_record), axis=0)])\n",
    "for i in range(1, 12):\n",
    "    X_test_inputs.append(X_test[nameColumns(homeOrAway=\"home\", playerNum=i)])\n",
    "for i in range(1, 12):\n",
    "    X_test_inputs.append(X_test[nameColumns(homeOrAway=\"away\", playerNum=i)])"
   ]
  },
  {
   "cell_type": "code",
   "execution_count": 136,
   "metadata": {},
   "outputs": [],
   "source": [
    "from keras.callbacks import ReduceLROnPlateau\n",
    "reduce_lr = ReduceLROnPlateau(monitor='val_loss', factor=0.2,\n",
    "                              patience=5, min_lr=5e-4)"
   ]
  },
  {
   "cell_type": "code",
   "execution_count": 137,
   "metadata": {},
   "outputs": [
    {
     "name": "stdout",
     "output_type": "stream",
     "text": [
      "WARNING:tensorflow:Variable *= will be deprecated. Use `var.assign(var * other)` if you want assignment to the variable value or `x = x * y` if you want a new python Tensor object.\n",
      "Train on 18054 samples, validate on 2006 samples\n",
      "Epoch 1/100\n",
      "18054/18054 [==============================] - 16s 860us/step - loss: 1.0367 - acc: 0.4874 - val_loss: 0.9406 - val_acc: 0.5439\n",
      "Epoch 2/100\n",
      "18054/18054 [==============================] - 14s 760us/step - loss: 0.9454 - acc: 0.5525 - val_loss: 0.9305 - val_acc: 0.5439\n",
      "Epoch 3/100\n",
      "18054/18054 [==============================] - 12s 666us/step - loss: 0.9349 - acc: 0.5611 - val_loss: 0.9363 - val_acc: 0.5538\n",
      "Epoch 4/100\n",
      "18054/18054 [==============================] - 12s 663us/step - loss: 0.9318 - acc: 0.5598 - val_loss: 0.9253 - val_acc: 0.5568\n",
      "Epoch 5/100\n",
      "18054/18054 [==============================] - 12s 677us/step - loss: 0.9312 - acc: 0.5605 - val_loss: 0.9280 - val_acc: 0.5508\n",
      "Epoch 6/100\n",
      "18054/18054 [==============================] - 12s 683us/step - loss: 0.9303 - acc: 0.5610 - val_loss: 0.9253 - val_acc: 0.5608\n",
      "Epoch 7/100\n",
      "18054/18054 [==============================] - 12s 657us/step - loss: 0.9278 - acc: 0.5626 - val_loss: 0.9199 - val_acc: 0.5648\n",
      "Epoch 8/100\n",
      "18054/18054 [==============================] - 12s 686us/step - loss: 0.9245 - acc: 0.5641 - val_loss: 0.9127 - val_acc: 0.5798\n",
      "Epoch 9/100\n",
      "18054/18054 [==============================] - 12s 647us/step - loss: 0.9247 - acc: 0.5641 - val_loss: 0.9158 - val_acc: 0.5738\n",
      "Epoch 10/100\n",
      "18054/18054 [==============================] - 12s 676us/step - loss: 0.9181 - acc: 0.5691 - val_loss: 0.9087 - val_acc: 0.5793\n",
      "Epoch 11/100\n",
      "18054/18054 [==============================] - 13s 702us/step - loss: 0.9159 - acc: 0.5728 - val_loss: 0.9170 - val_acc: 0.5808\n",
      "Epoch 12/100\n",
      "18054/18054 [==============================] - 12s 650us/step - loss: 0.9133 - acc: 0.5729 - val_loss: 0.9262 - val_acc: 0.5703\n",
      "Epoch 13/100\n",
      "18054/18054 [==============================] - 12s 638us/step - loss: 0.9111 - acc: 0.5731 - val_loss: 0.9116 - val_acc: 0.5778\n",
      "Epoch 14/100\n",
      "18054/18054 [==============================] - 12s 642us/step - loss: 0.9090 - acc: 0.5783 - val_loss: 0.9152 - val_acc: 0.5703\n",
      "Epoch 15/100\n",
      "18054/18054 [==============================] - 11s 627us/step - loss: 0.9114 - acc: 0.5738 - val_loss: 0.9025 - val_acc: 0.5743\n",
      "Epoch 16/100\n",
      "18054/18054 [==============================] - 12s 639us/step - loss: 0.9071 - acc: 0.5782 - val_loss: 0.9196 - val_acc: 0.5708\n",
      "Epoch 17/100\n",
      "18054/18054 [==============================] - 11s 628us/step - loss: 0.9050 - acc: 0.5772 - val_loss: 0.9124 - val_acc: 0.5818\n",
      "Epoch 18/100\n",
      "18054/18054 [==============================] - 12s 688us/step - loss: 0.8998 - acc: 0.5812 - val_loss: 0.9011 - val_acc: 0.5937\n",
      "Epoch 19/100\n",
      "18054/18054 [==============================] - 12s 679us/step - loss: 0.9064 - acc: 0.5814 - val_loss: 0.9123 - val_acc: 0.5748\n",
      "Epoch 20/100\n",
      "18054/18054 [==============================] - 13s 693us/step - loss: 0.9040 - acc: 0.5792 - val_loss: 0.9104 - val_acc: 0.5808\n",
      "Epoch 21/100\n",
      "18054/18054 [==============================] - 12s 681us/step - loss: 0.9049 - acc: 0.5809 - val_loss: 0.9079 - val_acc: 0.5778\n",
      "Epoch 22/100\n",
      "18054/18054 [==============================] - 12s 668us/step - loss: 0.9010 - acc: 0.5776 - val_loss: 0.9104 - val_acc: 0.5758\n",
      "Epoch 23/100\n",
      "18054/18054 [==============================] - 12s 671us/step - loss: 0.8958 - acc: 0.5816 - val_loss: 0.9070 - val_acc: 0.5708\n",
      "Epoch 24/100\n",
      "18054/18054 [==============================] - 12s 674us/step - loss: 0.8976 - acc: 0.5848 - val_loss: 0.9133 - val_acc: 0.5663\n",
      "Epoch 25/100\n",
      "18054/18054 [==============================] - 12s 688us/step - loss: 0.8902 - acc: 0.5889 - val_loss: 0.8969 - val_acc: 0.5842\n",
      "Epoch 26/100\n",
      "18054/18054 [==============================] - 12s 656us/step - loss: 0.8915 - acc: 0.5861 - val_loss: 0.8941 - val_acc: 0.5788\n",
      "Epoch 27/100\n",
      "18054/18054 [==============================] - 12s 675us/step - loss: 0.8858 - acc: 0.5927 - val_loss: 0.8940 - val_acc: 0.5818\n",
      "Epoch 28/100\n",
      "18054/18054 [==============================] - 12s 674us/step - loss: 0.8881 - acc: 0.5867 - val_loss: 0.9031 - val_acc: 0.5758\n",
      "Epoch 29/100\n",
      "18054/18054 [==============================] - 12s 667us/step - loss: 0.8881 - acc: 0.5909 - val_loss: 0.9031 - val_acc: 0.5753\n",
      "Epoch 30/100\n",
      "18054/18054 [==============================] - 12s 659us/step - loss: 0.8867 - acc: 0.5880 - val_loss: 0.9000 - val_acc: 0.5768\n",
      "Epoch 31/100\n",
      "18054/18054 [==============================] - 12s 667us/step - loss: 0.8841 - acc: 0.5913 - val_loss: 0.9018 - val_acc: 0.5793\n",
      "Epoch 32/100\n",
      "18054/18054 [==============================] - 12s 663us/step - loss: 0.8839 - acc: 0.5949 - val_loss: 0.9044 - val_acc: 0.5833\n",
      "Epoch 33/100\n",
      "18054/18054 [==============================] - 13s 697us/step - loss: 0.8852 - acc: 0.5937 - val_loss: 0.9052 - val_acc: 0.5728\n",
      "Epoch 34/100\n",
      "18054/18054 [==============================] - 13s 711us/step - loss: 0.8847 - acc: 0.5963 - val_loss: 0.9080 - val_acc: 0.5753\n",
      "Epoch 35/100\n",
      "18054/18054 [==============================] - 13s 694us/step - loss: 0.8820 - acc: 0.5892 - val_loss: 0.9074 - val_acc: 0.5763\n",
      "Epoch 36/100\n",
      "18054/18054 [==============================] - 12s 664us/step - loss: 0.8811 - acc: 0.5937 - val_loss: 0.9069 - val_acc: 0.5803\n",
      "Epoch 37/100\n",
      "18054/18054 [==============================] - 12s 667us/step - loss: 0.8802 - acc: 0.5938 - val_loss: 0.9054 - val_acc: 0.5728\n",
      "Epoch 38/100\n",
      "18054/18054 [==============================] - 12s 670us/step - loss: 0.8822 - acc: 0.5929 - val_loss: 0.9065 - val_acc: 0.5803\n",
      "Epoch 39/100\n",
      "18054/18054 [==============================] - 13s 709us/step - loss: 0.8798 - acc: 0.5945 - val_loss: 0.9129 - val_acc: 0.5758\n",
      "Epoch 40/100\n",
      "18054/18054 [==============================] - 13s 706us/step - loss: 0.8817 - acc: 0.5955 - val_loss: 0.9058 - val_acc: 0.5753\n",
      "Epoch 41/100\n",
      "18054/18054 [==============================] - 12s 690us/step - loss: 0.8768 - acc: 0.5965 - val_loss: 0.9100 - val_acc: 0.5718\n",
      "Epoch 42/100\n",
      "18054/18054 [==============================] - 12s 668us/step - loss: 0.8799 - acc: 0.5962 - val_loss: 0.9103 - val_acc: 0.5743\n",
      "Epoch 43/100\n",
      "18054/18054 [==============================] - 12s 671us/step - loss: 0.8786 - acc: 0.5944 - val_loss: 0.9130 - val_acc: 0.5733\n",
      "Epoch 44/100\n",
      "18054/18054 [==============================] - 12s 686us/step - loss: 0.8774 - acc: 0.5991 - val_loss: 0.9154 - val_acc: 0.5703\n",
      "Epoch 45/100\n",
      "18054/18054 [==============================] - 12s 663us/step - loss: 0.8791 - acc: 0.5927 - val_loss: 0.9110 - val_acc: 0.5683\n",
      "Epoch 46/100\n",
      "18054/18054 [==============================] - 12s 671us/step - loss: 0.8801 - acc: 0.5917 - val_loss: 0.9100 - val_acc: 0.5733\n",
      "Epoch 47/100\n",
      "18054/18054 [==============================] - 13s 694us/step - loss: 0.8786 - acc: 0.5950 - val_loss: 0.9128 - val_acc: 0.5783\n",
      "Epoch 48/100\n",
      "18054/18054 [==============================] - 12s 678us/step - loss: 0.8772 - acc: 0.5938 - val_loss: 0.9159 - val_acc: 0.5723\n",
      "Epoch 49/100\n",
      "18054/18054 [==============================] - 12s 663us/step - loss: 0.8778 - acc: 0.6011 - val_loss: 0.9167 - val_acc: 0.5693\n",
      "Epoch 50/100\n",
      "18054/18054 [==============================] - 12s 648us/step - loss: 0.8787 - acc: 0.5962 - val_loss: 0.9227 - val_acc: 0.5718\n",
      "Epoch 51/100\n",
      "18054/18054 [==============================] - 12s 674us/step - loss: 0.8761 - acc: 0.5964 - val_loss: 0.9233 - val_acc: 0.5658\n",
      "Epoch 52/100\n",
      "18054/18054 [==============================] - 12s 668us/step - loss: 0.8805 - acc: 0.5948 - val_loss: 0.9107 - val_acc: 0.5708\n",
      "Epoch 53/100\n",
      "18054/18054 [==============================] - 12s 645us/step - loss: 0.8765 - acc: 0.6013 - val_loss: 0.9165 - val_acc: 0.5703\n",
      "Epoch 54/100\n",
      "18054/18054 [==============================] - 12s 657us/step - loss: 0.8793 - acc: 0.5941 - val_loss: 0.9145 - val_acc: 0.5728\n",
      "Epoch 55/100\n",
      "18054/18054 [==============================] - 12s 644us/step - loss: 0.8748 - acc: 0.5936 - val_loss: 0.9145 - val_acc: 0.5738\n",
      "Epoch 56/100\n",
      "18054/18054 [==============================] - 12s 672us/step - loss: 0.8775 - acc: 0.5989 - val_loss: 0.9155 - val_acc: 0.5718\n",
      "Epoch 57/100\n"
     ]
    },
    {
     "name": "stdout",
     "output_type": "stream",
     "text": [
      "18054/18054 [==============================] - 12s 669us/step - loss: 0.8757 - acc: 0.5973 - val_loss: 0.9167 - val_acc: 0.5733\n",
      "Epoch 58/100\n",
      "18054/18054 [==============================] - 12s 643us/step - loss: 0.8783 - acc: 0.5912 - val_loss: 0.9218 - val_acc: 0.5713\n",
      "Epoch 59/100\n",
      "18054/18054 [==============================] - 12s 663us/step - loss: 0.8732 - acc: 0.5996 - val_loss: 0.9178 - val_acc: 0.5748\n",
      "Epoch 60/100\n",
      "18054/18054 [==============================] - 12s 639us/step - loss: 0.8738 - acc: 0.5960 - val_loss: 0.9202 - val_acc: 0.5743\n",
      "Epoch 61/100\n",
      "18054/18054 [==============================] - 11s 630us/step - loss: 0.8744 - acc: 0.5999 - val_loss: 0.9157 - val_acc: 0.5788\n",
      "Epoch 62/100\n",
      "18054/18054 [==============================] - 12s 656us/step - loss: 0.8767 - acc: 0.5995 - val_loss: 0.9215 - val_acc: 0.5723\n",
      "Epoch 63/100\n",
      "18054/18054 [==============================] - 12s 652us/step - loss: 0.8723 - acc: 0.5995 - val_loss: 0.9218 - val_acc: 0.5713\n",
      "Epoch 64/100\n",
      "18054/18054 [==============================] - 11s 634us/step - loss: 0.8755 - acc: 0.6003 - val_loss: 0.9195 - val_acc: 0.5753\n",
      "Epoch 65/100\n",
      "18054/18054 [==============================] - 12s 683us/step - loss: 0.8724 - acc: 0.6002 - val_loss: 0.9189 - val_acc: 0.5708\n",
      "Epoch 66/100\n",
      "18054/18054 [==============================] - 12s 684us/step - loss: 0.8716 - acc: 0.6006 - val_loss: 0.9191 - val_acc: 0.5688\n",
      "Epoch 67/100\n",
      "18054/18054 [==============================] - 13s 741us/step - loss: 0.8720 - acc: 0.6009 - val_loss: 0.9187 - val_acc: 0.5743\n",
      "Epoch 68/100\n",
      "18054/18054 [==============================] - 12s 658us/step - loss: 0.8678 - acc: 0.6024 - val_loss: 0.9180 - val_acc: 0.5733\n",
      "Epoch 69/100\n",
      "18054/18054 [==============================] - 12s 673us/step - loss: 0.8721 - acc: 0.5997 - val_loss: 0.9195 - val_acc: 0.5763\n",
      "Epoch 70/100\n",
      "18054/18054 [==============================] - 12s 651us/step - loss: 0.8736 - acc: 0.5991 - val_loss: 0.9218 - val_acc: 0.5743\n",
      "Epoch 71/100\n",
      "18054/18054 [==============================] - 12s 666us/step - loss: 0.8730 - acc: 0.5963 - val_loss: 0.9156 - val_acc: 0.5773\n",
      "Epoch 72/100\n",
      "18054/18054 [==============================] - 12s 655us/step - loss: 0.8708 - acc: 0.6014 - val_loss: 0.9267 - val_acc: 0.5743\n",
      "Epoch 73/100\n",
      "18054/18054 [==============================] - 12s 655us/step - loss: 0.8719 - acc: 0.5997 - val_loss: 0.9189 - val_acc: 0.5763\n",
      "Epoch 74/100\n",
      "18054/18054 [==============================] - 12s 656us/step - loss: 0.8708 - acc: 0.5980 - val_loss: 0.9208 - val_acc: 0.5788\n",
      "Epoch 75/100\n",
      "18054/18054 [==============================] - 12s 641us/step - loss: 0.8693 - acc: 0.6020 - val_loss: 0.9208 - val_acc: 0.5728\n",
      "Epoch 76/100\n",
      "18054/18054 [==============================] - 12s 647us/step - loss: 0.8669 - acc: 0.6004 - val_loss: 0.9195 - val_acc: 0.5723\n",
      "Epoch 77/100\n",
      "18054/18054 [==============================] - 11s 634us/step - loss: 0.8714 - acc: 0.6010 - val_loss: 0.9213 - val_acc: 0.5728\n",
      "Epoch 78/100\n",
      "18054/18054 [==============================] - 12s 674us/step - loss: 0.8711 - acc: 0.6013 - val_loss: 0.9227 - val_acc: 0.5728\n",
      "Epoch 79/100\n",
      "18054/18054 [==============================] - 12s 689us/step - loss: 0.8714 - acc: 0.6015 - val_loss: 0.9221 - val_acc: 0.5758\n",
      "Epoch 80/100\n",
      "18054/18054 [==============================] - 12s 664us/step - loss: 0.8740 - acc: 0.5959 - val_loss: 0.9250 - val_acc: 0.5758\n",
      "Epoch 81/100\n",
      "18054/18054 [==============================] - 12s 652us/step - loss: 0.8699 - acc: 0.6002 - val_loss: 0.9216 - val_acc: 0.5763\n",
      "Epoch 82/100\n",
      "18054/18054 [==============================] - 12s 644us/step - loss: 0.8658 - acc: 0.6036 - val_loss: 0.9276 - val_acc: 0.5733\n",
      "Epoch 83/100\n",
      "18054/18054 [==============================] - 13s 694us/step - loss: 0.8728 - acc: 0.6008 - val_loss: 0.9213 - val_acc: 0.5788\n",
      "Epoch 84/100\n",
      "18054/18054 [==============================] - 12s 671us/step - loss: 0.8697 - acc: 0.6031 - val_loss: 0.9248 - val_acc: 0.5688\n",
      "Epoch 85/100\n",
      "18054/18054 [==============================] - 12s 653us/step - loss: 0.8687 - acc: 0.6026 - val_loss: 0.9266 - val_acc: 0.5708\n",
      "Epoch 86/100\n",
      "18054/18054 [==============================] - 12s 653us/step - loss: 0.8707 - acc: 0.6036 - val_loss: 0.9296 - val_acc: 0.5663\n",
      "Epoch 87/100\n",
      "18054/18054 [==============================] - 12s 688us/step - loss: 0.8700 - acc: 0.6013 - val_loss: 0.9304 - val_acc: 0.5758\n",
      "Epoch 88/100\n",
      "18054/18054 [==============================] - 13s 746us/step - loss: 0.8667 - acc: 0.6014 - val_loss: 0.9315 - val_acc: 0.5723\n",
      "Epoch 89/100\n",
      "18054/18054 [==============================] - 13s 737us/step - loss: 0.8671 - acc: 0.6040 - val_loss: 0.9296 - val_acc: 0.5753\n",
      "Epoch 90/100\n",
      "18054/18054 [==============================] - 13s 696us/step - loss: 0.8679 - acc: 0.6036 - val_loss: 0.9297 - val_acc: 0.5743\n",
      "Epoch 91/100\n",
      "18054/18054 [==============================] - 12s 690us/step - loss: 0.8752 - acc: 0.5994 - val_loss: 0.9311 - val_acc: 0.5708\n",
      "Epoch 92/100\n",
      "18054/18054 [==============================] - 13s 703us/step - loss: 0.8691 - acc: 0.6038 - val_loss: 0.9306 - val_acc: 0.5738\n",
      "Epoch 93/100\n",
      "18054/18054 [==============================] - 13s 698us/step - loss: 0.8688 - acc: 0.6014 - val_loss: 0.9299 - val_acc: 0.5738\n",
      "Epoch 94/100\n",
      "18054/18054 [==============================] - 13s 719us/step - loss: 0.8677 - acc: 0.6032 - val_loss: 0.9280 - val_acc: 0.5758\n",
      "Epoch 95/100\n",
      "18054/18054 [==============================] - 13s 733us/step - loss: 0.8689 - acc: 0.5974 - val_loss: 0.9316 - val_acc: 0.5748\n",
      "Epoch 96/100\n",
      "18054/18054 [==============================] - 12s 661us/step - loss: 0.8665 - acc: 0.6010 - val_loss: 0.9294 - val_acc: 0.5798\n",
      "Epoch 97/100\n",
      "18054/18054 [==============================] - 12s 653us/step - loss: 0.8702 - acc: 0.6039 - val_loss: 0.9253 - val_acc: 0.5758\n",
      "Epoch 98/100\n",
      "18054/18054 [==============================] - 12s 639us/step - loss: 0.8664 - acc: 0.6059 - val_loss: 0.9262 - val_acc: 0.5743\n",
      "Epoch 99/100\n",
      "18054/18054 [==============================] - 12s 639us/step - loss: 0.8671 - acc: 0.6065 - val_loss: 0.9307 - val_acc: 0.5733\n",
      "Epoch 100/100\n",
      "18054/18054 [==============================] - 11s 635us/step - loss: 0.8681 - acc: 0.6015 - val_loss: 0.9242 - val_acc: 0.5748\n"
     ]
    }
   ],
   "source": [
    "history = full_model.fit(x=X_train_inputs, y=y_train_enc, batch_size=8, shuffle=True, epochs=100, \n",
    "          validation_data=(X_test_inputs, y_test_enc), callbacks=[reduce_lr])"
   ]
  },
  {
   "cell_type": "code",
   "execution_count": 138,
   "metadata": {},
   "outputs": [
    {
     "name": "stdout",
     "output_type": "stream",
     "text": [
      "dict_keys(['loss', 'val_acc', 'acc', 'lr', 'val_loss'])\n"
     ]
    },
    {
     "data": {
      "image/png": "[encoded data removed]",
      "text/plain": [
       "<Figure size 432x288 with 1 Axes>"
      ]
     },
     "metadata": {},
     "output_type": "display_data"
    }
   ],
   "source": [
    "import matplotlib.pyplot as plt\n",
    "\n",
    "# list all data in history\n",
    "print(history.history.keys())\n",
    "# summarize history for accuracy\n",
    "plt.plot(history.history['acc'])\n",
    "plt.plot(history.history['val_acc'])\n",
    "plt.title('model accuracy')\n",
    "plt.ylabel('accuracy')\n",
    "plt.xlabel('epoch')\n",
    "plt.legend(['train', 'test'], loc='upper left')\n",
    "plt.show()"
   ]
  },
  {
   "cell_type": "code",
   "execution_count": 139,
   "metadata": {},
   "outputs": [
    {
     "data": {
      "image/png": "[encoded data removed]",
      "text/plain": [
       "<Figure size 432x288 with 1 Axes>"
      ]
     },
     "metadata": {},
     "output_type": "display_data"
    }
   ],
   "source": [
    "# summarize history for loss\n",
    "plt.plot(history.history['loss'])\n",
    "plt.plot(history.history['val_loss'])\n",
    "plt.title('model loss')\n",
    "plt.ylabel('loss')\n",
    "plt.xlabel('epoch')\n",
    "plt.legend(['train', 'test'], loc='upper left')\n",
    "plt.show()"
   ]
  },
  {
   "cell_type": "code",
   "execution_count": 140,
   "metadata": {},
   "outputs": [
    {
     "name": "stdout",
     "output_type": "stream",
     "text": [
      "2006/2006 [==============================] - 0s 92us/step\n"
     ]
    },
    {
     "data": {
      "text/plain": [
       "[0.9242095426690662, 0.5747756730404832]"
      ]
     },
     "execution_count": 140,
     "metadata": {},
     "output_type": "execute_result"
    }
   ],
   "source": [
    "full_model.evaluate(X_test_inputs, y_test_enc)"
   ]
  },
  {
   "cell_type": "code",
   "execution_count": null,
   "metadata": {},
   "outputs": [],
   "source": []
  }
 ],
 "metadata": {
  "kernelspec": {
   "display_name": "Python 3",
   "language": "python",
   "name": "python3"
  },
  "language_info": {
   "codemirror_mode": {
    "name": "ipython",
    "version": 3
   },
   "file_extension": ".py",
   "mimetype": "text/x-python",
   "name": "python",
   "nbconvert_exporter": "python",
   "pygments_lexer": "ipython3",
   "version": "3.5.5"
  }
 },
 "nbformat": 4,
 "nbformat_minor": 2
}
