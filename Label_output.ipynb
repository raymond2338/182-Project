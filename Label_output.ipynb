{
 "cells": [
  {
   "cell_type": "code",
   "execution_count": 168,
   "metadata": {},
   "outputs": [],
   "source": [
    "import sqlite3\n",
    "import pandas as pd"
   ]
  },
  {
   "cell_type": "code",
   "execution_count": 169,
   "metadata": {},
   "outputs": [
    {
     "name": "stdout",
     "output_type": "stream",
     "text": [
      "sqlite_sequence\n",
      "Player_Attributes\n",
      "Player\n",
      "Match\n",
      "League\n",
      "Country\n",
      "Team\n",
      "Team_Attributes\n"
     ]
    }
   ],
   "source": [
    "#Print table names in the db\n",
    "conn = sqlite3.connect('soccer.sqlite')\n",
    "res = conn.execute(\"SELECT name FROM sqlite_master WHERE type='table';\")\n",
    "for name in res:\n",
    "    print (name[0])"
   ]
  },
  {
   "cell_type": "code",
   "execution_count": 170,
   "metadata": {},
   "outputs": [],
   "source": [
    "match = pd.read_sql_query(\"SELECT * FROM Match\", conn)"
   ]
  },
  {
   "cell_type": "code",
   "execution_count": 171,
   "metadata": {},
   "outputs": [],
   "source": [
    "player_attributes = pd.read_sql_query(\"SELECT * FROM Player_Attributes\", conn)"
   ]
  },
  {
   "cell_type": "code",
   "execution_count": 172,
   "metadata": {},
   "outputs": [],
   "source": [
    "player = pd.read_sql_query(\"SELECT * FROM Player\", conn)"
   ]
  },
  {
   "cell_type": "code",
   "execution_count": 173,
   "metadata": {},
   "outputs": [],
   "source": [
    "league = pd.read_sql_query(\"SELECT * FROM League\", conn)"
   ]
  },
  {
   "cell_type": "code",
   "execution_count": 174,
   "metadata": {},
   "outputs": [],
   "source": [
    "country = pd.read_sql_query(\"SELECT * FROM Country\", conn)"
   ]
  },
  {
   "cell_type": "code",
   "execution_count": 175,
   "metadata": {},
   "outputs": [],
   "source": [
    "team = pd.read_sql_query(\"SELECT * FROM Team\", conn)"
   ]
  },
  {
   "cell_type": "code",
   "execution_count": 176,
   "metadata": {},
   "outputs": [],
   "source": [
    "team_attributes = pd.read_sql_query(\"SELECT * FROM Team_Attributes\", conn)"
   ]
  },
  {
   "cell_type": "code",
   "execution_count": 177,
   "metadata": {},
   "outputs": [
    {
     "name": "stdout",
     "output_type": "stream",
     "text": [
      "                     Date Home Away\n",
      "0     2012-08-18 00:00:00    0    0\n",
      "1     2012-08-20 00:00:00    1   -1\n",
      "2     2012-08-18 00:00:00    1   -1\n",
      "3     2012-08-19 00:00:00    1   -1\n",
      "4     2012-08-18 00:00:00    1   -1\n",
      "5     2012-08-18 00:00:00   -1    1\n",
      "6     2012-08-18 00:00:00    0    0\n",
      "7     2012-08-18 00:00:00    1   -1\n",
      "8     2012-08-18 00:00:00    1   -1\n",
      "9     2012-08-19 00:00:00   -1    1\n",
      "10    2012-11-03 00:00:00    0    0\n",
      "11    2012-11-04 00:00:00    0    0\n",
      "12    2012-11-03 00:00:00    1   -1\n",
      "13    2012-11-03 00:00:00    1   -1\n",
      "14    2012-11-04 00:00:00    0    0\n",
      "15    2012-11-03 00:00:00   -1    1\n",
      "16    2012-11-03 00:00:00    0    0\n",
      "17    2012-11-03 00:00:00   -1    1\n",
      "18    2012-11-05 00:00:00    1   -1\n",
      "19    2012-11-03 00:00:00    0    0\n",
      "20    2012-11-10 00:00:00    0    0\n",
      "21    2012-11-10 00:00:00   -1    1\n",
      "22    2012-11-11 00:00:00    0    0\n",
      "23    2012-11-10 00:00:00    1   -1\n",
      "24    2012-11-11 00:00:00    1   -1\n",
      "25    2012-11-11 00:00:00   -1    1\n",
      "26    2012-11-10 00:00:00    0    0\n",
      "27    2012-11-10 00:00:00    0    0\n",
      "28    2012-11-10 00:00:00    1   -1\n",
      "29    2012-11-10 00:00:00   -1    1\n",
      "...                   ...  ...  ...\n",
      "1732  2012-10-06 00:00:00    0    0\n",
      "1733  2012-10-07 00:00:00    1   -1\n",
      "1734  2012-10-06 00:00:00    1   -1\n",
      "1735  2012-10-07 00:00:00    1   -1\n",
      "1736  2012-10-07 00:00:00    1   -1\n",
      "1737  2012-10-06 00:00:00   -1    1\n",
      "1738  2012-10-07 00:00:00   -1    1\n",
      "1739  2012-10-05 00:00:00    1   -1\n",
      "1740  2012-10-07 00:00:00    0    0\n",
      "1741  2012-10-06 00:00:00    1   -1\n",
      "1742  2012-10-21 00:00:00    1   -1\n",
      "1743  2012-10-20 00:00:00    1   -1\n",
      "1744  2012-10-21 00:00:00   -1    1\n",
      "1745  2012-10-21 00:00:00    0    0\n",
      "1746  2012-10-20 00:00:00    1   -1\n",
      "1747  2012-10-21 00:00:00   -1    1\n",
      "1748  2012-10-21 00:00:00   -1    1\n",
      "1749  2012-10-22 00:00:00    1   -1\n",
      "1750  2012-10-20 00:00:00    1   -1\n",
      "1751  2012-10-20 00:00:00   -1    1\n",
      "1752  2012-10-27 00:00:00    0    0\n",
      "1753  2012-10-29 00:00:00    0    0\n",
      "1754  2012-10-28 00:00:00    1   -1\n",
      "1755  2012-10-27 00:00:00    1   -1\n",
      "1756  2012-10-28 00:00:00   -1    1\n",
      "1757  2012-10-28 00:00:00    1   -1\n",
      "1758  2012-10-28 00:00:00    1   -1\n",
      "1759  2012-10-28 00:00:00   -1    1\n",
      "1760  2012-10-27 00:00:00    0    0\n",
      "1761  2012-10-27 00:00:00   -1    1\n",
      "\n",
      "[1762 rows x 3 columns]\n"
     ]
    }
   ],
   "source": [
    "label = pd.DataFrame(columns = [\"Date\",\"Home\",\"Away\"])\n",
    "counter = 0\n",
    "a,b = 0,0\n",
    "match_nan = match.dropna()\n",
    "for index, row in match_nan.iterrows():\n",
    "    if row[\"home_team_goal\"] > row[\"away_team_goal\"]:\n",
    "        a,b = 1,-1\n",
    "    elif row[\"home_team_goal\"] < row[\"away_team_goal\"]:\n",
    "        a,b = -1,1\n",
    "    else:\n",
    "        a,b = 0,0\n",
    "    label.loc[counter] = [row[\"date\"], a, b]\n",
    "    counter += 1\n",
    "print(label)"
   ]
  },
  {
   "cell_type": "code",
   "execution_count": 179,
   "metadata": {},
   "outputs": [],
   "source": [
    "label.to_csv('label.csv')"
   ]
  },
  {
   "cell_type": "code",
   "execution_count": null,
   "metadata": {},
   "outputs": [],
   "source": []
  }
 ],
 "metadata": {
  "kernelspec": {
   "display_name": "Python 2",
   "language": "python",
   "name": "python2"
  },
  "language_info": {
   "codemirror_mode": {
    "name": "ipython",
    "version": 2
   },
   "file_extension": ".py",
   "mimetype": "text/x-python",
   "name": "python",
   "nbconvert_exporter": "python",
   "pygments_lexer": "ipython2",
   "version": "2.7.15"
  }
 },
 "nbformat": 4,
 "nbformat_minor": 2
}
