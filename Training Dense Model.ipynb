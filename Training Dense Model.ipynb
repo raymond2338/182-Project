{
 "cells": [
  {
   "cell_type": "code",
   "execution_count": 11,
   "metadata": {},
   "outputs": [],
   "source": [
    "import numpy as np\n",
    "from numpy import array\n",
    "from numpy import argmax\n",
    "import pandas as pd\n",
    "import keras\n",
    "import tensorflow as tf\n",
    "from keras.layers import Dense\n",
    "from keras.models import Sequential\n",
    "from keras.utils import to_categorical\n",
    "from sklearn.preprocessing import LabelEncoder\n",
    "from sklearn.preprocessing import OneHotEncoder"
   ]
  },
  {
   "cell_type": "markdown",
   "metadata": {},
   "source": [
    "### Create a Model"
   ]
  },
  {
   "cell_type": "code",
   "execution_count": 18,
   "metadata": {},
   "outputs": [],
   "source": [
    "def createToyModel(input_dim):\n",
    "    model = Sequential()\n",
    "    model.add(Dense(units=100, activation='relu', input_dim=input_dim))\n",
    "    model.add(Dense(units=3, activation='relu', input_dim=100))\n",
    "    model.compile(loss='categorical_crossentropy', optimizer='sgd')\n",
    "    \n",
    "    return model"
   ]
  },
  {
   "cell_type": "markdown",
   "metadata": {},
   "source": [
    "### Test a Batch"
   ]
  },
  {
   "cell_type": "code",
   "execution_count": 54,
   "metadata": {},
   "outputs": [
    {
     "name": "stdout",
     "output_type": "stream",
     "text": [
      "(20060, 88)\n"
     ]
    }
   ],
   "source": [
    "data = pd.read_csv(\"X_y.csv\")\n",
    "data = data.drop(columns=['date'])\n",
    "data_array = data[data.columns[:-2]].values\n",
    "print(data_array.shape)"
   ]
  },
  {
   "cell_type": "code",
   "execution_count": 55,
   "metadata": {},
   "outputs": [
    {
     "name": "stdout",
     "output_type": "stream",
     "text": [
      "(20060, 88) (20060,)\n",
      "(0.0, 2.0)\n"
     ]
    },
    {
     "data": {
      "text/plain": [
       "(20060, 3)"
      ]
     },
     "execution_count": 55,
     "metadata": {},
     "output_type": "execute_result"
    }
   ],
   "source": [
    "label_array = data[data.columns[-2]].values\n",
    "label_array = [i + 1 for i in label_array]\n",
    "label_array = array(label_array)\n",
    "encoded_labels = to_categorical(label_array)\n",
    "encoded_labels.shape"
   ]
  },
  {
   "cell_type": "code",
   "execution_count": 56,
   "metadata": {},
   "outputs": [
    {
     "name": "stdout",
     "output_type": "stream",
     "text": [
      "88\n"
     ]
    }
   ],
   "source": [
    "test_model = createToyModel(data_array[0].shape[0])"
   ]
  },
  {
   "cell_type": "code",
   "execution_count": 57,
   "metadata": {},
   "outputs": [
    {
     "name": "stdout",
     "output_type": "stream",
     "text": [
      "Epoch 1/100\n",
      "20060/20060 [==============================] - 2s 82us/step - loss: 1.0933\n",
      "Epoch 2/100\n",
      "20060/20060 [==============================] - 2s 81us/step - loss: 1.0671\n",
      "Epoch 3/100\n",
      "20060/20060 [==============================] - 2s 80us/step - loss: 1.0663\n",
      "Epoch 4/100\n",
      "20060/20060 [==============================] - 1s 41us/step - loss: 1.0656\n",
      "Epoch 5/100\n",
      "20060/20060 [==============================] - 1s 68us/step - loss: 1.0656\n",
      "Epoch 6/100\n",
      "20060/20060 [==============================] - 2s 80us/step - loss: 1.0652\n",
      "Epoch 7/100\n",
      "20060/20060 [==============================] - 1s 72us/step - loss: 1.0650\n",
      "Epoch 8/100\n",
      "20060/20060 [==============================] - 1s 74us/step - loss: 1.0650\n",
      "Epoch 9/100\n",
      "20060/20060 [==============================] - 2s 77us/step - loss: 1.0649\n",
      "Epoch 10/100\n",
      "20060/20060 [==============================] - 1s 67us/step - loss: 1.0645\n",
      "Epoch 11/100\n",
      "20060/20060 [==============================] - 2s 76us/step - loss: 1.0646\n",
      "Epoch 12/100\n",
      "20060/20060 [==============================] - 1s 60us/step - loss: 1.0647\n",
      "Epoch 13/100\n",
      "20060/20060 [==============================] - 1s 67us/step - loss: 1.0645\n",
      "Epoch 14/100\n",
      "20060/20060 [==============================] - 1s 73us/step - loss: 1.0644\n",
      "Epoch 15/100\n",
      "20060/20060 [==============================] - 1s 66us/step - loss: 1.0644\n",
      "Epoch 16/100\n",
      "20060/20060 [==============================] - 2s 79us/step - loss: 1.0643\n",
      "Epoch 17/100\n",
      "20060/20060 [==============================] - 2s 80us/step - loss: 1.0645\n",
      "Epoch 18/100\n",
      "20060/20060 [==============================] - 2s 78us/step - loss: 1.0643\n",
      "Epoch 19/100\n",
      "20060/20060 [==============================] - 1s 61us/step - loss: 1.0642\n",
      "Epoch 20/100\n",
      "20060/20060 [==============================] - 2s 82us/step - loss: 1.0642\n",
      "Epoch 21/100\n",
      "20060/20060 [==============================] - 2s 81us/step - loss: 1.0642\n",
      "Epoch 22/100\n",
      "20060/20060 [==============================] - 2s 84us/step - loss: 1.0642\n",
      "Epoch 23/100\n",
      "20060/20060 [==============================] - 2s 85us/step - loss: 1.0641\n",
      "Epoch 24/100\n",
      "20060/20060 [==============================] - 2s 87us/step - loss: 1.0641\n",
      "Epoch 25/100\n",
      "20060/20060 [==============================] - 2s 84us/step - loss: 1.0640\n",
      "Epoch 26/100\n",
      "20060/20060 [==============================] - 2s 87us/step - loss: 1.0640\n",
      "Epoch 27/100\n",
      "20060/20060 [==============================] - 2s 79us/step - loss: 1.0640\n",
      "Epoch 28/100\n",
      "20060/20060 [==============================] - 2s 81us/step - loss: 1.0639\n",
      "Epoch 29/100\n",
      "20060/20060 [==============================] - 2s 87us/step - loss: 1.0638\n",
      "Epoch 30/100\n",
      "20060/20060 [==============================] - 2s 81us/step - loss: 1.0639\n",
      "Epoch 31/100\n",
      "20060/20060 [==============================] - 1s 56us/step - loss: 1.0638\n",
      "Epoch 32/100\n",
      "20060/20060 [==============================] - 1s 65us/step - loss: 1.0639\n",
      "Epoch 33/100\n",
      "20060/20060 [==============================] - 2s 86us/step - loss: 1.0638\n",
      "Epoch 34/100\n",
      "20060/20060 [==============================] - 2s 82us/step - loss: 1.0638\n",
      "Epoch 35/100\n",
      "20060/20060 [==============================] - 2s 76us/step - loss: 1.0637\n",
      "Epoch 36/100\n",
      "20060/20060 [==============================] - 2s 87us/step - loss: 1.0637\n",
      "Epoch 37/100\n",
      "20060/20060 [==============================] - 2s 85us/step - loss: 1.0635\n",
      "Epoch 38/100\n",
      "20060/20060 [==============================] - 2s 78us/step - loss: 1.0636\n",
      "Epoch 39/100\n",
      "20060/20060 [==============================] - 1s 67us/step - loss: 1.0638\n",
      "Epoch 40/100\n",
      "20060/20060 [==============================] - 2s 78us/step - loss: 1.0637\n",
      "Epoch 41/100\n",
      "20060/20060 [==============================] - 2s 75us/step - loss: 1.0636\n",
      "Epoch 42/100\n",
      "20060/20060 [==============================] - 1s 50us/step - loss: 1.0636\n",
      "Epoch 43/100\n",
      "20060/20060 [==============================] - 2s 83us/step - loss: 1.0635\n",
      "Epoch 44/100\n",
      "20060/20060 [==============================] - 2s 81us/step - loss: 1.0636\n",
      "Epoch 45/100\n",
      "20060/20060 [==============================] - 1s 59us/step - loss: 1.0635\n",
      "Epoch 46/100\n",
      "20060/20060 [==============================] - 1s 73us/step - loss: 1.0635\n",
      "Epoch 47/100\n",
      "20060/20060 [==============================] - 2s 80us/step - loss: 1.0635\n",
      "Epoch 48/100\n",
      "20060/20060 [==============================] - 1s 71us/step - loss: 1.0634\n",
      "Epoch 49/100\n",
      "20060/20060 [==============================] - 2s 88us/step - loss: 1.0634\n",
      "Epoch 50/100\n",
      "20060/20060 [==============================] - 2s 89us/step - loss: 1.0634\n",
      "Epoch 51/100\n",
      "20060/20060 [==============================] - 2s 79us/step - loss: 1.0633\n",
      "Epoch 52/100\n",
      "20060/20060 [==============================] - 2s 78us/step - loss: 1.0633\n",
      "Epoch 53/100\n",
      "20060/20060 [==============================] - 1s 68us/step - loss: 1.0634\n",
      "Epoch 54/100\n",
      "20060/20060 [==============================] - 2s 86us/step - loss: 1.0632\n",
      "Epoch 55/100\n",
      "20060/20060 [==============================] - 2s 83us/step - loss: 1.0632\n",
      "Epoch 56/100\n",
      "20060/20060 [==============================] - 2s 78us/step - loss: 1.0631\n",
      "Epoch 57/100\n",
      "20060/20060 [==============================] - 1s 53us/step - loss: 1.0633\n",
      "Epoch 58/100\n",
      "20060/20060 [==============================] - 2s 82us/step - loss: 1.0632\n",
      "Epoch 59/100\n",
      "20060/20060 [==============================] - 2s 83us/step - loss: 1.0631\n",
      "Epoch 60/100\n",
      "20060/20060 [==============================] - 2s 83us/step - loss: 1.0631\n",
      "Epoch 61/100\n",
      "20060/20060 [==============================] - 2s 75us/step - loss: 1.0630\n",
      "Epoch 62/100\n",
      "20060/20060 [==============================] - 2s 80us/step - loss: 1.0632\n",
      "Epoch 63/100\n",
      "20060/20060 [==============================] - 2s 76us/step - loss: 1.0630\n",
      "Epoch 64/100\n",
      "20060/20060 [==============================] - 1s 70us/step - loss: 1.0630\n",
      "Epoch 65/100\n",
      "20060/20060 [==============================] - 2s 86us/step - loss: 1.0630\n",
      "Epoch 66/100\n",
      "20060/20060 [==============================] - 2s 75us/step - loss: 1.0630\n",
      "Epoch 67/100\n",
      "20060/20060 [==============================] - 2s 77us/step - loss: 1.0627\n",
      "Epoch 68/100\n",
      "20060/20060 [==============================] - 2s 76us/step - loss: 1.0628\n",
      "Epoch 69/100\n",
      "20060/20060 [==============================] - 2s 75us/step - loss: 1.0627\n",
      "Epoch 70/100\n",
      "20060/20060 [==============================] - 1s 64us/step - loss: 1.0627\n",
      "Epoch 71/100\n",
      "20060/20060 [==============================] - 1s 73us/step - loss: 1.0625\n",
      "Epoch 72/100\n",
      "20060/20060 [==============================] - 1s 70us/step - loss: 1.0625\n",
      "Epoch 73/100\n",
      "20060/20060 [==============================] - 1s 73us/step - loss: 1.0626\n",
      "Epoch 74/100\n",
      "20060/20060 [==============================] - 1s 63us/step - loss: 1.0626\n",
      "Epoch 75/100\n",
      "20060/20060 [==============================] - 1s 74us/step - loss: 1.0625\n",
      "Epoch 76/100\n",
      "20060/20060 [==============================] - 1s 74us/step - loss: 1.0626\n",
      "Epoch 77/100\n",
      "20060/20060 [==============================] - 1s 73us/step - loss: 1.0624\n",
      "Epoch 78/100\n",
      "20060/20060 [==============================] - 1s 72us/step - loss: 1.0623\n",
      "Epoch 79/100\n",
      "20060/20060 [==============================] - 1s 72us/step - loss: 1.0622\n",
      "Epoch 80/100\n",
      "20060/20060 [==============================] - 1s 72us/step - loss: 1.0624\n",
      "Epoch 81/100\n",
      "20060/20060 [==============================] - 1s 73us/step - loss: 1.0622\n",
      "Epoch 82/100\n",
      "20060/20060 [==============================] - 1s 73us/step - loss: 1.0620\n",
      "Epoch 83/100\n",
      "20060/20060 [==============================] - 1s 73us/step - loss: 1.0619\n",
      "Epoch 84/100\n",
      "20060/20060 [==============================] - 1s 72us/step - loss: 1.0618\n",
      "Epoch 85/100\n",
      "20060/20060 [==============================] - 1s 72us/step - loss: 1.0620\n",
      "Epoch 86/100\n",
      "20060/20060 [==============================] - 1s 73us/step - loss: 1.0620\n",
      "Epoch 87/100\n",
      "20060/20060 [==============================] - 1s 72us/step - loss: 1.0619\n",
      "Epoch 88/100\n",
      "20060/20060 [==============================] - 1s 72us/step - loss: 1.0614\n",
      "Epoch 89/100\n",
      "20060/20060 [==============================] - 1s 73us/step - loss: 1.0614\n",
      "Epoch 90/100\n",
      "20060/20060 [==============================] - 1s 72us/step - loss: 1.0615\n",
      "Epoch 91/100\n",
      "20060/20060 [==============================] - 1s 72us/step - loss: 1.0614\n",
      "Epoch 92/100\n",
      "20060/20060 [==============================] - 1s 73us/step - loss: 1.0615\n",
      "Epoch 93/100\n",
      "20060/20060 [==============================] - 1s 66us/step - loss: 1.0609\n",
      "Epoch 94/100\n"
     ]
    },
    {
     "name": "stdout",
     "output_type": "stream",
     "text": [
      "20060/20060 [==============================] - 2s 84us/step - loss: 1.0610\n",
      "Epoch 95/100\n",
      "20060/20060 [==============================] - 1s 60us/step - loss: 1.0608\n",
      "Epoch 96/100\n",
      "20060/20060 [==============================] - 1s 74us/step - loss: 1.0610\n",
      "Epoch 97/100\n",
      "20060/20060 [==============================] - 1s 74us/step - loss: 1.0608\n",
      "Epoch 98/100\n",
      "20060/20060 [==============================] - 1s 74us/step - loss: 1.0604\n",
      "Epoch 99/100\n",
      "20060/20060 [==============================] - 1s 74us/step - loss: 1.0604\n",
      "Epoch 100/100\n",
      "20060/20060 [==============================] - 1s 73us/step - loss: 1.0602\n"
     ]
    },
    {
     "data": {
      "text/plain": [
       "<keras.callbacks.History at 0x7ff2970262e8>"
      ]
     },
     "execution_count": 57,
     "metadata": {},
     "output_type": "execute_result"
    }
   ],
   "source": [
    "batch_size = 32\n",
    "test_model.fit(x=data_array, y=encoded_labels, batch_size=batch_size, epochs=100)"
   ]
  }
 ],
 "metadata": {
  "kernelspec": {
   "display_name": "Python 3",
   "language": "python",
   "name": "python3"
  },
  "language_info": {
   "codemirror_mode": {
    "name": "ipython",
    "version": 3
   },
   "file_extension": ".py",
   "mimetype": "text/x-python",
   "name": "python",
   "nbconvert_exporter": "python",
   "pygments_lexer": "ipython3",
   "version": "3.6.6"
  }
 },
 "nbformat": 4,
 "nbformat_minor": 2
}
