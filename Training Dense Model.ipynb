{
 "cells": [
  {
   "cell_type": "code",
   "execution_count": 122,
   "metadata": {},
   "outputs": [],
   "source": [
    "import numpy as np\n",
    "from numpy import array\n",
    "from numpy import argmax\n",
    "import pandas as pd\n",
    "import keras\n",
    "import tensorflow as tf\n",
    "from keras.layers import Dense\n",
    "from keras.models import Sequential\n",
    "from keras.utils import to_categorical\n",
    "from sklearn.preprocessing import LabelEncoder\n",
    "from sklearn.preprocessing import OneHotEncoder"
   ]
  },
  {
   "cell_type": "markdown",
   "metadata": {},
   "source": [
    "### Create a Model"
   ]
  },
  {
   "cell_type": "code",
   "execution_count": 128,
   "metadata": {},
   "outputs": [],
   "source": [
    "def createToyModel(input_dim):\n",
    "    model = Sequential()\n",
    "    model.add(Dense(units=100, activation='tanh', input_dim=input_dim, init='uniform'))\n",
    "    model.add(Dense(units=3, activation='softmax', input_dim=100, init='uniform'))\n",
    "    model.compile(loss='categorical_crossentropy', optimizer='adam', metrics=['accuracy'])\n",
    "    \n",
    "    return model"
   ]
  },
  {
   "cell_type": "markdown",
   "metadata": {},
   "source": [
    "### Test a Batch"
   ]
  },
  {
   "cell_type": "code",
   "execution_count": 129,
   "metadata": {},
   "outputs": [
    {
     "name": "stdout",
     "output_type": "stream",
     "text": [
      "(20060, 88)\n"
     ]
    }
   ],
   "source": [
    "data = pd.read_csv(\"X_y.csv\")\n",
    "data = data.drop(columns=['date'])\n",
    "data_array = data[data.columns[:-2]].values\n",
    "print(data_array.shape)"
   ]
  },
  {
   "cell_type": "code",
   "execution_count": 130,
   "metadata": {},
   "outputs": [
    {
     "data": {
      "text/plain": [
       "(20060, 3)"
      ]
     },
     "execution_count": 130,
     "metadata": {},
     "output_type": "execute_result"
    }
   ],
   "source": [
    "label_array = data[data.columns[-2]].values\n",
    "label_array = [i + 1 for i in label_array]\n",
    "label_array = array(label_array)\n",
    "encoded_labels = to_categorical(label_array)\n",
    "encoded_labels.shape"
   ]
  },
  {
   "cell_type": "code",
   "execution_count": 131,
   "metadata": {},
   "outputs": [
    {
     "name": "stderr",
     "output_type": "stream",
     "text": [
      "/home/aditya/Tools/anaconda3/lib/python3.6/site-packages/ipykernel_launcher.py:3: UserWarning: Update your `Dense` call to the Keras 2 API: `Dense(units=100, activation=\"tanh\", input_dim=88, kernel_initializer=\"uniform\")`\n",
      "  This is separate from the ipykernel package so we can avoid doing imports until\n",
      "/home/aditya/Tools/anaconda3/lib/python3.6/site-packages/ipykernel_launcher.py:4: UserWarning: Update your `Dense` call to the Keras 2 API: `Dense(units=3, activation=\"softmax\", input_dim=100, kernel_initializer=\"uniform\")`\n",
      "  after removing the cwd from sys.path.\n"
     ]
    }
   ],
   "source": [
    "test_model = createToyModel(data_array[0].shape[0])"
   ]
  },
  {
   "cell_type": "code",
   "execution_count": 132,
   "metadata": {},
   "outputs": [
    {
     "name": "stdout",
     "output_type": "stream",
     "text": [
      "Epoch 1/100\n",
      "20060/20060 [==============================] - 1s 59us/step - loss: 1.0706 - acc: 0.4552\n",
      "Epoch 2/100\n",
      "20060/20060 [==============================] - 1s 63us/step - loss: 1.0687 - acc: 0.4577\n",
      "Epoch 3/100\n",
      "20060/20060 [==============================] - 1s 43us/step - loss: 1.0688 - acc: 0.4577\n",
      "Epoch 4/100\n",
      "20060/20060 [==============================] - 1s 55us/step - loss: 1.0696 - acc: 0.4576\n",
      "Epoch 5/100\n",
      "20060/20060 [==============================] - 1s 45us/step - loss: 1.0687 - acc: 0.4577\n",
      "Epoch 6/100\n",
      "20060/20060 [==============================] - 1s 49us/step - loss: 1.0679 - acc: 0.4576\n",
      "Epoch 7/100\n",
      "20060/20060 [==============================] - 1s 35us/step - loss: 1.0682 - acc: 0.4577\n",
      "Epoch 8/100\n",
      "20060/20060 [==============================] - 1s 32us/step - loss: 1.0682 - acc: 0.4577\n",
      "Epoch 9/100\n",
      "20060/20060 [==============================] - 1s 55us/step - loss: 1.0684 - acc: 0.4578\n",
      "Epoch 10/100\n",
      "20060/20060 [==============================] - 1s 44us/step - loss: 1.0679 - acc: 0.4577\n",
      "Epoch 11/100\n",
      "20060/20060 [==============================] - 1s 56us/step - loss: 1.0681 - acc: 0.4577\n",
      "Epoch 12/100\n",
      "20060/20060 [==============================] - 1s 56us/step - loss: 1.0678 - acc: 0.4577\n",
      "Epoch 13/100\n",
      "20060/20060 [==============================] - 1s 55us/step - loss: 1.0672 - acc: 0.4577\n",
      "Epoch 14/100\n",
      "20060/20060 [==============================] - 1s 26us/step - loss: 1.0677 - acc: 0.4576\n",
      "Epoch 15/100\n",
      "20060/20060 [==============================] - 1s 48us/step - loss: 1.0680 - acc: 0.4575\n",
      "Epoch 16/100\n",
      "20060/20060 [==============================] - 1s 58us/step - loss: 1.0686 - acc: 0.4574\n",
      "Epoch 17/100\n",
      "20060/20060 [==============================] - 1s 51us/step - loss: 1.0682 - acc: 0.4576\n",
      "Epoch 18/100\n",
      "20060/20060 [==============================] - 1s 56us/step - loss: 1.0675 - acc: 0.4577\n",
      "Epoch 19/100\n",
      "20060/20060 [==============================] - 1s 54us/step - loss: 1.0684 - acc: 0.4576\n",
      "Epoch 20/100\n",
      "20060/20060 [==============================] - 1s 55us/step - loss: 1.0678 - acc: 0.4575\n",
      "Epoch 21/100\n",
      "20060/20060 [==============================] - 1s 58us/step - loss: 1.0674 - acc: 0.4577\n",
      "Epoch 22/100\n",
      "20060/20060 [==============================] - 1s 59us/step - loss: 1.0692 - acc: 0.4553\n",
      "Epoch 23/100\n",
      "20060/20060 [==============================] - 1s 55us/step - loss: 1.0676 - acc: 0.4578\n",
      "Epoch 24/100\n",
      "20060/20060 [==============================] - 1s 54us/step - loss: 1.0678 - acc: 0.4576\n",
      "Epoch 25/100\n",
      "20060/20060 [==============================] - 1s 54us/step - loss: 1.0703 - acc: 0.4579\n",
      "Epoch 26/100\n",
      "20060/20060 [==============================] - 1s 53us/step - loss: 1.0684 - acc: 0.4566\n",
      "Epoch 27/100\n",
      "20060/20060 [==============================] - 1s 55us/step - loss: 1.0690 - acc: 0.4578\n",
      "Epoch 28/100\n",
      "20060/20060 [==============================] - 1s 62us/step - loss: 1.0686 - acc: 0.4576\n",
      "Epoch 29/100\n",
      "20060/20060 [==============================] - 1s 61us/step - loss: 1.0677 - acc: 0.4568\n",
      "Epoch 30/100\n",
      "20060/20060 [==============================] - 1s 58us/step - loss: 1.0686 - acc: 0.4581\n",
      "Epoch 31/100\n",
      "20060/20060 [==============================] - 1s 49us/step - loss: 1.0678 - acc: 0.4575\n",
      "Epoch 32/100\n",
      "20060/20060 [==============================] - 1s 27us/step - loss: 1.0684 - acc: 0.4578\n",
      "Epoch 33/100\n",
      "20060/20060 [==============================] - 1s 60us/step - loss: 1.0688 - acc: 0.4553\n",
      "Epoch 34/100\n",
      "20060/20060 [==============================] - 1s 53us/step - loss: 1.0668 - acc: 0.4577\n",
      "Epoch 35/100\n",
      "20060/20060 [==============================] - 1s 54us/step - loss: 1.0664 - acc: 0.4577\n",
      "Epoch 36/100\n",
      "20060/20060 [==============================] - 1s 25us/step - loss: 1.0680 - acc: 0.4572\n",
      "Epoch 37/100\n",
      "20060/20060 [==============================] - 1s 31us/step - loss: 1.0688 - acc: 0.4578\n",
      "Epoch 38/100\n",
      "20060/20060 [==============================] - 0s 21us/step - loss: 1.0678 - acc: 0.4575\n",
      "Epoch 39/100\n",
      "20060/20060 [==============================] - 0s 20us/step - loss: 1.0665 - acc: 0.4580\n",
      "Epoch 40/100\n",
      "20060/20060 [==============================] - 0s 19us/step - loss: 1.0680 - acc: 0.4573\n",
      "Epoch 41/100\n",
      "20060/20060 [==============================] - 0s 18us/step - loss: 1.0685 - acc: 0.4578\n",
      "Epoch 42/100\n",
      "20060/20060 [==============================] - 0s 20us/step - loss: 1.0682 - acc: 0.4578\n",
      "Epoch 43/100\n",
      "20060/20060 [==============================] - 0s 21us/step - loss: 1.0669 - acc: 0.4579\n",
      "Epoch 44/100\n",
      "20060/20060 [==============================] - 1s 27us/step - loss: 1.0669 - acc: 0.4578\n",
      "Epoch 45/100\n",
      "20060/20060 [==============================] - 1s 30us/step - loss: 1.0669 - acc: 0.4579\n",
      "Epoch 46/100\n",
      "20060/20060 [==============================] - 0s 21us/step - loss: 1.0663 - acc: 0.4577\n",
      "Epoch 47/100\n",
      "20060/20060 [==============================] - 1s 31us/step - loss: 1.0671 - acc: 0.4567\n",
      "Epoch 48/100\n",
      "20060/20060 [==============================] - 1s 51us/step - loss: 1.0674 - acc: 0.4575\n",
      "Epoch 49/100\n",
      "20060/20060 [==============================] - 1s 50us/step - loss: 1.0671 - acc: 0.4574\n",
      "Epoch 50/100\n",
      "20060/20060 [==============================] - 1s 51us/step - loss: 1.0678 - acc: 0.4577\n",
      "Epoch 51/100\n",
      "20060/20060 [==============================] - 1s 53us/step - loss: 1.0672 - acc: 0.4579\n",
      "Epoch 52/100\n",
      "20060/20060 [==============================] - 1s 51us/step - loss: 1.0666 - acc: 0.4577\n",
      "Epoch 53/100\n",
      "20060/20060 [==============================] - 1s 51us/step - loss: 1.0678 - acc: 0.4576\n",
      "Epoch 54/100\n",
      "20060/20060 [==============================] - 1s 53us/step - loss: 1.0694 - acc: 0.4544\n",
      "Epoch 55/100\n",
      "20060/20060 [==============================] - 1s 49us/step - loss: 1.0672 - acc: 0.4577\n",
      "Epoch 56/100\n",
      "20060/20060 [==============================] - 1s 50us/step - loss: 1.0667 - acc: 0.4577\n",
      "Epoch 57/100\n",
      "20060/20060 [==============================] - 1s 51us/step - loss: 1.0692 - acc: 0.4577\n",
      "Epoch 58/100\n",
      "20060/20060 [==============================] - 1s 51us/step - loss: 1.0678 - acc: 0.4578\n",
      "Epoch 59/100\n",
      "20060/20060 [==============================] - 1s 51us/step - loss: 1.0690 - acc: 0.4576\n",
      "Epoch 60/100\n",
      "20060/20060 [==============================] - 1s 50us/step - loss: 1.0668 - acc: 0.4581\n",
      "Epoch 61/100\n",
      "20060/20060 [==============================] - 1s 41us/step - loss: 1.0677 - acc: 0.4572\n",
      "Epoch 62/100\n",
      "20060/20060 [==============================] - 1s 54us/step - loss: 1.0679 - acc: 0.4577\n",
      "Epoch 63/100\n",
      "20060/20060 [==============================] - 1s 56us/step - loss: 1.0680 - acc: 0.4574\n",
      "Epoch 64/100\n",
      "20060/20060 [==============================] - 1s 51us/step - loss: 1.0674 - acc: 0.4576\n",
      "Epoch 65/100\n",
      "20060/20060 [==============================] - 1s 44us/step - loss: 1.0676 - acc: 0.4578\n",
      "Epoch 66/100\n",
      "20060/20060 [==============================] - 1s 37us/step - loss: 1.0672 - acc: 0.4581\n",
      "Epoch 67/100\n",
      "20060/20060 [==============================] - 1s 52us/step - loss: 1.0670 - acc: 0.4579\n",
      "Epoch 68/100\n",
      "20060/20060 [==============================] - 1s 55us/step - loss: 1.0685 - acc: 0.4578\n",
      "Epoch 69/100\n",
      "20060/20060 [==============================] - 1s 35us/step - loss: 1.0679 - acc: 0.4576\n",
      "Epoch 70/100\n",
      "20060/20060 [==============================] - 1s 54us/step - loss: 1.0683 - acc: 0.4577\n",
      "Epoch 71/100\n",
      "20060/20060 [==============================] - 1s 57us/step - loss: 1.0662 - acc: 0.4581\n",
      "Epoch 72/100\n",
      "20060/20060 [==============================] - 1s 58us/step - loss: 1.0669 - acc: 0.4577\n",
      "Epoch 73/100\n",
      "20060/20060 [==============================] - 1s 53us/step - loss: 1.0685 - acc: 0.4579\n",
      "Epoch 74/100\n",
      "20060/20060 [==============================] - 1s 50us/step - loss: 1.0680 - acc: 0.4574\n",
      "Epoch 75/100\n",
      "20060/20060 [==============================] - 1s 50us/step - loss: 1.0673 - acc: 0.4580\n",
      "Epoch 76/100\n",
      "20060/20060 [==============================] - 1s 35us/step - loss: 1.0669 - acc: 0.4583\n",
      "Epoch 77/100\n",
      "20060/20060 [==============================] - 0s 18us/step - loss: 1.0661 - acc: 0.4581\n",
      "Epoch 78/100\n",
      "20060/20060 [==============================] - 0s 19us/step - loss: 1.0673 - acc: 0.4581\n",
      "Epoch 79/100\n",
      "20060/20060 [==============================] - 1s 37us/step - loss: 1.0675 - acc: 0.4574\n",
      "Epoch 80/100\n",
      "20060/20060 [==============================] - 1s 50us/step - loss: 1.0679 - acc: 0.4567\n",
      "Epoch 81/100\n"
     ]
    },
    {
     "name": "stdout",
     "output_type": "stream",
     "text": [
      "20060/20060 [==============================] - 1s 50us/step - loss: 1.0668 - acc: 0.4575\n",
      "Epoch 82/100\n",
      "20060/20060 [==============================] - 1s 50us/step - loss: 1.0662 - acc: 0.4578\n",
      "Epoch 83/100\n",
      "20060/20060 [==============================] - 1s 50us/step - loss: 1.0680 - acc: 0.4577\n",
      "Epoch 84/100\n",
      "20060/20060 [==============================] - 1s 47us/step - loss: 1.0674 - acc: 0.4556\n",
      "Epoch 85/100\n",
      "20060/20060 [==============================] - 1s 52us/step - loss: 1.0678 - acc: 0.4577\n",
      "Epoch 86/100\n",
      "20060/20060 [==============================] - 1s 50us/step - loss: 1.0668 - acc: 0.4578\n",
      "Epoch 87/100\n",
      "20060/20060 [==============================] - 1s 60us/step - loss: 1.0679 - acc: 0.4576\n",
      "Epoch 88/100\n",
      "20060/20060 [==============================] - 1s 57us/step - loss: 1.0672 - acc: 0.4576\n",
      "Epoch 89/100\n",
      "20060/20060 [==============================] - 1s 40us/step - loss: 1.0671 - acc: 0.4580\n",
      "Epoch 90/100\n",
      "20060/20060 [==============================] - 1s 42us/step - loss: 1.0675 - acc: 0.4578\n",
      "Epoch 91/100\n",
      "20060/20060 [==============================] - 1s 47us/step - loss: 1.0671 - acc: 0.4578\n",
      "Epoch 92/100\n",
      "20060/20060 [==============================] - 1s 39us/step - loss: 1.0687 - acc: 0.4580\n",
      "Epoch 93/100\n",
      "20060/20060 [==============================] - 0s 19us/step - loss: 1.0666 - acc: 0.4578\n",
      "Epoch 94/100\n",
      "20060/20060 [==============================] - 1s 50us/step - loss: 1.0678 - acc: 0.4576\n",
      "Epoch 95/100\n",
      "20060/20060 [==============================] - 1s 36us/step - loss: 1.0675 - acc: 0.4583\n",
      "Epoch 96/100\n",
      "20060/20060 [==============================] - 0s 22us/step - loss: 1.0681 - acc: 0.4576\n",
      "Epoch 97/100\n",
      "20060/20060 [==============================] - 0s 22us/step - loss: 1.0674 - acc: 0.4578\n",
      "Epoch 98/100\n",
      "20060/20060 [==============================] - 1s 40us/step - loss: 1.0667 - acc: 0.4577\n",
      "Epoch 99/100\n",
      "20060/20060 [==============================] - 1s 38us/step - loss: 1.0667 - acc: 0.4578\n",
      "Epoch 100/100\n",
      "20060/20060 [==============================] - 0s 21us/step - loss: 1.0667 - acc: 0.4582\n"
     ]
    },
    {
     "data": {
      "text/plain": [
       "<keras.callbacks.History at 0x7fc868102898>"
      ]
     },
     "execution_count": 132,
     "metadata": {},
     "output_type": "execute_result"
    }
   ],
   "source": [
    "batch_size = 64\n",
    "test_model.fit(x=data_array, y=encoded_labels, batch_size=batch_size, epochs=100)"
   ]
  },
  {
   "cell_type": "code",
   "execution_count": 144,
   "metadata": {},
   "outputs": [
    {
     "name": "stdout",
     "output_type": "stream",
     "text": [
      "13382\n",
      "(88,)\n",
      "(1, 88)\n",
      "(array([[0.28476387, 0.24302801, 0.47220817]], dtype=float32), 0.0)\n"
     ]
    }
   ],
   "source": [
    "from random import randint\n",
    "id_num = randint(0, data_array.shape[0] - 1)\n",
    "print(id_num)\n",
    "test_batch_x, test_batch_y = data_array[id_num], label_array[id_num]\n",
    "print(test_batch_x.shape)\n",
    "test_batch_x = np.reshape(test_batch_x, (1,)+test_batch_x.shape)\n",
    "print(test_batch_x.shape)\n",
    "print((test_model.predict(test_batch_x), test_batch_y))\n"
   ]
  },
  {
   "cell_type": "code",
   "execution_count": null,
   "metadata": {},
   "outputs": [],
   "source": []
  }
 ],
 "metadata": {
  "kernelspec": {
   "display_name": "Python 3",
   "language": "python",
   "name": "python3"
  },
  "language_info": {
   "codemirror_mode": {
    "name": "ipython",
    "version": 3
   },
   "file_extension": ".py",
   "mimetype": "text/x-python",
   "name": "python",
   "nbconvert_exporter": "python",
   "pygments_lexer": "ipython3",
   "version": "3.6.6"
  }
 },
 "nbformat": 4,
 "nbformat_minor": 2
}
