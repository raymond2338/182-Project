{
 "cells": [
  {
   "cell_type": "code",
   "execution_count": 27,
   "metadata": {},
   "outputs": [],
   "source": [
    "import numpy as np\n",
    "import pandas as pd\n",
    "from sklearn.ensemble import RandomForestClassifier\n",
    "from sklearn.decomposition import PCA"
   ]
  },
  {
   "cell_type": "markdown",
   "metadata": {},
   "source": [
    "# Load Data"
   ]
  },
  {
   "cell_type": "code",
   "execution_count": 5,
   "metadata": {},
   "outputs": [],
   "source": [
    "data_formation = pd.read_csv(\"data/X_resampled_formation.csv\")\n",
    "test_data_formation = pd.read_csv(\"data/X_test_formation.csv\")\n",
    "label_formation = pd.read_csv(\"data/y_resampled_formation.csv\")\n",
    "test_label_formation = pd.read_csv(\"data/y_test_formation.csv\")"
   ]
  },
  {
   "cell_type": "code",
   "execution_count": 6,
   "metadata": {},
   "outputs": [
    {
     "name": "stdout",
     "output_type": "stream",
     "text": [
      "(23292, 903)\n",
      "(3009, 903)\n",
      "(23292, 3)\n",
      "(3009, 3)\n"
     ]
    }
   ],
   "source": [
    "print(data_formation.shape)\n",
    "print(test_data_formation.shape)\n",
    "print(label_formation.shape)\n",
    "print(test_label_formation.shape)"
   ]
  },
  {
   "cell_type": "markdown",
   "metadata": {},
   "source": [
    "# Train a Random Forest Classifier"
   ]
  },
  {
   "cell_type": "code",
   "execution_count": 9,
   "metadata": {},
   "outputs": [
    {
     "data": {
      "text/plain": [
       "RandomForestClassifier(bootstrap=True, class_weight=None, criterion='gini',\n",
       "            max_depth=None, max_features='auto', max_leaf_nodes=None,\n",
       "            min_impurity_decrease=0.0, min_impurity_split=None,\n",
       "            min_samples_leaf=1, min_samples_split=2,\n",
       "            min_weight_fraction_leaf=0.0, n_estimators=10, n_jobs=1,\n",
       "            oob_score=False, random_state=None, verbose=0,\n",
       "            warm_start=False)"
      ]
     },
     "execution_count": 9,
     "metadata": {},
     "output_type": "execute_result"
    }
   ],
   "source": [
    "rfc = RandomForestClassifier()\n",
    "rfc.fit(data_formation, label_formation)"
   ]
  },
  {
   "cell_type": "markdown",
   "metadata": {},
   "source": [
    "# Get The Most Important Features and their Scores"
   ]
  },
  {
   "cell_type": "code",
   "execution_count": 33,
   "metadata": {},
   "outputs": [
    {
     "name": "stdout",
     "output_type": "stream",
     "text": [
      "Largest Importance Value: 0.002189, Smallest Importance Value: 0.000000\n",
      "Feature rankings:\n",
      "1. Feature 561 - away_player_3_agility: 0.002189\n",
      "2. Feature 165 - home_player_5_free_kick_accuracy: 0.002135\n",
      "3. Feature 656 - away_player_6_stamina: 0.002060\n",
      "4. Feature 169 - home_player_5_sprint_speed: 0.002025\n",
      "5. Feature 730 - away_player_9_finishing: 0.001983\n",
      "6. Feature 720 - away_player_8_interceptions: 0.001976\n",
      "7. Feature 265 - home_player_8_stamina: 0.001971\n",
      "8. Feature 616 - away_player_5_free_kick_accuracy: 0.001947\n",
      "9. Feature 657 - away_player_6_strength: 0.001944\n",
      "10. Feature 563 - away_player_3_balance: 0.001941\n",
      "11. Feature 349 - home_player_11_sprint_speed: 0.001927\n",
      "12. Feature 262 - home_player_8_balance: 0.001924\n",
      "13. Feature 268 - home_player_8_aggression: 0.001915\n",
      "14. Feature 98 - home_player_3_crossing: 0.001913\n",
      "15. Feature 583 - away_player_4_volleys: 0.001908\n",
      "16. Feature 183 - home_player_5_marking: 0.001905\n",
      "17. Feature 232 - home_player_7_balance: 0.001900\n",
      "18. Feature 79 - home_player_2_sprint_speed: 0.001894\n",
      "19. Feature 322 - home_player_10_balance: 0.001890\n",
      "20. Feature 663 - away_player_6_penalties: 0.001881\n",
      "21. Feature 333 - home_player_10_marking: 0.001876\n",
      "22. Feature 182 - home_player_5_penalties: 0.001863\n",
      "23. Feature 534 - away_player_2_shot_power: 0.001858\n",
      "24. Feature 537 - away_player_2_strength: 0.001855\n",
      "25. Feature 641 - away_player_6_heading_accuracy: 0.001854\n",
      "26. Feature 228 - home_player_7_acceleration: 0.001852\n",
      "27. Feature 766 - away_player_10_free_kick_accuracy: 0.001850\n",
      "28. Feature 743 - away_player_9_balance: 0.001839\n",
      "29. Feature 175 - home_player_5_stamina: 0.001835\n",
      "30. Feature 809 - away_player_11_aggression: 0.001832\n",
      "31. Feature 316 - home_player_10_long_passing: 0.001831\n",
      "32. Feature 102 - home_player_3_volleys: 0.001825\n",
      "33. Feature 355 - home_player_11_stamina: 0.001823\n",
      "34. Feature 134 - home_player_4_curve: 0.001820\n",
      "35. Feature 249 - home_player_8_finishing: 0.001815\n",
      "36. Feature 299 - home_player_9_interceptions: 0.001812\n",
      "37. Feature 245 - home_player_7_sliding_tackle: 0.001810\n",
      "38. Feature 523 - away_player_2_volleys: 0.001808\n",
      "39. Feature 774 - away_player_10_shot_power: 0.001804\n",
      "40. Feature 557 - away_player_3_long_passing: 0.001803\n",
      "41. Feature 108 - home_player_3_acceleration: 0.001799\n",
      "42. Feature 598 - away_player_4_long_shots: 0.001795\n",
      "43. Feature 685 - away_player_7_jumping: 0.001792\n",
      "44. Feature 796 - away_player_11_free_kick_accuracy: 0.001789\n",
      "45. Feature 115 - home_player_3_stamina: 0.001788\n",
      "46. Feature 113 - home_player_3_shot_power: 0.001788\n",
      "47. Feature 651 - away_player_6_agility: 0.001785\n",
      "48. Feature 679 - away_player_7_acceleration: 0.001782\n",
      "49. Feature 732 - away_player_9_short_passing: 0.001776\n",
      "50. Feature 624 - away_player_5_shot_power: 0.001774\n",
      "51. Feature 346 - home_player_11_long_passing: 0.001773\n",
      "52. Feature 274 - home_player_8_standing_tackle: 0.001773\n",
      "53. Feature 803 - away_player_11_balance: 0.001772\n",
      "54. Feature 133 - home_player_4_dribbling: 0.001772\n",
      "55. Feature 48 - home_player_1_shot_power: 0.001770\n",
      "56. Feature 687 - away_player_7_strength: 0.001756\n",
      "57. Feature 808 - away_player_11_long_shots: 0.001755\n",
      "58. Feature 653 - away_player_6_balance: 0.001753\n",
      "59. Feature 558 - away_player_3_ball_control: 0.001750\n",
      "60. Feature 87 - home_player_2_long_shots: 0.001740\n",
      "61. Feature 364 - home_player_11_standing_tackle: 0.001738\n",
      "62. Feature 487 - away_player_1_short_passing: 0.001738\n",
      "63. Feature 682 - away_player_7_reactions: 0.001736\n",
      "64. Feature 230 - home_player_7_agility: 0.001735\n",
      "65. Feature 579 - away_player_4_crossing: 0.001732\n",
      "66. Feature 676 - away_player_7_free_kick_accuracy: 0.001729\n",
      "67. Feature 797 - away_player_11_long_passing: 0.001729\n",
      "68. Feature 303 - home_player_9_marking: 0.001725\n",
      "69. Feature 275 - home_player_8_sliding_tackle: 0.001725\n",
      "70. Feature 810 - away_player_11_interceptions: 0.001724\n",
      "71. Feature 610 - away_player_5_finishing: 0.001719\n",
      "72. Feature 358 - home_player_11_aggression: 0.001719\n",
      "73. Feature 638 - away_player_6_potential: 0.001714\n",
      "74. Feature 531 - away_player_2_agility: 0.001713\n",
      "75. Feature 311 - home_player_10_short_passing: 0.001710\n",
      "76. Feature 181 - home_player_5_vision: 0.001709\n",
      "77. Feature 594 - away_player_4_shot_power: 0.001707\n",
      "78. Feature 328 - home_player_10_aggression: 0.001706\n",
      "79. Feature 177 - home_player_5_long_shots: 0.001705\n",
      "80. Feature 704 - away_player_8_dribbling: 0.001705\n",
      "81. Feature 539 - away_player_2_aggression: 0.001705\n",
      "82. Feature 615 - away_player_5_curve: 0.001703\n",
      "83. Feature 623 - away_player_5_balance: 0.001702\n",
      "84. Feature 45 - home_player_1_agility: 0.001701\n",
      "85. Feature 273 - home_player_8_marking: 0.001700\n",
      "86. Feature 140 - home_player_4_agility: 0.001692\n",
      "87. Feature 504 - away_player_1_aggression: 0.001690\n",
      "88. Feature 132 - home_player_4_volleys: 0.001689\n",
      "89. Feature 542 - away_player_2_vision: 0.001689\n",
      "90. Feature 709 - away_player_8_acceleration: 0.001688\n",
      "91. Feature 694 - away_player_7_marking: 0.001686\n",
      "92. Feature 695 - away_player_7_standing_tackle: 0.001686\n",
      "93. Feature 296 - home_player_9_strength: 0.001685\n",
      "94. Feature 162 - home_player_5_volleys: 0.001684\n",
      "95. Feature 639 - away_player_6_crossing: 0.001684\n",
      "96. Feature 756 - away_player_9_sliding_tackle: 0.001683\n",
      "97. Feature 160 - home_player_5_heading_accuracy: 0.001683\n",
      "98. Feature 220 - home_player_7_heading_accuracy: 0.001682\n",
      "99. Feature 290 - home_player_9_agility: 0.001679\n",
      "100. Feature 785 - away_player_10_standing_tackle: 0.001679\n"
     ]
    }
   ],
   "source": [
    "feature_importances = rfc.feature_importances_\n",
    "print(\"Largest Importance Value: %f, Smallest Importance Value: %f\" % (max(feature_importances), min(feature_importances)))\n",
    "\n",
    "feature_indices = np.argsort(feature_importances)[::-1]\n",
    "\n",
    "print(\"Feature rankings:\")\n",
    "\n",
    "num_most_important_features = 100\n",
    "for f in range(num_most_important_features):\n",
    "    print(\"%d. Feature %d - %s: %f\" % (f + 1, feature_indices[f], data_formation.columns[feature_indices[f]], feature_importances[feature_indices[f]]))"
   ]
  },
  {
   "cell_type": "code",
   "execution_count": null,
   "metadata": {},
   "outputs": [],
   "source": []
  }
 ],
 "metadata": {
  "kernelspec": {
   "display_name": "Python 3",
   "language": "python",
   "name": "python3"
  },
  "language_info": {
   "codemirror_mode": {
    "name": "ipython",
    "version": 3
   },
   "file_extension": ".py",
   "mimetype": "text/x-python",
   "name": "python",
   "nbconvert_exporter": "python",
   "pygments_lexer": "ipython3",
   "version": "3.6.7"
  }
 },
 "nbformat": 4,
 "nbformat_minor": 2
}
