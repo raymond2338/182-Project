{
 "cells": [
  {
   "cell_type": "markdown",
   "metadata": {},
   "source": [
    "## Data preprocessing"
   ]
  },
  {
   "cell_type": "code",
   "execution_count": 311,
   "metadata": {},
   "outputs": [],
   "source": [
    "import pandas as pd\n",
    "x_y = pd.read_csv(\"x_y_added_player_stat.csv\")"
   ]
  },
  {
   "cell_type": "code",
   "execution_count": 312,
   "metadata": {},
   "outputs": [],
   "source": [
    "x_y.drop(columns=[\"home_team_api_id\", \"away_team_api_id\"], inplace=True)"
   ]
  },
  {
   "cell_type": "code",
   "execution_count": 314,
   "metadata": {},
   "outputs": [],
   "source": [
    "df = x_y.iloc[:, 2:]"
   ]
  },
  {
   "cell_type": "code",
   "execution_count": 315,
   "metadata": {},
   "outputs": [],
   "source": [
    "import numpy as np\n",
    "home_team_formation = np.concatenate((np.array(df.columns[1:12]), np.array(df.columns[23:34])), axis=0)\n",
    "home_team_stats = np.array(df.columns[67:76])"
   ]
  },
  {
   "cell_type": "code",
   "execution_count": 316,
   "metadata": {},
   "outputs": [],
   "source": [
    "away_team_formation = np.concatenate((np.array(df.columns[12:23]), np.array(df.columns[34:45])), axis=0)\n",
    "away_team_stats = np.array(df.columns[76:85])"
   ]
  },
  {
   "cell_type": "code",
   "execution_count": 317,
   "metadata": {},
   "outputs": [],
   "source": [
    "home_player_stats = np.array(df.columns[87:505])"
   ]
  },
  {
   "cell_type": "code",
   "execution_count": 318,
   "metadata": {},
   "outputs": [],
   "source": [
    "away_player_stats = np.array(df.columns[505:])"
   ]
  },
  {
   "cell_type": "code",
   "execution_count": 319,
   "metadata": {},
   "outputs": [],
   "source": [
    "rearranged_feature_cols = np.concatenate((home_team_stats, home_player_stats, away_team_stats, away_player_stats), axis=0)"
   ]
  },
  {
   "cell_type": "code",
   "execution_count": 320,
   "metadata": {},
   "outputs": [],
   "source": [
    "df = df[np.concatenate((rearranged_feature_cols, ['label_home']), axis=0)]"
   ]
  },
  {
   "cell_type": "code",
   "execution_count": 321,
   "metadata": {},
   "outputs": [],
   "source": [
    "work_rate_unique = set()\n",
    "work_rate_cols = []\n",
    "for i in range(1, 12):\n",
    "    work_rate_cols.append('home_player_'+str(i)+'_attacking_work_rate')\n",
    "    work_rate_cols.append('away_player_'+str(i)+'_attacking_work_rate')\n",
    "    work_rate_cols.append('home_player_'+str(i)+'_defensive_work_rate')    \n",
    "    work_rate_cols.append('away_player_'+str(i)+'_defensive_work_rate')\n",
    "for col in work_rate_cols:\n",
    "    for index in df[col].value_counts().index:\n",
    "        work_rate_unique.add(index)"
   ]
  },
  {
   "cell_type": "code",
   "execution_count": 322,
   "metadata": {},
   "outputs": [],
   "source": [
    "for i in [\"high\", \"low\", \"medium\"]:\n",
    "    work_rate_unique.remove(i)"
   ]
  },
  {
   "cell_type": "code",
   "execution_count": 323,
   "metadata": {},
   "outputs": [],
   "source": [
    "replace_map = dict(zip(work_rate_unique, [\"medium\"]*len(work_rate_unique)))\n",
    "for col in work_rate_cols:\n",
    "    df[col].replace(replace_map, inplace=True)\n",
    "    df[col].fillna(\"medium\", inplace=True)"
   ]
  },
  {
   "cell_type": "code",
   "execution_count": 324,
   "metadata": {},
   "outputs": [],
   "source": [
    "df_cleaned = df.fillna(df.mean())"
   ]
  },
  {
   "cell_type": "code",
   "execution_count": 325,
   "metadata": {},
   "outputs": [],
   "source": [
    "#i used average throughout players in same position, but better would be average within the team. best is average within the same position in the team would be the best but we do not have info on that. "
   ]
  },
  {
   "cell_type": "code",
   "execution_count": 326,
   "metadata": {},
   "outputs": [],
   "source": [
    "categorical_variables = ['_preferred_foot', '_attacking_work_rate', '_defensive_work_rate']\n",
    "categorical_cols = []\n",
    "for i in range(1, 12):\n",
    "    for cat in categorical_variables:\n",
    "        categorical_cols.append('home_player_'+str(i)+cat)\n",
    "for i in range(1, 12):\n",
    "    for cat in categorical_variables:\n",
    "        categorical_cols.append('away_player_'+str(i)+cat)"
   ]
  },
  {
   "cell_type": "code",
   "execution_count": 327,
   "metadata": {},
   "outputs": [
    {
     "data": {
      "text/plain": [
       "Index(['home_buildUpPlaySpeed', 'home_buildUpPlayDribbling',\n",
       "       'home_buildUpPlayPassing', 'home_chanceCreationPassing',\n",
       "       'home_chanceCreationCrossing', 'home_chanceCreationShooting',\n",
       "       'home_defencePressure', 'home_defenceAggression',\n",
       "       'home_defenceTeamWidth', 'home_player_1_overall_rating',\n",
       "       ...\n",
       "       'away_player_11_vision', 'away_player_11_penalties',\n",
       "       'away_player_11_marking', 'away_player_11_standing_tackle',\n",
       "       'away_player_11_sliding_tackle', 'away_player_11_gk_diving',\n",
       "       'away_player_11_gk_handling', 'away_player_11_gk_kicking',\n",
       "       'away_player_11_gk_positioning', 'away_player_11_gk_reflexes'],\n",
       "      dtype='object', length=854)"
      ]
     },
     "execution_count": 327,
     "metadata": {},
     "output_type": "execute_result"
    }
   ],
   "source": [
    "df_cleaned.columns[:-1]"
   ]
  },
  {
   "cell_type": "code",
   "execution_count": null,
   "metadata": {},
   "outputs": [],
   "source": [
    "# df_cleaned[\"match_api_id\"] = x_y[\"match_api_id\"]"
   ]
  },
  {
   "cell_type": "code",
   "execution_count": 37,
   "metadata": {},
   "outputs": [],
   "source": [
    "# df_cleaned.to_csv(\"cleaned_data_notEncoded.csv\", index=False)"
   ]
  },
  {
   "cell_type": "markdown",
   "metadata": {},
   "source": [
    "## Autoencoders"
   ]
  },
  {
   "cell_type": "code",
   "execution_count": 290,
   "metadata": {},
   "outputs": [],
   "source": [
    "df_temp = df_cleaned.copy()"
   ]
  },
  {
   "cell_type": "code",
   "execution_count": 776,
   "metadata": {},
   "outputs": [
    {
     "data": {
      "text/plain": [
       "Index(['overall_rating', 'potential', 'preferred_foot', 'attacking_work_rate',\n",
       "       'defensive_work_rate', 'crossing', 'finishing', 'heading_accuracy',\n",
       "       'short_passing', 'volleys', 'dribbling', 'curve', 'free_kick_accuracy',\n",
       "       'long_passing', 'ball_control', 'acceleration', 'sprint_speed',\n",
       "       'agility', 'reactions', 'balance', 'shot_power', 'jumping', 'stamina',\n",
       "       'strength', 'long_shots', 'aggression', 'interceptions', 'positioning',\n",
       "       'vision', 'penalties', 'marking', 'standing_tackle', 'sliding_tackle',\n",
       "       'gk_diving', 'gk_handling', 'gk_kicking', 'gk_positioning',\n",
       "       'gk_reflexes'],\n",
       "      dtype='object')"
      ]
     },
     "execution_count": 776,
     "metadata": {},
     "output_type": "execute_result"
    }
   ],
   "source": [
    "player_attributes.columns[4:]"
   ]
  },
  {
   "cell_type": "code",
   "execution_count": 123,
   "metadata": {},
   "outputs": [],
   "source": [
    "attributes_col = player_attributes.columns[4:].tolist()\n",
    "attributes_col.remove(\"preferred_foot\")\n",
    "attributes_col.remove(\"attacking_work_rate\")\n",
    "attributes_col.remove(\"defensive_work_rate\")"
   ]
  },
  {
   "cell_type": "code",
   "execution_count": 125,
   "metadata": {},
   "outputs": [],
   "source": [
    "def nameColumns(playerNum, homeOrAway):\n",
    "    cols = attributes_col\n",
    "    player_cols = []\n",
    "    for col in cols:\n",
    "        player_cols.append(homeOrAway + \"_player_\" + str(playerNum) + \"_\" + col)\n",
    "    return player_cols"
   ]
  },
  {
   "cell_type": "code",
   "execution_count": 76,
   "metadata": {},
   "outputs": [],
   "source": [
    "temp = df_temp[nameColumns(1, \"home\")].values\n",
    "for i in range(2, 12):\n",
    "    temp = np.concatenate((temp, df_temp[nameColumns(i, \"home\")].values, df_temp[nameColumns(i, \"away\")].values), axis=0)\n",
    "autoencoder_data = pd.DataFrame(temp)\n",
    "autoencoder_data.columns = attributes_col"
   ]
  },
  {
   "cell_type": "code",
   "execution_count": 80,
   "metadata": {},
   "outputs": [
    {
     "name": "stderr",
     "output_type": "stream",
     "text": [
      "/Users/seungwooson/anaconda/lib/python3.5/site-packages/sklearn/preprocessing/data.py:334: DataConversionWarning: Data with input dtype object were all converted to float64 by MinMaxScaler.\n",
      "  return self.partial_fit(X, y)\n"
     ]
    }
   ],
   "source": [
    "from sklearn.preprocessing import MinMaxScaler\n",
    "scaler = MinMaxScaler().fit(autoencoder_data)\n",
    "autoencoder_data = scaler.transform(autoencoder_data)"
   ]
  },
  {
   "cell_type": "code",
   "execution_count": 85,
   "metadata": {},
   "outputs": [],
   "source": [
    "from sklearn.model_selection import train_test_split\n",
    "X_train, X_test, y_train, y_test = train_test_split(autoencoder_data, autoencoder_data[:,-1], \n",
    "                                                    test_size=0.15, random_state=0)"
   ]
  },
  {
   "cell_type": "code",
   "execution_count": 173,
   "metadata": {
    "scrolled": true
   },
   "outputs": [
    {
     "name": "stderr",
     "output_type": "stream",
     "text": [
      "/Users/seungwooson/anaconda/lib/python3.5/site-packages/keras/activations.py:115: UserWarning: Do not pass a layer instance (such as PReLU) as the activation argument of another layer. Instead, advanced activation layers should be used just like any other layer in a model.\n",
      "  identifier=identifier.__class__.__name__))\n"
     ]
    },
    {
     "name": "stdout",
     "output_type": "stream",
     "text": [
      "Train on 358071 samples, validate on 63189 samples\n",
      "Epoch 1/10\n",
      "358071/358071 [==============================] - 13s 36us/step - loss: 0.0284 - val_loss: 0.0153\n",
      "Epoch 2/10\n",
      "358071/358071 [==============================] - 12s 35us/step - loss: 0.0123 - val_loss: 0.0106\n",
      "Epoch 3/10\n",
      "358071/358071 [==============================] - 12s 33us/step - loss: 0.0097 - val_loss: 0.0088\n",
      "Epoch 4/10\n",
      "358071/358071 [==============================] - 12s 34us/step - loss: 0.0082 - val_loss: 0.0078\n",
      "Epoch 5/10\n",
      "358071/358071 [==============================] - 12s 33us/step - loss: 0.0076 - val_loss: 0.0074\n",
      "Epoch 6/10\n",
      "358071/358071 [==============================] - 12s 34us/step - loss: 0.0074 - val_loss: 0.0073\n",
      "Epoch 7/10\n",
      "358071/358071 [==============================] - 12s 34us/step - loss: 0.0072 - val_loss: 0.0072\n",
      "Epoch 8/10\n",
      "358071/358071 [==============================] - 13s 37us/step - loss: 0.0071 - val_loss: 0.0071\n",
      "Epoch 9/10\n",
      "358071/358071 [==============================] - 13s 37us/step - loss: 0.0070 - val_loss: 0.0070\n",
      "Epoch 10/10\n",
      "358071/358071 [==============================] - 12s 35us/step - loss: 0.0070 - val_loss: 0.0069\n"
     ]
    },
    {
     "data": {
      "text/plain": [
       "<keras.callbacks.History at 0x17f59e208>"
      ]
     },
     "execution_count": 173,
     "metadata": {},
     "output_type": "execute_result"
    }
   ],
   "source": [
    "from keras.layers import Input, Dense, PReLU\n",
    "from keras.models import Model\n",
    "from keras import optimizers\n",
    "\n",
    "encoding_dim = 3\n",
    "\n",
    "input_img = Input(shape=(autoencoder_data.shape[1],))\n",
    "encoded = Dense(15, activation=PReLU())(input_img)\n",
    "# encoded = Dense(16, activation='relu')(encoded)\n",
    "encoded = Dense(encoding_dim, activation=PReLU())(encoded)\n",
    "\n",
    "decoded = Dense(15, activation=PReLU())(encoded)\n",
    "# decoded = Dense(32, activation='relu')(decoded)\n",
    "decoded = Dense(autoencoder_data.shape[1], activation='sigmoid')(decoded)\n",
    "\n",
    "autoencoder = Model(input_img, decoded)\n",
    "\n",
    "encoder = Model(input_img, encoded)\n",
    "encoded_input = Input(shape=(encoding_dim,))\n",
    "decoder_layer = autoencoder.layers[-2](encoded_input)\n",
    "# decoder_layer = autoencoder.layers[-2](decoder_layer)\n",
    "decoder_layer = autoencoder.layers[-1](decoder_layer)\n",
    "decoder = Model(encoded_input, decoder_layer)\n",
    "\n",
    "adam = optimizers.Adam(lr=5e-5, beta_1=0.9, beta_2=0.999, epsilon=None, decay=0.0, amsgrad=False)\n",
    "autoencoder.compile(optimizer=adam, loss='mse')\n",
    "\n",
    "autoencoder.fit(X_train, X_train,\n",
    "                epochs=10,\n",
    "                batch_size=64,\n",
    "                shuffle=True,\n",
    "                validation_data=(X_test, X_test))"
   ]
  },
  {
   "cell_type": "code",
   "execution_count": 186,
   "metadata": {},
   "outputs": [
    {
     "name": "stdout",
     "output_type": "stream",
     "text": [
      "Reduced player stat dimensions from 770 dimensions -> 66 dimensions\n"
     ]
    }
   ],
   "source": [
    "print(\"Reduced player stat dimensions from %d dimensions -> %d dimensions\" % (autoencoder_data.shape[1]*11*2, encoding_dim*11*2))"
   ]
  },
  {
   "cell_type": "code",
   "execution_count": null,
   "metadata": {},
   "outputs": [],
   "source": [
    "maybe take out overall stat, take out gk?"
   ]
  },
  {
   "cell_type": "code",
   "execution_count": 185,
   "metadata": {},
   "outputs": [
    {
     "data": {
      "text/plain": [
       "array([[778.6596 , 430.97665, 422.58862],\n",
       "       [850.8912 , 484.18942, 438.37717],\n",
       "       [920.72797, 465.07742, 498.03577],\n",
       "       ...,\n",
       "       [791.35583, 476.00183, 260.3753 ],\n",
       "       [936.47595, 306.2982 , 310.84268],\n",
       "       [971.364  , 346.57587, 304.6196 ]], dtype=float32)"
      ]
     },
     "execution_count": 185,
     "metadata": {},
     "output_type": "execute_result"
    }
   ],
   "source": [
    "encoder.predict(df_temp[nameColumns(11, \"home\")].values)"
   ]
  },
  {
   "cell_type": "markdown",
   "metadata": {},
   "source": [
    "## Baseline without Categories"
   ]
  },
  {
   "cell_type": "code",
   "execution_count": 471,
   "metadata": {},
   "outputs": [],
   "source": [
    "df_temp = df_cleaned.copy()"
   ]
  },
  {
   "cell_type": "code",
   "execution_count": 472,
   "metadata": {},
   "outputs": [],
   "source": [
    "non_numeric_cols = np.concatenate((categorical_cols, home_team_formation, away_team_formation), axis=0)\n",
    "numeric_cols = [col for col in df_temp.columns[:-1] if col not in non_numeric_cols]"
   ]
  },
  {
   "cell_type": "code",
   "execution_count": 473,
   "metadata": {
    "scrolled": true
   },
   "outputs": [],
   "source": [
    "from sklearn.preprocessing import MinMaxScaler\n",
    "scaler = MinMaxScaler().fit(df_temp[numeric_cols])\n",
    "df_temp[numeric_cols] = scaler.transform(df_temp[numeric_cols])\n",
    "from sklearn.model_selection import train_test_split\n",
    "X_train, X_test, y_train, y_test = train_test_split(df_temp[numeric_cols], df_temp.iloc[:,-1], \n",
    "                                                    test_size=0.15, random_state=0)\n",
    "from keras.utils import np_utils\n",
    "y_train, y_test = [i+1 for i in y_train], [i+1 for i in y_test]\n",
    "y_train_enc, y_test_enc = np_utils.to_categorical(y_train), np_utils.to_categorical(y_test)"
   ]
  },
  {
   "cell_type": "code",
   "execution_count": 428,
   "metadata": {
    "scrolled": true
   },
   "outputs": [
    {
     "name": "stdout",
     "output_type": "stream",
     "text": [
      "Train on 17051 samples, validate on 3009 samples\n",
      "Epoch 1/50\n",
      "17051/17051 [==============================] - 4s 234us/step - loss: 1.1936 - acc: 0.2582 - val_loss: 1.1675 - val_acc: 0.2629\n",
      "Epoch 2/50\n",
      "17051/17051 [==============================] - 2s 112us/step - loss: 1.1685 - acc: 0.2583 - val_loss: 1.1465 - val_acc: 0.2659\n",
      "Epoch 3/50\n",
      "17051/17051 [==============================] - 2s 112us/step - loss: 1.1510 - acc: 0.2595 - val_loss: 1.1312 - val_acc: 0.2702\n",
      "Epoch 4/50\n",
      "17051/17051 [==============================] - 2s 112us/step - loss: 1.1379 - acc: 0.2671 - val_loss: 1.1198 - val_acc: 0.2815\n",
      "Epoch 5/50\n",
      "17051/17051 [==============================] - 2s 112us/step - loss: 1.1278 - acc: 0.2823 - val_loss: 1.1109 - val_acc: 0.2981\n",
      "Epoch 6/50\n",
      "17051/17051 [==============================] - 2s 110us/step - loss: 1.1197 - acc: 0.3054 - val_loss: 1.1038 - val_acc: 0.3177\n",
      "Epoch 7/50\n",
      "17051/17051 [==============================] - 2s 110us/step - loss: 1.1133 - acc: 0.3307 - val_loss: 1.0981 - val_acc: 0.3503\n",
      "Epoch 8/50\n",
      "17051/17051 [==============================] - 2s 110us/step - loss: 1.1081 - acc: 0.3626 - val_loss: 1.0934 - val_acc: 0.3845\n",
      "Epoch 9/50\n",
      "17051/17051 [==============================] - 2s 111us/step - loss: 1.1037 - acc: 0.3899 - val_loss: 1.0896 - val_acc: 0.4138\n",
      "Epoch 10/50\n",
      "17051/17051 [==============================] - 2s 112us/step - loss: 1.1000 - acc: 0.4101 - val_loss: 1.0864 - val_acc: 0.4310\n",
      "Epoch 11/50\n",
      "17051/17051 [==============================] - 2s 109us/step - loss: 1.0969 - acc: 0.4265 - val_loss: 1.0837 - val_acc: 0.4510\n",
      "Epoch 12/50\n",
      "17051/17051 [==============================] - 2s 112us/step - loss: 1.0943 - acc: 0.4382 - val_loss: 1.0814 - val_acc: 0.4573\n",
      "Epoch 13/50\n",
      "17051/17051 [==============================] - 2s 111us/step - loss: 1.0920 - acc: 0.4441 - val_loss: 1.0795 - val_acc: 0.4646\n",
      "Epoch 14/50\n",
      "17051/17051 [==============================] - 2s 115us/step - loss: 1.0900 - acc: 0.4489 - val_loss: 1.0777 - val_acc: 0.4683\n",
      "Epoch 15/50\n",
      "17051/17051 [==============================] - 2s 118us/step - loss: 1.0882 - acc: 0.4523 - val_loss: 1.0762 - val_acc: 0.4689\n",
      "Epoch 16/50\n",
      "17051/17051 [==============================] - 2s 118us/step - loss: 1.0866 - acc: 0.4530 - val_loss: 1.0749 - val_acc: 0.4713\n",
      "Epoch 17/50\n",
      "17051/17051 [==============================] - 2s 117us/step - loss: 1.0851 - acc: 0.4539 - val_loss: 1.0738 - val_acc: 0.4713\n",
      "Epoch 18/50\n",
      "17051/17051 [==============================] - 2s 123us/step - loss: 1.0837 - acc: 0.4549 - val_loss: 1.0727 - val_acc: 0.4709\n",
      "Epoch 19/50\n",
      "17051/17051 [==============================] - 2s 114us/step - loss: 1.0825 - acc: 0.4549 - val_loss: 1.0717 - val_acc: 0.4696\n",
      "Epoch 20/50\n",
      "17051/17051 [==============================] - 2s 114us/step - loss: 1.0814 - acc: 0.4550 - val_loss: 1.0708 - val_acc: 0.4706\n",
      "Epoch 21/50\n",
      "17051/17051 [==============================] - 2s 113us/step - loss: 1.0803 - acc: 0.4550 - val_loss: 1.0700 - val_acc: 0.4709\n",
      "Epoch 22/50\n",
      "17051/17051 [==============================] - 2s 108us/step - loss: 1.0793 - acc: 0.4551 - val_loss: 1.0692 - val_acc: 0.4709\n",
      "Epoch 23/50\n",
      "17051/17051 [==============================] - 2s 114us/step - loss: 1.0784 - acc: 0.4551 - val_loss: 1.0685 - val_acc: 0.4713\n",
      "Epoch 24/50\n",
      "17051/17051 [==============================] - 2s 119us/step - loss: 1.0776 - acc: 0.4553 - val_loss: 1.0679 - val_acc: 0.4713\n",
      "Epoch 25/50\n",
      "17051/17051 [==============================] - 2s 119us/step - loss: 1.0768 - acc: 0.4553 - val_loss: 1.0673 - val_acc: 0.4713\n",
      "Epoch 26/50\n",
      "17051/17051 [==============================] - 2s 115us/step - loss: 1.0761 - acc: 0.4553 - val_loss: 1.0668 - val_acc: 0.4713\n",
      "Epoch 27/50\n",
      "17051/17051 [==============================] - 2s 115us/step - loss: 1.0754 - acc: 0.4553 - val_loss: 1.0663 - val_acc: 0.4709\n",
      "Epoch 28/50\n",
      "17051/17051 [==============================] - 2s 114us/step - loss: 1.0748 - acc: 0.4553 - val_loss: 1.0658 - val_acc: 0.4709\n",
      "Epoch 29/50\n",
      "17051/17051 [==============================] - 2s 112us/step - loss: 1.0743 - acc: 0.4553 - val_loss: 1.0655 - val_acc: 0.4709\n",
      "Epoch 30/50\n",
      "17051/17051 [==============================] - 2s 113us/step - loss: 1.0738 - acc: 0.4553 - val_loss: 1.0651 - val_acc: 0.4709\n",
      "Epoch 31/50\n",
      "17051/17051 [==============================] - 2s 112us/step - loss: 1.0733 - acc: 0.4554 - val_loss: 1.0648 - val_acc: 0.4709\n",
      "Epoch 32/50\n",
      "17051/17051 [==============================] - 2s 113us/step - loss: 1.0729 - acc: 0.4553 - val_loss: 1.0645 - val_acc: 0.4709\n",
      "Epoch 33/50\n",
      "17051/17051 [==============================] - 2s 106us/step - loss: 1.0725 - acc: 0.4553 - val_loss: 1.0642 - val_acc: 0.4709\n",
      "Epoch 34/50\n",
      "17051/17051 [==============================] - 2s 109us/step - loss: 1.0722 - acc: 0.4553 - val_loss: 1.0640 - val_acc: 0.4709\n",
      "Epoch 35/50\n",
      "17051/17051 [==============================] - 2s 111us/step - loss: 1.0719 - acc: 0.4553 - val_loss: 1.0637 - val_acc: 0.4709\n",
      "Epoch 36/50\n",
      "17051/17051 [==============================] - 2s 115us/step - loss: 1.0716 - acc: 0.4553 - val_loss: 1.0635 - val_acc: 0.4709\n",
      "Epoch 37/50\n",
      "17051/17051 [==============================] - 2s 112us/step - loss: 1.0714 - acc: 0.4553 - val_loss: 1.0633 - val_acc: 0.4709\n",
      "Epoch 38/50\n",
      "17051/17051 [==============================] - 2s 115us/step - loss: 1.0711 - acc: 0.4553 - val_loss: 1.0631 - val_acc: 0.4709\n",
      "Epoch 39/50\n",
      "17051/17051 [==============================] - 2s 112us/step - loss: 1.0709 - acc: 0.4553 - val_loss: 1.0629 - val_acc: 0.4709\n",
      "Epoch 40/50\n",
      "17051/17051 [==============================] - 2s 120us/step - loss: 1.0707 - acc: 0.4553 - val_loss: 1.0628 - val_acc: 0.4709\n",
      "Epoch 41/50\n",
      "17051/17051 [==============================] - 2s 112us/step - loss: 1.0705 - acc: 0.4553 - val_loss: 1.0626 - val_acc: 0.4709\n",
      "Epoch 42/50\n",
      "17051/17051 [==============================] - 2s 110us/step - loss: 1.0703 - acc: 0.4553 - val_loss: 1.0625 - val_acc: 0.4709\n",
      "Epoch 43/50\n",
      "17051/17051 [==============================] - 2s 112us/step - loss: 1.0701 - acc: 0.4553 - val_loss: 1.0624 - val_acc: 0.4709\n",
      "Epoch 44/50\n",
      "17051/17051 [==============================] - 2s 103us/step - loss: 1.0700 - acc: 0.4553 - val_loss: 1.0623 - val_acc: 0.4709\n",
      "Epoch 45/50\n",
      "17051/17051 [==============================] - 2s 114us/step - loss: 1.0698 - acc: 0.4553 - val_loss: 1.0621 - val_acc: 0.4709\n",
      "Epoch 46/50\n",
      "17051/17051 [==============================] - 2s 123us/step - loss: 1.0697 - acc: 0.4553 - val_loss: 1.0620 - val_acc: 0.4709\n",
      "Epoch 47/50\n",
      "17051/17051 [==============================] - 2s 119us/step - loss: 1.0696 - acc: 0.4553 - val_loss: 1.0619 - val_acc: 0.4709\n",
      "Epoch 48/50\n",
      "17051/17051 [==============================] - 2s 113us/step - loss: 1.0695 - acc: 0.4553 - val_loss: 1.0618 - val_acc: 0.4709\n",
      "Epoch 49/50\n",
      "17051/17051 [==============================] - 2s 115us/step - loss: 1.0694 - acc: 0.4553 - val_loss: 1.0618 - val_acc: 0.4709\n",
      "Epoch 50/50\n",
      "17051/17051 [==============================] - 2s 111us/step - loss: 1.0693 - acc: 0.4553 - val_loss: 1.0617 - val_acc: 0.4709\n"
     ]
    },
    {
     "data": {
      "text/plain": [
       "<keras.callbacks.History at 0x1ec7f3c50>"
      ]
     },
     "execution_count": 428,
     "metadata": {},
     "output_type": "execute_result"
    }
   ],
   "source": [
    "import keras\n",
    "import tensorflow as tf\n",
    "from keras.layers import Dense, Dropout\n",
    "from keras.models import Sequential\n",
    "from keras.optimizers import SGD\n",
    "opt = SGD(lr=1e-5)\n",
    "# adam = keras.optimizers.Adam(lr=1e-4, beta_1=0.9, beta_2=0.999, epsilon=None, decay=0.0, amsgrad=False)\n",
    "from keras.initializers import glorot_normal\n",
    "\n",
    "def MLP(input_dim):\n",
    "    xavier_init = glorot_normal(seed=35)\n",
    "    model = Sequential()\n",
    "    model.add(Dense(units=32, activation='relu', kernel_initializer=xavier_init, input_dim=input_dim))\n",
    "    model.add(Dense(units=16, activation='relu', kernel_initializer=xavier_init))\n",
    "    model.add(Dense(units=3, activation='softmax', kernel_initializer=xavier_init))\n",
    "    model.compile(loss='categorical_crossentropy', optimizer=opt, metrics=['accuracy'])\n",
    "    return model\n",
    "\n",
    "model = MLP(X_train.shape[1])\n",
    "model.fit(x=X_train, y=y_train_enc, validation_data=(X_test, y_test_enc), batch_size=32, epochs=50)"
   ]
  },
  {
   "cell_type": "code",
   "execution_count": 429,
   "metadata": {},
   "outputs": [
    {
     "name": "stdout",
     "output_type": "stream",
     "text": [
      "3009/3009 [==============================] - 0s 71us/step\n"
     ]
    },
    {
     "data": {
      "text/plain": [
       "[1.0616693132816655, 0.4709205716184779]"
      ]
     },
     "execution_count": 429,
     "metadata": {},
     "output_type": "execute_result"
    }
   ],
   "source": [
    "model.evaluate(X_test, y_test_enc)"
   ]
  },
  {
   "cell_type": "markdown",
   "metadata": {},
   "source": [
    "## Baseline with Categories"
   ]
  },
  {
   "cell_type": "code",
   "execution_count": 329,
   "metadata": {},
   "outputs": [],
   "source": [
    "df_with_category = df_cleaned.copy()"
   ]
  },
  {
   "cell_type": "code",
   "execution_count": 359,
   "metadata": {},
   "outputs": [],
   "source": [
    "categorical_variables = ['_preferred_foot', '_attacking_work_rate', '_defensive_work_rate']\n",
    "categorical_cols = []\n",
    "for i in range(1, 12):\n",
    "    for cat in categorical_variables:\n",
    "        categorical_cols.append('home_player_'+str(i)+cat)\n",
    "for i in range(1, 12):\n",
    "    for cat in categorical_variables:\n",
    "        categorical_cols.append('away_player_'+str(i)+cat)"
   ]
  },
  {
   "cell_type": "code",
   "execution_count": 330,
   "metadata": {},
   "outputs": [],
   "source": [
    "non_numeric_cols = np.concatenate((categorical_cols, home_team_formation, away_team_formation), axis=0)\n",
    "numeric_cols = [col for col in df_with_category.columns[:-1] if col not in non_numeric_cols]"
   ]
  },
  {
   "cell_type": "code",
   "execution_count": 331,
   "metadata": {},
   "outputs": [],
   "source": [
    "from sklearn.preprocessing import MinMaxScaler\n",
    "scaler = MinMaxScaler().fit(df_with_category[numeric_cols])"
   ]
  },
  {
   "cell_type": "code",
   "execution_count": 332,
   "metadata": {},
   "outputs": [],
   "source": [
    "df_with_category[numeric_cols] = scaler.transform(df_with_category[numeric_cols])"
   ]
  },
  {
   "cell_type": "code",
   "execution_count": 360,
   "metadata": {},
   "outputs": [],
   "source": [
    "from sklearn.model_selection import train_test_split\n",
    "X_train, X_test, y_train, y_test = train_test_split(df_with_category.iloc[:,:-1], df_with_category.iloc[:,-1], \n",
    "                                                    test_size=0.15, random_state=0)"
   ]
  },
  {
   "cell_type": "code",
   "execution_count": 370,
   "metadata": {},
   "outputs": [],
   "source": [
    "X_train_dummy = pd.get_dummies(pd.DataFrame(X_train, columns=df_with_category.iloc[:,:-1].columns), columns=categorical_cols)\n",
    "X_test_dummy = pd.get_dummies(pd.DataFrame(X_test, columns=df_with_category.iloc[:,:-1].columns), columns=categorical_cols)"
   ]
  },
  {
   "cell_type": "code",
   "execution_count": 389,
   "metadata": {},
   "outputs": [],
   "source": [
    "home_non_dummy = np.array(X_train_dummy.columns[:394])\n",
    "away_non_dummy = np.array(X_train_dummy.columns[394:788])"
   ]
  },
  {
   "cell_type": "code",
   "execution_count": 402,
   "metadata": {},
   "outputs": [],
   "source": [
    "home_dummy_col = np.array(X_train_dummy.columns[788:873])\n",
    "away_dummy_col = np.array(X_train_dummy.columns[873:])"
   ]
  },
  {
   "cell_type": "code",
   "execution_count": 409,
   "metadata": {},
   "outputs": [],
   "source": [
    "rearranged_feature_cols = np.concatenate((home_non_dummy, home_dummy_col, away_non_dummy, away_dummy_col), axis=0)"
   ]
  },
  {
   "cell_type": "code",
   "execution_count": 410,
   "metadata": {},
   "outputs": [],
   "source": [
    "X_train_dummy = X_train_dummy[rearranged_feature_cols]\n",
    "missing_cols = set(X_train_dummy.columns)-set(X_test_dummy.columns)\n",
    "for c in missing_cols:\n",
    "    X_test_dummy[c] = 0\n",
    "X_test_dummy = X_test_dummy[X_train_dummy.columns]"
   ]
  },
  {
   "cell_type": "code",
   "execution_count": 413,
   "metadata": {},
   "outputs": [],
   "source": [
    "gk_cols = []\n",
    "for i in range(2, 12):\n",
    "    gk_cols.append(\"home_player_\"+str(i)+\"_gk_diving\")\n",
    "    gk_cols.append(\"home_player_\"+str(i)+\"_gk_handling\")\n",
    "    gk_cols.append(\"home_player_\"+str(i)+\"_gk_kicking\")\n",
    "    gk_cols.append(\"home_player_\"+str(i)+\"_gk_positioning\")\n",
    "    gk_cols.append(\"home_player_\"+str(i)+\"_gk_reflexes\")\n",
    "    gk_cols.append(\"away_player_\"+str(i)+\"_gk_diving\")\n",
    "    gk_cols.append(\"away_player_\"+str(i)+\"_gk_handling\")\n",
    "    gk_cols.append(\"away_player_\"+str(i)+\"_gk_kicking\")\n",
    "    gk_cols.append(\"away_player_\"+str(i)+\"_gk_positioning\")\n",
    "    gk_cols.append(\"away_player_\"+str(i)+\"_gk_reflexes\")\n",
    "X_train_final = X_train_dummy.drop(columns=gk_cols)\n",
    "X_test_final = X_test_dummy.drop(columns=gk_cols)"
   ]
  },
  {
   "cell_type": "code",
   "execution_count": 411,
   "metadata": {},
   "outputs": [],
   "source": [
    "from keras.utils import np_utils\n",
    "y_train, y_test = [i+1 for i in y_train], [i+1 for i in y_test]\n",
    "y_train_encoded = np_utils.to_categorical(y_train)\n",
    "y_test_encoded = np_utils.to_categorical(y_test)"
   ]
  },
  {
   "cell_type": "code",
   "execution_count": 414,
   "metadata": {
    "scrolled": true
   },
   "outputs": [
    {
     "name": "stderr",
     "output_type": "stream",
     "text": [
      "/Users/seungwooson/anaconda/lib/python3.5/site-packages/keras/activations.py:115: UserWarning: Do not pass a layer instance (such as ELU) as the activation argument of another layer. Instead, advanced activation layers should be used just like any other layer in a model.\n",
      "  identifier=identifier.__class__.__name__))\n"
     ]
    },
    {
     "name": "stdout",
     "output_type": "stream",
     "text": [
      "Train on 17051 samples, validate on 3009 samples\n",
      "Epoch 1/50\n",
      "17051/17051 [==============================] - 4s 251us/step - loss: 1.0822 - acc: 0.4423 - val_loss: 1.0657 - val_acc: 0.4716\n",
      "Epoch 2/50\n",
      "17051/17051 [==============================] - 2s 123us/step - loss: 1.0735 - acc: 0.4501 - val_loss: 1.0641 - val_acc: 0.4713\n",
      "Epoch 3/50\n",
      "17051/17051 [==============================] - 2s 124us/step - loss: 1.0712 - acc: 0.4537 - val_loss: 1.0733 - val_acc: 0.4573\n",
      "Epoch 4/50\n",
      "17051/17051 [==============================] - 2s 124us/step - loss: 1.0690 - acc: 0.4545 - val_loss: 1.0623 - val_acc: 0.4713\n",
      "Epoch 5/50\n",
      "17051/17051 [==============================] - 2s 126us/step - loss: 1.0671 - acc: 0.4546 - val_loss: 1.0669 - val_acc: 0.4703\n",
      "Epoch 6/50\n",
      "17051/17051 [==============================] - 2s 123us/step - loss: 1.0670 - acc: 0.4544 - val_loss: 1.0695 - val_acc: 0.4676\n",
      "Epoch 7/50\n",
      "17051/17051 [==============================] - 2s 128us/step - loss: 1.0654 - acc: 0.4562 - val_loss: 1.0649 - val_acc: 0.4709\n",
      "Epoch 8/50\n",
      "17051/17051 [==============================] - 2s 124us/step - loss: 1.0645 - acc: 0.4555 - val_loss: 1.0647 - val_acc: 0.4709\n",
      "Epoch 9/50\n",
      "17051/17051 [==============================] - 2s 126us/step - loss: 1.0647 - acc: 0.4549 - val_loss: 1.0630 - val_acc: 0.4709\n",
      "Epoch 10/50\n",
      "17051/17051 [==============================] - 2s 124us/step - loss: 1.0637 - acc: 0.4559 - val_loss: 1.0628 - val_acc: 0.4709\n",
      "Epoch 11/50\n",
      "17051/17051 [==============================] - 2s 127us/step - loss: 1.0633 - acc: 0.4553 - val_loss: 1.0658 - val_acc: 0.4693\n",
      "Epoch 12/50\n",
      "17051/17051 [==============================] - 2s 125us/step - loss: 1.0616 - acc: 0.4556 - val_loss: 1.0656 - val_acc: 0.4703\n",
      "Epoch 13/50\n",
      "17051/17051 [==============================] - 2s 128us/step - loss: 1.0617 - acc: 0.4560 - val_loss: 1.0654 - val_acc: 0.4703\n",
      "Epoch 14/50\n",
      "17051/17051 [==============================] - 2s 119us/step - loss: 1.0612 - acc: 0.4556 - val_loss: 1.0644 - val_acc: 0.4709\n",
      "Epoch 15/50\n",
      "17051/17051 [==============================] - 2s 128us/step - loss: 1.0602 - acc: 0.4552 - val_loss: 1.0640 - val_acc: 0.4709\n",
      "Epoch 16/50\n",
      "17051/17051 [==============================] - 2s 133us/step - loss: 1.0604 - acc: 0.4565 - val_loss: 1.0664 - val_acc: 0.4706\n",
      "Epoch 17/50\n",
      "17051/17051 [==============================] - 2s 132us/step - loss: 1.0603 - acc: 0.4548 - val_loss: 1.0644 - val_acc: 0.4703\n",
      "Epoch 18/50\n",
      "17051/17051 [==============================] - 2s 132us/step - loss: 1.0594 - acc: 0.4573 - val_loss: 1.0664 - val_acc: 0.4699\n",
      "Epoch 19/50\n",
      "17051/17051 [==============================] - 2s 138us/step - loss: 1.0591 - acc: 0.4565 - val_loss: 1.0657 - val_acc: 0.4703\n",
      "Epoch 20/50\n",
      "17051/17051 [==============================] - 2s 130us/step - loss: 1.0583 - acc: 0.4565 - val_loss: 1.0682 - val_acc: 0.4703\n",
      "Epoch 21/50\n",
      "17051/17051 [==============================] - 2s 136us/step - loss: 1.0579 - acc: 0.4559 - val_loss: 1.0694 - val_acc: 0.4666\n",
      "Epoch 22/50\n",
      "17051/17051 [==============================] - 2s 126us/step - loss: 1.0579 - acc: 0.4553 - val_loss: 1.0698 - val_acc: 0.4590\n",
      "Epoch 23/50\n",
      "17051/17051 [==============================] - 2s 124us/step - loss: 1.0570 - acc: 0.4570 - val_loss: 1.0715 - val_acc: 0.4629\n",
      "Epoch 24/50\n",
      "17051/17051 [==============================] - 2s 123us/step - loss: 1.0561 - acc: 0.4569 - val_loss: 1.0700 - val_acc: 0.4613\n",
      "Epoch 25/50\n",
      "17051/17051 [==============================] - 2s 124us/step - loss: 1.0567 - acc: 0.4560 - val_loss: 1.0689 - val_acc: 0.4663\n",
      "Epoch 26/50\n",
      "17051/17051 [==============================] - 2s 123us/step - loss: 1.0564 - acc: 0.4561 - val_loss: 1.0663 - val_acc: 0.4706\n",
      "Epoch 27/50\n",
      "17051/17051 [==============================] - 2s 127us/step - loss: 1.0545 - acc: 0.4558 - val_loss: 1.0735 - val_acc: 0.4706\n",
      "Epoch 28/50\n",
      "17051/17051 [==============================] - 2s 124us/step - loss: 1.0543 - acc: 0.4586 - val_loss: 1.0732 - val_acc: 0.4516\n",
      "Epoch 29/50\n",
      "17051/17051 [==============================] - 2s 124us/step - loss: 1.0536 - acc: 0.4599 - val_loss: 1.0687 - val_acc: 0.4706\n",
      "Epoch 30/50\n",
      "17051/17051 [==============================] - 2s 124us/step - loss: 1.0529 - acc: 0.4584 - val_loss: 1.0716 - val_acc: 0.4560\n",
      "Epoch 31/50\n",
      "17051/17051 [==============================] - 2s 126us/step - loss: 1.0527 - acc: 0.4569 - val_loss: 1.0796 - val_acc: 0.4393\n",
      "Epoch 32/50\n",
      "17051/17051 [==============================] - 2s 124us/step - loss: 1.0527 - acc: 0.4597 - val_loss: 1.0724 - val_acc: 0.4576\n",
      "Epoch 33/50\n",
      "17051/17051 [==============================] - 2s 124us/step - loss: 1.0523 - acc: 0.4592 - val_loss: 1.0722 - val_acc: 0.4613\n",
      "Epoch 34/50\n",
      "17051/17051 [==============================] - 2s 125us/step - loss: 1.0506 - acc: 0.4604 - val_loss: 1.0690 - val_acc: 0.4683\n",
      "Epoch 35/50\n",
      "17051/17051 [==============================] - 2s 126us/step - loss: 1.0499 - acc: 0.4597 - val_loss: 1.0775 - val_acc: 0.4467\n",
      "Epoch 36/50\n",
      "17051/17051 [==============================] - 2s 125us/step - loss: 1.0495 - acc: 0.4627 - val_loss: 1.0714 - val_acc: 0.4703\n",
      "Epoch 37/50\n",
      "17051/17051 [==============================] - 2s 124us/step - loss: 1.0497 - acc: 0.4635 - val_loss: 1.0820 - val_acc: 0.4207\n",
      "Epoch 38/50\n",
      "17051/17051 [==============================] - 2s 124us/step - loss: 1.0485 - acc: 0.4632 - val_loss: 1.0747 - val_acc: 0.4490\n",
      "Epoch 39/50\n",
      "17051/17051 [==============================] - 2s 124us/step - loss: 1.0463 - acc: 0.4643 - val_loss: 1.0787 - val_acc: 0.4500\n",
      "Epoch 40/50\n",
      "17051/17051 [==============================] - 2s 124us/step - loss: 1.0475 - acc: 0.4630 - val_loss: 1.0866 - val_acc: 0.4214\n",
      "Epoch 41/50\n",
      "17051/17051 [==============================] - 2s 126us/step - loss: 1.0468 - acc: 0.4611 - val_loss: 1.0744 - val_acc: 0.4543\n",
      "Epoch 42/50\n",
      "17051/17051 [==============================] - 2s 125us/step - loss: 1.0460 - acc: 0.4637 - val_loss: 1.0774 - val_acc: 0.4490\n",
      "Epoch 43/50\n",
      "17051/17051 [==============================] - 2s 120us/step - loss: 1.0453 - acc: 0.4653 - val_loss: 1.0788 - val_acc: 0.4453\n",
      "Epoch 44/50\n",
      "17051/17051 [==============================] - 2s 124us/step - loss: 1.0442 - acc: 0.4665 - val_loss: 1.0790 - val_acc: 0.4636\n",
      "Epoch 45/50\n",
      "17051/17051 [==============================] - 2s 124us/step - loss: 1.0439 - acc: 0.4668 - val_loss: 1.0812 - val_acc: 0.4294\n",
      "Epoch 46/50\n",
      "17051/17051 [==============================] - 2s 124us/step - loss: 1.0433 - acc: 0.4655 - val_loss: 1.0746 - val_acc: 0.4669\n",
      "Epoch 47/50\n",
      "17051/17051 [==============================] - 2s 124us/step - loss: 1.0424 - acc: 0.4657 - val_loss: 1.0748 - val_acc: 0.4516\n",
      "Epoch 48/50\n",
      "17051/17051 [==============================] - 2s 124us/step - loss: 1.0421 - acc: 0.4650 - val_loss: 1.0771 - val_acc: 0.4443\n",
      "Epoch 49/50\n",
      "17051/17051 [==============================] - 2s 128us/step - loss: 1.0397 - acc: 0.4690 - val_loss: 1.0812 - val_acc: 0.4643\n",
      "Epoch 50/50\n",
      "17051/17051 [==============================] - 2s 128us/step - loss: 1.0390 - acc: 0.4715 - val_loss: 1.0891 - val_acc: 0.4693\n"
     ]
    },
    {
     "data": {
      "text/plain": [
       "<keras.callbacks.History at 0x1893597f0>"
      ]
     },
     "execution_count": 414,
     "metadata": {},
     "output_type": "execute_result"
    }
   ],
   "source": [
    "import keras\n",
    "import tensorflow as tf\n",
    "from keras.layers import Dense, Dropout\n",
    "from keras.models import Sequential\n",
    "adam = keras.optimizers.Adam(lr=0.0001, beta_1=0.9, beta_2=0.999, epsilon=None, decay=0.0, amsgrad=False)\n",
    "\n",
    "def MLP(input_dim):\n",
    "    model = Sequential()\n",
    "    model.add(Dense(units=32, activation=ELU(), input_dim=input_dim))\n",
    "#     model.add(Dropout(0.8))\n",
    "    model.add(Dense(units=16, activation=ELU()))\n",
    "    model.add(Dense(units=3, activation='softmax'))\n",
    "    model.compile(loss='categorical_crossentropy', optimizer=adam, metrics=['accuracy'])\n",
    "    return model\n",
    "\n",
    "model = MLP(X_train_final.shape[1])\n",
    "model.fit(x=X_train_final, y=y_train_encoded, validation_data=(X_test_final, y_test_encoded), batch_size=32, epochs=50)"
   ]
  },
  {
   "cell_type": "code",
   "execution_count": 415,
   "metadata": {},
   "outputs": [
    {
     "name": "stdout",
     "output_type": "stream",
     "text": [
      "3009/3009 [==============================] - 0s 77us/step\n"
     ]
    },
    {
     "data": {
      "text/plain": [
       "[1.0891221275991996, 0.46925888999667664]"
      ]
     },
     "execution_count": 415,
     "metadata": {},
     "output_type": "execute_result"
    }
   ],
   "source": [
    "model.evaluate(X_test_final, y_test_encoded)"
   ]
  },
  {
   "cell_type": "markdown",
   "metadata": {},
   "source": [
    "## With Features Generated by Autoencoders, without Categories"
   ]
  },
  {
   "cell_type": "code",
   "execution_count": 430,
   "metadata": {},
   "outputs": [],
   "source": [
    "df_temp = df_cleaned.copy()"
   ]
  },
  {
   "cell_type": "code",
   "execution_count": 436,
   "metadata": {},
   "outputs": [],
   "source": [
    "non_numeric_cols = np.concatenate((categorical_cols, home_team_formation, away_team_formation), axis=0)\n",
    "numeric_cols = [col for col in df_temp.columns[:-1] if col not in non_numeric_cols]\n",
    "df_X = df_temp[numeric_cols]\n",
    "y_label = df_temp.iloc[:, -1]"
   ]
  },
  {
   "cell_type": "code",
   "execution_count": 456,
   "metadata": {},
   "outputs": [],
   "source": [
    "df_X_emb = df_X[home_team_stats]\n",
    "for i in range(1, 12):\n",
    "    df_X_emb = pd.concat([df_X_emb, pd.DataFrame(encoder.predict(df_X[nameColumns(i, \"home\")].values))], axis=1)\n",
    "df_X_emb = pd.concat([df_X_emb, df_X[away_team_stats]], axis=1)\n",
    "for i in range(1, 12):\n",
    "    df_X_emb = pd.concat([df_X_emb, pd.DataFrame(encoder.predict(df_X[nameColumns(i, \"away\")].values))], axis=1)"
   ]
  },
  {
   "cell_type": "code",
   "execution_count": 460,
   "metadata": {},
   "outputs": [
    {
     "name": "stderr",
     "output_type": "stream",
     "text": [
      "/Users/seungwooson/anaconda/lib/python3.5/site-packages/sklearn/preprocessing/data.py:334: DataConversionWarning: Data with input dtype float32, float64 were all converted to float64 by MinMaxScaler.\n",
      "  return self.partial_fit(X, y)\n"
     ]
    }
   ],
   "source": [
    "from sklearn.preprocessing import MinMaxScaler\n",
    "scaler = MinMaxScaler().fit(df_X_emb)\n",
    "df_X_emb = scaler.transform(df_X_emb)\n",
    "from sklearn.model_selection import train_test_split\n",
    "X_train, X_test, y_train, y_test = train_test_split(df_X_emb, y_label, \n",
    "                                                    test_size=0.15, random_state=0)\n",
    "from keras.utils import np_utils\n",
    "y_train, y_test = [i+1 for i in y_train], [i+1 for i in y_test]\n",
    "y_train_enc, y_test_enc = np_utils.to_categorical(y_train), np_utils.to_categorical(y_test)"
   ]
  },
  {
   "cell_type": "code",
   "execution_count": 469,
   "metadata": {
    "scrolled": true
   },
   "outputs": [
    {
     "name": "stdout",
     "output_type": "stream",
     "text": [
      "Train on 17051 samples, validate on 3009 samples\n",
      "Epoch 1/50\n",
      "17051/17051 [==============================] - 6s 329us/step - loss: 1.1376 - acc: 0.2755 - val_loss: 1.1059 - val_acc: 0.3167\n",
      "Epoch 2/50\n",
      "17051/17051 [==============================] - 3s 202us/step - loss: 1.0917 - acc: 0.3864 - val_loss: 1.0805 - val_acc: 0.4506\n",
      "Epoch 3/50\n",
      "17051/17051 [==============================] - 3s 200us/step - loss: 1.0777 - acc: 0.4461 - val_loss: 1.0716 - val_acc: 0.4686\n",
      "Epoch 4/50\n",
      "17051/17051 [==============================] - 3s 200us/step - loss: 1.0730 - acc: 0.4537 - val_loss: 1.0682 - val_acc: 0.4716\n",
      "Epoch 5/50\n",
      "17051/17051 [==============================] - 3s 197us/step - loss: 1.0712 - acc: 0.4545 - val_loss: 1.0666 - val_acc: 0.4709\n",
      "Epoch 6/50\n",
      "17051/17051 [==============================] - 3s 195us/step - loss: 1.0705 - acc: 0.4552 - val_loss: 1.0657 - val_acc: 0.4709\n",
      "Epoch 7/50\n",
      "17051/17051 [==============================] - 3s 198us/step - loss: 1.0701 - acc: 0.4550 - val_loss: 1.0651 - val_acc: 0.4709\n",
      "Epoch 8/50\n",
      "17051/17051 [==============================] - 4s 214us/step - loss: 1.0698 - acc: 0.4550 - val_loss: 1.0647 - val_acc: 0.4709\n",
      "Epoch 9/50\n",
      "17051/17051 [==============================] - 4s 212us/step - loss: 1.0696 - acc: 0.4552 - val_loss: 1.0644 - val_acc: 0.4709\n",
      "Epoch 10/50\n",
      "17051/17051 [==============================] - 3s 201us/step - loss: 1.0694 - acc: 0.4552 - val_loss: 1.0641 - val_acc: 0.4709\n",
      "Epoch 11/50\n",
      "17051/17051 [==============================] - 4s 216us/step - loss: 1.0693 - acc: 0.4553 - val_loss: 1.0638 - val_acc: 0.4706\n",
      "Epoch 12/50\n",
      "17051/17051 [==============================] - 4s 234us/step - loss: 1.0691 - acc: 0.4553 - val_loss: 1.0636 - val_acc: 0.4706\n",
      "Epoch 13/50\n",
      "17051/17051 [==============================] - 4s 215us/step - loss: 1.0690 - acc: 0.4553 - val_loss: 1.0634 - val_acc: 0.4706\n",
      "Epoch 14/50\n",
      "17051/17051 [==============================] - 4s 210us/step - loss: 1.0689 - acc: 0.4553 - val_loss: 1.0633 - val_acc: 0.4709\n",
      "Epoch 15/50\n",
      "17051/17051 [==============================] - 4s 209us/step - loss: 1.0689 - acc: 0.4553 - val_loss: 1.0632 - val_acc: 0.4709\n",
      "Epoch 16/50\n",
      "17051/17051 [==============================] - 4s 206us/step - loss: 1.0688 - acc: 0.4553 - val_loss: 1.0630 - val_acc: 0.4709\n",
      "Epoch 17/50\n",
      "17051/17051 [==============================] - 3s 200us/step - loss: 1.0687 - acc: 0.4553 - val_loss: 1.0629 - val_acc: 0.4709\n",
      "Epoch 18/50\n",
      "17051/17051 [==============================] - 4s 213us/step - loss: 1.0686 - acc: 0.4553 - val_loss: 1.0628 - val_acc: 0.4709\n",
      "Epoch 19/50\n",
      "17051/17051 [==============================] - 3s 203us/step - loss: 1.0685 - acc: 0.4553 - val_loss: 1.0627 - val_acc: 0.4709\n",
      "Epoch 20/50\n",
      "17051/17051 [==============================] - 3s 202us/step - loss: 1.0684 - acc: 0.4553 - val_loss: 1.0626 - val_acc: 0.4709\n",
      "Epoch 21/50\n",
      "17051/17051 [==============================] - 4s 209us/step - loss: 1.0683 - acc: 0.4553 - val_loss: 1.0625 - val_acc: 0.4709\n",
      "Epoch 22/50\n",
      "17051/17051 [==============================] - 3s 205us/step - loss: 1.0682 - acc: 0.4553 - val_loss: 1.0624 - val_acc: 0.4709\n",
      "Epoch 23/50\n",
      "17051/17051 [==============================] - 3s 202us/step - loss: 1.0681 - acc: 0.4553 - val_loss: 1.0624 - val_acc: 0.4709\n",
      "Epoch 24/50\n",
      "17051/17051 [==============================] - 3s 204us/step - loss: 1.0681 - acc: 0.4553 - val_loss: 1.0623 - val_acc: 0.4709\n",
      "Epoch 25/50\n",
      "17051/17051 [==============================] - 3s 203us/step - loss: 1.0680 - acc: 0.4553 - val_loss: 1.0623 - val_acc: 0.4709\n",
      "Epoch 26/50\n",
      "17051/17051 [==============================] - 4s 222us/step - loss: 1.0679 - acc: 0.4553 - val_loss: 1.0622 - val_acc: 0.4709\n",
      "Epoch 27/50\n",
      "17051/17051 [==============================] - 4s 207us/step - loss: 1.0679 - acc: 0.4553 - val_loss: 1.0622 - val_acc: 0.4709\n",
      "Epoch 28/50\n",
      "17051/17051 [==============================] - 4s 207us/step - loss: 1.0678 - acc: 0.4552 - val_loss: 1.0621 - val_acc: 0.4709\n",
      "Epoch 29/50\n",
      "17051/17051 [==============================] - 3s 199us/step - loss: 1.0677 - acc: 0.4552 - val_loss: 1.0621 - val_acc: 0.4709\n",
      "Epoch 30/50\n",
      "17051/17051 [==============================] - 4s 217us/step - loss: 1.0677 - acc: 0.4553 - val_loss: 1.0620 - val_acc: 0.4709\n",
      "Epoch 31/50\n",
      "17051/17051 [==============================] - 4s 223us/step - loss: 1.0677 - acc: 0.4553 - val_loss: 1.0620 - val_acc: 0.4709\n",
      "Epoch 32/50\n",
      "17051/17051 [==============================] - 4s 230us/step - loss: 1.0676 - acc: 0.4553 - val_loss: 1.0620 - val_acc: 0.4709\n",
      "Epoch 33/50\n",
      "17051/17051 [==============================] - 3s 197us/step - loss: 1.0676 - acc: 0.4553 - val_loss: 1.0619 - val_acc: 0.4709\n",
      "Epoch 34/50\n",
      "17051/17051 [==============================] - 4s 209us/step - loss: 1.0676 - acc: 0.4553 - val_loss: 1.0619 - val_acc: 0.4709\n",
      "Epoch 35/50\n",
      "17051/17051 [==============================] - 4s 214us/step - loss: 1.0675 - acc: 0.4553 - val_loss: 1.0619 - val_acc: 0.4709\n",
      "Epoch 36/50\n",
      "17051/17051 [==============================] - 4s 218us/step - loss: 1.0675 - acc: 0.4553 - val_loss: 1.0619 - val_acc: 0.4709\n",
      "Epoch 37/50\n",
      "17051/17051 [==============================] - 3s 205us/step - loss: 1.0675 - acc: 0.4553 - val_loss: 1.0619 - val_acc: 0.4709\n",
      "Epoch 38/50\n",
      "17051/17051 [==============================] - 4s 221us/step - loss: 1.0674 - acc: 0.4553 - val_loss: 1.0618 - val_acc: 0.4709\n",
      "Epoch 39/50\n",
      "17051/17051 [==============================] - 4s 213us/step - loss: 1.0674 - acc: 0.4553 - val_loss: 1.0618 - val_acc: 0.4709\n",
      "Epoch 40/50\n",
      "17051/17051 [==============================] - 3s 203us/step - loss: 1.0674 - acc: 0.4553 - val_loss: 1.0618 - val_acc: 0.4709\n",
      "Epoch 41/50\n",
      "17051/17051 [==============================] - 4s 209us/step - loss: 1.0674 - acc: 0.4553 - val_loss: 1.0618 - val_acc: 0.4709\n",
      "Epoch 42/50\n",
      "17051/17051 [==============================] - 3s 201us/step - loss: 1.0673 - acc: 0.4553 - val_loss: 1.0618 - val_acc: 0.4709\n",
      "Epoch 43/50\n",
      "17051/17051 [==============================] - 4s 207us/step - loss: 1.0673 - acc: 0.4553 - val_loss: 1.0618 - val_acc: 0.4709\n",
      "Epoch 44/50\n",
      "17051/17051 [==============================] - 3s 200us/step - loss: 1.0673 - acc: 0.4553 - val_loss: 1.0618 - val_acc: 0.4709\n",
      "Epoch 45/50\n",
      "17051/17051 [==============================] - 4s 206us/step - loss: 1.0673 - acc: 0.4553 - val_loss: 1.0617 - val_acc: 0.4709\n",
      "Epoch 46/50\n",
      "17051/17051 [==============================] - 4s 207us/step - loss: 1.0673 - acc: 0.4553 - val_loss: 1.0617 - val_acc: 0.4709\n",
      "Epoch 47/50\n",
      "17051/17051 [==============================] - 4s 209us/step - loss: 1.0672 - acc: 0.4553 - val_loss: 1.0617 - val_acc: 0.4709\n",
      "Epoch 48/50\n",
      "17051/17051 [==============================] - 3s 205us/step - loss: 1.0672 - acc: 0.4553 - val_loss: 1.0617 - val_acc: 0.4709\n",
      "Epoch 49/50\n",
      "17051/17051 [==============================] - 4s 221us/step - loss: 1.0672 - acc: 0.4553 - val_loss: 1.0617 - val_acc: 0.4709\n",
      "Epoch 50/50\n",
      "17051/17051 [==============================] - 4s 217us/step - loss: 1.0672 - acc: 0.4553 - val_loss: 1.0617 - val_acc: 0.4709\n"
     ]
    },
    {
     "data": {
      "text/plain": [
       "<keras.callbacks.History at 0x22b3388d0>"
      ]
     },
     "execution_count": 469,
     "metadata": {},
     "output_type": "execute_result"
    }
   ],
   "source": [
    "import keras\n",
    "import tensorflow as tf\n",
    "from keras.layers import Dense, Dropout\n",
    "from keras.models import Sequential\n",
    "from keras.optimizers import SGD\n",
    "opt = SGD(lr=1e-4)\n",
    "# opt = keras.optimizers.Adam(lr=1e-5, beta_1=0.9, beta_2=0.999, epsilon=None, decay=0.0, amsgrad=False)\n",
    "from keras.initializers import glorot_normal\n",
    "\n",
    "def MLP(input_dim):\n",
    "    model = Sequential()\n",
    "    model.add(Dense(units=32, activation='relu', input_dim=input_dim))\n",
    "    model.add(Dense(units=16, activation='relu'))\n",
    "    model.add(Dense(units=3, activation='softmax'))\n",
    "    model.compile(loss='categorical_crossentropy', optimizer=opt, metrics=['accuracy'])\n",
    "    return model\n",
    "\n",
    "model = MLP(X_train.shape[1])\n",
    "model.fit(x=X_train, y=y_train_enc, validation_data=(X_test, y_test_enc), batch_size=12, epochs=50)"
   ]
  },
  {
   "cell_type": "code",
   "execution_count": 470,
   "metadata": {
    "scrolled": true
   },
   "outputs": [
    {
     "name": "stdout",
     "output_type": "stream",
     "text": [
      "3009/3009 [==============================] - 0s 76us/step\n"
     ]
    },
    {
     "data": {
      "text/plain": [
       "[1.0616863330918398, 0.4709205716184779]"
      ]
     },
     "execution_count": 470,
     "metadata": {},
     "output_type": "execute_result"
    }
   ],
   "source": [
    "model.evaluate(X_test, y_test_enc)"
   ]
  },
  {
   "cell_type": "markdown",
   "metadata": {},
   "source": [
    "## Reproduction of Maksim's Code"
   ]
  },
  {
   "cell_type": "code",
   "execution_count": 479,
   "metadata": {},
   "outputs": [],
   "source": [
    "%matplotlib inline\n",
    "import pandas as pd\n",
    "from pandas import Series\n",
    "import numpy as np\n",
    "from functools import reduce\n",
    "from sklearn.preprocessing import LabelEncoder\n",
    "from keras.layers import Dense, Lambda\n",
    "from keras.initializers import glorot_normal\n",
    "from keras.optimizers import Adam\n",
    "from keras.models import Sequential\n",
    "from sklearn.model_selection import train_test_split\n",
    "from sklearn.preprocessing import LabelEncoder\n",
    "from numpy import array\n",
    "from keras.utils import to_categorical\n",
    "import tensorflow as tf\n",
    "from sklearn.metrics import recall_score, precision_score, precision_recall_fscore_support\n",
    "import sqlite3\n",
    "import keras\n",
    "from scipy.special import softmax\n",
    "from sklearn.metrics import accuracy_score"
   ]
  },
  {
   "cell_type": "code",
   "execution_count": 509,
   "metadata": {},
   "outputs": [],
   "source": [
    "%%capture\n",
    "from tqdm import tqdm_notebook\n",
    "from tqdm import tnrange"
   ]
  },
  {
   "cell_type": "code",
   "execution_count": 481,
   "metadata": {},
   "outputs": [],
   "source": [
    "data = pd.read_csv(\"./cleaned_data_notEncoded.csv\")\n",
    "\n",
    "data['label_away'] = data['label_home'].apply(lambda x: -1 * x)\n",
    "\n",
    "data['home_won'] = data['label_home'].apply(lambda x: 1 if x == 1 else 0)\n",
    "data['home_loss'] = data['label_home'].apply(lambda x: 1 if x == -1 else 0)\n",
    "data['home_draw'] = data['label_home'].apply(lambda x: 1 if x == 0 else 0)\n",
    "\n",
    "data['away_won'] = data['label_away'].apply(lambda x: 1 if x == 1 else 0)\n",
    "data['away_loss'] = data['label_away'].apply(lambda x: 1 if x == -1 else 0)\n",
    "data['away_draw'] = data['label_away'].apply(lambda x: 1 if x == 0 else 0)"
   ]
  },
  {
   "cell_type": "code",
   "execution_count": 482,
   "metadata": {},
   "outputs": [
    {
     "data": {
      "text/html": [
       "<div>\n",
       "<style scoped>\n",
       "    .dataframe tbody tr th:only-of-type {\n",
       "        vertical-align: middle;\n",
       "    }\n",
       "\n",
       "    .dataframe tbody tr th {\n",
       "        vertical-align: top;\n",
       "    }\n",
       "\n",
       "    .dataframe thead th {\n",
       "        text-align: right;\n",
       "    }\n",
       "</style>\n",
       "<table border=\"1\" class=\"dataframe\">\n",
       "  <thead>\n",
       "    <tr style=\"text-align: right;\">\n",
       "      <th></th>\n",
       "      <th>home_player_X1</th>\n",
       "      <th>home_player_X2</th>\n",
       "      <th>home_player_X3</th>\n",
       "      <th>home_player_X4</th>\n",
       "      <th>home_player_X5</th>\n",
       "      <th>home_player_X6</th>\n",
       "      <th>home_player_X7</th>\n",
       "      <th>home_player_X8</th>\n",
       "      <th>home_player_X9</th>\n",
       "      <th>home_player_X10</th>\n",
       "      <th>...</th>\n",
       "      <th>away_player_11_gk_reflexes</th>\n",
       "      <th>label_home</th>\n",
       "      <th>match_api_id</th>\n",
       "      <th>label_away</th>\n",
       "      <th>home_won</th>\n",
       "      <th>home_loss</th>\n",
       "      <th>home_draw</th>\n",
       "      <th>away_won</th>\n",
       "      <th>away_loss</th>\n",
       "      <th>away_draw</th>\n",
       "    </tr>\n",
       "  </thead>\n",
       "  <tbody>\n",
       "    <tr>\n",
       "      <th>0</th>\n",
       "      <td>1.0</td>\n",
       "      <td>2.0</td>\n",
       "      <td>4.0</td>\n",
       "      <td>6.0</td>\n",
       "      <td>8.0</td>\n",
       "      <td>2.0</td>\n",
       "      <td>4.0</td>\n",
       "      <td>6.0</td>\n",
       "      <td>8.0</td>\n",
       "      <td>4.0</td>\n",
       "      <td>...</td>\n",
       "      <td>23.0</td>\n",
       "      <td>0.0</td>\n",
       "      <td>493017</td>\n",
       "      <td>-0.0</td>\n",
       "      <td>0</td>\n",
       "      <td>0</td>\n",
       "      <td>1</td>\n",
       "      <td>0</td>\n",
       "      <td>0</td>\n",
       "      <td>1</td>\n",
       "    </tr>\n",
       "    <tr>\n",
       "      <th>1</th>\n",
       "      <td>1.0</td>\n",
       "      <td>2.0</td>\n",
       "      <td>4.0</td>\n",
       "      <td>6.0</td>\n",
       "      <td>8.0</td>\n",
       "      <td>2.0</td>\n",
       "      <td>4.0</td>\n",
       "      <td>6.0</td>\n",
       "      <td>8.0</td>\n",
       "      <td>4.0</td>\n",
       "      <td>...</td>\n",
       "      <td>23.0</td>\n",
       "      <td>0.0</td>\n",
       "      <td>493025</td>\n",
       "      <td>-0.0</td>\n",
       "      <td>0</td>\n",
       "      <td>0</td>\n",
       "      <td>1</td>\n",
       "      <td>0</td>\n",
       "      <td>0</td>\n",
       "      <td>1</td>\n",
       "    </tr>\n",
       "    <tr>\n",
       "      <th>2</th>\n",
       "      <td>1.0</td>\n",
       "      <td>2.0</td>\n",
       "      <td>4.0</td>\n",
       "      <td>6.0</td>\n",
       "      <td>8.0</td>\n",
       "      <td>2.0</td>\n",
       "      <td>4.0</td>\n",
       "      <td>6.0</td>\n",
       "      <td>8.0</td>\n",
       "      <td>4.0</td>\n",
       "      <td>...</td>\n",
       "      <td>23.0</td>\n",
       "      <td>-1.0</td>\n",
       "      <td>493027</td>\n",
       "      <td>1.0</td>\n",
       "      <td>0</td>\n",
       "      <td>1</td>\n",
       "      <td>0</td>\n",
       "      <td>1</td>\n",
       "      <td>0</td>\n",
       "      <td>0</td>\n",
       "    </tr>\n",
       "    <tr>\n",
       "      <th>3</th>\n",
       "      <td>1.0</td>\n",
       "      <td>2.0</td>\n",
       "      <td>4.0</td>\n",
       "      <td>6.0</td>\n",
       "      <td>8.0</td>\n",
       "      <td>2.0</td>\n",
       "      <td>4.0</td>\n",
       "      <td>6.0</td>\n",
       "      <td>8.0</td>\n",
       "      <td>4.0</td>\n",
       "      <td>...</td>\n",
       "      <td>23.0</td>\n",
       "      <td>1.0</td>\n",
       "      <td>493034</td>\n",
       "      <td>-1.0</td>\n",
       "      <td>1</td>\n",
       "      <td>0</td>\n",
       "      <td>0</td>\n",
       "      <td>0</td>\n",
       "      <td>1</td>\n",
       "      <td>0</td>\n",
       "    </tr>\n",
       "    <tr>\n",
       "      <th>4</th>\n",
       "      <td>1.0</td>\n",
       "      <td>2.0</td>\n",
       "      <td>4.0</td>\n",
       "      <td>6.0</td>\n",
       "      <td>8.0</td>\n",
       "      <td>2.0</td>\n",
       "      <td>4.0</td>\n",
       "      <td>6.0</td>\n",
       "      <td>8.0</td>\n",
       "      <td>4.0</td>\n",
       "      <td>...</td>\n",
       "      <td>21.0</td>\n",
       "      <td>-1.0</td>\n",
       "      <td>493045</td>\n",
       "      <td>1.0</td>\n",
       "      <td>0</td>\n",
       "      <td>1</td>\n",
       "      <td>0</td>\n",
       "      <td>1</td>\n",
       "      <td>0</td>\n",
       "      <td>0</td>\n",
       "    </tr>\n",
       "  </tbody>\n",
       "</table>\n",
       "<p>5 rows × 907 columns</p>\n",
       "</div>"
      ],
      "text/plain": [
       "   home_player_X1  home_player_X2  home_player_X3  home_player_X4  \\\n",
       "0             1.0             2.0             4.0             6.0   \n",
       "1             1.0             2.0             4.0             6.0   \n",
       "2             1.0             2.0             4.0             6.0   \n",
       "3             1.0             2.0             4.0             6.0   \n",
       "4             1.0             2.0             4.0             6.0   \n",
       "\n",
       "   home_player_X5  home_player_X6  home_player_X7  home_player_X8  \\\n",
       "0             8.0             2.0             4.0             6.0   \n",
       "1             8.0             2.0             4.0             6.0   \n",
       "2             8.0             2.0             4.0             6.0   \n",
       "3             8.0             2.0             4.0             6.0   \n",
       "4             8.0             2.0             4.0             6.0   \n",
       "\n",
       "   home_player_X9  home_player_X10    ...      away_player_11_gk_reflexes  \\\n",
       "0             8.0              4.0    ...                            23.0   \n",
       "1             8.0              4.0    ...                            23.0   \n",
       "2             8.0              4.0    ...                            23.0   \n",
       "3             8.0              4.0    ...                            23.0   \n",
       "4             8.0              4.0    ...                            21.0   \n",
       "\n",
       "   label_home  match_api_id  label_away  home_won  home_loss  home_draw  \\\n",
       "0         0.0        493017        -0.0         0          0          1   \n",
       "1         0.0        493025        -0.0         0          0          1   \n",
       "2        -1.0        493027         1.0         0          1          0   \n",
       "3         1.0        493034        -1.0         1          0          0   \n",
       "4        -1.0        493045         1.0         0          1          0   \n",
       "\n",
       "   away_won  away_loss  away_draw  \n",
       "0         0          0          1  \n",
       "1         0          0          1  \n",
       "2         1          0          0  \n",
       "3         0          1          0  \n",
       "4         1          0          0  \n",
       "\n",
       "[5 rows x 907 columns]"
      ]
     },
     "execution_count": 482,
     "metadata": {},
     "output_type": "execute_result"
    }
   ],
   "source": [
    "data.head()"
   ]
  },
  {
   "cell_type": "code",
   "execution_count": 484,
   "metadata": {},
   "outputs": [],
   "source": [
    "conn = sqlite3.connect('soccer.sqlite')\n",
    "res = conn.execute(\"SELECT name FROM sqlite_master WHERE type='table';\")\n",
    "match_data = pd.read_sql_query(\"SELECT * FROM Match\", conn)"
   ]
  },
  {
   "cell_type": "code",
   "execution_count": 485,
   "metadata": {},
   "outputs": [],
   "source": [
    "relevant_match_data = match_data[['season', 'match_api_id', 'date', 'home_team_api_id', 'away_team_api_id']]"
   ]
  },
  {
   "cell_type": "code",
   "execution_count": 495,
   "metadata": {},
   "outputs": [],
   "source": [
    "data_with_season_date = pd.merge(data, relevant_match_data, on='match_api_id')"
   ]
  },
  {
   "cell_type": "code",
   "execution_count": 496,
   "metadata": {},
   "outputs": [],
   "source": [
    "grouped_home = data_with_season_date.groupby(['season', 'home_team_api_id'])"
   ]
  },
  {
   "cell_type": "code",
   "execution_count": 499,
   "metadata": {},
   "outputs": [],
   "source": [
    "names = []\n",
    "groups = []\n",
    "for name, group in grouped_home:\n",
    "    names += [name]\n",
    "    groups += [group]"
   ]
  },
  {
   "cell_type": "code",
   "execution_count": 503,
   "metadata": {},
   "outputs": [],
   "source": [
    "new_groups = []\n",
    "for i in range(len(groups)):\n",
    "    df = groups[i]\n",
    "    name = names[i]\n",
    "    df['home_win_record'] = df['home_won'].cumsum() - (df['home_won'].cumsum() > 0)\n",
    "    df['home_loss_record'] = df['home_loss'].cumsum() - (df['home_loss'].cumsum() > 0)\n",
    "    df['home_draw_record'] = df['home_draw'].cumsum() - (df['home_draw'].cumsum() > 0)\n",
    "    df['season'] = name[0]\n",
    "    df['home_team_api_id'] = name[1]\n",
    "    new_groups += [df]"
   ]
  },
  {
   "cell_type": "code",
   "execution_count": 504,
   "metadata": {},
   "outputs": [
    {
     "data": {
      "text/html": [
       "<div>\n",
       "<style scoped>\n",
       "    .dataframe tbody tr th:only-of-type {\n",
       "        vertical-align: middle;\n",
       "    }\n",
       "\n",
       "    .dataframe tbody tr th {\n",
       "        vertical-align: top;\n",
       "    }\n",
       "\n",
       "    .dataframe thead th {\n",
       "        text-align: right;\n",
       "    }\n",
       "</style>\n",
       "<table border=\"1\" class=\"dataframe\">\n",
       "  <thead>\n",
       "    <tr style=\"text-align: right;\">\n",
       "      <th></th>\n",
       "      <th>label_home</th>\n",
       "      <th>home_win_record</th>\n",
       "    </tr>\n",
       "  </thead>\n",
       "  <tbody>\n",
       "    <tr>\n",
       "      <th>3971</th>\n",
       "      <td>1.0</td>\n",
       "      <td>0</td>\n",
       "    </tr>\n",
       "    <tr>\n",
       "      <th>3984</th>\n",
       "      <td>1.0</td>\n",
       "      <td>1</td>\n",
       "    </tr>\n",
       "    <tr>\n",
       "      <th>3999</th>\n",
       "      <td>1.0</td>\n",
       "      <td>2</td>\n",
       "    </tr>\n",
       "    <tr>\n",
       "      <th>4013</th>\n",
       "      <td>-1.0</td>\n",
       "      <td>2</td>\n",
       "    </tr>\n",
       "    <tr>\n",
       "      <th>4027</th>\n",
       "      <td>0.0</td>\n",
       "      <td>2</td>\n",
       "    </tr>\n",
       "  </tbody>\n",
       "</table>\n",
       "</div>"
      ],
      "text/plain": [
       "      label_home  home_win_record\n",
       "3971         1.0                0\n",
       "3984         1.0                1\n",
       "3999         1.0                2\n",
       "4013        -1.0                2\n",
       "4027         0.0                2"
      ]
     },
     "execution_count": 504,
     "metadata": {},
     "output_type": "execute_result"
    }
   ],
   "source": [
    "df_home_stats = pd.concat(new_groups)\n",
    "df_home_stats[['label_home', 'home_win_record']].head()"
   ]
  },
  {
   "cell_type": "code",
   "execution_count": 505,
   "metadata": {},
   "outputs": [
    {
     "data": {
      "text/plain": [
       "array(['home_player_X1', 'home_player_X2', 'home_player_X3',\n",
       "       'home_player_X4', 'home_player_X5', 'home_player_X6',\n",
       "       'home_player_X7', 'home_player_X8', 'home_player_X9',\n",
       "       'home_player_X10', 'home_player_X11', 'home_player_Y1',\n",
       "       'home_player_Y2', 'home_player_Y3', 'home_player_Y4',\n",
       "       'home_player_Y5', 'home_player_Y6', 'home_player_Y7',\n",
       "       'home_player_Y8', 'home_player_Y9', 'home_player_Y10',\n",
       "       'home_player_Y11', 'home_buildUpPlaySpeed',\n",
       "       'home_buildUpPlayDribbling', 'home_buildUpPlayPassing',\n",
       "       'home_chanceCreationPassing', 'home_chanceCreationCrossing',\n",
       "       'home_chanceCreationShooting', 'home_defencePressure',\n",
       "       'home_defenceAggression', 'home_defenceTeamWidth',\n",
       "       'home_player_1_overall_rating', 'home_player_1_potential',\n",
       "       'home_player_1_preferred_foot',\n",
       "       'home_player_1_attacking_work_rate',\n",
       "       'home_player_1_defensive_work_rate', 'home_player_1_crossing',\n",
       "       'home_player_1_finishing', 'home_player_1_heading_accuracy',\n",
       "       'home_player_1_short_passing', 'home_player_1_volleys',\n",
       "       'home_player_1_dribbling', 'home_player_1_curve',\n",
       "       'home_player_1_free_kick_accuracy', 'home_player_1_long_passing',\n",
       "       'home_player_1_ball_control', 'home_player_1_acceleration',\n",
       "       'home_player_1_sprint_speed', 'home_player_1_agility',\n",
       "       'home_player_1_reactions', 'home_player_1_balance',\n",
       "       'home_player_1_shot_power', 'home_player_1_jumping',\n",
       "       'home_player_1_stamina', 'home_player_1_strength',\n",
       "       'home_player_1_long_shots', 'home_player_1_aggression',\n",
       "       'home_player_1_interceptions', 'home_player_1_positioning',\n",
       "       'home_player_1_vision', 'home_player_1_penalties',\n",
       "       'home_player_1_marking', 'home_player_1_standing_tackle',\n",
       "       'home_player_1_sliding_tackle', 'home_player_1_gk_diving',\n",
       "       'home_player_1_gk_handling', 'home_player_1_gk_kicking',\n",
       "       'home_player_1_gk_positioning', 'home_player_1_gk_reflexes',\n",
       "       'home_player_2_overall_rating', 'home_player_2_potential',\n",
       "       'home_player_2_preferred_foot',\n",
       "       'home_player_2_attacking_work_rate',\n",
       "       'home_player_2_defensive_work_rate', 'home_player_2_crossing',\n",
       "       'home_player_2_finishing', 'home_player_2_heading_accuracy',\n",
       "       'home_player_2_short_passing', 'home_player_2_volleys',\n",
       "       'home_player_2_dribbling', 'home_player_2_curve',\n",
       "       'home_player_2_free_kick_accuracy', 'home_player_2_long_passing',\n",
       "       'home_player_2_ball_control', 'home_player_2_acceleration',\n",
       "       'home_player_2_sprint_speed', 'home_player_2_agility',\n",
       "       'home_player_2_reactions', 'home_player_2_balance',\n",
       "       'home_player_2_shot_power', 'home_player_2_jumping',\n",
       "       'home_player_2_stamina', 'home_player_2_strength',\n",
       "       'home_player_2_long_shots', 'home_player_2_aggression',\n",
       "       'home_player_2_interceptions', 'home_player_2_positioning',\n",
       "       'home_player_2_vision', 'home_player_2_penalties',\n",
       "       'home_player_2_marking', 'home_player_2_standing_tackle',\n",
       "       'home_player_2_sliding_tackle', 'home_player_2_gk_diving',\n",
       "       'home_player_2_gk_handling', 'home_player_2_gk_kicking',\n",
       "       'home_player_2_gk_positioning', 'home_player_2_gk_reflexes',\n",
       "       'home_player_3_overall_rating', 'home_player_3_potential',\n",
       "       'home_player_3_preferred_foot',\n",
       "       'home_player_3_attacking_work_rate',\n",
       "       'home_player_3_defensive_work_rate', 'home_player_3_crossing',\n",
       "       'home_player_3_finishing', 'home_player_3_heading_accuracy',\n",
       "       'home_player_3_short_passing', 'home_player_3_volleys',\n",
       "       'home_player_3_dribbling', 'home_player_3_curve',\n",
       "       'home_player_3_free_kick_accuracy', 'home_player_3_long_passing',\n",
       "       'home_player_3_ball_control', 'home_player_3_acceleration',\n",
       "       'home_player_3_sprint_speed', 'home_player_3_agility',\n",
       "       'home_player_3_reactions', 'home_player_3_balance',\n",
       "       'home_player_3_shot_power', 'home_player_3_jumping',\n",
       "       'home_player_3_stamina', 'home_player_3_strength',\n",
       "       'home_player_3_long_shots', 'home_player_3_aggression',\n",
       "       'home_player_3_interceptions', 'home_player_3_positioning',\n",
       "       'home_player_3_vision', 'home_player_3_penalties',\n",
       "       'home_player_3_marking', 'home_player_3_standing_tackle',\n",
       "       'home_player_3_sliding_tackle', 'home_player_3_gk_diving',\n",
       "       'home_player_3_gk_handling', 'home_player_3_gk_kicking',\n",
       "       'home_player_3_gk_positioning', 'home_player_3_gk_reflexes',\n",
       "       'home_player_4_overall_rating', 'home_player_4_potential',\n",
       "       'home_player_4_preferred_foot',\n",
       "       'home_player_4_attacking_work_rate',\n",
       "       'home_player_4_defensive_work_rate', 'home_player_4_crossing',\n",
       "       'home_player_4_finishing', 'home_player_4_heading_accuracy',\n",
       "       'home_player_4_short_passing', 'home_player_4_volleys',\n",
       "       'home_player_4_dribbling', 'home_player_4_curve',\n",
       "       'home_player_4_free_kick_accuracy', 'home_player_4_long_passing',\n",
       "       'home_player_4_ball_control', 'home_player_4_acceleration',\n",
       "       'home_player_4_sprint_speed', 'home_player_4_agility',\n",
       "       'home_player_4_reactions', 'home_player_4_balance',\n",
       "       'home_player_4_shot_power', 'home_player_4_jumping',\n",
       "       'home_player_4_stamina', 'home_player_4_strength',\n",
       "       'home_player_4_long_shots', 'home_player_4_aggression',\n",
       "       'home_player_4_interceptions', 'home_player_4_positioning',\n",
       "       'home_player_4_vision', 'home_player_4_penalties',\n",
       "       'home_player_4_marking', 'home_player_4_standing_tackle',\n",
       "       'home_player_4_sliding_tackle', 'home_player_4_gk_diving',\n",
       "       'home_player_4_gk_handling', 'home_player_4_gk_kicking',\n",
       "       'home_player_4_gk_positioning', 'home_player_4_gk_reflexes',\n",
       "       'home_player_5_overall_rating', 'home_player_5_potential',\n",
       "       'home_player_5_preferred_foot',\n",
       "       'home_player_5_attacking_work_rate',\n",
       "       'home_player_5_defensive_work_rate', 'home_player_5_crossing',\n",
       "       'home_player_5_finishing', 'home_player_5_heading_accuracy',\n",
       "       'home_player_5_short_passing', 'home_player_5_volleys',\n",
       "       'home_player_5_dribbling', 'home_player_5_curve',\n",
       "       'home_player_5_free_kick_accuracy', 'home_player_5_long_passing',\n",
       "       'home_player_5_ball_control', 'home_player_5_acceleration',\n",
       "       'home_player_5_sprint_speed', 'home_player_5_agility',\n",
       "       'home_player_5_reactions', 'home_player_5_balance',\n",
       "       'home_player_5_shot_power', 'home_player_5_jumping',\n",
       "       'home_player_5_stamina', 'home_player_5_strength',\n",
       "       'home_player_5_long_shots', 'home_player_5_aggression',\n",
       "       'home_player_5_interceptions', 'home_player_5_positioning',\n",
       "       'home_player_5_vision', 'home_player_5_penalties',\n",
       "       'home_player_5_marking', 'home_player_5_standing_tackle',\n",
       "       'home_player_5_sliding_tackle', 'home_player_5_gk_diving',\n",
       "       'home_player_5_gk_handling', 'home_player_5_gk_kicking',\n",
       "       'home_player_5_gk_positioning', 'home_player_5_gk_reflexes',\n",
       "       'home_player_6_overall_rating', 'home_player_6_potential',\n",
       "       'home_player_6_preferred_foot',\n",
       "       'home_player_6_attacking_work_rate',\n",
       "       'home_player_6_defensive_work_rate', 'home_player_6_crossing',\n",
       "       'home_player_6_finishing', 'home_player_6_heading_accuracy',\n",
       "       'home_player_6_short_passing', 'home_player_6_volleys',\n",
       "       'home_player_6_dribbling', 'home_player_6_curve',\n",
       "       'home_player_6_free_kick_accuracy', 'home_player_6_long_passing',\n",
       "       'home_player_6_ball_control', 'home_player_6_acceleration',\n",
       "       'home_player_6_sprint_speed', 'home_player_6_agility',\n",
       "       'home_player_6_reactions', 'home_player_6_balance',\n",
       "       'home_player_6_shot_power', 'home_player_6_jumping',\n",
       "       'home_player_6_stamina', 'home_player_6_strength',\n",
       "       'home_player_6_long_shots', 'home_player_6_aggression',\n",
       "       'home_player_6_interceptions', 'home_player_6_positioning',\n",
       "       'home_player_6_vision', 'home_player_6_penalties',\n",
       "       'home_player_6_marking', 'home_player_6_standing_tackle',\n",
       "       'home_player_6_sliding_tackle', 'home_player_6_gk_diving',\n",
       "       'home_player_6_gk_handling', 'home_player_6_gk_kicking',\n",
       "       'home_player_6_gk_positioning', 'home_player_6_gk_reflexes',\n",
       "       'home_player_7_overall_rating', 'home_player_7_potential',\n",
       "       'home_player_7_preferred_foot',\n",
       "       'home_player_7_attacking_work_rate',\n",
       "       'home_player_7_defensive_work_rate', 'home_player_7_crossing',\n",
       "       'home_player_7_finishing', 'home_player_7_heading_accuracy',\n",
       "       'home_player_7_short_passing', 'home_player_7_volleys',\n",
       "       'home_player_7_dribbling', 'home_player_7_curve',\n",
       "       'home_player_7_free_kick_accuracy', 'home_player_7_long_passing',\n",
       "       'home_player_7_ball_control', 'home_player_7_acceleration',\n",
       "       'home_player_7_sprint_speed', 'home_player_7_agility',\n",
       "       'home_player_7_reactions', 'home_player_7_balance',\n",
       "       'home_player_7_shot_power', 'home_player_7_jumping',\n",
       "       'home_player_7_stamina', 'home_player_7_strength',\n",
       "       'home_player_7_long_shots', 'home_player_7_aggression',\n",
       "       'home_player_7_interceptions', 'home_player_7_positioning',\n",
       "       'home_player_7_vision', 'home_player_7_penalties',\n",
       "       'home_player_7_marking', 'home_player_7_standing_tackle',\n",
       "       'home_player_7_sliding_tackle', 'home_player_7_gk_diving',\n",
       "       'home_player_7_gk_handling', 'home_player_7_gk_kicking',\n",
       "       'home_player_7_gk_positioning', 'home_player_7_gk_reflexes',\n",
       "       'home_player_8_overall_rating', 'home_player_8_potential',\n",
       "       'home_player_8_preferred_foot',\n",
       "       'home_player_8_attacking_work_rate',\n",
       "       'home_player_8_defensive_work_rate', 'home_player_8_crossing',\n",
       "       'home_player_8_finishing', 'home_player_8_heading_accuracy',\n",
       "       'home_player_8_short_passing', 'home_player_8_volleys',\n",
       "       'home_player_8_dribbling', 'home_player_8_curve',\n",
       "       'home_player_8_free_kick_accuracy', 'home_player_8_long_passing',\n",
       "       'home_player_8_ball_control', 'home_player_8_acceleration',\n",
       "       'home_player_8_sprint_speed', 'home_player_8_agility',\n",
       "       'home_player_8_reactions', 'home_player_8_balance',\n",
       "       'home_player_8_shot_power', 'home_player_8_jumping',\n",
       "       'home_player_8_stamina', 'home_player_8_strength',\n",
       "       'home_player_8_long_shots', 'home_player_8_aggression',\n",
       "       'home_player_8_interceptions', 'home_player_8_positioning',\n",
       "       'home_player_8_vision', 'home_player_8_penalties',\n",
       "       'home_player_8_marking', 'home_player_8_standing_tackle',\n",
       "       'home_player_8_sliding_tackle', 'home_player_8_gk_diving',\n",
       "       'home_player_8_gk_handling', 'home_player_8_gk_kicking',\n",
       "       'home_player_8_gk_positioning', 'home_player_8_gk_reflexes',\n",
       "       'home_player_9_overall_rating', 'home_player_9_potential',\n",
       "       'home_player_9_preferred_foot',\n",
       "       'home_player_9_attacking_work_rate',\n",
       "       'home_player_9_defensive_work_rate', 'home_player_9_crossing',\n",
       "       'home_player_9_finishing', 'home_player_9_heading_accuracy',\n",
       "       'home_player_9_short_passing', 'home_player_9_volleys',\n",
       "       'home_player_9_dribbling', 'home_player_9_curve',\n",
       "       'home_player_9_free_kick_accuracy', 'home_player_9_long_passing',\n",
       "       'home_player_9_ball_control', 'home_player_9_acceleration',\n",
       "       'home_player_9_sprint_speed', 'home_player_9_agility',\n",
       "       'home_player_9_reactions', 'home_player_9_balance',\n",
       "       'home_player_9_shot_power', 'home_player_9_jumping',\n",
       "       'home_player_9_stamina', 'home_player_9_strength',\n",
       "       'home_player_9_long_shots', 'home_player_9_aggression',\n",
       "       'home_player_9_interceptions', 'home_player_9_positioning',\n",
       "       'home_player_9_vision', 'home_player_9_penalties',\n",
       "       'home_player_9_marking', 'home_player_9_standing_tackle',\n",
       "       'home_player_9_sliding_tackle', 'home_player_9_gk_diving',\n",
       "       'home_player_9_gk_handling', 'home_player_9_gk_kicking',\n",
       "       'home_player_9_gk_positioning', 'home_player_9_gk_reflexes',\n",
       "       'home_player_10_overall_rating', 'home_player_10_potential',\n",
       "       'home_player_10_preferred_foot',\n",
       "       'home_player_10_attacking_work_rate',\n",
       "       'home_player_10_defensive_work_rate', 'home_player_10_crossing',\n",
       "       'home_player_10_finishing', 'home_player_10_heading_accuracy',\n",
       "       'home_player_10_short_passing', 'home_player_10_volleys',\n",
       "       'home_player_10_dribbling', 'home_player_10_curve',\n",
       "       'home_player_10_free_kick_accuracy', 'home_player_10_long_passing',\n",
       "       'home_player_10_ball_control', 'home_player_10_acceleration',\n",
       "       'home_player_10_sprint_speed', 'home_player_10_agility',\n",
       "       'home_player_10_reactions', 'home_player_10_balance',\n",
       "       'home_player_10_shot_power', 'home_player_10_jumping',\n",
       "       'home_player_10_stamina', 'home_player_10_strength',\n",
       "       'home_player_10_long_shots', 'home_player_10_aggression',\n",
       "       'home_player_10_interceptions', 'home_player_10_positioning',\n",
       "       'home_player_10_vision', 'home_player_10_penalties',\n",
       "       'home_player_10_marking', 'home_player_10_standing_tackle',\n",
       "       'home_player_10_sliding_tackle', 'home_player_10_gk_diving',\n",
       "       'home_player_10_gk_handling', 'home_player_10_gk_kicking',\n",
       "       'home_player_10_gk_positioning', 'home_player_10_gk_reflexes',\n",
       "       'home_player_11_overall_rating', 'home_player_11_potential',\n",
       "       'home_player_11_preferred_foot',\n",
       "       'home_player_11_attacking_work_rate',\n",
       "       'home_player_11_defensive_work_rate', 'home_player_11_crossing',\n",
       "       'home_player_11_finishing', 'home_player_11_heading_accuracy',\n",
       "       'home_player_11_short_passing', 'home_player_11_volleys',\n",
       "       'home_player_11_dribbling', 'home_player_11_curve',\n",
       "       'home_player_11_free_kick_accuracy', 'home_player_11_long_passing',\n",
       "       'home_player_11_ball_control', 'home_player_11_acceleration',\n",
       "       'home_player_11_sprint_speed', 'home_player_11_agility',\n",
       "       'home_player_11_reactions', 'home_player_11_balance',\n",
       "       'home_player_11_shot_power', 'home_player_11_jumping',\n",
       "       'home_player_11_stamina', 'home_player_11_strength',\n",
       "       'home_player_11_long_shots', 'home_player_11_aggression',\n",
       "       'home_player_11_interceptions', 'home_player_11_positioning',\n",
       "       'home_player_11_vision', 'home_player_11_penalties',\n",
       "       'home_player_11_marking', 'home_player_11_standing_tackle',\n",
       "       'home_player_11_sliding_tackle', 'home_player_11_gk_diving',\n",
       "       'home_player_11_gk_handling', 'home_player_11_gk_kicking',\n",
       "       'home_player_11_gk_positioning', 'home_player_11_gk_reflexes',\n",
       "       'away_player_X1', 'away_player_X2', 'away_player_X3',\n",
       "       'away_player_X4', 'away_player_X5', 'away_player_X6',\n",
       "       'away_player_X7', 'away_player_X8', 'away_player_X9',\n",
       "       'away_player_X10', 'away_player_X11', 'away_player_Y1',\n",
       "       'away_player_Y2', 'away_player_Y3', 'away_player_Y4',\n",
       "       'away_player_Y5', 'away_player_Y6', 'away_player_Y7',\n",
       "       'away_player_Y8', 'away_player_Y9', 'away_player_Y10',\n",
       "       'away_player_Y11', 'away_buildUpPlaySpeed',\n",
       "       'away_buildUpPlayDribbling', 'away_buildUpPlayPassing',\n",
       "       'away_chanceCreationPassing', 'away_chanceCreationCrossing',\n",
       "       'away_chanceCreationShooting', 'away_defencePressure',\n",
       "       'away_defenceAggression', 'away_defenceTeamWidth',\n",
       "       'away_player_1_overall_rating', 'away_player_1_potential',\n",
       "       'away_player_1_preferred_foot',\n",
       "       'away_player_1_attacking_work_rate',\n",
       "       'away_player_1_defensive_work_rate', 'away_player_1_crossing',\n",
       "       'away_player_1_finishing', 'away_player_1_heading_accuracy',\n",
       "       'away_player_1_short_passing', 'away_player_1_volleys',\n",
       "       'away_player_1_dribbling', 'away_player_1_curve',\n",
       "       'away_player_1_free_kick_accuracy', 'away_player_1_long_passing',\n",
       "       'away_player_1_ball_control', 'away_player_1_acceleration',\n",
       "       'away_player_1_sprint_speed', 'away_player_1_agility',\n",
       "       'away_player_1_reactions', 'away_player_1_balance',\n",
       "       'away_player_1_shot_power', 'away_player_1_jumping',\n",
       "       'away_player_1_stamina', 'away_player_1_strength',\n",
       "       'away_player_1_long_shots', 'away_player_1_aggression',\n",
       "       'away_player_1_interceptions', 'away_player_1_positioning',\n",
       "       'away_player_1_vision', 'away_player_1_penalties',\n",
       "       'away_player_1_marking', 'away_player_1_standing_tackle',\n",
       "       'away_player_1_sliding_tackle', 'away_player_1_gk_diving',\n",
       "       'away_player_1_gk_handling', 'away_player_1_gk_kicking',\n",
       "       'away_player_1_gk_positioning', 'away_player_1_gk_reflexes',\n",
       "       'away_player_2_overall_rating', 'away_player_2_potential',\n",
       "       'away_player_2_preferred_foot',\n",
       "       'away_player_2_attacking_work_rate',\n",
       "       'away_player_2_defensive_work_rate', 'away_player_2_crossing',\n",
       "       'away_player_2_finishing', 'away_player_2_heading_accuracy',\n",
       "       'away_player_2_short_passing', 'away_player_2_volleys',\n",
       "       'away_player_2_dribbling', 'away_player_2_curve',\n",
       "       'away_player_2_free_kick_accuracy', 'away_player_2_long_passing',\n",
       "       'away_player_2_ball_control', 'away_player_2_acceleration',\n",
       "       'away_player_2_sprint_speed', 'away_player_2_agility',\n",
       "       'away_player_2_reactions', 'away_player_2_balance',\n",
       "       'away_player_2_shot_power', 'away_player_2_jumping',\n",
       "       'away_player_2_stamina', 'away_player_2_strength',\n",
       "       'away_player_2_long_shots', 'away_player_2_aggression',\n",
       "       'away_player_2_interceptions', 'away_player_2_positioning',\n",
       "       'away_player_2_vision', 'away_player_2_penalties',\n",
       "       'away_player_2_marking', 'away_player_2_standing_tackle',\n",
       "       'away_player_2_sliding_tackle', 'away_player_2_gk_diving',\n",
       "       'away_player_2_gk_handling', 'away_player_2_gk_kicking',\n",
       "       'away_player_2_gk_positioning', 'away_player_2_gk_reflexes',\n",
       "       'away_player_3_overall_rating', 'away_player_3_potential',\n",
       "       'away_player_3_preferred_foot',\n",
       "       'away_player_3_attacking_work_rate',\n",
       "       'away_player_3_defensive_work_rate', 'away_player_3_crossing',\n",
       "       'away_player_3_finishing', 'away_player_3_heading_accuracy',\n",
       "       'away_player_3_short_passing', 'away_player_3_volleys',\n",
       "       'away_player_3_dribbling', 'away_player_3_curve',\n",
       "       'away_player_3_free_kick_accuracy', 'away_player_3_long_passing',\n",
       "       'away_player_3_ball_control', 'away_player_3_acceleration',\n",
       "       'away_player_3_sprint_speed', 'away_player_3_agility',\n",
       "       'away_player_3_reactions', 'away_player_3_balance',\n",
       "       'away_player_3_shot_power', 'away_player_3_jumping',\n",
       "       'away_player_3_stamina', 'away_player_3_strength',\n",
       "       'away_player_3_long_shots', 'away_player_3_aggression',\n",
       "       'away_player_3_interceptions', 'away_player_3_positioning',\n",
       "       'away_player_3_vision', 'away_player_3_penalties',\n",
       "       'away_player_3_marking', 'away_player_3_standing_tackle',\n",
       "       'away_player_3_sliding_tackle', 'away_player_3_gk_diving',\n",
       "       'away_player_3_gk_handling', 'away_player_3_gk_kicking',\n",
       "       'away_player_3_gk_positioning', 'away_player_3_gk_reflexes',\n",
       "       'away_player_4_overall_rating', 'away_player_4_potential',\n",
       "       'away_player_4_preferred_foot',\n",
       "       'away_player_4_attacking_work_rate',\n",
       "       'away_player_4_defensive_work_rate', 'away_player_4_crossing',\n",
       "       'away_player_4_finishing', 'away_player_4_heading_accuracy',\n",
       "       'away_player_4_short_passing', 'away_player_4_volleys',\n",
       "       'away_player_4_dribbling', 'away_player_4_curve',\n",
       "       'away_player_4_free_kick_accuracy', 'away_player_4_long_passing',\n",
       "       'away_player_4_ball_control', 'away_player_4_acceleration',\n",
       "       'away_player_4_sprint_speed', 'away_player_4_agility',\n",
       "       'away_player_4_reactions', 'away_player_4_balance',\n",
       "       'away_player_4_shot_power', 'away_player_4_jumping',\n",
       "       'away_player_4_stamina', 'away_player_4_strength',\n",
       "       'away_player_4_long_shots', 'away_player_4_aggression',\n",
       "       'away_player_4_interceptions', 'away_player_4_positioning',\n",
       "       'away_player_4_vision', 'away_player_4_penalties',\n",
       "       'away_player_4_marking', 'away_player_4_standing_tackle',\n",
       "       'away_player_4_sliding_tackle', 'away_player_4_gk_diving',\n",
       "       'away_player_4_gk_handling', 'away_player_4_gk_kicking',\n",
       "       'away_player_4_gk_positioning', 'away_player_4_gk_reflexes',\n",
       "       'away_player_5_overall_rating', 'away_player_5_potential',\n",
       "       'away_player_5_preferred_foot',\n",
       "       'away_player_5_attacking_work_rate',\n",
       "       'away_player_5_defensive_work_rate', 'away_player_5_crossing',\n",
       "       'away_player_5_finishing', 'away_player_5_heading_accuracy',\n",
       "       'away_player_5_short_passing', 'away_player_5_volleys',\n",
       "       'away_player_5_dribbling', 'away_player_5_curve',\n",
       "       'away_player_5_free_kick_accuracy', 'away_player_5_long_passing',\n",
       "       'away_player_5_ball_control', 'away_player_5_acceleration',\n",
       "       'away_player_5_sprint_speed', 'away_player_5_agility',\n",
       "       'away_player_5_reactions', 'away_player_5_balance',\n",
       "       'away_player_5_shot_power', 'away_player_5_jumping',\n",
       "       'away_player_5_stamina', 'away_player_5_strength',\n",
       "       'away_player_5_long_shots', 'away_player_5_aggression',\n",
       "       'away_player_5_interceptions', 'away_player_5_positioning',\n",
       "       'away_player_5_vision', 'away_player_5_penalties',\n",
       "       'away_player_5_marking', 'away_player_5_standing_tackle',\n",
       "       'away_player_5_sliding_tackle', 'away_player_5_gk_diving',\n",
       "       'away_player_5_gk_handling', 'away_player_5_gk_kicking',\n",
       "       'away_player_5_gk_positioning', 'away_player_5_gk_reflexes',\n",
       "       'away_player_6_overall_rating', 'away_player_6_potential',\n",
       "       'away_player_6_preferred_foot',\n",
       "       'away_player_6_attacking_work_rate',\n",
       "       'away_player_6_defensive_work_rate', 'away_player_6_crossing',\n",
       "       'away_player_6_finishing', 'away_player_6_heading_accuracy',\n",
       "       'away_player_6_short_passing', 'away_player_6_volleys',\n",
       "       'away_player_6_dribbling', 'away_player_6_curve',\n",
       "       'away_player_6_free_kick_accuracy', 'away_player_6_long_passing',\n",
       "       'away_player_6_ball_control', 'away_player_6_acceleration',\n",
       "       'away_player_6_sprint_speed', 'away_player_6_agility',\n",
       "       'away_player_6_reactions', 'away_player_6_balance',\n",
       "       'away_player_6_shot_power', 'away_player_6_jumping',\n",
       "       'away_player_6_stamina', 'away_player_6_strength',\n",
       "       'away_player_6_long_shots', 'away_player_6_aggression',\n",
       "       'away_player_6_interceptions', 'away_player_6_positioning',\n",
       "       'away_player_6_vision', 'away_player_6_penalties',\n",
       "       'away_player_6_marking', 'away_player_6_standing_tackle',\n",
       "       'away_player_6_sliding_tackle', 'away_player_6_gk_diving',\n",
       "       'away_player_6_gk_handling', 'away_player_6_gk_kicking',\n",
       "       'away_player_6_gk_positioning', 'away_player_6_gk_reflexes',\n",
       "       'away_player_7_overall_rating', 'away_player_7_potential',\n",
       "       'away_player_7_preferred_foot',\n",
       "       'away_player_7_attacking_work_rate',\n",
       "       'away_player_7_defensive_work_rate', 'away_player_7_crossing',\n",
       "       'away_player_7_finishing', 'away_player_7_heading_accuracy',\n",
       "       'away_player_7_short_passing', 'away_player_7_volleys',\n",
       "       'away_player_7_dribbling', 'away_player_7_curve',\n",
       "       'away_player_7_free_kick_accuracy', 'away_player_7_long_passing',\n",
       "       'away_player_7_ball_control', 'away_player_7_acceleration',\n",
       "       'away_player_7_sprint_speed', 'away_player_7_agility',\n",
       "       'away_player_7_reactions', 'away_player_7_balance',\n",
       "       'away_player_7_shot_power', 'away_player_7_jumping',\n",
       "       'away_player_7_stamina', 'away_player_7_strength',\n",
       "       'away_player_7_long_shots', 'away_player_7_aggression',\n",
       "       'away_player_7_interceptions', 'away_player_7_positioning',\n",
       "       'away_player_7_vision', 'away_player_7_penalties',\n",
       "       'away_player_7_marking', 'away_player_7_standing_tackle',\n",
       "       'away_player_7_sliding_tackle', 'away_player_7_gk_diving',\n",
       "       'away_player_7_gk_handling', 'away_player_7_gk_kicking',\n",
       "       'away_player_7_gk_positioning', 'away_player_7_gk_reflexes',\n",
       "       'away_player_8_overall_rating', 'away_player_8_potential',\n",
       "       'away_player_8_preferred_foot',\n",
       "       'away_player_8_attacking_work_rate',\n",
       "       'away_player_8_defensive_work_rate', 'away_player_8_crossing',\n",
       "       'away_player_8_finishing', 'away_player_8_heading_accuracy',\n",
       "       'away_player_8_short_passing', 'away_player_8_volleys',\n",
       "       'away_player_8_dribbling', 'away_player_8_curve',\n",
       "       'away_player_8_free_kick_accuracy', 'away_player_8_long_passing',\n",
       "       'away_player_8_ball_control', 'away_player_8_acceleration',\n",
       "       'away_player_8_sprint_speed', 'away_player_8_agility',\n",
       "       'away_player_8_reactions', 'away_player_8_balance',\n",
       "       'away_player_8_shot_power', 'away_player_8_jumping',\n",
       "       'away_player_8_stamina', 'away_player_8_strength',\n",
       "       'away_player_8_long_shots', 'away_player_8_aggression',\n",
       "       'away_player_8_interceptions', 'away_player_8_positioning',\n",
       "       'away_player_8_vision', 'away_player_8_penalties',\n",
       "       'away_player_8_marking', 'away_player_8_standing_tackle',\n",
       "       'away_player_8_sliding_tackle', 'away_player_8_gk_diving',\n",
       "       'away_player_8_gk_handling', 'away_player_8_gk_kicking',\n",
       "       'away_player_8_gk_positioning', 'away_player_8_gk_reflexes',\n",
       "       'away_player_9_overall_rating', 'away_player_9_potential',\n",
       "       'away_player_9_preferred_foot',\n",
       "       'away_player_9_attacking_work_rate',\n",
       "       'away_player_9_defensive_work_rate', 'away_player_9_crossing',\n",
       "       'away_player_9_finishing', 'away_player_9_heading_accuracy',\n",
       "       'away_player_9_short_passing', 'away_player_9_volleys',\n",
       "       'away_player_9_dribbling', 'away_player_9_curve',\n",
       "       'away_player_9_free_kick_accuracy', 'away_player_9_long_passing',\n",
       "       'away_player_9_ball_control', 'away_player_9_acceleration',\n",
       "       'away_player_9_sprint_speed', 'away_player_9_agility',\n",
       "       'away_player_9_reactions', 'away_player_9_balance',\n",
       "       'away_player_9_shot_power', 'away_player_9_jumping',\n",
       "       'away_player_9_stamina', 'away_player_9_strength',\n",
       "       'away_player_9_long_shots', 'away_player_9_aggression',\n",
       "       'away_player_9_interceptions', 'away_player_9_positioning',\n",
       "       'away_player_9_vision', 'away_player_9_penalties',\n",
       "       'away_player_9_marking', 'away_player_9_standing_tackle',\n",
       "       'away_player_9_sliding_tackle', 'away_player_9_gk_diving',\n",
       "       'away_player_9_gk_handling', 'away_player_9_gk_kicking',\n",
       "       'away_player_9_gk_positioning', 'away_player_9_gk_reflexes',\n",
       "       'away_player_10_overall_rating', 'away_player_10_potential',\n",
       "       'away_player_10_preferred_foot',\n",
       "       'away_player_10_attacking_work_rate',\n",
       "       'away_player_10_defensive_work_rate', 'away_player_10_crossing',\n",
       "       'away_player_10_finishing', 'away_player_10_heading_accuracy',\n",
       "       'away_player_10_short_passing', 'away_player_10_volleys',\n",
       "       'away_player_10_dribbling', 'away_player_10_curve',\n",
       "       'away_player_10_free_kick_accuracy', 'away_player_10_long_passing',\n",
       "       'away_player_10_ball_control', 'away_player_10_acceleration',\n",
       "       'away_player_10_sprint_speed', 'away_player_10_agility',\n",
       "       'away_player_10_reactions', 'away_player_10_balance',\n",
       "       'away_player_10_shot_power', 'away_player_10_jumping',\n",
       "       'away_player_10_stamina', 'away_player_10_strength',\n",
       "       'away_player_10_long_shots', 'away_player_10_aggression',\n",
       "       'away_player_10_interceptions', 'away_player_10_positioning',\n",
       "       'away_player_10_vision', 'away_player_10_penalties',\n",
       "       'away_player_10_marking', 'away_player_10_standing_tackle',\n",
       "       'away_player_10_sliding_tackle', 'away_player_10_gk_diving',\n",
       "       'away_player_10_gk_handling', 'away_player_10_gk_kicking',\n",
       "       'away_player_10_gk_positioning', 'away_player_10_gk_reflexes',\n",
       "       'away_player_11_overall_rating', 'away_player_11_potential',\n",
       "       'away_player_11_preferred_foot',\n",
       "       'away_player_11_attacking_work_rate',\n",
       "       'away_player_11_defensive_work_rate', 'away_player_11_crossing',\n",
       "       'away_player_11_finishing', 'away_player_11_heading_accuracy',\n",
       "       'away_player_11_short_passing', 'away_player_11_volleys',\n",
       "       'away_player_11_dribbling', 'away_player_11_curve',\n",
       "       'away_player_11_free_kick_accuracy', 'away_player_11_long_passing',\n",
       "       'away_player_11_ball_control', 'away_player_11_acceleration',\n",
       "       'away_player_11_sprint_speed', 'away_player_11_agility',\n",
       "       'away_player_11_reactions', 'away_player_11_balance',\n",
       "       'away_player_11_shot_power', 'away_player_11_jumping',\n",
       "       'away_player_11_stamina', 'away_player_11_strength',\n",
       "       'away_player_11_long_shots', 'away_player_11_aggression',\n",
       "       'away_player_11_interceptions', 'away_player_11_positioning',\n",
       "       'away_player_11_vision', 'away_player_11_penalties',\n",
       "       'away_player_11_marking', 'away_player_11_standing_tackle',\n",
       "       'away_player_11_sliding_tackle', 'away_player_11_gk_diving',\n",
       "       'away_player_11_gk_handling', 'away_player_11_gk_kicking',\n",
       "       'away_player_11_gk_positioning', 'away_player_11_gk_reflexes',\n",
       "       'label_home', 'match_api_id', 'label_away', 'home_won',\n",
       "       'home_loss', 'home_draw', 'away_won', 'away_loss', 'away_draw',\n",
       "       'season', 'date', 'home_team_api_id', 'away_team_api_id',\n",
       "       'home_win_record', 'home_loss_record', 'home_draw_record'],\n",
       "      dtype=object)"
      ]
     },
     "execution_count": 505,
     "metadata": {},
     "output_type": "execute_result"
    }
   ],
   "source": [
    "df_home_stats.columns.values"
   ]
  },
  {
   "cell_type": "code",
   "execution_count": 506,
   "metadata": {},
   "outputs": [],
   "source": [
    "grouped_away = df_home_stats.groupby(['season', 'away_team_api_id'])"
   ]
  },
  {
   "cell_type": "code",
   "execution_count": 507,
   "metadata": {},
   "outputs": [],
   "source": [
    "names = []\n",
    "groups = []\n",
    "for name, group in grouped_away:\n",
    "    names += [name]\n",
    "    groups += [group]"
   ]
  },
  {
   "cell_type": "code",
   "execution_count": 511,
   "metadata": {},
   "outputs": [
    {
     "data": {
      "application/vnd.jupyter.widget-view+json": {
       "model_id": "3e6c61ecd519430dadf280a7119a90ae",
       "version_major": 2,
       "version_minor": 0
      },
      "text/plain": [
       "A Jupyter Widget"
      ]
     },
     "metadata": {},
     "output_type": "display_data"
    },
    {
     "name": "stdout",
     "output_type": "stream",
     "text": [
      "\n"
     ]
    }
   ],
   "source": [
    "new_groups = []\n",
    "for i in tqdm_notebook(range(len(groups))):\n",
    "    df = groups[i]\n",
    "    name = names[i]\n",
    "    df['away_win_record'] = df['away_won'].cumsum() - (df['away_won'].cumsum() > 0)\n",
    "    df['away_loss_record'] = df['away_loss'].cumsum() - (df['away_loss'].cumsum() > 0)\n",
    "    df['away_draw_record'] = df['away_draw'].cumsum() - (df['away_draw'].cumsum() > 0)\n",
    "    df['season'] = name[0]\n",
    "    df['away_team_api_id'] = name[1]\n",
    "    new_groups += [df]"
   ]
  },
  {
   "cell_type": "code",
   "execution_count": 512,
   "metadata": {},
   "outputs": [],
   "source": [
    "df_final = pd.concat(new_groups)"
   ]
  },
  {
   "cell_type": "code",
   "execution_count": 514,
   "metadata": {},
   "outputs": [
    {
     "data": {
      "text/plain": [
       "array(['home_player_X1', 'home_player_X2', 'home_player_X3',\n",
       "       'home_player_X4', 'home_player_X5', 'home_player_X6',\n",
       "       'home_player_X7', 'home_player_X8', 'home_player_X9',\n",
       "       'home_player_X10', 'home_player_X11', 'home_player_Y1',\n",
       "       'home_player_Y2', 'home_player_Y3', 'home_player_Y4',\n",
       "       'home_player_Y5', 'home_player_Y6', 'home_player_Y7',\n",
       "       'home_player_Y8', 'home_player_Y9', 'home_player_Y10',\n",
       "       'home_player_Y11', 'home_buildUpPlaySpeed',\n",
       "       'home_buildUpPlayDribbling', 'home_buildUpPlayPassing',\n",
       "       'home_chanceCreationPassing', 'home_chanceCreationCrossing',\n",
       "       'home_chanceCreationShooting', 'home_defencePressure',\n",
       "       'home_defenceAggression', 'home_defenceTeamWidth',\n",
       "       'home_player_1_overall_rating', 'home_player_1_potential',\n",
       "       'home_player_1_preferred_foot',\n",
       "       'home_player_1_attacking_work_rate',\n",
       "       'home_player_1_defensive_work_rate', 'home_player_1_crossing',\n",
       "       'home_player_1_finishing', 'home_player_1_heading_accuracy',\n",
       "       'home_player_1_short_passing', 'home_player_1_volleys',\n",
       "       'home_player_1_dribbling', 'home_player_1_curve',\n",
       "       'home_player_1_free_kick_accuracy', 'home_player_1_long_passing',\n",
       "       'home_player_1_ball_control', 'home_player_1_acceleration',\n",
       "       'home_player_1_sprint_speed', 'home_player_1_agility',\n",
       "       'home_player_1_reactions', 'home_player_1_balance',\n",
       "       'home_player_1_shot_power', 'home_player_1_jumping',\n",
       "       'home_player_1_stamina', 'home_player_1_strength',\n",
       "       'home_player_1_long_shots', 'home_player_1_aggression',\n",
       "       'home_player_1_interceptions', 'home_player_1_positioning',\n",
       "       'home_player_1_vision', 'home_player_1_penalties',\n",
       "       'home_player_1_marking', 'home_player_1_standing_tackle',\n",
       "       'home_player_1_sliding_tackle', 'home_player_1_gk_diving',\n",
       "       'home_player_1_gk_handling', 'home_player_1_gk_kicking',\n",
       "       'home_player_1_gk_positioning', 'home_player_1_gk_reflexes',\n",
       "       'home_player_2_overall_rating', 'home_player_2_potential',\n",
       "       'home_player_2_preferred_foot',\n",
       "       'home_player_2_attacking_work_rate',\n",
       "       'home_player_2_defensive_work_rate', 'home_player_2_crossing',\n",
       "       'home_player_2_finishing', 'home_player_2_heading_accuracy',\n",
       "       'home_player_2_short_passing', 'home_player_2_volleys',\n",
       "       'home_player_2_dribbling', 'home_player_2_curve',\n",
       "       'home_player_2_free_kick_accuracy', 'home_player_2_long_passing',\n",
       "       'home_player_2_ball_control', 'home_player_2_acceleration',\n",
       "       'home_player_2_sprint_speed', 'home_player_2_agility',\n",
       "       'home_player_2_reactions', 'home_player_2_balance',\n",
       "       'home_player_2_shot_power', 'home_player_2_jumping',\n",
       "       'home_player_2_stamina', 'home_player_2_strength',\n",
       "       'home_player_2_long_shots', 'home_player_2_aggression',\n",
       "       'home_player_2_interceptions', 'home_player_2_positioning',\n",
       "       'home_player_2_vision', 'home_player_2_penalties',\n",
       "       'home_player_2_marking', 'home_player_2_standing_tackle',\n",
       "       'home_player_2_sliding_tackle', 'home_player_2_gk_diving',\n",
       "       'home_player_2_gk_handling', 'home_player_2_gk_kicking',\n",
       "       'home_player_2_gk_positioning', 'home_player_2_gk_reflexes',\n",
       "       'home_player_3_overall_rating', 'home_player_3_potential',\n",
       "       'home_player_3_preferred_foot',\n",
       "       'home_player_3_attacking_work_rate',\n",
       "       'home_player_3_defensive_work_rate', 'home_player_3_crossing',\n",
       "       'home_player_3_finishing', 'home_player_3_heading_accuracy',\n",
       "       'home_player_3_short_passing', 'home_player_3_volleys',\n",
       "       'home_player_3_dribbling', 'home_player_3_curve',\n",
       "       'home_player_3_free_kick_accuracy', 'home_player_3_long_passing',\n",
       "       'home_player_3_ball_control', 'home_player_3_acceleration',\n",
       "       'home_player_3_sprint_speed', 'home_player_3_agility',\n",
       "       'home_player_3_reactions', 'home_player_3_balance',\n",
       "       'home_player_3_shot_power', 'home_player_3_jumping',\n",
       "       'home_player_3_stamina', 'home_player_3_strength',\n",
       "       'home_player_3_long_shots', 'home_player_3_aggression',\n",
       "       'home_player_3_interceptions', 'home_player_3_positioning',\n",
       "       'home_player_3_vision', 'home_player_3_penalties',\n",
       "       'home_player_3_marking', 'home_player_3_standing_tackle',\n",
       "       'home_player_3_sliding_tackle', 'home_player_3_gk_diving',\n",
       "       'home_player_3_gk_handling', 'home_player_3_gk_kicking',\n",
       "       'home_player_3_gk_positioning', 'home_player_3_gk_reflexes',\n",
       "       'home_player_4_overall_rating', 'home_player_4_potential',\n",
       "       'home_player_4_preferred_foot',\n",
       "       'home_player_4_attacking_work_rate',\n",
       "       'home_player_4_defensive_work_rate', 'home_player_4_crossing',\n",
       "       'home_player_4_finishing', 'home_player_4_heading_accuracy',\n",
       "       'home_player_4_short_passing', 'home_player_4_volleys',\n",
       "       'home_player_4_dribbling', 'home_player_4_curve',\n",
       "       'home_player_4_free_kick_accuracy', 'home_player_4_long_passing',\n",
       "       'home_player_4_ball_control', 'home_player_4_acceleration',\n",
       "       'home_player_4_sprint_speed', 'home_player_4_agility',\n",
       "       'home_player_4_reactions', 'home_player_4_balance',\n",
       "       'home_player_4_shot_power', 'home_player_4_jumping',\n",
       "       'home_player_4_stamina', 'home_player_4_strength',\n",
       "       'home_player_4_long_shots', 'home_player_4_aggression',\n",
       "       'home_player_4_interceptions', 'home_player_4_positioning',\n",
       "       'home_player_4_vision', 'home_player_4_penalties',\n",
       "       'home_player_4_marking', 'home_player_4_standing_tackle',\n",
       "       'home_player_4_sliding_tackle', 'home_player_4_gk_diving',\n",
       "       'home_player_4_gk_handling', 'home_player_4_gk_kicking',\n",
       "       'home_player_4_gk_positioning', 'home_player_4_gk_reflexes',\n",
       "       'home_player_5_overall_rating', 'home_player_5_potential',\n",
       "       'home_player_5_preferred_foot',\n",
       "       'home_player_5_attacking_work_rate',\n",
       "       'home_player_5_defensive_work_rate', 'home_player_5_crossing',\n",
       "       'home_player_5_finishing', 'home_player_5_heading_accuracy',\n",
       "       'home_player_5_short_passing', 'home_player_5_volleys',\n",
       "       'home_player_5_dribbling', 'home_player_5_curve',\n",
       "       'home_player_5_free_kick_accuracy', 'home_player_5_long_passing',\n",
       "       'home_player_5_ball_control', 'home_player_5_acceleration',\n",
       "       'home_player_5_sprint_speed', 'home_player_5_agility',\n",
       "       'home_player_5_reactions', 'home_player_5_balance',\n",
       "       'home_player_5_shot_power', 'home_player_5_jumping',\n",
       "       'home_player_5_stamina', 'home_player_5_strength',\n",
       "       'home_player_5_long_shots', 'home_player_5_aggression',\n",
       "       'home_player_5_interceptions', 'home_player_5_positioning',\n",
       "       'home_player_5_vision', 'home_player_5_penalties',\n",
       "       'home_player_5_marking', 'home_player_5_standing_tackle',\n",
       "       'home_player_5_sliding_tackle', 'home_player_5_gk_diving',\n",
       "       'home_player_5_gk_handling', 'home_player_5_gk_kicking',\n",
       "       'home_player_5_gk_positioning', 'home_player_5_gk_reflexes',\n",
       "       'home_player_6_overall_rating', 'home_player_6_potential',\n",
       "       'home_player_6_preferred_foot',\n",
       "       'home_player_6_attacking_work_rate',\n",
       "       'home_player_6_defensive_work_rate', 'home_player_6_crossing',\n",
       "       'home_player_6_finishing', 'home_player_6_heading_accuracy',\n",
       "       'home_player_6_short_passing', 'home_player_6_volleys',\n",
       "       'home_player_6_dribbling', 'home_player_6_curve',\n",
       "       'home_player_6_free_kick_accuracy', 'home_player_6_long_passing',\n",
       "       'home_player_6_ball_control', 'home_player_6_acceleration',\n",
       "       'home_player_6_sprint_speed', 'home_player_6_agility',\n",
       "       'home_player_6_reactions', 'home_player_6_balance',\n",
       "       'home_player_6_shot_power', 'home_player_6_jumping',\n",
       "       'home_player_6_stamina', 'home_player_6_strength',\n",
       "       'home_player_6_long_shots', 'home_player_6_aggression',\n",
       "       'home_player_6_interceptions', 'home_player_6_positioning',\n",
       "       'home_player_6_vision', 'home_player_6_penalties',\n",
       "       'home_player_6_marking', 'home_player_6_standing_tackle',\n",
       "       'home_player_6_sliding_tackle', 'home_player_6_gk_diving',\n",
       "       'home_player_6_gk_handling', 'home_player_6_gk_kicking',\n",
       "       'home_player_6_gk_positioning', 'home_player_6_gk_reflexes',\n",
       "       'home_player_7_overall_rating', 'home_player_7_potential',\n",
       "       'home_player_7_preferred_foot',\n",
       "       'home_player_7_attacking_work_rate',\n",
       "       'home_player_7_defensive_work_rate', 'home_player_7_crossing',\n",
       "       'home_player_7_finishing', 'home_player_7_heading_accuracy',\n",
       "       'home_player_7_short_passing', 'home_player_7_volleys',\n",
       "       'home_player_7_dribbling', 'home_player_7_curve',\n",
       "       'home_player_7_free_kick_accuracy', 'home_player_7_long_passing',\n",
       "       'home_player_7_ball_control', 'home_player_7_acceleration',\n",
       "       'home_player_7_sprint_speed', 'home_player_7_agility',\n",
       "       'home_player_7_reactions', 'home_player_7_balance',\n",
       "       'home_player_7_shot_power', 'home_player_7_jumping',\n",
       "       'home_player_7_stamina', 'home_player_7_strength',\n",
       "       'home_player_7_long_shots', 'home_player_7_aggression',\n",
       "       'home_player_7_interceptions', 'home_player_7_positioning',\n",
       "       'home_player_7_vision', 'home_player_7_penalties',\n",
       "       'home_player_7_marking', 'home_player_7_standing_tackle',\n",
       "       'home_player_7_sliding_tackle', 'home_player_7_gk_diving',\n",
       "       'home_player_7_gk_handling', 'home_player_7_gk_kicking',\n",
       "       'home_player_7_gk_positioning', 'home_player_7_gk_reflexes',\n",
       "       'home_player_8_overall_rating', 'home_player_8_potential',\n",
       "       'home_player_8_preferred_foot',\n",
       "       'home_player_8_attacking_work_rate',\n",
       "       'home_player_8_defensive_work_rate', 'home_player_8_crossing',\n",
       "       'home_player_8_finishing', 'home_player_8_heading_accuracy',\n",
       "       'home_player_8_short_passing', 'home_player_8_volleys',\n",
       "       'home_player_8_dribbling', 'home_player_8_curve',\n",
       "       'home_player_8_free_kick_accuracy', 'home_player_8_long_passing',\n",
       "       'home_player_8_ball_control', 'home_player_8_acceleration',\n",
       "       'home_player_8_sprint_speed', 'home_player_8_agility',\n",
       "       'home_player_8_reactions', 'home_player_8_balance',\n",
       "       'home_player_8_shot_power', 'home_player_8_jumping',\n",
       "       'home_player_8_stamina', 'home_player_8_strength',\n",
       "       'home_player_8_long_shots', 'home_player_8_aggression',\n",
       "       'home_player_8_interceptions', 'home_player_8_positioning',\n",
       "       'home_player_8_vision', 'home_player_8_penalties',\n",
       "       'home_player_8_marking', 'home_player_8_standing_tackle',\n",
       "       'home_player_8_sliding_tackle', 'home_player_8_gk_diving',\n",
       "       'home_player_8_gk_handling', 'home_player_8_gk_kicking',\n",
       "       'home_player_8_gk_positioning', 'home_player_8_gk_reflexes',\n",
       "       'home_player_9_overall_rating', 'home_player_9_potential',\n",
       "       'home_player_9_preferred_foot',\n",
       "       'home_player_9_attacking_work_rate',\n",
       "       'home_player_9_defensive_work_rate', 'home_player_9_crossing',\n",
       "       'home_player_9_finishing', 'home_player_9_heading_accuracy',\n",
       "       'home_player_9_short_passing', 'home_player_9_volleys',\n",
       "       'home_player_9_dribbling', 'home_player_9_curve',\n",
       "       'home_player_9_free_kick_accuracy', 'home_player_9_long_passing',\n",
       "       'home_player_9_ball_control', 'home_player_9_acceleration',\n",
       "       'home_player_9_sprint_speed', 'home_player_9_agility',\n",
       "       'home_player_9_reactions', 'home_player_9_balance',\n",
       "       'home_player_9_shot_power', 'home_player_9_jumping',\n",
       "       'home_player_9_stamina', 'home_player_9_strength',\n",
       "       'home_player_9_long_shots', 'home_player_9_aggression',\n",
       "       'home_player_9_interceptions', 'home_player_9_positioning',\n",
       "       'home_player_9_vision', 'home_player_9_penalties',\n",
       "       'home_player_9_marking', 'home_player_9_standing_tackle',\n",
       "       'home_player_9_sliding_tackle', 'home_player_9_gk_diving',\n",
       "       'home_player_9_gk_handling', 'home_player_9_gk_kicking',\n",
       "       'home_player_9_gk_positioning', 'home_player_9_gk_reflexes',\n",
       "       'home_player_10_overall_rating', 'home_player_10_potential',\n",
       "       'home_player_10_preferred_foot',\n",
       "       'home_player_10_attacking_work_rate',\n",
       "       'home_player_10_defensive_work_rate', 'home_player_10_crossing',\n",
       "       'home_player_10_finishing', 'home_player_10_heading_accuracy',\n",
       "       'home_player_10_short_passing', 'home_player_10_volleys',\n",
       "       'home_player_10_dribbling', 'home_player_10_curve',\n",
       "       'home_player_10_free_kick_accuracy', 'home_player_10_long_passing',\n",
       "       'home_player_10_ball_control', 'home_player_10_acceleration',\n",
       "       'home_player_10_sprint_speed', 'home_player_10_agility',\n",
       "       'home_player_10_reactions', 'home_player_10_balance',\n",
       "       'home_player_10_shot_power', 'home_player_10_jumping',\n",
       "       'home_player_10_stamina', 'home_player_10_strength',\n",
       "       'home_player_10_long_shots', 'home_player_10_aggression',\n",
       "       'home_player_10_interceptions', 'home_player_10_positioning',\n",
       "       'home_player_10_vision', 'home_player_10_penalties',\n",
       "       'home_player_10_marking', 'home_player_10_standing_tackle',\n",
       "       'home_player_10_sliding_tackle', 'home_player_10_gk_diving',\n",
       "       'home_player_10_gk_handling', 'home_player_10_gk_kicking',\n",
       "       'home_player_10_gk_positioning', 'home_player_10_gk_reflexes',\n",
       "       'home_player_11_overall_rating', 'home_player_11_potential',\n",
       "       'home_player_11_preferred_foot',\n",
       "       'home_player_11_attacking_work_rate',\n",
       "       'home_player_11_defensive_work_rate', 'home_player_11_crossing',\n",
       "       'home_player_11_finishing', 'home_player_11_heading_accuracy',\n",
       "       'home_player_11_short_passing', 'home_player_11_volleys',\n",
       "       'home_player_11_dribbling', 'home_player_11_curve',\n",
       "       'home_player_11_free_kick_accuracy', 'home_player_11_long_passing',\n",
       "       'home_player_11_ball_control', 'home_player_11_acceleration',\n",
       "       'home_player_11_sprint_speed', 'home_player_11_agility',\n",
       "       'home_player_11_reactions', 'home_player_11_balance',\n",
       "       'home_player_11_shot_power', 'home_player_11_jumping',\n",
       "       'home_player_11_stamina', 'home_player_11_strength',\n",
       "       'home_player_11_long_shots', 'home_player_11_aggression',\n",
       "       'home_player_11_interceptions', 'home_player_11_positioning',\n",
       "       'home_player_11_vision', 'home_player_11_penalties',\n",
       "       'home_player_11_marking', 'home_player_11_standing_tackle',\n",
       "       'home_player_11_sliding_tackle', 'home_player_11_gk_diving',\n",
       "       'home_player_11_gk_handling', 'home_player_11_gk_kicking',\n",
       "       'home_player_11_gk_positioning', 'home_player_11_gk_reflexes',\n",
       "       'away_player_X1', 'away_player_X2', 'away_player_X3',\n",
       "       'away_player_X4', 'away_player_X5', 'away_player_X6',\n",
       "       'away_player_X7', 'away_player_X8', 'away_player_X9',\n",
       "       'away_player_X10', 'away_player_X11', 'away_player_Y1',\n",
       "       'away_player_Y2', 'away_player_Y3', 'away_player_Y4',\n",
       "       'away_player_Y5', 'away_player_Y6', 'away_player_Y7',\n",
       "       'away_player_Y8', 'away_player_Y9', 'away_player_Y10',\n",
       "       'away_player_Y11', 'away_buildUpPlaySpeed',\n",
       "       'away_buildUpPlayDribbling', 'away_buildUpPlayPassing',\n",
       "       'away_chanceCreationPassing', 'away_chanceCreationCrossing',\n",
       "       'away_chanceCreationShooting', 'away_defencePressure',\n",
       "       'away_defenceAggression', 'away_defenceTeamWidth',\n",
       "       'away_player_1_overall_rating', 'away_player_1_potential',\n",
       "       'away_player_1_preferred_foot',\n",
       "       'away_player_1_attacking_work_rate',\n",
       "       'away_player_1_defensive_work_rate', 'away_player_1_crossing',\n",
       "       'away_player_1_finishing', 'away_player_1_heading_accuracy',\n",
       "       'away_player_1_short_passing', 'away_player_1_volleys',\n",
       "       'away_player_1_dribbling', 'away_player_1_curve',\n",
       "       'away_player_1_free_kick_accuracy', 'away_player_1_long_passing',\n",
       "       'away_player_1_ball_control', 'away_player_1_acceleration',\n",
       "       'away_player_1_sprint_speed', 'away_player_1_agility',\n",
       "       'away_player_1_reactions', 'away_player_1_balance',\n",
       "       'away_player_1_shot_power', 'away_player_1_jumping',\n",
       "       'away_player_1_stamina', 'away_player_1_strength',\n",
       "       'away_player_1_long_shots', 'away_player_1_aggression',\n",
       "       'away_player_1_interceptions', 'away_player_1_positioning',\n",
       "       'away_player_1_vision', 'away_player_1_penalties',\n",
       "       'away_player_1_marking', 'away_player_1_standing_tackle',\n",
       "       'away_player_1_sliding_tackle', 'away_player_1_gk_diving',\n",
       "       'away_player_1_gk_handling', 'away_player_1_gk_kicking',\n",
       "       'away_player_1_gk_positioning', 'away_player_1_gk_reflexes',\n",
       "       'away_player_2_overall_rating', 'away_player_2_potential',\n",
       "       'away_player_2_preferred_foot',\n",
       "       'away_player_2_attacking_work_rate',\n",
       "       'away_player_2_defensive_work_rate', 'away_player_2_crossing',\n",
       "       'away_player_2_finishing', 'away_player_2_heading_accuracy',\n",
       "       'away_player_2_short_passing', 'away_player_2_volleys',\n",
       "       'away_player_2_dribbling', 'away_player_2_curve',\n",
       "       'away_player_2_free_kick_accuracy', 'away_player_2_long_passing',\n",
       "       'away_player_2_ball_control', 'away_player_2_acceleration',\n",
       "       'away_player_2_sprint_speed', 'away_player_2_agility',\n",
       "       'away_player_2_reactions', 'away_player_2_balance',\n",
       "       'away_player_2_shot_power', 'away_player_2_jumping',\n",
       "       'away_player_2_stamina', 'away_player_2_strength',\n",
       "       'away_player_2_long_shots', 'away_player_2_aggression',\n",
       "       'away_player_2_interceptions', 'away_player_2_positioning',\n",
       "       'away_player_2_vision', 'away_player_2_penalties',\n",
       "       'away_player_2_marking', 'away_player_2_standing_tackle',\n",
       "       'away_player_2_sliding_tackle', 'away_player_2_gk_diving',\n",
       "       'away_player_2_gk_handling', 'away_player_2_gk_kicking',\n",
       "       'away_player_2_gk_positioning', 'away_player_2_gk_reflexes',\n",
       "       'away_player_3_overall_rating', 'away_player_3_potential',\n",
       "       'away_player_3_preferred_foot',\n",
       "       'away_player_3_attacking_work_rate',\n",
       "       'away_player_3_defensive_work_rate', 'away_player_3_crossing',\n",
       "       'away_player_3_finishing', 'away_player_3_heading_accuracy',\n",
       "       'away_player_3_short_passing', 'away_player_3_volleys',\n",
       "       'away_player_3_dribbling', 'away_player_3_curve',\n",
       "       'away_player_3_free_kick_accuracy', 'away_player_3_long_passing',\n",
       "       'away_player_3_ball_control', 'away_player_3_acceleration',\n",
       "       'away_player_3_sprint_speed', 'away_player_3_agility',\n",
       "       'away_player_3_reactions', 'away_player_3_balance',\n",
       "       'away_player_3_shot_power', 'away_player_3_jumping',\n",
       "       'away_player_3_stamina', 'away_player_3_strength',\n",
       "       'away_player_3_long_shots', 'away_player_3_aggression',\n",
       "       'away_player_3_interceptions', 'away_player_3_positioning',\n",
       "       'away_player_3_vision', 'away_player_3_penalties',\n",
       "       'away_player_3_marking', 'away_player_3_standing_tackle',\n",
       "       'away_player_3_sliding_tackle', 'away_player_3_gk_diving',\n",
       "       'away_player_3_gk_handling', 'away_player_3_gk_kicking',\n",
       "       'away_player_3_gk_positioning', 'away_player_3_gk_reflexes',\n",
       "       'away_player_4_overall_rating', 'away_player_4_potential',\n",
       "       'away_player_4_preferred_foot',\n",
       "       'away_player_4_attacking_work_rate',\n",
       "       'away_player_4_defensive_work_rate', 'away_player_4_crossing',\n",
       "       'away_player_4_finishing', 'away_player_4_heading_accuracy',\n",
       "       'away_player_4_short_passing', 'away_player_4_volleys',\n",
       "       'away_player_4_dribbling', 'away_player_4_curve',\n",
       "       'away_player_4_free_kick_accuracy', 'away_player_4_long_passing',\n",
       "       'away_player_4_ball_control', 'away_player_4_acceleration',\n",
       "       'away_player_4_sprint_speed', 'away_player_4_agility',\n",
       "       'away_player_4_reactions', 'away_player_4_balance',\n",
       "       'away_player_4_shot_power', 'away_player_4_jumping',\n",
       "       'away_player_4_stamina', 'away_player_4_strength',\n",
       "       'away_player_4_long_shots', 'away_player_4_aggression',\n",
       "       'away_player_4_interceptions', 'away_player_4_positioning',\n",
       "       'away_player_4_vision', 'away_player_4_penalties',\n",
       "       'away_player_4_marking', 'away_player_4_standing_tackle',\n",
       "       'away_player_4_sliding_tackle', 'away_player_4_gk_diving',\n",
       "       'away_player_4_gk_handling', 'away_player_4_gk_kicking',\n",
       "       'away_player_4_gk_positioning', 'away_player_4_gk_reflexes',\n",
       "       'away_player_5_overall_rating', 'away_player_5_potential',\n",
       "       'away_player_5_preferred_foot',\n",
       "       'away_player_5_attacking_work_rate',\n",
       "       'away_player_5_defensive_work_rate', 'away_player_5_crossing',\n",
       "       'away_player_5_finishing', 'away_player_5_heading_accuracy',\n",
       "       'away_player_5_short_passing', 'away_player_5_volleys',\n",
       "       'away_player_5_dribbling', 'away_player_5_curve',\n",
       "       'away_player_5_free_kick_accuracy', 'away_player_5_long_passing',\n",
       "       'away_player_5_ball_control', 'away_player_5_acceleration',\n",
       "       'away_player_5_sprint_speed', 'away_player_5_agility',\n",
       "       'away_player_5_reactions', 'away_player_5_balance',\n",
       "       'away_player_5_shot_power', 'away_player_5_jumping',\n",
       "       'away_player_5_stamina', 'away_player_5_strength',\n",
       "       'away_player_5_long_shots', 'away_player_5_aggression',\n",
       "       'away_player_5_interceptions', 'away_player_5_positioning',\n",
       "       'away_player_5_vision', 'away_player_5_penalties',\n",
       "       'away_player_5_marking', 'away_player_5_standing_tackle',\n",
       "       'away_player_5_sliding_tackle', 'away_player_5_gk_diving',\n",
       "       'away_player_5_gk_handling', 'away_player_5_gk_kicking',\n",
       "       'away_player_5_gk_positioning', 'away_player_5_gk_reflexes',\n",
       "       'away_player_6_overall_rating', 'away_player_6_potential',\n",
       "       'away_player_6_preferred_foot',\n",
       "       'away_player_6_attacking_work_rate',\n",
       "       'away_player_6_defensive_work_rate', 'away_player_6_crossing',\n",
       "       'away_player_6_finishing', 'away_player_6_heading_accuracy',\n",
       "       'away_player_6_short_passing', 'away_player_6_volleys',\n",
       "       'away_player_6_dribbling', 'away_player_6_curve',\n",
       "       'away_player_6_free_kick_accuracy', 'away_player_6_long_passing',\n",
       "       'away_player_6_ball_control', 'away_player_6_acceleration',\n",
       "       'away_player_6_sprint_speed', 'away_player_6_agility',\n",
       "       'away_player_6_reactions', 'away_player_6_balance',\n",
       "       'away_player_6_shot_power', 'away_player_6_jumping',\n",
       "       'away_player_6_stamina', 'away_player_6_strength',\n",
       "       'away_player_6_long_shots', 'away_player_6_aggression',\n",
       "       'away_player_6_interceptions', 'away_player_6_positioning',\n",
       "       'away_player_6_vision', 'away_player_6_penalties',\n",
       "       'away_player_6_marking', 'away_player_6_standing_tackle',\n",
       "       'away_player_6_sliding_tackle', 'away_player_6_gk_diving',\n",
       "       'away_player_6_gk_handling', 'away_player_6_gk_kicking',\n",
       "       'away_player_6_gk_positioning', 'away_player_6_gk_reflexes',\n",
       "       'away_player_7_overall_rating', 'away_player_7_potential',\n",
       "       'away_player_7_preferred_foot',\n",
       "       'away_player_7_attacking_work_rate',\n",
       "       'away_player_7_defensive_work_rate', 'away_player_7_crossing',\n",
       "       'away_player_7_finishing', 'away_player_7_heading_accuracy',\n",
       "       'away_player_7_short_passing', 'away_player_7_volleys',\n",
       "       'away_player_7_dribbling', 'away_player_7_curve',\n",
       "       'away_player_7_free_kick_accuracy', 'away_player_7_long_passing',\n",
       "       'away_player_7_ball_control', 'away_player_7_acceleration',\n",
       "       'away_player_7_sprint_speed', 'away_player_7_agility',\n",
       "       'away_player_7_reactions', 'away_player_7_balance',\n",
       "       'away_player_7_shot_power', 'away_player_7_jumping',\n",
       "       'away_player_7_stamina', 'away_player_7_strength',\n",
       "       'away_player_7_long_shots', 'away_player_7_aggression',\n",
       "       'away_player_7_interceptions', 'away_player_7_positioning',\n",
       "       'away_player_7_vision', 'away_player_7_penalties',\n",
       "       'away_player_7_marking', 'away_player_7_standing_tackle',\n",
       "       'away_player_7_sliding_tackle', 'away_player_7_gk_diving',\n",
       "       'away_player_7_gk_handling', 'away_player_7_gk_kicking',\n",
       "       'away_player_7_gk_positioning', 'away_player_7_gk_reflexes',\n",
       "       'away_player_8_overall_rating', 'away_player_8_potential',\n",
       "       'away_player_8_preferred_foot',\n",
       "       'away_player_8_attacking_work_rate',\n",
       "       'away_player_8_defensive_work_rate', 'away_player_8_crossing',\n",
       "       'away_player_8_finishing', 'away_player_8_heading_accuracy',\n",
       "       'away_player_8_short_passing', 'away_player_8_volleys',\n",
       "       'away_player_8_dribbling', 'away_player_8_curve',\n",
       "       'away_player_8_free_kick_accuracy', 'away_player_8_long_passing',\n",
       "       'away_player_8_ball_control', 'away_player_8_acceleration',\n",
       "       'away_player_8_sprint_speed', 'away_player_8_agility',\n",
       "       'away_player_8_reactions', 'away_player_8_balance',\n",
       "       'away_player_8_shot_power', 'away_player_8_jumping',\n",
       "       'away_player_8_stamina', 'away_player_8_strength',\n",
       "       'away_player_8_long_shots', 'away_player_8_aggression',\n",
       "       'away_player_8_interceptions', 'away_player_8_positioning',\n",
       "       'away_player_8_vision', 'away_player_8_penalties',\n",
       "       'away_player_8_marking', 'away_player_8_standing_tackle',\n",
       "       'away_player_8_sliding_tackle', 'away_player_8_gk_diving',\n",
       "       'away_player_8_gk_handling', 'away_player_8_gk_kicking',\n",
       "       'away_player_8_gk_positioning', 'away_player_8_gk_reflexes',\n",
       "       'away_player_9_overall_rating', 'away_player_9_potential',\n",
       "       'away_player_9_preferred_foot',\n",
       "       'away_player_9_attacking_work_rate',\n",
       "       'away_player_9_defensive_work_rate', 'away_player_9_crossing',\n",
       "       'away_player_9_finishing', 'away_player_9_heading_accuracy',\n",
       "       'away_player_9_short_passing', 'away_player_9_volleys',\n",
       "       'away_player_9_dribbling', 'away_player_9_curve',\n",
       "       'away_player_9_free_kick_accuracy', 'away_player_9_long_passing',\n",
       "       'away_player_9_ball_control', 'away_player_9_acceleration',\n",
       "       'away_player_9_sprint_speed', 'away_player_9_agility',\n",
       "       'away_player_9_reactions', 'away_player_9_balance',\n",
       "       'away_player_9_shot_power', 'away_player_9_jumping',\n",
       "       'away_player_9_stamina', 'away_player_9_strength',\n",
       "       'away_player_9_long_shots', 'away_player_9_aggression',\n",
       "       'away_player_9_interceptions', 'away_player_9_positioning',\n",
       "       'away_player_9_vision', 'away_player_9_penalties',\n",
       "       'away_player_9_marking', 'away_player_9_standing_tackle',\n",
       "       'away_player_9_sliding_tackle', 'away_player_9_gk_diving',\n",
       "       'away_player_9_gk_handling', 'away_player_9_gk_kicking',\n",
       "       'away_player_9_gk_positioning', 'away_player_9_gk_reflexes',\n",
       "       'away_player_10_overall_rating', 'away_player_10_potential',\n",
       "       'away_player_10_preferred_foot',\n",
       "       'away_player_10_attacking_work_rate',\n",
       "       'away_player_10_defensive_work_rate', 'away_player_10_crossing',\n",
       "       'away_player_10_finishing', 'away_player_10_heading_accuracy',\n",
       "       'away_player_10_short_passing', 'away_player_10_volleys',\n",
       "       'away_player_10_dribbling', 'away_player_10_curve',\n",
       "       'away_player_10_free_kick_accuracy', 'away_player_10_long_passing',\n",
       "       'away_player_10_ball_control', 'away_player_10_acceleration',\n",
       "       'away_player_10_sprint_speed', 'away_player_10_agility',\n",
       "       'away_player_10_reactions', 'away_player_10_balance',\n",
       "       'away_player_10_shot_power', 'away_player_10_jumping',\n",
       "       'away_player_10_stamina', 'away_player_10_strength',\n",
       "       'away_player_10_long_shots', 'away_player_10_aggression',\n",
       "       'away_player_10_interceptions', 'away_player_10_positioning',\n",
       "       'away_player_10_vision', 'away_player_10_penalties',\n",
       "       'away_player_10_marking', 'away_player_10_standing_tackle',\n",
       "       'away_player_10_sliding_tackle', 'away_player_10_gk_diving',\n",
       "       'away_player_10_gk_handling', 'away_player_10_gk_kicking',\n",
       "       'away_player_10_gk_positioning', 'away_player_10_gk_reflexes',\n",
       "       'away_player_11_overall_rating', 'away_player_11_potential',\n",
       "       'away_player_11_preferred_foot',\n",
       "       'away_player_11_attacking_work_rate',\n",
       "       'away_player_11_defensive_work_rate', 'away_player_11_crossing',\n",
       "       'away_player_11_finishing', 'away_player_11_heading_accuracy',\n",
       "       'away_player_11_short_passing', 'away_player_11_volleys',\n",
       "       'away_player_11_dribbling', 'away_player_11_curve',\n",
       "       'away_player_11_free_kick_accuracy', 'away_player_11_long_passing',\n",
       "       'away_player_11_ball_control', 'away_player_11_acceleration',\n",
       "       'away_player_11_sprint_speed', 'away_player_11_agility',\n",
       "       'away_player_11_reactions', 'away_player_11_balance',\n",
       "       'away_player_11_shot_power', 'away_player_11_jumping',\n",
       "       'away_player_11_stamina', 'away_player_11_strength',\n",
       "       'away_player_11_long_shots', 'away_player_11_aggression',\n",
       "       'away_player_11_interceptions', 'away_player_11_positioning',\n",
       "       'away_player_11_vision', 'away_player_11_penalties',\n",
       "       'away_player_11_marking', 'away_player_11_standing_tackle',\n",
       "       'away_player_11_sliding_tackle', 'away_player_11_gk_diving',\n",
       "       'away_player_11_gk_handling', 'away_player_11_gk_kicking',\n",
       "       'away_player_11_gk_positioning', 'away_player_11_gk_reflexes',\n",
       "       'label_home', 'match_api_id', 'label_away', 'home_won',\n",
       "       'home_loss', 'home_draw', 'away_won', 'away_loss', 'away_draw',\n",
       "       'season', 'date', 'home_team_api_id', 'away_team_api_id',\n",
       "       'home_win_record', 'home_loss_record', 'home_draw_record',\n",
       "       'away_win_record', 'away_loss_record', 'away_draw_record'],\n",
       "      dtype=object)"
      ]
     },
     "execution_count": 514,
     "metadata": {},
     "output_type": "execute_result"
    }
   ],
   "source": [
    "df_final.columns.values"
   ]
  },
  {
   "cell_type": "code",
   "execution_count": 515,
   "metadata": {},
   "outputs": [],
   "source": [
    "# df_final.to_csv(\"data_cleaned_new_features.csv\", index=False)"
   ]
  },
  {
   "cell_type": "code",
   "execution_count": 523,
   "metadata": {},
   "outputs": [],
   "source": [
    "df_final['season'] = pd.factorize(df_final['season'])[0]"
   ]
  },
  {
   "cell_type": "code",
   "execution_count": 524,
   "metadata": {},
   "outputs": [],
   "source": [
    "desired_cols = np.concatenate((home_team_stats, home_player_stats, ['home_win_record', 'home_loss_record', 'home_draw_record', 'season'], away_team_stats, away_player_stats, ['away_win_record', 'away_loss_record', 'away_draw_record']), axis=0)"
   ]
  },
  {
   "cell_type": "code",
   "execution_count": 558,
   "metadata": {},
   "outputs": [],
   "source": [
    "X = df_final[desired_cols]\n",
    "y = df_final['label_home']"
   ]
  },
  {
   "cell_type": "code",
   "execution_count": 527,
   "metadata": {},
   "outputs": [
    {
     "data": {
      "application/vnd.jupyter.widget-view+json": {
       "model_id": "682697a6ec5043e9aab9c607ab710090",
       "version_major": 2,
       "version_minor": 0
      },
      "text/plain": [
       "A Jupyter Widget"
      ]
     },
     "metadata": {},
     "output_type": "display_data"
    },
    {
     "name": "stdout",
     "output_type": "stream",
     "text": [
      "\n"
     ]
    },
    {
     "data": {
      "application/vnd.jupyter.widget-view+json": {
       "model_id": "e0f497a0033449be831e193761f39d38",
       "version_major": 2,
       "version_minor": 0
      },
      "text/plain": [
       "A Jupyter Widget"
      ]
     },
     "metadata": {},
     "output_type": "display_data"
    },
    {
     "name": "stdout",
     "output_type": "stream",
     "text": [
      "\n"
     ]
    }
   ],
   "source": [
    "df_X_emb = X[home_team_stats]\n",
    "for i in tqdm_notebook(range(1, 12)):\n",
    "    df_X_emb = pd.concat([df_X_emb, pd.DataFrame(encoder.predict(X[nameColumns(i, \"home\")].values))], axis=1)\n",
    "df_X_emb = pd.concat([df_X_emb, X[['home_win_record', 'home_loss_record', 'home_draw_record', 'season']], X[away_team_stats]], axis=1)\n",
    "for i in tqdm_notebook(range(1, 12)):\n",
    "    df_X_emb = pd.concat([df_X_emb, pd.DataFrame(encoder.predict(X[nameColumns(i, \"away\")].values))], axis=1)\n",
    "df_X_emb = pd.concat([df_X_emb, X[['away_win_record', 'away_loss_record', 'away_draw_record']]], axis=1)"
   ]
  },
  {
   "cell_type": "code",
   "execution_count": 529,
   "metadata": {},
   "outputs": [
    {
     "data": {
      "text/plain": [
       "array(['home_buildUpPlaySpeed', 'home_buildUpPlayDribbling',\n",
       "       'home_buildUpPlayPassing', 'home_chanceCreationPassing',\n",
       "       'home_chanceCreationCrossing', 'home_chanceCreationShooting',\n",
       "       'home_defencePressure', 'home_defenceAggression',\n",
       "       'home_defenceTeamWidth', 0, 1, 2, 0, 1, 2, 0, 1, 2, 0, 1, 2, 0, 1,\n",
       "       2, 0, 1, 2, 0, 1, 2, 0, 1, 2, 0, 1, 2, 0, 1, 2, 0, 1, 2,\n",
       "       'home_win_record', 'home_loss_record', 'home_draw_record',\n",
       "       'season', 'away_buildUpPlaySpeed', 'away_buildUpPlayDribbling',\n",
       "       'away_buildUpPlayPassing', 'away_chanceCreationPassing',\n",
       "       'away_chanceCreationCrossing', 'away_chanceCreationShooting',\n",
       "       'away_defencePressure', 'away_defenceAggression',\n",
       "       'away_defenceTeamWidth', 0, 1, 2, 0, 1, 2, 0, 1, 2, 0, 1, 2, 0, 1,\n",
       "       2, 0, 1, 2, 0, 1, 2, 0, 1, 2, 0, 1, 2, 0, 1, 2, 0, 1, 2,\n",
       "       'away_win_record', 'away_loss_record', 'away_draw_record'],\n",
       "      dtype=object)"
      ]
     },
     "execution_count": 529,
     "metadata": {},
     "output_type": "execute_result"
    }
   ],
   "source": [
    "df_X_emb.columns.values"
   ]
  },
  {
   "cell_type": "code",
   "execution_count": 535,
   "metadata": {},
   "outputs": [],
   "source": [
    "df_X_emb = pd.get_dummies(df_X_emb, columns=['season'])"
   ]
  },
  {
   "cell_type": "code",
   "execution_count": 536,
   "metadata": {},
   "outputs": [
    {
     "data": {
      "text/plain": [
       "array(['home_buildUpPlaySpeed', 'home_buildUpPlayDribbling',\n",
       "       'home_buildUpPlayPassing', 'home_chanceCreationPassing',\n",
       "       'home_chanceCreationCrossing', 'home_chanceCreationShooting',\n",
       "       'home_defencePressure', 'home_defenceAggression',\n",
       "       'home_defenceTeamWidth', 0, 1, 2, 0, 1, 2, 0, 1, 2, 0, 1, 2, 0, 1,\n",
       "       2, 0, 1, 2, 0, 1, 2, 0, 1, 2, 0, 1, 2, 0, 1, 2, 0, 1, 2,\n",
       "       'home_win_record', 'home_loss_record', 'home_draw_record',\n",
       "       'away_buildUpPlaySpeed', 'away_buildUpPlayDribbling',\n",
       "       'away_buildUpPlayPassing', 'away_chanceCreationPassing',\n",
       "       'away_chanceCreationCrossing', 'away_chanceCreationShooting',\n",
       "       'away_defencePressure', 'away_defenceAggression',\n",
       "       'away_defenceTeamWidth', 0, 1, 2, 0, 1, 2, 0, 1, 2, 0, 1, 2, 0, 1,\n",
       "       2, 0, 1, 2, 0, 1, 2, 0, 1, 2, 0, 1, 2, 0, 1, 2, 0, 1, 2,\n",
       "       'away_win_record', 'away_loss_record', 'away_draw_record',\n",
       "       'season_0', 'season_1', 'season_2', 'season_3', 'season_4',\n",
       "       'season_5', 'season_6', 'season_7'], dtype=object)"
      ]
     },
     "execution_count": 536,
     "metadata": {},
     "output_type": "execute_result"
    }
   ],
   "source": [
    "df_X_emb.columns.values"
   ]
  },
  {
   "cell_type": "code",
   "execution_count": 537,
   "metadata": {},
   "outputs": [],
   "source": [
    "categoric_cols = ['season_0', 'season_1', 'season_2', 'season_3', 'season_4', 'season_5', 'season_6', 'season_7']\n",
    "numeric_cols = [col for col in df_X_emb.columns.values if col not in categoric_cols]"
   ]
  },
  {
   "cell_type": "code",
   "execution_count": 539,
   "metadata": {},
   "outputs": [
    {
     "name": "stderr",
     "output_type": "stream",
     "text": [
      "/Users/seungwooson/anaconda/lib/python3.5/site-packages/sklearn/preprocessing/data.py:334: DataConversionWarning: Data with input dtype int64, float32, float64 were all converted to float64 by MinMaxScaler.\n",
      "  return self.partial_fit(X, y)\n"
     ]
    }
   ],
   "source": [
    "from sklearn.preprocessing import MinMaxScaler\n",
    "scaler = MinMaxScaler().fit(df_X_emb[numeric_cols])\n",
    "df_X_emb[numeric_cols] = scaler.transform(df_X_emb[numeric_cols])\n",
    "from sklearn.model_selection import train_test_split\n",
    "X_train, X_test, y_train, y_test = train_test_split(df_X_emb, y, \n",
    "                                                    test_size=0.1, random_state=0)\n",
    "from keras.utils import np_utils\n",
    "y_train, y_test = [i+1 for i in y_train], [i+1 for i in y_test]\n",
    "y_train_enc, y_test_enc = np_utils.to_categorical(y_train), np_utils.to_categorical(y_test)"
   ]
  },
  {
   "cell_type": "code",
   "execution_count": 556,
   "metadata": {},
   "outputs": [],
   "source": [
    "def createToyModel(input_dim):\n",
    "    \n",
    "    xavier_init = glorot_normal(seed=54)\n",
    "    model = Sequential()\n",
    "    # model.add(Dense(units=54, activation='elu', kernel_initializer=xavier_init))\n",
    "    model.add(Dense(units=27, activation='elu', kernel_initializer=xavier_init, input_dim=input_dim))\n",
    "    model.add(Dense(units=18, activation='elu', kernel_initializer=xavier_init))\n",
    "    model.add(Dense(units=9, activation='elu', kernel_initializer=xavier_init))\n",
    "    model.add(Dense(units=3, activation='softmax', kernel_initializer=xavier_init))\n",
    "    decay_rate = 3e-4 / 30\n",
    "    opt = Adam(lr=3e-4, decay=decay_rate)\n",
    "    model.compile(loss='categorical_crossentropy', optimizer=opt, metrics=['accuracy'])\n",
    "    \n",
    "    return model"
   ]
  },
  {
   "cell_type": "code",
   "execution_count": 543,
   "metadata": {
    "scrolled": true
   },
   "outputs": [
    {
     "name": "stdout",
     "output_type": "stream",
     "text": [
      "WARNING:tensorflow:Variable *= will be deprecated. Use `var.assign(var * other)` if you want assignment to the variable value or `x = x * y` if you want a new python Tensor object.\n",
      "Train on 18054 samples, validate on 2006 samples\n",
      "Epoch 1/30\n",
      "18054/18054 [==============================] - 13s 702us/step - loss: 1.0697 - acc: 0.4554 - val_loss: 1.0621 - val_acc: 0.4701\n",
      "Epoch 2/30\n",
      "18054/18054 [==============================] - 10s 536us/step - loss: 1.0671 - acc: 0.4563 - val_loss: 1.0592 - val_acc: 0.4701\n",
      "Epoch 3/30\n",
      "18054/18054 [==============================] - 8s 422us/step - loss: 1.0666 - acc: 0.4563 - val_loss: 1.0585 - val_acc: 0.4701\n",
      "Epoch 4/30\n",
      "18054/18054 [==============================] - 8s 424us/step - loss: 1.0668 - acc: 0.4563 - val_loss: 1.0602 - val_acc: 0.4701\n",
      "Epoch 5/30\n",
      "18054/18054 [==============================] - 7s 415us/step - loss: 1.0663 - acc: 0.4563 - val_loss: 1.0584 - val_acc: 0.4701\n",
      "Epoch 6/30\n",
      "18054/18054 [==============================] - 7s 408us/step - loss: 1.0662 - acc: 0.4563 - val_loss: 1.0585 - val_acc: 0.4701\n",
      "Epoch 7/30\n",
      "18054/18054 [==============================] - 8s 424us/step - loss: 1.0659 - acc: 0.4563 - val_loss: 1.0588 - val_acc: 0.4701\n",
      "Epoch 8/30\n",
      "18054/18054 [==============================] - 8s 437us/step - loss: 1.0657 - acc: 0.4563 - val_loss: 1.0587 - val_acc: 0.4701\n",
      "Epoch 9/30\n",
      "18054/18054 [==============================] - 8s 438us/step - loss: 1.0659 - acc: 0.4563 - val_loss: 1.0591 - val_acc: 0.4701\n",
      "Epoch 10/30\n",
      " 5880/18054 [========>.....................] - ETA: 5s - loss: 1.0693 - acc: 0.4503"
     ]
    },
    {
     "ename": "KeyboardInterrupt",
     "evalue": "",
     "output_type": "error",
     "traceback": [
      "\u001b[0;31m---------------------------------------------------------------------------\u001b[0m",
      "\u001b[0;31mKeyboardInterrupt\u001b[0m                         Traceback (most recent call last)",
      "\u001b[0;32m<ipython-input-543-546731adaeed>\u001b[0m in \u001b[0;36m<module>\u001b[0;34m()\u001b[0m\n\u001b[1;32m      1\u001b[0m \u001b[0mmodel\u001b[0m \u001b[0;34m=\u001b[0m \u001b[0mcreateToyModel\u001b[0m\u001b[0;34m(\u001b[0m\u001b[0mX_train\u001b[0m\u001b[0;34m.\u001b[0m\u001b[0mshape\u001b[0m\u001b[0;34m[\u001b[0m\u001b[0;36m1\u001b[0m\u001b[0;34m]\u001b[0m\u001b[0;34m)\u001b[0m\u001b[0;34m\u001b[0m\u001b[0m\n\u001b[0;32m----> 2\u001b[0;31m \u001b[0mmodel\u001b[0m\u001b[0;34m.\u001b[0m\u001b[0mfit\u001b[0m\u001b[0;34m(\u001b[0m\u001b[0mx\u001b[0m\u001b[0;34m=\u001b[0m\u001b[0mX_train\u001b[0m\u001b[0;34m,\u001b[0m \u001b[0my\u001b[0m\u001b[0;34m=\u001b[0m\u001b[0my_train_enc\u001b[0m\u001b[0;34m,\u001b[0m \u001b[0mbatch_size\u001b[0m\u001b[0;34m=\u001b[0m\u001b[0;36m8\u001b[0m\u001b[0;34m,\u001b[0m \u001b[0mshuffle\u001b[0m\u001b[0;34m=\u001b[0m\u001b[0;32mTrue\u001b[0m\u001b[0;34m,\u001b[0m \u001b[0mepochs\u001b[0m\u001b[0;34m=\u001b[0m\u001b[0;36m30\u001b[0m\u001b[0;34m,\u001b[0m \u001b[0mvalidation_data\u001b[0m\u001b[0;34m=\u001b[0m\u001b[0;34m(\u001b[0m\u001b[0mX_test\u001b[0m\u001b[0;34m,\u001b[0m \u001b[0my_test_enc\u001b[0m\u001b[0;34m)\u001b[0m\u001b[0;34m)\u001b[0m\u001b[0;34m\u001b[0m\u001b[0m\n\u001b[0m",
      "\u001b[0;32m~/anaconda/lib/python3.5/site-packages/keras/models.py\u001b[0m in \u001b[0;36mfit\u001b[0;34m(self, x, y, batch_size, epochs, verbose, callbacks, validation_split, validation_data, shuffle, class_weight, sample_weight, initial_epoch, steps_per_epoch, validation_steps, **kwargs)\u001b[0m\n\u001b[1;32m    961\u001b[0m                               \u001b[0minitial_epoch\u001b[0m\u001b[0;34m=\u001b[0m\u001b[0minitial_epoch\u001b[0m\u001b[0;34m,\u001b[0m\u001b[0;34m\u001b[0m\u001b[0m\n\u001b[1;32m    962\u001b[0m                               \u001b[0msteps_per_epoch\u001b[0m\u001b[0;34m=\u001b[0m\u001b[0msteps_per_epoch\u001b[0m\u001b[0;34m,\u001b[0m\u001b[0;34m\u001b[0m\u001b[0m\n\u001b[0;32m--> 963\u001b[0;31m                               validation_steps=validation_steps)\n\u001b[0m\u001b[1;32m    964\u001b[0m \u001b[0;34m\u001b[0m\u001b[0m\n\u001b[1;32m    965\u001b[0m     def evaluate(self, x=None, y=None,\n",
      "\u001b[0;32m~/anaconda/lib/python3.5/site-packages/keras/engine/training.py\u001b[0m in \u001b[0;36mfit\u001b[0;34m(self, x, y, batch_size, epochs, verbose, callbacks, validation_split, validation_data, shuffle, class_weight, sample_weight, initial_epoch, steps_per_epoch, validation_steps, **kwargs)\u001b[0m\n\u001b[1;32m   1703\u001b[0m                               \u001b[0minitial_epoch\u001b[0m\u001b[0;34m=\u001b[0m\u001b[0minitial_epoch\u001b[0m\u001b[0;34m,\u001b[0m\u001b[0;34m\u001b[0m\u001b[0m\n\u001b[1;32m   1704\u001b[0m                               \u001b[0msteps_per_epoch\u001b[0m\u001b[0;34m=\u001b[0m\u001b[0msteps_per_epoch\u001b[0m\u001b[0;34m,\u001b[0m\u001b[0;34m\u001b[0m\u001b[0m\n\u001b[0;32m-> 1705\u001b[0;31m                               validation_steps=validation_steps)\n\u001b[0m\u001b[1;32m   1706\u001b[0m \u001b[0;34m\u001b[0m\u001b[0m\n\u001b[1;32m   1707\u001b[0m     def evaluate(self, x=None, y=None,\n",
      "\u001b[0;32m~/anaconda/lib/python3.5/site-packages/keras/engine/training.py\u001b[0m in \u001b[0;36m_fit_loop\u001b[0;34m(self, f, ins, out_labels, batch_size, epochs, verbose, callbacks, val_f, val_ins, shuffle, callback_metrics, initial_epoch, steps_per_epoch, validation_steps)\u001b[0m\n\u001b[1;32m   1233\u001b[0m                         \u001b[0mins_batch\u001b[0m\u001b[0;34m[\u001b[0m\u001b[0mi\u001b[0m\u001b[0;34m]\u001b[0m \u001b[0;34m=\u001b[0m \u001b[0mins_batch\u001b[0m\u001b[0;34m[\u001b[0m\u001b[0mi\u001b[0m\u001b[0;34m]\u001b[0m\u001b[0;34m.\u001b[0m\u001b[0mtoarray\u001b[0m\u001b[0;34m(\u001b[0m\u001b[0;34m)\u001b[0m\u001b[0;34m\u001b[0m\u001b[0m\n\u001b[1;32m   1234\u001b[0m \u001b[0;34m\u001b[0m\u001b[0m\n\u001b[0;32m-> 1235\u001b[0;31m                     \u001b[0mouts\u001b[0m \u001b[0;34m=\u001b[0m \u001b[0mf\u001b[0m\u001b[0;34m(\u001b[0m\u001b[0mins_batch\u001b[0m\u001b[0;34m)\u001b[0m\u001b[0;34m\u001b[0m\u001b[0m\n\u001b[0m\u001b[1;32m   1236\u001b[0m                     \u001b[0;32mif\u001b[0m \u001b[0;32mnot\u001b[0m \u001b[0misinstance\u001b[0m\u001b[0;34m(\u001b[0m\u001b[0mouts\u001b[0m\u001b[0;34m,\u001b[0m \u001b[0mlist\u001b[0m\u001b[0;34m)\u001b[0m\u001b[0;34m:\u001b[0m\u001b[0;34m\u001b[0m\u001b[0m\n\u001b[1;32m   1237\u001b[0m                         \u001b[0mouts\u001b[0m \u001b[0;34m=\u001b[0m \u001b[0;34m[\u001b[0m\u001b[0mouts\u001b[0m\u001b[0;34m]\u001b[0m\u001b[0;34m\u001b[0m\u001b[0m\n",
      "\u001b[0;32m~/anaconda/lib/python3.5/site-packages/keras/backend/tensorflow_backend.py\u001b[0m in \u001b[0;36m__call__\u001b[0;34m(self, inputs)\u001b[0m\n\u001b[1;32m   2476\u001b[0m         \u001b[0msession\u001b[0m \u001b[0;34m=\u001b[0m \u001b[0mget_session\u001b[0m\u001b[0;34m(\u001b[0m\u001b[0;34m)\u001b[0m\u001b[0;34m\u001b[0m\u001b[0m\n\u001b[1;32m   2477\u001b[0m         updated = session.run(fetches=fetches, feed_dict=feed_dict,\n\u001b[0;32m-> 2478\u001b[0;31m                               **self.session_kwargs)\n\u001b[0m\u001b[1;32m   2479\u001b[0m         \u001b[0;32mreturn\u001b[0m \u001b[0mupdated\u001b[0m\u001b[0;34m[\u001b[0m\u001b[0;34m:\u001b[0m\u001b[0mlen\u001b[0m\u001b[0;34m(\u001b[0m\u001b[0mself\u001b[0m\u001b[0;34m.\u001b[0m\u001b[0moutputs\u001b[0m\u001b[0;34m)\u001b[0m\u001b[0;34m]\u001b[0m\u001b[0;34m\u001b[0m\u001b[0m\n\u001b[1;32m   2480\u001b[0m \u001b[0;34m\u001b[0m\u001b[0m\n",
      "\u001b[0;32m~/anaconda/lib/python3.5/site-packages/tensorflow/python/client/session.py\u001b[0m in \u001b[0;36mrun\u001b[0;34m(self, fetches, feed_dict, options, run_metadata)\u001b[0m\n\u001b[1;32m    875\u001b[0m     \u001b[0;32mtry\u001b[0m\u001b[0;34m:\u001b[0m\u001b[0;34m\u001b[0m\u001b[0m\n\u001b[1;32m    876\u001b[0m       result = self._run(None, fetches, feed_dict, options_ptr,\n\u001b[0;32m--> 877\u001b[0;31m                          run_metadata_ptr)\n\u001b[0m\u001b[1;32m    878\u001b[0m       \u001b[0;32mif\u001b[0m \u001b[0mrun_metadata\u001b[0m\u001b[0;34m:\u001b[0m\u001b[0;34m\u001b[0m\u001b[0m\n\u001b[1;32m    879\u001b[0m         \u001b[0mproto_data\u001b[0m \u001b[0;34m=\u001b[0m \u001b[0mtf_session\u001b[0m\u001b[0;34m.\u001b[0m\u001b[0mTF_GetBuffer\u001b[0m\u001b[0;34m(\u001b[0m\u001b[0mrun_metadata_ptr\u001b[0m\u001b[0;34m)\u001b[0m\u001b[0;34m\u001b[0m\u001b[0m\n",
      "\u001b[0;32m~/anaconda/lib/python3.5/site-packages/tensorflow/python/client/session.py\u001b[0m in \u001b[0;36m_run\u001b[0;34m(self, handle, fetches, feed_dict, options, run_metadata)\u001b[0m\n\u001b[1;32m   1098\u001b[0m     \u001b[0;32mif\u001b[0m \u001b[0mfinal_fetches\u001b[0m \u001b[0;32mor\u001b[0m \u001b[0mfinal_targets\u001b[0m \u001b[0;32mor\u001b[0m \u001b[0;34m(\u001b[0m\u001b[0mhandle\u001b[0m \u001b[0;32mand\u001b[0m \u001b[0mfeed_dict_tensor\u001b[0m\u001b[0;34m)\u001b[0m\u001b[0;34m:\u001b[0m\u001b[0;34m\u001b[0m\u001b[0m\n\u001b[1;32m   1099\u001b[0m       results = self._do_run(handle, final_targets, final_fetches,\n\u001b[0;32m-> 1100\u001b[0;31m                              feed_dict_tensor, options, run_metadata)\n\u001b[0m\u001b[1;32m   1101\u001b[0m     \u001b[0;32melse\u001b[0m\u001b[0;34m:\u001b[0m\u001b[0;34m\u001b[0m\u001b[0m\n\u001b[1;32m   1102\u001b[0m       \u001b[0mresults\u001b[0m \u001b[0;34m=\u001b[0m \u001b[0;34m[\u001b[0m\u001b[0;34m]\u001b[0m\u001b[0;34m\u001b[0m\u001b[0m\n",
      "\u001b[0;32m~/anaconda/lib/python3.5/site-packages/tensorflow/python/client/session.py\u001b[0m in \u001b[0;36m_do_run\u001b[0;34m(self, handle, target_list, fetch_list, feed_dict, options, run_metadata)\u001b[0m\n\u001b[1;32m   1270\u001b[0m     \u001b[0;32mif\u001b[0m \u001b[0mhandle\u001b[0m \u001b[0;32mis\u001b[0m \u001b[0;32mNone\u001b[0m\u001b[0;34m:\u001b[0m\u001b[0;34m\u001b[0m\u001b[0m\n\u001b[1;32m   1271\u001b[0m       return self._do_call(_run_fn, feeds, fetches, targets, options,\n\u001b[0;32m-> 1272\u001b[0;31m                            run_metadata)\n\u001b[0m\u001b[1;32m   1273\u001b[0m     \u001b[0;32melse\u001b[0m\u001b[0;34m:\u001b[0m\u001b[0;34m\u001b[0m\u001b[0m\n\u001b[1;32m   1274\u001b[0m       \u001b[0;32mreturn\u001b[0m \u001b[0mself\u001b[0m\u001b[0;34m.\u001b[0m\u001b[0m_do_call\u001b[0m\u001b[0;34m(\u001b[0m\u001b[0m_prun_fn\u001b[0m\u001b[0;34m,\u001b[0m \u001b[0mhandle\u001b[0m\u001b[0;34m,\u001b[0m \u001b[0mfeeds\u001b[0m\u001b[0;34m,\u001b[0m \u001b[0mfetches\u001b[0m\u001b[0;34m)\u001b[0m\u001b[0;34m\u001b[0m\u001b[0m\n",
      "\u001b[0;32m~/anaconda/lib/python3.5/site-packages/tensorflow/python/client/session.py\u001b[0m in \u001b[0;36m_do_call\u001b[0;34m(self, fn, *args)\u001b[0m\n\u001b[1;32m   1276\u001b[0m   \u001b[0;32mdef\u001b[0m \u001b[0m_do_call\u001b[0m\u001b[0;34m(\u001b[0m\u001b[0mself\u001b[0m\u001b[0;34m,\u001b[0m \u001b[0mfn\u001b[0m\u001b[0;34m,\u001b[0m \u001b[0;34m*\u001b[0m\u001b[0margs\u001b[0m\u001b[0;34m)\u001b[0m\u001b[0;34m:\u001b[0m\u001b[0;34m\u001b[0m\u001b[0m\n\u001b[1;32m   1277\u001b[0m     \u001b[0;32mtry\u001b[0m\u001b[0;34m:\u001b[0m\u001b[0;34m\u001b[0m\u001b[0m\n\u001b[0;32m-> 1278\u001b[0;31m       \u001b[0;32mreturn\u001b[0m \u001b[0mfn\u001b[0m\u001b[0;34m(\u001b[0m\u001b[0;34m*\u001b[0m\u001b[0margs\u001b[0m\u001b[0;34m)\u001b[0m\u001b[0;34m\u001b[0m\u001b[0m\n\u001b[0m\u001b[1;32m   1279\u001b[0m     \u001b[0;32mexcept\u001b[0m \u001b[0merrors\u001b[0m\u001b[0;34m.\u001b[0m\u001b[0mOpError\u001b[0m \u001b[0;32mas\u001b[0m \u001b[0me\u001b[0m\u001b[0;34m:\u001b[0m\u001b[0;34m\u001b[0m\u001b[0m\n\u001b[1;32m   1280\u001b[0m       \u001b[0mmessage\u001b[0m \u001b[0;34m=\u001b[0m \u001b[0mcompat\u001b[0m\u001b[0;34m.\u001b[0m\u001b[0mas_text\u001b[0m\u001b[0;34m(\u001b[0m\u001b[0me\u001b[0m\u001b[0;34m.\u001b[0m\u001b[0mmessage\u001b[0m\u001b[0;34m)\u001b[0m\u001b[0;34m\u001b[0m\u001b[0m\n",
      "\u001b[0;32m~/anaconda/lib/python3.5/site-packages/tensorflow/python/client/session.py\u001b[0m in \u001b[0;36m_run_fn\u001b[0;34m(feed_dict, fetch_list, target_list, options, run_metadata)\u001b[0m\n\u001b[1;32m   1261\u001b[0m       \u001b[0mself\u001b[0m\u001b[0;34m.\u001b[0m\u001b[0m_extend_graph\u001b[0m\u001b[0;34m(\u001b[0m\u001b[0;34m)\u001b[0m\u001b[0;34m\u001b[0m\u001b[0m\n\u001b[1;32m   1262\u001b[0m       return self._call_tf_sessionrun(\n\u001b[0;32m-> 1263\u001b[0;31m           options, feed_dict, fetch_list, target_list, run_metadata)\n\u001b[0m\u001b[1;32m   1264\u001b[0m \u001b[0;34m\u001b[0m\u001b[0m\n\u001b[1;32m   1265\u001b[0m     \u001b[0;32mdef\u001b[0m \u001b[0m_prun_fn\u001b[0m\u001b[0;34m(\u001b[0m\u001b[0mhandle\u001b[0m\u001b[0;34m,\u001b[0m \u001b[0mfeed_dict\u001b[0m\u001b[0;34m,\u001b[0m \u001b[0mfetch_list\u001b[0m\u001b[0;34m)\u001b[0m\u001b[0;34m:\u001b[0m\u001b[0;34m\u001b[0m\u001b[0m\n",
      "\u001b[0;32m~/anaconda/lib/python3.5/site-packages/tensorflow/python/client/session.py\u001b[0m in \u001b[0;36m_call_tf_sessionrun\u001b[0;34m(self, options, feed_dict, fetch_list, target_list, run_metadata)\u001b[0m\n\u001b[1;32m   1348\u001b[0m     return tf_session.TF_SessionRun_wrapper(\n\u001b[1;32m   1349\u001b[0m         \u001b[0mself\u001b[0m\u001b[0;34m.\u001b[0m\u001b[0m_session\u001b[0m\u001b[0;34m,\u001b[0m \u001b[0moptions\u001b[0m\u001b[0;34m,\u001b[0m \u001b[0mfeed_dict\u001b[0m\u001b[0;34m,\u001b[0m \u001b[0mfetch_list\u001b[0m\u001b[0;34m,\u001b[0m \u001b[0mtarget_list\u001b[0m\u001b[0;34m,\u001b[0m\u001b[0;34m\u001b[0m\u001b[0m\n\u001b[0;32m-> 1350\u001b[0;31m         run_metadata)\n\u001b[0m\u001b[1;32m   1351\u001b[0m \u001b[0;34m\u001b[0m\u001b[0m\n\u001b[1;32m   1352\u001b[0m   \u001b[0;32mdef\u001b[0m \u001b[0m_call_tf_sessionprun\u001b[0m\u001b[0;34m(\u001b[0m\u001b[0mself\u001b[0m\u001b[0;34m,\u001b[0m \u001b[0mhandle\u001b[0m\u001b[0;34m,\u001b[0m \u001b[0mfeed_dict\u001b[0m\u001b[0;34m,\u001b[0m \u001b[0mfetch_list\u001b[0m\u001b[0;34m)\u001b[0m\u001b[0;34m:\u001b[0m\u001b[0;34m\u001b[0m\u001b[0m\n",
      "\u001b[0;31mKeyboardInterrupt\u001b[0m: "
     ]
    }
   ],
   "source": [
    "model = createToyModel(X_train.shape[1])\n",
    "model.fit(x=X_train, y=y_train_enc, batch_size=8, shuffle=True, epochs=30, validation_data=(X_test, y_test_enc))"
   ]
  },
  {
   "cell_type": "markdown",
   "metadata": {},
   "source": [
    "## Without Embeddings without Player Stats"
   ]
  },
  {
   "cell_type": "code",
   "execution_count": 559,
   "metadata": {},
   "outputs": [
    {
     "name": "stderr",
     "output_type": "stream",
     "text": [
      "/Users/seungwooson/anaconda/lib/python3.5/site-packages/sklearn/preprocessing/data.py:334: DataConversionWarning: Data with input dtype int64, float64 were all converted to float64 by MinMaxScaler.\n",
      "  return self.partial_fit(X, y)\n"
     ]
    }
   ],
   "source": [
    "### Change\n",
    "home_player_overall = []\n",
    "away_player_overall = []\n",
    "for i in range(1, 12):\n",
    "    home_player_overall.append(\"home_player_\"+str(i)+\"_overall_rating\")\n",
    "    away_player_overall.append(\"away_player_\"+str(i)+\"_overall_rating\")\n",
    "    \n",
    "desired_cols = np.concatenate((home_team_stats, home_player_overall, ['home_win_record', 'home_loss_record', 'home_draw_record', 'season'], away_team_stats, away_player_overall, ['away_win_record', 'away_loss_record', 'away_draw_record']), axis=0)\n",
    "X = df_final[desired_cols]\n",
    "y = df_final['label_home']\n",
    "X = pd.get_dummies(X, columns=['season'])\n",
    "categoric_cols = ['season_0', 'season_1', 'season_2', 'season_3', 'season_4', 'season_5', 'season_6', 'season_7']\n",
    "numeric_cols = [col for col in X.columns.values if col not in categoric_cols]\n",
    "from sklearn.preprocessing import MinMaxScaler\n",
    "scaler = MinMaxScaler().fit(X[numeric_cols])\n",
    "X[numeric_cols] = scaler.transform(X[numeric_cols])\n",
    "from sklearn.model_selection import train_test_split\n",
    "X_train, X_test, y_train, y_test = train_test_split(X, y, \n",
    "                                                    test_size=0.1, random_state=0)\n",
    "from keras.utils import np_utils\n",
    "y_train, y_test = [i+1 for i in y_train], [i+1 for i in y_test]\n",
    "y_train_enc, y_test_enc = np_utils.to_categorical(y_train), np_utils.to_categorical(y_test)"
   ]
  },
  {
   "cell_type": "code",
   "execution_count": 563,
   "metadata": {},
   "outputs": [],
   "source": [
    "def createToyModel(input_dim):\n",
    "    \n",
    "    xavier_init = glorot_normal(seed=54)\n",
    "    model = Sequential()\n",
    "    # model.add(Dense(units=54, activation='elu', kernel_initializer=xavier_init))\n",
    "    model.add(Dense(units=27, activation='elu', kernel_initializer=xavier_init, input_dim=input_dim))\n",
    "    model.add(Dense(units=18, activation='elu', kernel_initializer=xavier_init))\n",
    "    model.add(Dense(units=9, activation='elu', kernel_initializer=xavier_init))\n",
    "    model.add(Dense(units=3, activation='softmax', kernel_initializer=xavier_init))\n",
    "    learning_rate = 5e-4\n",
    "    epochs = 30\n",
    "    decay_rate = learning_rate / epochs\n",
    "    opt = Adam(lr=learning_rate, decay=decay_rate)\n",
    "    model.compile(loss='categorical_crossentropy', optimizer=opt, metrics=['accuracy'])\n",
    "    \n",
    "    return model"
   ]
  },
  {
   "cell_type": "code",
   "execution_count": 564,
   "metadata": {},
   "outputs": [
    {
     "name": "stdout",
     "output_type": "stream",
     "text": [
      "Train on 18054 samples, validate on 2006 samples\n",
      "Epoch 1/30\n",
      "18054/18054 [==============================] - 7s 408us/step - loss: 1.0019 - acc: 0.5012 - val_loss: 0.9819 - val_acc: 0.5444\n",
      "Epoch 2/30\n",
      "18054/18054 [==============================] - 4s 244us/step - loss: 0.9240 - acc: 0.5687 - val_loss: 0.9314 - val_acc: 0.5533\n",
      "Epoch 3/30\n",
      "18054/18054 [==============================] - 5s 271us/step - loss: 0.9158 - acc: 0.5754 - val_loss: 0.9256 - val_acc: 0.5733\n",
      "Epoch 4/30\n",
      "18054/18054 [==============================] - 4s 237us/step - loss: 0.9123 - acc: 0.5804 - val_loss: 0.9249 - val_acc: 0.5653\n",
      "Epoch 5/30\n",
      "18054/18054 [==============================] - 5s 263us/step - loss: 0.9099 - acc: 0.5799 - val_loss: 0.9218 - val_acc: 0.5723\n",
      "Epoch 6/30\n",
      "18054/18054 [==============================] - 5s 252us/step - loss: 0.9088 - acc: 0.5796 - val_loss: 0.9349 - val_acc: 0.5663\n",
      "Epoch 7/30\n",
      "18054/18054 [==============================] - 4s 234us/step - loss: 0.9063 - acc: 0.5820 - val_loss: 0.9233 - val_acc: 0.5693\n",
      "Epoch 8/30\n",
      "18054/18054 [==============================] - 5s 258us/step - loss: 0.9051 - acc: 0.5843 - val_loss: 0.9362 - val_acc: 0.5628\n",
      "Epoch 9/30\n",
      "18054/18054 [==============================] - 4s 237us/step - loss: 0.9038 - acc: 0.5823 - val_loss: 0.9205 - val_acc: 0.5703\n",
      "Epoch 10/30\n",
      "18054/18054 [==============================] - 5s 265us/step - loss: 0.9022 - acc: 0.5834 - val_loss: 0.9202 - val_acc: 0.5693\n",
      "Epoch 11/30\n",
      "18054/18054 [==============================] - 4s 239us/step - loss: 0.9005 - acc: 0.5857 - val_loss: 0.9331 - val_acc: 0.5658\n",
      "Epoch 12/30\n",
      "18054/18054 [==============================] - 4s 217us/step - loss: 0.8986 - acc: 0.5848 - val_loss: 0.9104 - val_acc: 0.5678\n",
      "Epoch 13/30\n",
      "18054/18054 [==============================] - 5s 249us/step - loss: 0.8975 - acc: 0.5873 - val_loss: 0.9124 - val_acc: 0.5703\n",
      "Epoch 14/30\n",
      "18054/18054 [==============================] - 4s 236us/step - loss: 0.8952 - acc: 0.5849 - val_loss: 0.9085 - val_acc: 0.5698\n",
      "Epoch 15/30\n",
      "18054/18054 [==============================] - 4s 247us/step - loss: 0.8948 - acc: 0.5810 - val_loss: 0.9077 - val_acc: 0.5738\n",
      "Epoch 16/30\n",
      "18054/18054 [==============================] - 5s 261us/step - loss: 0.8929 - acc: 0.5868 - val_loss: 0.9077 - val_acc: 0.5668\n",
      "Epoch 17/30\n",
      "18054/18054 [==============================] - 4s 232us/step - loss: 0.8918 - acc: 0.5846 - val_loss: 0.9073 - val_acc: 0.5688\n",
      "Epoch 18/30\n",
      "18054/18054 [==============================] - 5s 261us/step - loss: 0.8916 - acc: 0.5866 - val_loss: 0.9092 - val_acc: 0.5753\n",
      "Epoch 19/30\n",
      "18054/18054 [==============================] - 5s 276us/step - loss: 0.8911 - acc: 0.5892 - val_loss: 0.9125 - val_acc: 0.5663\n",
      "Epoch 20/30\n",
      "18054/18054 [==============================] - 5s 252us/step - loss: 0.8900 - acc: 0.5871 - val_loss: 0.9051 - val_acc: 0.5718\n",
      "Epoch 21/30\n",
      "18054/18054 [==============================] - 4s 246us/step - loss: 0.8904 - acc: 0.5834 - val_loss: 0.9094 - val_acc: 0.5668\n",
      "Epoch 22/30\n",
      "18054/18054 [==============================] - 4s 248us/step - loss: 0.8880 - acc: 0.5893 - val_loss: 0.9083 - val_acc: 0.5673\n",
      "Epoch 23/30\n",
      "18054/18054 [==============================] - 5s 278us/step - loss: 0.8890 - acc: 0.5844 - val_loss: 0.9022 - val_acc: 0.5748\n",
      "Epoch 24/30\n",
      "18054/18054 [==============================] - 5s 259us/step - loss: 0.8878 - acc: 0.5883 - val_loss: 0.9039 - val_acc: 0.5723\n",
      "Epoch 25/30\n",
      "18054/18054 [==============================] - 5s 252us/step - loss: 0.8882 - acc: 0.5873 - val_loss: 0.9054 - val_acc: 0.5688\n",
      "Epoch 26/30\n",
      "18054/18054 [==============================] - 4s 247us/step - loss: 0.8875 - acc: 0.5874 - val_loss: 0.9058 - val_acc: 0.5678\n",
      "Epoch 27/30\n",
      "18054/18054 [==============================] - 5s 251us/step - loss: 0.8866 - acc: 0.5860 - val_loss: 0.9150 - val_acc: 0.5693\n",
      "Epoch 28/30\n",
      "18054/18054 [==============================] - 5s 275us/step - loss: 0.8872 - acc: 0.5872 - val_loss: 0.9048 - val_acc: 0.5663\n",
      "Epoch 29/30\n",
      " 1440/18054 [=>............................] - ETA: 4s - loss: 0.8845 - acc: 0.595"
     ]
    },
    {
     "ename": "KeyboardInterrupt",
     "evalue": "",
     "output_type": "error",
     "traceback": [
      "\u001b[0;31m---------------------------------------------------------------------------\u001b[0m",
      "\u001b[0;31mKeyboardInterrupt\u001b[0m                         Traceback (most recent call last)",
      "\u001b[0;32m<ipython-input-564-9aff6b33cd3b>\u001b[0m in \u001b[0;36m<module>\u001b[0;34m()\u001b[0m\n\u001b[1;32m      1\u001b[0m \u001b[0mmodel\u001b[0m \u001b[0;34m=\u001b[0m \u001b[0mcreateToyModel\u001b[0m\u001b[0;34m(\u001b[0m\u001b[0mX_train\u001b[0m\u001b[0;34m.\u001b[0m\u001b[0mshape\u001b[0m\u001b[0;34m[\u001b[0m\u001b[0;36m1\u001b[0m\u001b[0;34m]\u001b[0m\u001b[0;34m)\u001b[0m\u001b[0;34m\u001b[0m\u001b[0m\n\u001b[0;32m----> 2\u001b[0;31m \u001b[0mmodel\u001b[0m\u001b[0;34m.\u001b[0m\u001b[0mfit\u001b[0m\u001b[0;34m(\u001b[0m\u001b[0mx\u001b[0m\u001b[0;34m=\u001b[0m\u001b[0mX_train\u001b[0m\u001b[0;34m,\u001b[0m \u001b[0my\u001b[0m\u001b[0;34m=\u001b[0m\u001b[0my_train_enc\u001b[0m\u001b[0;34m,\u001b[0m \u001b[0mbatch_size\u001b[0m\u001b[0;34m=\u001b[0m\u001b[0;36m16\u001b[0m\u001b[0;34m,\u001b[0m \u001b[0mshuffle\u001b[0m\u001b[0;34m=\u001b[0m\u001b[0;32mTrue\u001b[0m\u001b[0;34m,\u001b[0m \u001b[0mepochs\u001b[0m\u001b[0;34m=\u001b[0m\u001b[0;36m30\u001b[0m\u001b[0;34m,\u001b[0m \u001b[0mvalidation_data\u001b[0m\u001b[0;34m=\u001b[0m\u001b[0;34m(\u001b[0m\u001b[0mX_test\u001b[0m\u001b[0;34m,\u001b[0m \u001b[0my_test_enc\u001b[0m\u001b[0;34m)\u001b[0m\u001b[0;34m)\u001b[0m\u001b[0;34m\u001b[0m\u001b[0m\n\u001b[0m",
      "\u001b[0;32m~/anaconda/lib/python3.5/site-packages/keras/models.py\u001b[0m in \u001b[0;36mfit\u001b[0;34m(self, x, y, batch_size, epochs, verbose, callbacks, validation_split, validation_data, shuffle, class_weight, sample_weight, initial_epoch, steps_per_epoch, validation_steps, **kwargs)\u001b[0m\n\u001b[1;32m    961\u001b[0m                               \u001b[0minitial_epoch\u001b[0m\u001b[0;34m=\u001b[0m\u001b[0minitial_epoch\u001b[0m\u001b[0;34m,\u001b[0m\u001b[0;34m\u001b[0m\u001b[0m\n\u001b[1;32m    962\u001b[0m                               \u001b[0msteps_per_epoch\u001b[0m\u001b[0;34m=\u001b[0m\u001b[0msteps_per_epoch\u001b[0m\u001b[0;34m,\u001b[0m\u001b[0;34m\u001b[0m\u001b[0m\n\u001b[0;32m--> 963\u001b[0;31m                               validation_steps=validation_steps)\n\u001b[0m\u001b[1;32m    964\u001b[0m \u001b[0;34m\u001b[0m\u001b[0m\n\u001b[1;32m    965\u001b[0m     def evaluate(self, x=None, y=None,\n",
      "\u001b[0;32m~/anaconda/lib/python3.5/site-packages/keras/engine/training.py\u001b[0m in \u001b[0;36mfit\u001b[0;34m(self, x, y, batch_size, epochs, verbose, callbacks, validation_split, validation_data, shuffle, class_weight, sample_weight, initial_epoch, steps_per_epoch, validation_steps, **kwargs)\u001b[0m\n\u001b[1;32m   1703\u001b[0m                               \u001b[0minitial_epoch\u001b[0m\u001b[0;34m=\u001b[0m\u001b[0minitial_epoch\u001b[0m\u001b[0;34m,\u001b[0m\u001b[0;34m\u001b[0m\u001b[0m\n\u001b[1;32m   1704\u001b[0m                               \u001b[0msteps_per_epoch\u001b[0m\u001b[0;34m=\u001b[0m\u001b[0msteps_per_epoch\u001b[0m\u001b[0;34m,\u001b[0m\u001b[0;34m\u001b[0m\u001b[0m\n\u001b[0;32m-> 1705\u001b[0;31m                               validation_steps=validation_steps)\n\u001b[0m\u001b[1;32m   1706\u001b[0m \u001b[0;34m\u001b[0m\u001b[0m\n\u001b[1;32m   1707\u001b[0m     def evaluate(self, x=None, y=None,\n",
      "\u001b[0;32m~/anaconda/lib/python3.5/site-packages/keras/engine/training.py\u001b[0m in \u001b[0;36m_fit_loop\u001b[0;34m(self, f, ins, out_labels, batch_size, epochs, verbose, callbacks, val_f, val_ins, shuffle, callback_metrics, initial_epoch, steps_per_epoch, validation_steps)\u001b[0m\n\u001b[1;32m   1239\u001b[0m                         \u001b[0mbatch_logs\u001b[0m\u001b[0;34m[\u001b[0m\u001b[0ml\u001b[0m\u001b[0;34m]\u001b[0m \u001b[0;34m=\u001b[0m \u001b[0mo\u001b[0m\u001b[0;34m\u001b[0m\u001b[0m\n\u001b[1;32m   1240\u001b[0m \u001b[0;34m\u001b[0m\u001b[0m\n\u001b[0;32m-> 1241\u001b[0;31m                     \u001b[0mcallbacks\u001b[0m\u001b[0;34m.\u001b[0m\u001b[0mon_batch_end\u001b[0m\u001b[0;34m(\u001b[0m\u001b[0mbatch_index\u001b[0m\u001b[0;34m,\u001b[0m \u001b[0mbatch_logs\u001b[0m\u001b[0;34m)\u001b[0m\u001b[0;34m\u001b[0m\u001b[0m\n\u001b[0m\u001b[1;32m   1242\u001b[0m                     \u001b[0;32mif\u001b[0m \u001b[0mcallback_model\u001b[0m\u001b[0;34m.\u001b[0m\u001b[0mstop_training\u001b[0m\u001b[0;34m:\u001b[0m\u001b[0;34m\u001b[0m\u001b[0m\n\u001b[1;32m   1243\u001b[0m                         \u001b[0;32mbreak\u001b[0m\u001b[0;34m\u001b[0m\u001b[0m\n",
      "\u001b[0;32m~/anaconda/lib/python3.5/site-packages/keras/callbacks.py\u001b[0m in \u001b[0;36mon_batch_end\u001b[0;34m(self, batch, logs)\u001b[0m\n\u001b[1;32m    111\u001b[0m         \u001b[0mt_before_callbacks\u001b[0m \u001b[0;34m=\u001b[0m \u001b[0mtime\u001b[0m\u001b[0;34m.\u001b[0m\u001b[0mtime\u001b[0m\u001b[0;34m(\u001b[0m\u001b[0;34m)\u001b[0m\u001b[0;34m\u001b[0m\u001b[0m\n\u001b[1;32m    112\u001b[0m         \u001b[0;32mfor\u001b[0m \u001b[0mcallback\u001b[0m \u001b[0;32min\u001b[0m \u001b[0mself\u001b[0m\u001b[0;34m.\u001b[0m\u001b[0mcallbacks\u001b[0m\u001b[0;34m:\u001b[0m\u001b[0;34m\u001b[0m\u001b[0m\n\u001b[0;32m--> 113\u001b[0;31m             \u001b[0mcallback\u001b[0m\u001b[0;34m.\u001b[0m\u001b[0mon_batch_end\u001b[0m\u001b[0;34m(\u001b[0m\u001b[0mbatch\u001b[0m\u001b[0;34m,\u001b[0m \u001b[0mlogs\u001b[0m\u001b[0;34m)\u001b[0m\u001b[0;34m\u001b[0m\u001b[0m\n\u001b[0m\u001b[1;32m    114\u001b[0m         \u001b[0mself\u001b[0m\u001b[0;34m.\u001b[0m\u001b[0m_delta_ts_batch_end\u001b[0m\u001b[0;34m.\u001b[0m\u001b[0mappend\u001b[0m\u001b[0;34m(\u001b[0m\u001b[0mtime\u001b[0m\u001b[0;34m.\u001b[0m\u001b[0mtime\u001b[0m\u001b[0;34m(\u001b[0m\u001b[0;34m)\u001b[0m \u001b[0;34m-\u001b[0m \u001b[0mt_before_callbacks\u001b[0m\u001b[0;34m)\u001b[0m\u001b[0;34m\u001b[0m\u001b[0m\n\u001b[1;32m    115\u001b[0m         \u001b[0mdelta_t_median\u001b[0m \u001b[0;34m=\u001b[0m \u001b[0mnp\u001b[0m\u001b[0;34m.\u001b[0m\u001b[0mmedian\u001b[0m\u001b[0;34m(\u001b[0m\u001b[0mself\u001b[0m\u001b[0;34m.\u001b[0m\u001b[0m_delta_ts_batch_end\u001b[0m\u001b[0;34m)\u001b[0m\u001b[0;34m\u001b[0m\u001b[0m\n",
      "\u001b[0;32m~/anaconda/lib/python3.5/site-packages/keras/callbacks.py\u001b[0m in \u001b[0;36mon_batch_end\u001b[0;34m(self, batch, logs)\u001b[0m\n\u001b[1;32m    329\u001b[0m         \u001b[0;31m# will be handled by on_epoch_end.\u001b[0m\u001b[0;34m\u001b[0m\u001b[0;34m\u001b[0m\u001b[0m\n\u001b[1;32m    330\u001b[0m         \u001b[0;32mif\u001b[0m \u001b[0mself\u001b[0m\u001b[0;34m.\u001b[0m\u001b[0mverbose\u001b[0m \u001b[0;32mand\u001b[0m \u001b[0mself\u001b[0m\u001b[0;34m.\u001b[0m\u001b[0mseen\u001b[0m \u001b[0;34m<\u001b[0m \u001b[0mself\u001b[0m\u001b[0;34m.\u001b[0m\u001b[0mtarget\u001b[0m\u001b[0;34m:\u001b[0m\u001b[0;34m\u001b[0m\u001b[0m\n\u001b[0;32m--> 331\u001b[0;31m             \u001b[0mself\u001b[0m\u001b[0;34m.\u001b[0m\u001b[0mprogbar\u001b[0m\u001b[0;34m.\u001b[0m\u001b[0mupdate\u001b[0m\u001b[0;34m(\u001b[0m\u001b[0mself\u001b[0m\u001b[0;34m.\u001b[0m\u001b[0mseen\u001b[0m\u001b[0;34m,\u001b[0m \u001b[0mself\u001b[0m\u001b[0;34m.\u001b[0m\u001b[0mlog_values\u001b[0m\u001b[0;34m)\u001b[0m\u001b[0;34m\u001b[0m\u001b[0m\n\u001b[0m\u001b[1;32m    332\u001b[0m \u001b[0;34m\u001b[0m\u001b[0m\n\u001b[1;32m    333\u001b[0m     \u001b[0;32mdef\u001b[0m \u001b[0mon_epoch_end\u001b[0m\u001b[0;34m(\u001b[0m\u001b[0mself\u001b[0m\u001b[0;34m,\u001b[0m \u001b[0mepoch\u001b[0m\u001b[0;34m,\u001b[0m \u001b[0mlogs\u001b[0m\u001b[0;34m=\u001b[0m\u001b[0;32mNone\u001b[0m\u001b[0;34m)\u001b[0m\u001b[0;34m:\u001b[0m\u001b[0;34m\u001b[0m\u001b[0m\n",
      "\u001b[0;32m~/anaconda/lib/python3.5/site-packages/keras/utils/generic_utils.py\u001b[0m in \u001b[0;36mupdate\u001b[0;34m(self, current, values)\u001b[0m\n\u001b[1;32m    401\u001b[0m                 \u001b[0;32mif\u001b[0m \u001b[0misinstance\u001b[0m\u001b[0;34m(\u001b[0m\u001b[0mself\u001b[0m\u001b[0;34m.\u001b[0m\u001b[0m_values\u001b[0m\u001b[0;34m[\u001b[0m\u001b[0mk\u001b[0m\u001b[0;34m]\u001b[0m\u001b[0;34m,\u001b[0m \u001b[0mlist\u001b[0m\u001b[0;34m)\u001b[0m\u001b[0;34m:\u001b[0m\u001b[0;34m\u001b[0m\u001b[0m\n\u001b[1;32m    402\u001b[0m                     avg = np.mean(\n\u001b[0;32m--> 403\u001b[0;31m                         self._values[k][0] / max(1, self._values[k][1]))\n\u001b[0m\u001b[1;32m    404\u001b[0m                     \u001b[0;32mif\u001b[0m \u001b[0mabs\u001b[0m\u001b[0;34m(\u001b[0m\u001b[0mavg\u001b[0m\u001b[0;34m)\u001b[0m \u001b[0;34m>\u001b[0m \u001b[0;36m1e-3\u001b[0m\u001b[0;34m:\u001b[0m\u001b[0;34m\u001b[0m\u001b[0m\n\u001b[1;32m    405\u001b[0m                         \u001b[0minfo\u001b[0m \u001b[0;34m+=\u001b[0m \u001b[0;34m' %.4f'\u001b[0m \u001b[0;34m%\u001b[0m \u001b[0mavg\u001b[0m\u001b[0;34m\u001b[0m\u001b[0m\n",
      "\u001b[0;32m~/anaconda/lib/python3.5/site-packages/numpy/core/fromnumeric.py\u001b[0m in \u001b[0;36mmean\u001b[0;34m(a, axis, dtype, out, keepdims)\u001b[0m\n\u001b[1;32m   3113\u001b[0m             \u001b[0;32mpass\u001b[0m\u001b[0;34m\u001b[0m\u001b[0m\n\u001b[1;32m   3114\u001b[0m         \u001b[0;32melse\u001b[0m\u001b[0;34m:\u001b[0m\u001b[0;34m\u001b[0m\u001b[0m\n\u001b[0;32m-> 3115\u001b[0;31m             \u001b[0;32mreturn\u001b[0m \u001b[0mmean\u001b[0m\u001b[0;34m(\u001b[0m\u001b[0maxis\u001b[0m\u001b[0;34m=\u001b[0m\u001b[0maxis\u001b[0m\u001b[0;34m,\u001b[0m \u001b[0mdtype\u001b[0m\u001b[0;34m=\u001b[0m\u001b[0mdtype\u001b[0m\u001b[0;34m,\u001b[0m \u001b[0mout\u001b[0m\u001b[0;34m=\u001b[0m\u001b[0mout\u001b[0m\u001b[0;34m,\u001b[0m \u001b[0;34m**\u001b[0m\u001b[0mkwargs\u001b[0m\u001b[0;34m)\u001b[0m\u001b[0;34m\u001b[0m\u001b[0m\n\u001b[0m\u001b[1;32m   3116\u001b[0m \u001b[0;34m\u001b[0m\u001b[0m\n\u001b[1;32m   3117\u001b[0m     return _methods._mean(a, axis=axis, dtype=dtype,\n",
      "\u001b[0;32m~/anaconda/lib/python3.5/site-packages/numpy/core/_methods.py\u001b[0m in \u001b[0;36m_mean\u001b[0;34m(a, axis, dtype, out, keepdims)\u001b[0m\n\u001b[1;32m     57\u001b[0m \u001b[0;34m\u001b[0m\u001b[0m\n\u001b[1;32m     58\u001b[0m \u001b[0;32mdef\u001b[0m \u001b[0m_mean\u001b[0m\u001b[0;34m(\u001b[0m\u001b[0ma\u001b[0m\u001b[0;34m,\u001b[0m \u001b[0maxis\u001b[0m\u001b[0;34m=\u001b[0m\u001b[0;32mNone\u001b[0m\u001b[0;34m,\u001b[0m \u001b[0mdtype\u001b[0m\u001b[0;34m=\u001b[0m\u001b[0;32mNone\u001b[0m\u001b[0;34m,\u001b[0m \u001b[0mout\u001b[0m\u001b[0;34m=\u001b[0m\u001b[0;32mNone\u001b[0m\u001b[0;34m,\u001b[0m \u001b[0mkeepdims\u001b[0m\u001b[0;34m=\u001b[0m\u001b[0;32mFalse\u001b[0m\u001b[0;34m)\u001b[0m\u001b[0;34m:\u001b[0m\u001b[0;34m\u001b[0m\u001b[0m\n\u001b[0;32m---> 59\u001b[0;31m     \u001b[0marr\u001b[0m \u001b[0;34m=\u001b[0m \u001b[0masanyarray\u001b[0m\u001b[0;34m(\u001b[0m\u001b[0ma\u001b[0m\u001b[0;34m)\u001b[0m\u001b[0;34m\u001b[0m\u001b[0m\n\u001b[0m\u001b[1;32m     60\u001b[0m \u001b[0;34m\u001b[0m\u001b[0m\n\u001b[1;32m     61\u001b[0m     \u001b[0mis_float16_result\u001b[0m \u001b[0;34m=\u001b[0m \u001b[0;32mFalse\u001b[0m\u001b[0;34m\u001b[0m\u001b[0m\n",
      "\u001b[0;32m~/anaconda/lib/python3.5/site-packages/numpy/core/numeric.py\u001b[0m in \u001b[0;36masanyarray\u001b[0;34m(a, dtype, order)\u001b[0m\n\u001b[1;32m    589\u001b[0m \u001b[0;34m\u001b[0m\u001b[0m\n\u001b[1;32m    590\u001b[0m     \"\"\"\n\u001b[0;32m--> 591\u001b[0;31m     \u001b[0;32mreturn\u001b[0m \u001b[0marray\u001b[0m\u001b[0;34m(\u001b[0m\u001b[0ma\u001b[0m\u001b[0;34m,\u001b[0m \u001b[0mdtype\u001b[0m\u001b[0;34m,\u001b[0m \u001b[0mcopy\u001b[0m\u001b[0;34m=\u001b[0m\u001b[0;32mFalse\u001b[0m\u001b[0;34m,\u001b[0m \u001b[0morder\u001b[0m\u001b[0;34m=\u001b[0m\u001b[0morder\u001b[0m\u001b[0;34m,\u001b[0m \u001b[0msubok\u001b[0m\u001b[0;34m=\u001b[0m\u001b[0;32mTrue\u001b[0m\u001b[0;34m)\u001b[0m\u001b[0;34m\u001b[0m\u001b[0m\n\u001b[0m\u001b[1;32m    592\u001b[0m \u001b[0;34m\u001b[0m\u001b[0m\n\u001b[1;32m    593\u001b[0m \u001b[0;34m\u001b[0m\u001b[0m\n",
      "\u001b[0;31mKeyboardInterrupt\u001b[0m: "
     ]
    }
   ],
   "source": [
    "model = createToyModel(X_train.shape[1])\n",
    "model.fit(x=X_train, y=y_train_enc, batch_size=16, shuffle=True, epochs=30, validation_data=(X_test, y_test_enc))"
   ]
  },
  {
   "cell_type": "markdown",
   "metadata": {},
   "source": [
    "## Without Embeddings with Player Stats"
   ]
  },
  {
   "cell_type": "code",
   "execution_count": 573,
   "metadata": {},
   "outputs": [],
   "source": [
    "home_player_num = []\n",
    "away_player_num = []\n",
    "for i in range(1, 12):\n",
    "    home_player_num.append(nameColumns(homeOrAway='home', playerNum=i))\n",
    "    away_player_num.append(nameColumns(homeOrAway='away', playerNum=i))\n",
    "home_player_num = np.array(home_player_num).flatten()\n",
    "away_player_num = np.array(away_player_num).flatten()"
   ]
  },
  {
   "cell_type": "code",
   "execution_count": 574,
   "metadata": {},
   "outputs": [
    {
     "name": "stderr",
     "output_type": "stream",
     "text": [
      "/Users/seungwooson/anaconda/lib/python3.5/site-packages/sklearn/preprocessing/data.py:334: DataConversionWarning: Data with input dtype int64, float64 were all converted to float64 by MinMaxScaler.\n",
      "  return self.partial_fit(X, y)\n"
     ]
    }
   ],
   "source": [
    "desired_cols = np.concatenate((home_team_stats, home_player_num, ['home_win_record', 'home_loss_record', 'home_draw_record', 'season'], away_team_stats, away_player_num, ['away_win_record', 'away_loss_record', 'away_draw_record']), axis=0)\n",
    "X = df_final[desired_cols]\n",
    "y = df_final['label_home']\n",
    "X = pd.get_dummies(X, columns=['season'])\n",
    "categoric_cols = ['season_0', 'season_1', 'season_2', 'season_3', 'season_4', 'season_5', 'season_6', 'season_7']\n",
    "numeric_cols = [col for col in X.columns.values if col not in categoric_cols]\n",
    "from sklearn.preprocessing import MinMaxScaler\n",
    "scaler = MinMaxScaler().fit(X[numeric_cols])\n",
    "X[numeric_cols] = scaler.transform(X[numeric_cols])\n",
    "from sklearn.model_selection import train_test_split\n",
    "X_train, X_test, y_train, y_test = train_test_split(X, y, \n",
    "                                                    test_size=0.1, random_state=0)\n",
    "from keras.utils import np_utils\n",
    "y_train, y_test = [i+1 for i in y_train], [i+1 for i in y_test]\n",
    "y_train_enc, y_test_enc = np_utils.to_categorical(y_train), np_utils.to_categorical(y_test)"
   ]
  },
  {
   "cell_type": "code",
   "execution_count": 575,
   "metadata": {},
   "outputs": [
    {
     "name": "stdout",
     "output_type": "stream",
     "text": [
      "Train on 18054 samples, validate on 2006 samples\n",
      "Epoch 1/30\n",
      "18054/18054 [==============================] - 9s 502us/step - loss: 1.0680 - acc: 0.4562 - val_loss: 1.0537 - val_acc: 0.4701\n",
      "Epoch 2/30\n",
      "18054/18054 [==============================] - 6s 315us/step - loss: 1.0604 - acc: 0.4555 - val_loss: 1.0418 - val_acc: 0.4701\n",
      "Epoch 3/30\n",
      "18054/18054 [==============================] - 6s 306us/step - loss: 1.0375 - acc: 0.4749 - val_loss: 1.0460 - val_acc: 0.4307\n",
      "Epoch 4/30\n",
      "18054/18054 [==============================] - 6s 314us/step - loss: 0.9865 - acc: 0.5224 - val_loss: 0.9591 - val_acc: 0.5394\n",
      "Epoch 5/30\n",
      "18054/18054 [==============================] - 6s 312us/step - loss: 0.9540 - acc: 0.5499 - val_loss: 0.9573 - val_acc: 0.5503\n",
      "Epoch 6/30\n",
      "18054/18054 [==============================] - 5s 302us/step - loss: 0.9357 - acc: 0.5616 - val_loss: 0.9794 - val_acc: 0.5379\n",
      "Epoch 7/30\n",
      "18054/18054 [==============================] - 6s 321us/step - loss: 0.9300 - acc: 0.5670 - val_loss: 1.0063 - val_acc: 0.4965\n",
      "Epoch 8/30\n",
      "18054/18054 [==============================] - 6s 309us/step - loss: 0.9232 - acc: 0.5674 - val_loss: 0.9617 - val_acc: 0.5469\n",
      "Epoch 9/30\n",
      "18054/18054 [==============================] - 6s 309us/step - loss: 0.9225 - acc: 0.5686 - val_loss: 0.9594 - val_acc: 0.5384\n",
      "Epoch 10/30\n",
      "18054/18054 [==============================] - 6s 329us/step - loss: 0.9203 - acc: 0.5700 - val_loss: 0.9361 - val_acc: 0.5499\n",
      "Epoch 11/30\n",
      "18054/18054 [==============================] - 5s 296us/step - loss: 0.9161 - acc: 0.5734 - val_loss: 0.9370 - val_acc: 0.5518\n",
      "Epoch 12/30\n",
      "18054/18054 [==============================] - 6s 319us/step - loss: 0.9123 - acc: 0.5772 - val_loss: 0.9412 - val_acc: 0.5503\n",
      "Epoch 13/30\n",
      "18054/18054 [==============================] - 6s 311us/step - loss: 0.9064 - acc: 0.5773 - val_loss: 0.9421 - val_acc: 0.5503\n",
      "Epoch 14/30\n",
      "18054/18054 [==============================] - 5s 282us/step - loss: 0.9091 - acc: 0.5763 - val_loss: 0.9872 - val_acc: 0.5035\n",
      "Epoch 15/30\n",
      "18054/18054 [==============================] - 5s 292us/step - loss: 0.9036 - acc: 0.5806 - val_loss: 0.9365 - val_acc: 0.5533\n",
      "Epoch 16/30\n",
      "18054/18054 [==============================] - 6s 309us/step - loss: 0.9034 - acc: 0.5813 - val_loss: 0.9763 - val_acc: 0.5419\n",
      "Epoch 17/30\n",
      "18054/18054 [==============================] - 5s 291us/step - loss: 0.9055 - acc: 0.5810 - val_loss: 0.9673 - val_acc: 0.5394\n",
      "Epoch 18/30\n",
      "18054/18054 [==============================] - 6s 327us/step - loss: 0.9002 - acc: 0.5806 - val_loss: 0.9608 - val_acc: 0.5454\n",
      "Epoch 19/30\n",
      "18054/18054 [==============================] - 7s 398us/step - loss: 0.8977 - acc: 0.5841 - val_loss: 0.9822 - val_acc: 0.5239\n",
      "Epoch 20/30\n",
      "18054/18054 [==============================] - 6s 357us/step - loss: 0.8994 - acc: 0.5829 - val_loss: 0.9365 - val_acc: 0.5548\n",
      "Epoch 21/30\n",
      "18054/18054 [==============================] - 6s 310us/step - loss: 0.8983 - acc: 0.5827 - val_loss: 0.9349 - val_acc: 0.5543\n",
      "Epoch 22/30\n",
      "18054/18054 [==============================] - 7s 363us/step - loss: 0.8951 - acc: 0.5861 - val_loss: 0.9682 - val_acc: 0.5409\n",
      "Epoch 23/30\n",
      "18054/18054 [==============================] - 6s 344us/step - loss: 0.8948 - acc: 0.5867 - val_loss: 0.9383 - val_acc: 0.5523\n",
      "Epoch 24/30\n",
      "18054/18054 [==============================] - 6s 330us/step - loss: 0.8904 - acc: 0.5883 - val_loss: 0.9438 - val_acc: 0.5543\n",
      "Epoch 25/30\n",
      "18054/18054 [==============================] - 6s 334us/step - loss: 0.8890 - acc: 0.5893 - val_loss: 0.9378 - val_acc: 0.5513\n",
      "Epoch 26/30\n",
      "18054/18054 [==============================] - 6s 333us/step - loss: 0.8854 - acc: 0.5907 - val_loss: 0.9815 - val_acc: 0.5189\n",
      "Epoch 27/30\n",
      "18054/18054 [==============================] - 6s 330us/step - loss: 0.8859 - acc: 0.5885 - val_loss: 0.9415 - val_acc: 0.5464\n",
      "Epoch 28/30\n",
      "18054/18054 [==============================] - 6s 320us/step - loss: 0.8825 - acc: 0.5892 - val_loss: 0.9833 - val_acc: 0.5419\n",
      "Epoch 29/30\n",
      "18054/18054 [==============================] - 6s 333us/step - loss: 0.8837 - acc: 0.5912 - val_loss: 0.9474 - val_acc: 0.5538\n",
      "Epoch 30/30\n",
      "18054/18054 [==============================] - 6s 323us/step - loss: 0.8812 - acc: 0.5917 - val_loss: 0.9950 - val_acc: 0.5454\n"
     ]
    },
    {
     "data": {
      "text/plain": [
       "<keras.callbacks.History at 0x1ebd30278>"
      ]
     },
     "execution_count": 575,
     "metadata": {},
     "output_type": "execute_result"
    }
   ],
   "source": [
    "model = createToyModel(X_train.shape[1])\n",
    "model.fit(x=X_train, y=y_train_enc, batch_size=16, shuffle=True, epochs=30, validation_data=(X_test, y_test_enc))"
   ]
  },
  {
   "cell_type": "markdown",
   "metadata": {},
   "source": [
    "## Categorical Embeddings using Formations and Season"
   ]
  },
  {
   "cell_type": "code",
   "execution_count": 576,
   "metadata": {},
   "outputs": [],
   "source": [
    "desired_cols = np.concatenate((home_team_formation, home_team_stats, home_player_overall, ['home_win_record', 'home_loss_record', 'home_draw_record', 'season'], away_team_formation, away_team_stats, away_player_overall, ['away_win_record', 'away_loss_record', 'away_draw_record']), axis=0)\n",
    "X = df_final[desired_cols]\n",
    "y = df_final['label_home']"
   ]
  },
  {
   "cell_type": "code",
   "execution_count": 622,
   "metadata": {},
   "outputs": [],
   "source": [
    "home_players_y, away_players_y = [], []\n",
    "for i in range(1, 12):\n",
    "    home_players_y.append(\"home_player_Y\"+str(i))\n",
    "    away_players_y.append(\"away_player_Y\"+str(i))"
   ]
  },
  {
   "cell_type": "code",
   "execution_count": 631,
   "metadata": {},
   "outputs": [],
   "source": [
    "def formations(df):\n",
    "    formation_dict = Counter(df)\n",
    "    sorted_keys = sorted(formation_dict)\n",
    "    formation = ''\n",
    "    for key in sorted_keys[1:-1]:\n",
    "        y = formation_dict[key]\n",
    "        formation += '%d-' % y\n",
    "    formation += '%d' % formation_dict[sorted_keys[-1]]\n",
    "    return formation"
   ]
  },
  {
   "cell_type": "code",
   "execution_count": 640,
   "metadata": {},
   "outputs": [
    {
     "name": "stderr",
     "output_type": "stream",
     "text": [
      "/Users/seungwooson/anaconda/lib/python3.5/site-packages/ipykernel_launcher.py:1: SettingWithCopyWarning: \n",
      "A value is trying to be set on a copy of a slice from a DataFrame.\n",
      "Try using .loc[row_indexer,col_indexer] = value instead\n",
      "\n",
      "See the caveats in the documentation: http://pandas.pydata.org/pandas-docs/stable/indexing.html#indexing-view-versus-copy\n",
      "  \"\"\"Entry point for launching an IPython kernel.\n",
      "/Users/seungwooson/anaconda/lib/python3.5/site-packages/ipykernel_launcher.py:2: SettingWithCopyWarning: \n",
      "A value is trying to be set on a copy of a slice from a DataFrame.\n",
      "Try using .loc[row_indexer,col_indexer] = value instead\n",
      "\n",
      "See the caveats in the documentation: http://pandas.pydata.org/pandas-docs/stable/indexing.html#indexing-view-versus-copy\n",
      "  \n"
     ]
    }
   ],
   "source": [
    "X[\"home_formations\"] = X[home_players_y].apply(formations, axis=1)\n",
    "X[\"away_formations\"] = X[away_players_y].apply(formations, axis=1)"
   ]
  },
  {
   "cell_type": "code",
   "execution_count": 643,
   "metadata": {},
   "outputs": [],
   "source": [
    "desired_cols = np.concatenate(([\"home_formations\"], home_team_stats, home_player_overall, ['home_win_record', 'home_loss_record', 'home_draw_record', 'season'], [\"away_formations\"], away_team_stats, away_player_overall, ['away_win_record', 'away_loss_record', 'away_draw_record']), axis=0)"
   ]
  },
  {
   "cell_type": "code",
   "execution_count": 650,
   "metadata": {},
   "outputs": [],
   "source": [
    "X = X[desired_cols]\n",
    "# X.to_csv(\"formations_encoded_x.csv\", index=False)\n",
    "# y.to_csv(\"formations_encoded_y.csv\", index=False)"
   ]
  },
  {
   "cell_type": "code",
   "execution_count": 654,
   "metadata": {},
   "outputs": [],
   "source": [
    "X['home_formations'] = pd.factorize(X['home_formations'])[0]\n",
    "X['away_formations'] = pd.factorize(X['away_formations'])[0]"
   ]
  },
  {
   "cell_type": "code",
   "execution_count": 772,
   "metadata": {},
   "outputs": [
    {
     "data": {
      "text/plain": [
       "array(['away_buildUpPlaySpeed', 'away_buildUpPlayDribbling',\n",
       "       'away_buildUpPlayPassing', 'away_chanceCreationPassing',\n",
       "       'away_chanceCreationCrossing', 'away_chanceCreationShooting',\n",
       "       'away_defencePressure', 'away_defenceAggression',\n",
       "       'away_defenceTeamWidth'], dtype=object)"
      ]
     },
     "execution_count": 772,
     "metadata": {},
     "output_type": "execute_result"
    }
   ],
   "source": [
    "away_team_stats"
   ]
  },
  {
   "cell_type": "markdown",
   "metadata": {},
   "source": [
    "## RERUN FROM HERE FOR MODEL HYPERPARAMETER TUNING"
   ]
  },
  {
   "cell_type": "code",
   "execution_count": 752,
   "metadata": {},
   "outputs": [],
   "source": [
    "from keras.models import Model\n",
    "from keras.layers import Input, Dense, Merge, Concatenate, Reshape, Dropout, BatchNormalization\n",
    "from keras.layers.embeddings import Embedding\n",
    "categorical_vars = [\"home_formations\", \"season\", \"away_formations\"]\n",
    "models = []\n",
    "for categorical_var in categorical_vars :\n",
    "    model = Sequential()\n",
    "    no_of_unique_cat  = X[categorical_var].nunique()\n",
    "    embedding_size = min(np.ceil((no_of_unique_cat)/2), 50 )\n",
    "    embedding_size = int(embedding_size)\n",
    "    vocab  = no_of_unique_cat\n",
    "    model.add(Embedding(vocab ,embedding_size, input_length = 1 ))\n",
    "    model.add(Reshape(target_shape=(embedding_size,)))\n",
    "    models.append( model )"
   ]
  },
  {
   "cell_type": "code",
   "execution_count": 753,
   "metadata": {},
   "outputs": [],
   "source": [
    "model_numeric = Sequential()\n",
    "model_numeric.add(Dense(16, input_shape=[len(X.columns) - len(categorical_vars)]))\n",
    "models.append(model_numeric)"
   ]
  },
  {
   "cell_type": "code",
   "execution_count": 754,
   "metadata": {},
   "outputs": [
    {
     "name": "stderr",
     "output_type": "stream",
     "text": [
      "/Users/seungwooson/anaconda/lib/python3.5/site-packages/ipykernel_launcher.py:3: UserWarning: The `Merge` layer is deprecated and will be removed after 08/2017. Use instead layers from `keras.layers.merge`, e.g. `add`, `concatenate`, etc.\n",
      "  This is separate from the ipykernel package so we can avoid doing imports until\n"
     ]
    }
   ],
   "source": [
    "xavier_init = glorot_normal(seed=35)\n",
    "full_model = Sequential()\n",
    "full_model.add(Merge(models, mode='concat'))"
   ]
  },
  {
   "cell_type": "code",
   "execution_count": 755,
   "metadata": {},
   "outputs": [
    {
     "name": "stderr",
     "output_type": "stream",
     "text": [
      "/Users/seungwooson/anaconda/lib/python3.5/site-packages/keras/activations.py:115: UserWarning: Do not pass a layer instance (such as PReLU) as the activation argument of another layer. Instead, advanced activation layers should be used just like any other layer in a model.\n",
      "  identifier=identifier.__class__.__name__))\n"
     ]
    }
   ],
   "source": [
    "full_model.add(Dense(units=27, activation=PReLU(), kernel_initializer=xavier_init))\n",
    "# full_model.add(Dropout(0.25))\n",
    "full_model.add(BatchNormalization())\n",
    "# full_model.add(Dense(units=18, activation='elu'))\n",
    "full_model.add(Dense(units=9, activation=PReLU(),  kernel_initializer=xavier_init))\n",
    "# full_model.add(Dropout(0.25))\n",
    "full_model.add(BatchNormalization())\n",
    "full_model.add(Dense(units=3, activation='softmax'))\n",
    "learning_rate = 1e-3\n",
    "epochs = 100\n",
    "decay_rate = learning_rate / epochs\n",
    "opt = Adam(lr=learning_rate, decay=decay_rate)\n",
    "full_model.compile(loss='categorical_crossentropy', optimizer=opt, metrics=['accuracy'])"
   ]
  },
  {
   "cell_type": "code",
   "execution_count": 756,
   "metadata": {},
   "outputs": [],
   "source": [
    "X = X[np.concatenate((categorical_vars, home_team_stats, home_player_overall, ['home_win_record', 'home_loss_record', 'home_draw_record'], away_team_stats, away_player_overall, ['away_win_record', 'away_loss_record', 'away_draw_record']), axis=0)]"
   ]
  },
  {
   "cell_type": "code",
   "execution_count": 757,
   "metadata": {},
   "outputs": [],
   "source": [
    "numeric_cols = [col for col in X.columns.values if col not in categorical_vars]\n",
    "from sklearn.preprocessing import MinMaxScaler\n",
    "scaler = MinMaxScaler().fit(X[numeric_cols])\n",
    "X[numeric_cols] = scaler.transform(X[numeric_cols])\n",
    "from sklearn.model_selection import train_test_split\n",
    "X_train, X_test, y_train, y_test = train_test_split(X, y, \n",
    "                                                    test_size=0.1, random_state=0)\n",
    "from keras.utils import np_utils\n",
    "y_train, y_test = [i+1 for i in y_train], [i+1 for i in y_test]\n",
    "y_train_enc, y_test_enc = np_utils.to_categorical(y_train), np_utils.to_categorical(y_test)"
   ]
  },
  {
   "cell_type": "code",
   "execution_count": 758,
   "metadata": {},
   "outputs": [],
   "source": [
    "X_train_inputs = []\n",
    "X_train_inputs.append(X_train[\"home_formations\"])\n",
    "X_train_inputs.append(X_train[\"season\"])\n",
    "X_train_inputs.append(X_train[\"away_formations\"])\n",
    "X_train_inputs.append(X_train[numeric_cols])"
   ]
  },
  {
   "cell_type": "code",
   "execution_count": 759,
   "metadata": {},
   "outputs": [],
   "source": [
    "X_test_inputs = []\n",
    "X_test_inputs.append(X_test[\"home_formations\"])\n",
    "X_test_inputs.append(X_test[\"season\"])\n",
    "X_test_inputs.append(X_test[\"away_formations\"])\n",
    "X_test_inputs.append(X_test[numeric_cols])"
   ]
  },
  {
   "cell_type": "code",
   "execution_count": 760,
   "metadata": {},
   "outputs": [],
   "source": [
    "from keras.callbacks import ReduceLROnPlateau\n",
    "reduce_lr = ReduceLROnPlateau(monitor='val_loss', factor=0.2,\n",
    "                              patience=5, min_lr=5e-4)"
   ]
  },
  {
   "cell_type": "markdown",
   "metadata": {},
   "source": [
    "### With learning rate scheduler, with BatchNorm and PReLU"
   ]
  },
  {
   "cell_type": "code",
   "execution_count": 761,
   "metadata": {},
   "outputs": [
    {
     "name": "stdout",
     "output_type": "stream",
     "text": [
      "Train on 18054 samples, validate on 2006 samples\n",
      "Epoch 1/100\n",
      "18054/18054 [==============================] - 20s 1ms/step - loss: 1.0306 - acc: 0.4793 - val_loss: 0.9726 - val_acc: 0.5384\n",
      "Epoch 2/100\n",
      "18054/18054 [==============================] - 13s 732us/step - loss: 0.9524 - acc: 0.5459 - val_loss: 1.1179 - val_acc: 0.5030\n",
      "Epoch 3/100\n",
      "18054/18054 [==============================] - 13s 708us/step - loss: 0.9381 - acc: 0.5542 - val_loss: 1.0226 - val_acc: 0.5035\n",
      "Epoch 4/100\n",
      "18054/18054 [==============================] - 13s 701us/step - loss: 0.9374 - acc: 0.5572 - val_loss: 0.9341 - val_acc: 0.5693\n",
      "Epoch 5/100\n",
      "18054/18054 [==============================] - 13s 694us/step - loss: 0.9329 - acc: 0.5616 - val_loss: 0.9441 - val_acc: 0.5414\n",
      "Epoch 6/100\n",
      "18054/18054 [==============================] - 13s 701us/step - loss: 0.9306 - acc: 0.5606 - val_loss: 0.9220 - val_acc: 0.5683\n",
      "Epoch 7/100\n",
      "18054/18054 [==============================] - 13s 705us/step - loss: 0.9297 - acc: 0.5649 - val_loss: 1.0002 - val_acc: 0.4995\n",
      "Epoch 8/100\n",
      "18054/18054 [==============================] - 13s 712us/step - loss: 0.9276 - acc: 0.5620 - val_loss: 0.9701 - val_acc: 0.5174\n",
      "Epoch 9/100\n",
      "18054/18054 [==============================] - 13s 708us/step - loss: 0.9269 - acc: 0.5616 - val_loss: 0.9920 - val_acc: 0.4965\n",
      "Epoch 10/100\n",
      "18054/18054 [==============================] - 14s 783us/step - loss: 0.9264 - acc: 0.5637 - val_loss: 0.9222 - val_acc: 0.5494\n",
      "Epoch 11/100\n",
      "18054/18054 [==============================] - 14s 766us/step - loss: 0.9232 - acc: 0.5657 - val_loss: 0.9250 - val_acc: 0.5558\n",
      "Epoch 12/100\n",
      "18054/18054 [==============================] - 16s 869us/step - loss: 0.9205 - acc: 0.5694 - val_loss: 0.9339 - val_acc: 0.5513\n",
      "Epoch 13/100\n",
      "18054/18054 [==============================] - 16s 870us/step - loss: 0.9171 - acc: 0.5698 - val_loss: 0.9272 - val_acc: 0.5424\n",
      "Epoch 14/100\n",
      "18054/18054 [==============================] - 16s 874us/step - loss: 0.9166 - acc: 0.5661 - val_loss: 0.9144 - val_acc: 0.5673\n",
      "Epoch 15/100\n",
      "18054/18054 [==============================] - 16s 866us/step - loss: 0.9152 - acc: 0.5668 - val_loss: 0.9160 - val_acc: 0.5623\n",
      "Epoch 16/100\n",
      "18054/18054 [==============================] - 15s 851us/step - loss: 0.9166 - acc: 0.5688 - val_loss: 0.9137 - val_acc: 0.5758\n",
      "Epoch 17/100\n",
      "18054/18054 [==============================] - 15s 831us/step - loss: 0.9163 - acc: 0.5691 - val_loss: 0.9200 - val_acc: 0.5593\n",
      "Epoch 18/100\n",
      "18054/18054 [==============================] - 15s 854us/step - loss: 0.9128 - acc: 0.5736 - val_loss: 0.9090 - val_acc: 0.5748\n",
      "Epoch 19/100\n",
      "18054/18054 [==============================] - 15s 824us/step - loss: 0.9140 - acc: 0.5690 - val_loss: 0.9117 - val_acc: 0.5713\n",
      "Epoch 20/100\n",
      "18054/18054 [==============================] - 15s 855us/step - loss: 0.9134 - acc: 0.5748 - val_loss: 0.9145 - val_acc: 0.5723\n",
      "Epoch 21/100\n",
      "18054/18054 [==============================] - 15s 857us/step - loss: 0.9142 - acc: 0.5741 - val_loss: 0.9085 - val_acc: 0.5718\n",
      "Epoch 22/100\n",
      "18054/18054 [==============================] - 15s 846us/step - loss: 0.9130 - acc: 0.5717 - val_loss: 0.9179 - val_acc: 0.5643\n",
      "Epoch 23/100\n",
      "18054/18054 [==============================] - 15s 838us/step - loss: 0.9155 - acc: 0.5726 - val_loss: 0.9217 - val_acc: 0.5638\n",
      "Epoch 24/100\n",
      "18054/18054 [==============================] - 15s 857us/step - loss: 0.9089 - acc: 0.5734 - val_loss: 0.9279 - val_acc: 0.5543\n",
      "Epoch 25/100\n",
      "18054/18054 [==============================] - 15s 843us/step - loss: 0.9142 - acc: 0.5698 - val_loss: 0.9200 - val_acc: 0.5593\n",
      "Epoch 26/100\n",
      "18054/18054 [==============================] - 16s 859us/step - loss: 0.9132 - acc: 0.5711 - val_loss: 0.9119 - val_acc: 0.5668\n",
      "Epoch 27/100\n",
      "18054/18054 [==============================] - 15s 846us/step - loss: 0.9092 - acc: 0.5710 - val_loss: 0.9096 - val_acc: 0.5738\n",
      "Epoch 28/100\n",
      "18054/18054 [==============================] - 15s 854us/step - loss: 0.9123 - acc: 0.5717 - val_loss: 0.9104 - val_acc: 0.5643\n",
      "Epoch 29/100\n",
      "18054/18054 [==============================] - 15s 851us/step - loss: 0.9083 - acc: 0.5743 - val_loss: 0.9108 - val_acc: 0.5698\n",
      "Epoch 30/100\n",
      "18054/18054 [==============================] - 15s 844us/step - loss: 0.9121 - acc: 0.5747 - val_loss: 0.9143 - val_acc: 0.5663\n",
      "Epoch 31/100\n",
      "18054/18054 [==============================] - 16s 859us/step - loss: 0.9097 - acc: 0.5759 - val_loss: 0.9090 - val_acc: 0.5723\n",
      "Epoch 32/100\n",
      "18054/18054 [==============================] - 15s 857us/step - loss: 0.9115 - acc: 0.5727 - val_loss: 0.9156 - val_acc: 0.5593\n",
      "Epoch 33/100\n",
      "18054/18054 [==============================] - 15s 854us/step - loss: 0.9115 - acc: 0.5708 - val_loss: 0.9123 - val_acc: 0.5678\n",
      "Epoch 34/100\n",
      "18054/18054 [==============================] - 16s 865us/step - loss: 0.9107 - acc: 0.5736 - val_loss: 0.9075 - val_acc: 0.5698\n",
      "Epoch 35/100\n",
      "18054/18054 [==============================] - 16s 866us/step - loss: 0.9088 - acc: 0.5759 - val_loss: 0.9100 - val_acc: 0.5678\n",
      "Epoch 36/100\n",
      "18054/18054 [==============================] - 16s 862us/step - loss: 0.9076 - acc: 0.5742 - val_loss: 0.9119 - val_acc: 0.5578\n",
      "Epoch 37/100\n",
      "18054/18054 [==============================] - 15s 859us/step - loss: 0.9107 - acc: 0.5710 - val_loss: 0.9089 - val_acc: 0.5758\n",
      "Epoch 38/100\n",
      "18054/18054 [==============================] - 15s 852us/step - loss: 0.9067 - acc: 0.5772 - val_loss: 0.9103 - val_acc: 0.5643\n",
      "Epoch 39/100\n",
      "18054/18054 [==============================] - 16s 860us/step - loss: 0.9084 - acc: 0.5736 - val_loss: 0.9073 - val_acc: 0.5723\n",
      "Epoch 40/100\n",
      "18054/18054 [==============================] - 15s 855us/step - loss: 0.9064 - acc: 0.5763 - val_loss: 0.9106 - val_acc: 0.5718\n",
      "Epoch 41/100\n",
      "18054/18054 [==============================] - 16s 864us/step - loss: 0.9077 - acc: 0.5769 - val_loss: 0.9118 - val_acc: 0.5668\n",
      "Epoch 42/100\n",
      "18054/18054 [==============================] - 15s 857us/step - loss: 0.9083 - acc: 0.5762 - val_loss: 0.9237 - val_acc: 0.5573\n",
      "Epoch 43/100\n",
      "18054/18054 [==============================] - 15s 851us/step - loss: 0.9113 - acc: 0.5760 - val_loss: 0.9078 - val_acc: 0.5748\n",
      "Epoch 44/100\n",
      "18054/18054 [==============================] - 15s 840us/step - loss: 0.9078 - acc: 0.5736 - val_loss: 0.9093 - val_acc: 0.5678\n",
      "Epoch 45/100\n",
      "18054/18054 [==============================] - 15s 857us/step - loss: 0.9042 - acc: 0.5748 - val_loss: 0.9131 - val_acc: 0.5608\n",
      "Epoch 46/100\n",
      "18054/18054 [==============================] - 16s 861us/step - loss: 0.9071 - acc: 0.5728 - val_loss: 0.9086 - val_acc: 0.5768\n",
      "Epoch 47/100\n",
      "18054/18054 [==============================] - 16s 862us/step - loss: 0.9051 - acc: 0.5763 - val_loss: 0.9156 - val_acc: 0.5663\n",
      "Epoch 48/100\n",
      "18054/18054 [==============================] - 15s 843us/step - loss: 0.9060 - acc: 0.5775 - val_loss: 0.9085 - val_acc: 0.5773\n",
      "Epoch 49/100\n",
      "18054/18054 [==============================] - 15s 844us/step - loss: 0.9041 - acc: 0.5760 - val_loss: 0.9074 - val_acc: 0.5748\n",
      "Epoch 50/100\n",
      "18054/18054 [==============================] - 15s 853us/step - loss: 0.9018 - acc: 0.5760 - val_loss: 0.9112 - val_acc: 0.5783\n",
      "Epoch 51/100\n",
      "18054/18054 [==============================] - 15s 847us/step - loss: 0.9056 - acc: 0.5748 - val_loss: 0.9182 - val_acc: 0.5593\n",
      "Epoch 52/100\n",
      "18054/18054 [==============================] - 15s 849us/step - loss: 0.9054 - acc: 0.5760 - val_loss: 0.9100 - val_acc: 0.5793\n",
      "Epoch 53/100\n",
      "18054/18054 [==============================] - 16s 874us/step - loss: 0.9065 - acc: 0.5776 - val_loss: 0.9113 - val_acc: 0.5698\n",
      "Epoch 54/100\n",
      "18054/18054 [==============================] - 16s 864us/step - loss: 0.9016 - acc: 0.5823 - val_loss: 0.9085 - val_acc: 0.5763\n",
      "Epoch 55/100\n",
      "18054/18054 [==============================] - 16s 863us/step - loss: 0.9012 - acc: 0.5806 - val_loss: 0.9069 - val_acc: 0.5778\n",
      "Epoch 56/100\n",
      "18054/18054 [==============================] - 15s 838us/step - loss: 0.8983 - acc: 0.5840 - val_loss: 0.9055 - val_acc: 0.5808\n",
      "Epoch 57/100\n",
      "18054/18054 [==============================] - 14s 797us/step - loss: 0.9011 - acc: 0.5815 - val_loss: 0.9095 - val_acc: 0.5758\n",
      "Epoch 58/100\n",
      "18054/18054 [==============================] - 15s 814us/step - loss: 0.9035 - acc: 0.5793 - val_loss: 0.9065 - val_acc: 0.5758\n"
     ]
    },
    {
     "name": "stdout",
     "output_type": "stream",
     "text": [
      "Epoch 59/100\n",
      "18054/18054 [==============================] - 14s 780us/step - loss: 0.9008 - acc: 0.5835 - val_loss: 0.9080 - val_acc: 0.5743\n",
      "Epoch 60/100\n",
      "18054/18054 [==============================] - 13s 724us/step - loss: 0.9027 - acc: 0.5779 - val_loss: 0.9077 - val_acc: 0.5793\n",
      "Epoch 61/100\n",
      "18054/18054 [==============================] - 13s 713us/step - loss: 0.9008 - acc: 0.5782 - val_loss: 0.9085 - val_acc: 0.5753\n",
      "Epoch 62/100\n",
      "18054/18054 [==============================] - 13s 747us/step - loss: 0.9033 - acc: 0.5788 - val_loss: 0.9071 - val_acc: 0.5798\n",
      "Epoch 63/100\n",
      "18054/18054 [==============================] - 13s 730us/step - loss: 0.9028 - acc: 0.5834 - val_loss: 0.9051 - val_acc: 0.5862\n",
      "Epoch 64/100\n",
      "18054/18054 [==============================] - 14s 797us/step - loss: 0.9021 - acc: 0.5800 - val_loss: 0.9076 - val_acc: 0.5778\n",
      "Epoch 65/100\n",
      "18054/18054 [==============================] - 15s 847us/step - loss: 0.9005 - acc: 0.5803 - val_loss: 0.9073 - val_acc: 0.5798\n",
      "Epoch 66/100\n",
      "18054/18054 [==============================] - 14s 787us/step - loss: 0.8980 - acc: 0.5817 - val_loss: 0.9105 - val_acc: 0.5803\n",
      "Epoch 67/100\n",
      "18054/18054 [==============================] - 14s 755us/step - loss: 0.8991 - acc: 0.5825 - val_loss: 0.9127 - val_acc: 0.5798\n",
      "Epoch 68/100\n",
      "18054/18054 [==============================] - 14s 785us/step - loss: 0.8965 - acc: 0.5854 - val_loss: 0.9071 - val_acc: 0.5818\n",
      "Epoch 69/100\n",
      "18054/18054 [==============================] - 14s 778us/step - loss: 0.8981 - acc: 0.5790 - val_loss: 0.9082 - val_acc: 0.5803\n",
      "Epoch 70/100\n",
      "18054/18054 [==============================] - 14s 781us/step - loss: 0.8976 - acc: 0.5849 - val_loss: 0.9092 - val_acc: 0.5783\n",
      "Epoch 71/100\n",
      "18054/18054 [==============================] - 14s 782us/step - loss: 0.8974 - acc: 0.5878 - val_loss: 0.9122 - val_acc: 0.5783\n",
      "Epoch 72/100\n",
      "18054/18054 [==============================] - 14s 779us/step - loss: 0.8975 - acc: 0.5803 - val_loss: 0.9053 - val_acc: 0.5857\n",
      "Epoch 73/100\n",
      "18054/18054 [==============================] - 14s 785us/step - loss: 0.9000 - acc: 0.5823 - val_loss: 0.9124 - val_acc: 0.5793\n",
      "Epoch 74/100\n",
      "18054/18054 [==============================] - 14s 776us/step - loss: 0.8982 - acc: 0.5822 - val_loss: 0.9074 - val_acc: 0.5828\n",
      "Epoch 75/100\n",
      "18054/18054 [==============================] - 14s 780us/step - loss: 0.8980 - acc: 0.5831 - val_loss: 0.9075 - val_acc: 0.5862\n",
      "Epoch 76/100\n",
      "18054/18054 [==============================] - 14s 780us/step - loss: 0.8943 - acc: 0.5867 - val_loss: 0.9080 - val_acc: 0.5828\n",
      "Epoch 77/100\n",
      "18054/18054 [==============================] - 14s 761us/step - loss: 0.8993 - acc: 0.5839 - val_loss: 0.9095 - val_acc: 0.5867\n",
      "Epoch 78/100\n",
      "18054/18054 [==============================] - 14s 779us/step - loss: 0.8953 - acc: 0.5851 - val_loss: 0.9088 - val_acc: 0.5798\n",
      "Epoch 79/100\n",
      "18054/18054 [==============================] - 14s 783us/step - loss: 0.8937 - acc: 0.5852 - val_loss: 0.9065 - val_acc: 0.5783\n",
      "Epoch 80/100\n",
      "18054/18054 [==============================] - 14s 771us/step - loss: 0.8927 - acc: 0.5864 - val_loss: 0.9145 - val_acc: 0.5847\n",
      "Epoch 81/100\n",
      "18054/18054 [==============================] - 14s 778us/step - loss: 0.8946 - acc: 0.5849 - val_loss: 0.9073 - val_acc: 0.5823\n",
      "Epoch 82/100\n",
      "18054/18054 [==============================] - 14s 785us/step - loss: 0.8914 - acc: 0.5858 - val_loss: 0.9089 - val_acc: 0.5818\n",
      "Epoch 83/100\n",
      "18054/18054 [==============================] - 14s 794us/step - loss: 0.8936 - acc: 0.5854 - val_loss: 0.9052 - val_acc: 0.5877\n",
      "Epoch 84/100\n",
      "18054/18054 [==============================] - 14s 778us/step - loss: 0.8922 - acc: 0.5884 - val_loss: 0.9056 - val_acc: 0.5877\n",
      "Epoch 85/100\n",
      "18054/18054 [==============================] - 14s 762us/step - loss: 0.8951 - acc: 0.5856 - val_loss: 0.9069 - val_acc: 0.5833\n",
      "Epoch 86/100\n",
      "18054/18054 [==============================] - 14s 788us/step - loss: 0.8932 - acc: 0.5842 - val_loss: 0.9066 - val_acc: 0.5862\n",
      "Epoch 87/100\n",
      "18054/18054 [==============================] - 14s 784us/step - loss: 0.8910 - acc: 0.5871 - val_loss: 0.9104 - val_acc: 0.5813\n",
      "Epoch 88/100\n",
      "18054/18054 [==============================] - 14s 788us/step - loss: 0.8931 - acc: 0.5859 - val_loss: 0.9120 - val_acc: 0.5818\n",
      "Epoch 89/100\n",
      "18054/18054 [==============================] - 14s 789us/step - loss: 0.8972 - acc: 0.5805 - val_loss: 0.9066 - val_acc: 0.5857\n",
      "Epoch 90/100\n",
      "18054/18054 [==============================] - 14s 785us/step - loss: 0.8916 - acc: 0.5899 - val_loss: 0.9082 - val_acc: 0.5823\n",
      "Epoch 91/100\n",
      "18054/18054 [==============================] - 14s 783us/step - loss: 0.8911 - acc: 0.5867 - val_loss: 0.9090 - val_acc: 0.5852\n",
      "Epoch 92/100\n",
      "18054/18054 [==============================] - 14s 780us/step - loss: 0.8902 - acc: 0.5888 - val_loss: 0.9132 - val_acc: 0.5798\n",
      "Epoch 93/100\n",
      "18054/18054 [==============================] - 14s 774us/step - loss: 0.8904 - acc: 0.5883 - val_loss: 0.9103 - val_acc: 0.5857\n",
      "Epoch 94/100\n",
      "18054/18054 [==============================] - 14s 783us/step - loss: 0.8890 - acc: 0.5891 - val_loss: 0.9077 - val_acc: 0.5887\n",
      "Epoch 95/100\n",
      "18054/18054 [==============================] - 14s 772us/step - loss: 0.8912 - acc: 0.5852 - val_loss: 0.9090 - val_acc: 0.5842\n",
      "Epoch 96/100\n",
      "18054/18054 [==============================] - 14s 789us/step - loss: 0.8913 - acc: 0.5885 - val_loss: 0.9069 - val_acc: 0.5833\n",
      "Epoch 97/100\n",
      "18054/18054 [==============================] - 14s 787us/step - loss: 0.8852 - acc: 0.5903 - val_loss: 0.9078 - val_acc: 0.5892\n",
      "Epoch 98/100\n",
      "18054/18054 [==============================] - 14s 774us/step - loss: 0.8876 - acc: 0.5886 - val_loss: 0.9081 - val_acc: 0.5803\n",
      "Epoch 99/100\n",
      "18054/18054 [==============================] - 14s 792us/step - loss: 0.8861 - acc: 0.5911 - val_loss: 0.9075 - val_acc: 0.5852\n",
      "Epoch 100/100\n",
      "18054/18054 [==============================] - 14s 779us/step - loss: 0.8898 - acc: 0.5885 - val_loss: 0.9068 - val_acc: 0.5852\n"
     ]
    }
   ],
   "source": [
    "history = full_model.fit(x=X_train_inputs, y=y_train_enc, batch_size=8, shuffle=True, epochs=100, \n",
    "          validation_data=(X_test_inputs, y_test_enc), callbacks=[reduce_lr])"
   ]
  },
  {
   "cell_type": "code",
   "execution_count": 762,
   "metadata": {},
   "outputs": [
    {
     "name": "stdout",
     "output_type": "stream",
     "text": [
      "dict_keys(['val_acc', 'val_loss', 'acc', 'loss', 'lr'])\n"
     ]
    },
    {
     "data": {
      "image/png": "[encoded data removed]",
      "text/plain": [
       "<Figure size 432x288 with 1 Axes>"
      ]
     },
     "metadata": {},
     "output_type": "display_data"
    }
   ],
   "source": [
    "import matplotlib.pyplot as plt\n",
    "\n",
    "# list all data in history\n",
    "print(history.history.keys())\n",
    "# summarize history for accuracy\n",
    "plt.plot(history.history['acc'])\n",
    "plt.plot(history.history['val_acc'])\n",
    "plt.title('model accuracy')\n",
    "plt.ylabel('accuracy')\n",
    "plt.xlabel('epoch')\n",
    "plt.legend(['train', 'test'], loc='upper left')\n",
    "plt.show()"
   ]
  },
  {
   "cell_type": "code",
   "execution_count": 763,
   "metadata": {},
   "outputs": [
    {
     "data": {
      "image/png": "[encoded data removed]",
      "text/plain": [
       "<Figure size 432x288 with 1 Axes>"
      ]
     },
     "metadata": {},
     "output_type": "display_data"
    }
   ],
   "source": [
    "# summarize history for loss\n",
    "plt.plot(history.history['loss'])\n",
    "plt.plot(history.history['val_loss'])\n",
    "plt.title('model loss')\n",
    "plt.ylabel('loss')\n",
    "plt.xlabel('epoch')\n",
    "plt.legend(['train', 'test'], loc='upper left')\n",
    "plt.show()"
   ]
  },
  {
   "cell_type": "code",
   "execution_count": 764,
   "metadata": {},
   "outputs": [
    {
     "name": "stdout",
     "output_type": "stream",
     "text": [
      "2006/2006 [==============================] - 1s 530us/step\n"
     ]
    },
    {
     "data": {
      "text/plain": [
       "[0.9067726417529143, 0.585244266901273]"
      ]
     },
     "execution_count": 764,
     "metadata": {},
     "output_type": "execute_result"
    }
   ],
   "source": [
    "full_model.evaluate(X_test_inputs, y_test_enc)\n"
   ]
  },
  {
   "cell_type": "markdown",
   "metadata": {},
   "source": [
    "### With learning rate scheduler, with Dropout"
   ]
  },
  {
   "cell_type": "code",
   "execution_count": 748,
   "metadata": {},
   "outputs": [
    {
     "name": "stdout",
     "output_type": "stream",
     "text": [
      "Train on 18054 samples, validate on 2006 samples\n",
      "Epoch 1/100\n",
      "18054/18054 [==============================] - 14s 775us/step - loss: 1.0086 - acc: 0.4997 - val_loss: 0.9291 - val_acc: 0.5489\n",
      "Epoch 2/100\n",
      "18054/18054 [==============================] - 11s 585us/step - loss: 0.9427 - acc: 0.5588 - val_loss: 0.9290 - val_acc: 0.5603\n",
      "Epoch 3/100\n",
      "18054/18054 [==============================] - 10s 575us/step - loss: 0.9327 - acc: 0.5657 - val_loss: 0.9246 - val_acc: 0.5613\n",
      "Epoch 4/100\n",
      "18054/18054 [==============================] - 11s 596us/step - loss: 0.9327 - acc: 0.5660 - val_loss: 0.9199 - val_acc: 0.5648\n",
      "Epoch 5/100\n",
      "18054/18054 [==============================] - 11s 589us/step - loss: 0.9262 - acc: 0.5698 - val_loss: 0.9238 - val_acc: 0.5663\n",
      "Epoch 6/100\n",
      "18054/18054 [==============================] - 11s 633us/step - loss: 0.9260 - acc: 0.5744 - val_loss: 0.9214 - val_acc: 0.5658\n",
      "Epoch 7/100\n",
      "18054/18054 [==============================] - 11s 631us/step - loss: 0.9205 - acc: 0.5701 - val_loss: 0.9185 - val_acc: 0.5663\n",
      "Epoch 8/100\n",
      "18054/18054 [==============================] - 11s 612us/step - loss: 0.9207 - acc: 0.5718 - val_loss: 0.9160 - val_acc: 0.5743\n",
      "Epoch 9/100\n",
      "18054/18054 [==============================] - 11s 584us/step - loss: 0.9181 - acc: 0.5729 - val_loss: 0.9232 - val_acc: 0.5688\n",
      "Epoch 10/100\n",
      "18054/18054 [==============================] - 11s 609us/step - loss: 0.9133 - acc: 0.5743 - val_loss: 0.9134 - val_acc: 0.5638\n",
      "Epoch 11/100\n",
      "18054/18054 [==============================] - 11s 621us/step - loss: 0.9132 - acc: 0.5752 - val_loss: 0.9162 - val_acc: 0.5713\n",
      "Epoch 12/100\n",
      "18054/18054 [==============================] - 11s 625us/step - loss: 0.9145 - acc: 0.5771 - val_loss: 0.9137 - val_acc: 0.5658\n",
      "Epoch 13/100\n",
      "18054/18054 [==============================] - 11s 619us/step - loss: 0.9101 - acc: 0.5741 - val_loss: 0.9084 - val_acc: 0.5718\n",
      "Epoch 14/100\n",
      "18054/18054 [==============================] - 11s 635us/step - loss: 0.9119 - acc: 0.5749 - val_loss: 0.9163 - val_acc: 0.5628\n",
      "Epoch 15/100\n",
      "18054/18054 [==============================] - 12s 639us/step - loss: 0.9132 - acc: 0.5754 - val_loss: 0.9144 - val_acc: 0.5673\n",
      "Epoch 16/100\n",
      "18054/18054 [==============================] - 10s 579us/step - loss: 0.9096 - acc: 0.5777 - val_loss: 0.9093 - val_acc: 0.5748\n",
      "Epoch 17/100\n",
      "18054/18054 [==============================] - 11s 589us/step - loss: 0.9083 - acc: 0.5808 - val_loss: 0.9171 - val_acc: 0.5678\n",
      "Epoch 18/100\n",
      "18054/18054 [==============================] - 11s 631us/step - loss: 0.9108 - acc: 0.5772 - val_loss: 0.9098 - val_acc: 0.5743\n",
      "Epoch 19/100\n",
      "18054/18054 [==============================] - 11s 620us/step - loss: 0.9082 - acc: 0.5798 - val_loss: 0.9140 - val_acc: 0.5758\n",
      "Epoch 20/100\n",
      "18054/18054 [==============================] - 11s 619us/step - loss: 0.9039 - acc: 0.5814 - val_loss: 0.9091 - val_acc: 0.5708\n",
      "Epoch 21/100\n",
      "18054/18054 [==============================] - 12s 644us/step - loss: 0.9028 - acc: 0.5785 - val_loss: 0.9118 - val_acc: 0.5733\n",
      "Epoch 22/100\n",
      "18054/18054 [==============================] - 12s 640us/step - loss: 0.9003 - acc: 0.5800 - val_loss: 0.9088 - val_acc: 0.5718\n",
      "Epoch 23/100\n",
      "18054/18054 [==============================] - 11s 620us/step - loss: 0.9004 - acc: 0.5830 - val_loss: 0.9094 - val_acc: 0.5718\n",
      "Epoch 24/100\n",
      "18054/18054 [==============================] - 11s 588us/step - loss: 0.9011 - acc: 0.5810 - val_loss: 0.9102 - val_acc: 0.5728\n",
      "Epoch 25/100\n",
      "18054/18054 [==============================] - 11s 624us/step - loss: 0.9011 - acc: 0.5830 - val_loss: 0.9113 - val_acc: 0.5728\n",
      "Epoch 26/100\n",
      "18054/18054 [==============================] - 11s 616us/step - loss: 0.9013 - acc: 0.5829 - val_loss: 0.9159 - val_acc: 0.5613\n",
      "Epoch 27/100\n",
      "18054/18054 [==============================] - 11s 623us/step - loss: 0.9028 - acc: 0.5801 - val_loss: 0.9097 - val_acc: 0.5703\n",
      "Epoch 28/100\n",
      "18054/18054 [==============================] - 12s 669us/step - loss: 0.9021 - acc: 0.5845 - val_loss: 0.9073 - val_acc: 0.5758\n",
      "Epoch 29/100\n",
      "18054/18054 [==============================] - 11s 636us/step - loss: 0.8995 - acc: 0.5835 - val_loss: 0.9076 - val_acc: 0.5723\n",
      "Epoch 30/100\n",
      "18054/18054 [==============================] - 11s 614us/step - loss: 0.9024 - acc: 0.5803 - val_loss: 0.9083 - val_acc: 0.5673\n",
      "Epoch 31/100\n",
      "18054/18054 [==============================] - 11s 617us/step - loss: 0.9031 - acc: 0.5800 - val_loss: 0.9087 - val_acc: 0.5718\n",
      "Epoch 32/100\n",
      "18054/18054 [==============================] - 11s 607us/step - loss: 0.8995 - acc: 0.5827 - val_loss: 0.9106 - val_acc: 0.5743\n",
      "Epoch 33/100\n",
      "18054/18054 [==============================] - 12s 647us/step - loss: 0.9008 - acc: 0.5815 - val_loss: 0.9087 - val_acc: 0.5703\n",
      "Epoch 34/100\n",
      "18054/18054 [==============================] - 11s 624us/step - loss: 0.9011 - acc: 0.5823 - val_loss: 0.9152 - val_acc: 0.5648\n",
      "Epoch 35/100\n",
      "18054/18054 [==============================] - 11s 617us/step - loss: 0.8984 - acc: 0.5831 - val_loss: 0.9086 - val_acc: 0.5653\n",
      "Epoch 36/100\n",
      "18054/18054 [==============================] - 11s 613us/step - loss: 0.8992 - acc: 0.5828 - val_loss: 0.9172 - val_acc: 0.5708\n",
      "Epoch 37/100\n",
      "18054/18054 [==============================] - 11s 601us/step - loss: 0.9008 - acc: 0.5824 - val_loss: 0.9087 - val_acc: 0.5698\n",
      "Epoch 38/100\n",
      "18054/18054 [==============================] - 11s 590us/step - loss: 0.8984 - acc: 0.5804 - val_loss: 0.9095 - val_acc: 0.5733\n",
      "Epoch 39/100\n",
      "18054/18054 [==============================] - 12s 639us/step - loss: 0.8991 - acc: 0.5850 - val_loss: 0.9082 - val_acc: 0.5718\n",
      "Epoch 40/100\n",
      "18054/18054 [==============================] - 11s 586us/step - loss: 0.8995 - acc: 0.5856 - val_loss: 0.9091 - val_acc: 0.5728\n",
      "Epoch 41/100\n",
      "18054/18054 [==============================] - 11s 618us/step - loss: 0.8966 - acc: 0.5846 - val_loss: 0.9117 - val_acc: 0.5738\n",
      "Epoch 42/100\n",
      "18054/18054 [==============================] - 11s 613us/step - loss: 0.8991 - acc: 0.5818 - val_loss: 0.9105 - val_acc: 0.5728\n",
      "Epoch 43/100\n",
      "18054/18054 [==============================] - 11s 615us/step - loss: 0.8999 - acc: 0.5828 - val_loss: 0.9135 - val_acc: 0.5698\n",
      "Epoch 44/100\n",
      "18054/18054 [==============================] - 11s 620us/step - loss: 0.8988 - acc: 0.5826 - val_loss: 0.9085 - val_acc: 0.5708\n",
      "Epoch 45/100\n",
      "18054/18054 [==============================] - 11s 602us/step - loss: 0.9000 - acc: 0.5810 - val_loss: 0.9088 - val_acc: 0.5668\n",
      "Epoch 46/100\n",
      "18054/18054 [==============================] - 10s 565us/step - loss: 0.8956 - acc: 0.5858 - val_loss: 0.9157 - val_acc: 0.5663\n",
      "Epoch 47/100\n",
      "18054/18054 [==============================] - 11s 604us/step - loss: 0.8957 - acc: 0.5862 - val_loss: 0.9101 - val_acc: 0.5723\n",
      "Epoch 48/100\n",
      "18054/18054 [==============================] - 11s 608us/step - loss: 0.8973 - acc: 0.5827 - val_loss: 0.9091 - val_acc: 0.5723\n",
      "Epoch 49/100\n",
      "18054/18054 [==============================] - 11s 632us/step - loss: 0.8978 - acc: 0.5822 - val_loss: 0.9074 - val_acc: 0.5733\n",
      "Epoch 50/100\n",
      "18054/18054 [==============================] - 11s 608us/step - loss: 0.9006 - acc: 0.5837 - val_loss: 0.9102 - val_acc: 0.5693\n",
      "Epoch 51/100\n",
      "18054/18054 [==============================] - 11s 624us/step - loss: 0.8987 - acc: 0.5808 - val_loss: 0.9078 - val_acc: 0.5728\n",
      "Epoch 52/100\n",
      "18054/18054 [==============================] - 11s 613us/step - loss: 0.8996 - acc: 0.5819 - val_loss: 0.9096 - val_acc: 0.5703\n",
      "Epoch 53/100\n",
      "18054/18054 [==============================] - 11s 619us/step - loss: 0.8983 - acc: 0.5830 - val_loss: 0.9079 - val_acc: 0.5723\n",
      "Epoch 54/100\n",
      "18054/18054 [==============================] - 11s 618us/step - loss: 0.8976 - acc: 0.5851 - val_loss: 0.9106 - val_acc: 0.5668\n",
      "Epoch 55/100\n",
      "18054/18054 [==============================] - 11s 618us/step - loss: 0.8979 - acc: 0.5807 - val_loss: 0.9084 - val_acc: 0.5733\n",
      "Epoch 56/100\n",
      "18054/18054 [==============================] - 11s 606us/step - loss: 0.8953 - acc: 0.5846 - val_loss: 0.9075 - val_acc: 0.5698\n",
      "Epoch 57/100\n",
      "18054/18054 [==============================] - 11s 610us/step - loss: 0.8977 - acc: 0.5842 - val_loss: 0.9080 - val_acc: 0.5763\n",
      "Epoch 58/100\n",
      "18054/18054 [==============================] - 11s 616us/step - loss: 0.8953 - acc: 0.5834 - val_loss: 0.9092 - val_acc: 0.5713\n"
     ]
    },
    {
     "name": "stdout",
     "output_type": "stream",
     "text": [
      "Epoch 59/100\n",
      "18054/18054 [==============================] - 11s 627us/step - loss: 0.9013 - acc: 0.5814 - val_loss: 0.9118 - val_acc: 0.5648\n",
      "Epoch 60/100\n",
      "18054/18054 [==============================] - 11s 637us/step - loss: 0.8977 - acc: 0.5834 - val_loss: 0.9091 - val_acc: 0.5708\n",
      "Epoch 61/100\n",
      "18054/18054 [==============================] - 9s 511us/step - loss: 0.8959 - acc: 0.5873 - val_loss: 0.9077 - val_acc: 0.5723\n",
      "Epoch 62/100\n",
      "18054/18054 [==============================] - 8s 459us/step - loss: 0.8996 - acc: 0.5801 - val_loss: 0.9119 - val_acc: 0.5713\n",
      "Epoch 63/100\n",
      "18054/18054 [==============================] - 9s 485us/step - loss: 0.8974 - acc: 0.5832 - val_loss: 0.9108 - val_acc: 0.5688\n",
      "Epoch 64/100\n",
      "18054/18054 [==============================] - 9s 475us/step - loss: 0.8965 - acc: 0.5866 - val_loss: 0.9073 - val_acc: 0.5768\n",
      "Epoch 65/100\n",
      "18054/18054 [==============================] - 9s 487us/step - loss: 0.8994 - acc: 0.5844 - val_loss: 0.9079 - val_acc: 0.5733\n",
      "Epoch 66/100\n",
      "18054/18054 [==============================] - 9s 524us/step - loss: 0.8960 - acc: 0.5852 - val_loss: 0.9086 - val_acc: 0.5698\n",
      "Epoch 67/100\n",
      "18054/18054 [==============================] - 9s 484us/step - loss: 0.8962 - acc: 0.5870 - val_loss: 0.9087 - val_acc: 0.5703\n",
      "Epoch 68/100\n",
      "18054/18054 [==============================] - 9s 471us/step - loss: 0.8972 - acc: 0.5848 - val_loss: 0.9092 - val_acc: 0.5733\n",
      "Epoch 69/100\n",
      "18054/18054 [==============================] - 8s 460us/step - loss: 0.8987 - acc: 0.5846 - val_loss: 0.9097 - val_acc: 0.5693\n",
      "Epoch 70/100\n",
      "18054/18054 [==============================] - 8s 456us/step - loss: 0.8954 - acc: 0.5827 - val_loss: 0.9109 - val_acc: 0.5718\n",
      "Epoch 71/100\n",
      "18054/18054 [==============================] - 8s 445us/step - loss: 0.8984 - acc: 0.5807 - val_loss: 0.9141 - val_acc: 0.5663\n",
      "Epoch 72/100\n",
      "18054/18054 [==============================] - 8s 450us/step - loss: 0.8970 - acc: 0.5847 - val_loss: 0.9110 - val_acc: 0.5743\n",
      "Epoch 73/100\n",
      "18054/18054 [==============================] - 8s 438us/step - loss: 0.8954 - acc: 0.5892 - val_loss: 0.9096 - val_acc: 0.5708\n",
      "Epoch 74/100\n",
      "18054/18054 [==============================] - 9s 488us/step - loss: 0.8965 - acc: 0.5868 - val_loss: 0.9089 - val_acc: 0.5723\n",
      "Epoch 75/100\n",
      "18054/18054 [==============================] - 9s 506us/step - loss: 0.8969 - acc: 0.5823 - val_loss: 0.9081 - val_acc: 0.5758\n",
      "Epoch 76/100\n",
      "18054/18054 [==============================] - 9s 494us/step - loss: 0.8976 - acc: 0.5839 - val_loss: 0.9089 - val_acc: 0.5738\n",
      "Epoch 77/100\n",
      "18054/18054 [==============================] - 9s 473us/step - loss: 0.8958 - acc: 0.5842 - val_loss: 0.9076 - val_acc: 0.5748\n",
      "Epoch 78/100\n",
      "18054/18054 [==============================] - 9s 500us/step - loss: 0.8964 - acc: 0.5851 - val_loss: 0.9085 - val_acc: 0.5713\n",
      "Epoch 79/100\n",
      "18054/18054 [==============================] - 10s 528us/step - loss: 0.8971 - acc: 0.5855 - val_loss: 0.9085 - val_acc: 0.5703\n",
      "Epoch 80/100\n",
      "18054/18054 [==============================] - 9s 479us/step - loss: 0.8959 - acc: 0.5817 - val_loss: 0.9110 - val_acc: 0.5668\n",
      "Epoch 81/100\n",
      "18054/18054 [==============================] - 10s 550us/step - loss: 0.8988 - acc: 0.5796 - val_loss: 0.9082 - val_acc: 0.5723\n",
      "Epoch 82/100\n",
      "18054/18054 [==============================] - 10s 578us/step - loss: 0.8971 - acc: 0.5831 - val_loss: 0.9092 - val_acc: 0.5693\n",
      "Epoch 83/100\n",
      "18054/18054 [==============================] - 9s 522us/step - loss: 0.8963 - acc: 0.5815 - val_loss: 0.9114 - val_acc: 0.5683\n",
      "Epoch 84/100\n",
      "18054/18054 [==============================] - 9s 492us/step - loss: 0.8959 - acc: 0.5846 - val_loss: 0.9085 - val_acc: 0.5723\n",
      "Epoch 85/100\n",
      "18054/18054 [==============================] - 9s 472us/step - loss: 0.8964 - acc: 0.5847 - val_loss: 0.9087 - val_acc: 0.5748\n",
      "Epoch 86/100\n",
      "18054/18054 [==============================] - 8s 469us/step - loss: 0.8959 - acc: 0.5840 - val_loss: 0.9077 - val_acc: 0.5728\n",
      "Epoch 87/100\n",
      "18054/18054 [==============================] - 9s 525us/step - loss: 0.8965 - acc: 0.5832 - val_loss: 0.9082 - val_acc: 0.5738\n",
      "Epoch 88/100\n",
      "18054/18054 [==============================] - 8s 439us/step - loss: 0.8926 - acc: 0.5912 - val_loss: 0.9085 - val_acc: 0.5693\n",
      "Epoch 89/100\n",
      "18054/18054 [==============================] - 10s 534us/step - loss: 0.8939 - acc: 0.5836 - val_loss: 0.9081 - val_acc: 0.5733\n",
      "Epoch 90/100\n",
      "18054/18054 [==============================] - 10s 528us/step - loss: 0.8958 - acc: 0.5830 - val_loss: 0.9090 - val_acc: 0.5703\n",
      "Epoch 91/100\n",
      "18054/18054 [==============================] - 9s 517us/step - loss: 0.8926 - acc: 0.5862 - val_loss: 0.9082 - val_acc: 0.5763\n",
      "Epoch 92/100\n",
      "18054/18054 [==============================] - 9s 473us/step - loss: 0.8956 - acc: 0.5831 - val_loss: 0.9079 - val_acc: 0.5738\n",
      "Epoch 93/100\n",
      "18054/18054 [==============================] - 9s 504us/step - loss: 0.8944 - acc: 0.5842 - val_loss: 0.9082 - val_acc: 0.5718\n",
      "Epoch 94/100\n",
      "18054/18054 [==============================] - 8s 464us/step - loss: 0.8945 - acc: 0.5809 - val_loss: 0.9087 - val_acc: 0.5698\n",
      "Epoch 95/100\n",
      "18054/18054 [==============================] - 8s 471us/step - loss: 0.8944 - acc: 0.5845 - val_loss: 0.9090 - val_acc: 0.5738\n",
      "Epoch 96/100\n",
      "18054/18054 [==============================] - 7s 401us/step - loss: 0.8946 - acc: 0.5872 - val_loss: 0.9095 - val_acc: 0.5663\n",
      "Epoch 97/100\n",
      "18054/18054 [==============================] - 9s 483us/step - loss: 0.8962 - acc: 0.5815 - val_loss: 0.9076 - val_acc: 0.5738\n",
      "Epoch 98/100\n",
      "18054/18054 [==============================] - 8s 433us/step - loss: 0.8965 - acc: 0.5833 - val_loss: 0.9079 - val_acc: 0.5698\n",
      "Epoch 99/100\n",
      "18054/18054 [==============================] - 9s 496us/step - loss: 0.8949 - acc: 0.5828 - val_loss: 0.9112 - val_acc: 0.5703\n",
      "Epoch 100/100\n",
      "18054/18054 [==============================] - 9s 480us/step - loss: 0.8931 - acc: 0.5857 - val_loss: 0.9081 - val_acc: 0.5703\n"
     ]
    }
   ],
   "source": [
    "history = full_model.fit(x=X_train_inputs, y=y_train_enc, batch_size=8, shuffle=True, epochs=100, \n",
    "          validation_data=(X_test_inputs, y_test_enc), callbacks=[reduce_lr])"
   ]
  },
  {
   "cell_type": "code",
   "execution_count": 749,
   "metadata": {},
   "outputs": [
    {
     "name": "stdout",
     "output_type": "stream",
     "text": [
      "dict_keys(['val_acc', 'val_loss', 'acc', 'loss', 'lr'])\n"
     ]
    },
    {
     "data": {
      "image/png": "[encoded data removed]",
      "text/plain": [
       "<Figure size 432x288 with 1 Axes>"
      ]
     },
     "metadata": {},
     "output_type": "display_data"
    }
   ],
   "source": [
    "import matplotlib.pyplot as plt\n",
    "\n",
    "# list all data in history\n",
    "print(history.history.keys())\n",
    "# summarize history for accuracy\n",
    "plt.plot(history.history['acc'])\n",
    "plt.plot(history.history['val_acc'])\n",
    "plt.title('model accuracy')\n",
    "plt.ylabel('accuracy')\n",
    "plt.xlabel('epoch')\n",
    "plt.legend(['train', 'test'], loc='upper left')\n",
    "plt.show()"
   ]
  },
  {
   "cell_type": "code",
   "execution_count": 750,
   "metadata": {},
   "outputs": [
    {
     "data": {
      "image/png": "[encoded data removed]",
      "text/plain": [
       "<Figure size 432x288 with 1 Axes>"
      ]
     },
     "metadata": {},
     "output_type": "display_data"
    }
   ],
   "source": [
    "# summarize history for loss\n",
    "plt.plot(history.history['loss'])\n",
    "plt.plot(history.history['val_loss'])\n",
    "plt.title('model loss')\n",
    "plt.ylabel('loss')\n",
    "plt.xlabel('epoch')\n",
    "plt.legend(['train', 'test'], loc='upper left')\n",
    "plt.show()"
   ]
  },
  {
   "cell_type": "markdown",
   "metadata": {},
   "source": [
    "### With learning rate scheduler"
   ]
  },
  {
   "cell_type": "code",
   "execution_count": 726,
   "metadata": {},
   "outputs": [
    {
     "name": "stdout",
     "output_type": "stream",
     "text": [
      "Train on 18054 samples, validate on 2006 samples\n",
      "Epoch 1/100\n",
      "18054/18054 [==============================] - 13s 741us/step - loss: 0.9814 - acc: 0.5176 - val_loss: 0.9793 - val_acc: 0.5434\n",
      "Epoch 2/100\n",
      "18054/18054 [==============================] - 11s 590us/step - loss: 0.9213 - acc: 0.5716 - val_loss: 0.9499 - val_acc: 0.5558\n",
      "Epoch 3/100\n",
      "18054/18054 [==============================] - 11s 624us/step - loss: 0.9159 - acc: 0.5712 - val_loss: 0.9280 - val_acc: 0.5518\n",
      "Epoch 4/100\n",
      "18054/18054 [==============================] - 13s 695us/step - loss: 0.9091 - acc: 0.5760 - val_loss: 0.9167 - val_acc: 0.5633\n",
      "Epoch 5/100\n",
      "18054/18054 [==============================] - 11s 621us/step - loss: 0.9037 - acc: 0.5789 - val_loss: 0.9263 - val_acc: 0.5573\n",
      "Epoch 6/100\n",
      "18054/18054 [==============================] - 12s 641us/step - loss: 0.8995 - acc: 0.5804 - val_loss: 0.9135 - val_acc: 0.5633\n",
      "Epoch 7/100\n",
      "18054/18054 [==============================] - 11s 617us/step - loss: 0.8972 - acc: 0.5813 - val_loss: 0.9352 - val_acc: 0.5503\n",
      "Epoch 8/100\n",
      "18054/18054 [==============================] - 12s 679us/step - loss: 0.8947 - acc: 0.5832 - val_loss: 0.9095 - val_acc: 0.5788\n",
      "Epoch 9/100\n",
      "18054/18054 [==============================] - 11s 604us/step - loss: 0.8923 - acc: 0.5837 - val_loss: 0.9074 - val_acc: 0.5753\n",
      "Epoch 10/100\n",
      "18054/18054 [==============================] - 11s 598us/step - loss: 0.8927 - acc: 0.5823 - val_loss: 0.9077 - val_acc: 0.5783\n",
      "Epoch 11/100\n",
      "18054/18054 [==============================] - 10s 555us/step - loss: 0.8899 - acc: 0.5876 - val_loss: 0.9180 - val_acc: 0.5688\n",
      "Epoch 12/100\n",
      "18054/18054 [==============================] - 10s 553us/step - loss: 0.8884 - acc: 0.5862 - val_loss: 0.9088 - val_acc: 0.5788\n",
      "Epoch 13/100\n",
      "18054/18054 [==============================] - 10s 549us/step - loss: 0.8870 - acc: 0.5884 - val_loss: 0.9246 - val_acc: 0.5558\n",
      "Epoch 14/100\n",
      "18054/18054 [==============================] - 10s 548us/step - loss: 0.8868 - acc: 0.5848 - val_loss: 0.9100 - val_acc: 0.5798\n",
      "Epoch 15/100\n",
      "18054/18054 [==============================] - 10s 566us/step - loss: 0.8851 - acc: 0.5880 - val_loss: 0.9159 - val_acc: 0.5743\n",
      "Epoch 16/100\n",
      "18054/18054 [==============================] - 13s 693us/step - loss: 0.8785 - acc: 0.5917 - val_loss: 0.9153 - val_acc: 0.5733\n",
      "Epoch 17/100\n",
      "18054/18054 [==============================] - 12s 661us/step - loss: 0.8778 - acc: 0.5931 - val_loss: 0.9107 - val_acc: 0.5758\n",
      "Epoch 18/100\n",
      "18054/18054 [==============================] - 11s 611us/step - loss: 0.8777 - acc: 0.5906 - val_loss: 0.9077 - val_acc: 0.5753\n",
      "Epoch 19/100\n",
      "18054/18054 [==============================] - 10s 561us/step - loss: 0.8764 - acc: 0.5910 - val_loss: 0.9155 - val_acc: 0.5683\n",
      "Epoch 20/100\n",
      "18054/18054 [==============================] - 10s 554us/step - loss: 0.8762 - acc: 0.5929 - val_loss: 0.9125 - val_acc: 0.5773\n",
      "Epoch 21/100\n",
      "18054/18054 [==============================] - 10s 557us/step - loss: 0.8754 - acc: 0.5937 - val_loss: 0.9123 - val_acc: 0.5778\n",
      "Epoch 22/100\n",
      "18054/18054 [==============================] - 10s 558us/step - loss: 0.8754 - acc: 0.5924 - val_loss: 0.9178 - val_acc: 0.5673\n",
      "Epoch 23/100\n",
      "18054/18054 [==============================] - 10s 541us/step - loss: 0.8744 - acc: 0.5920 - val_loss: 0.9151 - val_acc: 0.5708\n",
      "Epoch 24/100\n",
      "18054/18054 [==============================] - 10s 552us/step - loss: 0.8735 - acc: 0.5933 - val_loss: 0.9128 - val_acc: 0.5758\n",
      "Epoch 25/100\n",
      "18054/18054 [==============================] - 10s 549us/step - loss: 0.8729 - acc: 0.5954 - val_loss: 0.9117 - val_acc: 0.5723\n",
      "Epoch 26/100\n",
      "18054/18054 [==============================] - 10s 558us/step - loss: 0.8721 - acc: 0.5939 - val_loss: 0.9152 - val_acc: 0.5723\n",
      "Epoch 27/100\n",
      "18054/18054 [==============================] - 10s 571us/step - loss: 0.8719 - acc: 0.5954 - val_loss: 0.9153 - val_acc: 0.5773\n",
      "Epoch 28/100\n",
      "18054/18054 [==============================] - 11s 604us/step - loss: 0.8709 - acc: 0.5956 - val_loss: 0.9110 - val_acc: 0.5718\n",
      "Epoch 29/100\n",
      "18054/18054 [==============================] - 11s 605us/step - loss: 0.8709 - acc: 0.5931 - val_loss: 0.9123 - val_acc: 0.5733\n",
      "Epoch 30/100\n",
      "18054/18054 [==============================] - 11s 584us/step - loss: 0.8700 - acc: 0.5941 - val_loss: 0.9134 - val_acc: 0.5793\n",
      "Epoch 31/100\n",
      "18054/18054 [==============================] - 11s 616us/step - loss: 0.8692 - acc: 0.5922 - val_loss: 0.9114 - val_acc: 0.5728\n",
      "Epoch 32/100\n",
      "18054/18054 [==============================] - 14s 757us/step - loss: 0.8685 - acc: 0.5960 - val_loss: 0.9174 - val_acc: 0.5708\n",
      "Epoch 33/100\n",
      "18054/18054 [==============================] - 12s 687us/step - loss: 0.8688 - acc: 0.5952 - val_loss: 0.9160 - val_acc: 0.5743\n",
      "Epoch 34/100\n",
      "18054/18054 [==============================] - 10s 569us/step - loss: 0.8676 - acc: 0.5975 - val_loss: 0.9104 - val_acc: 0.5793\n",
      "Epoch 35/100\n",
      "18054/18054 [==============================] - 10s 552us/step - loss: 0.8675 - acc: 0.5965 - val_loss: 0.9119 - val_acc: 0.5768\n",
      "Epoch 36/100\n",
      "18054/18054 [==============================] - 10s 564us/step - loss: 0.8670 - acc: 0.5984 - val_loss: 0.9115 - val_acc: 0.5763\n",
      "Epoch 37/100\n",
      "18054/18054 [==============================] - 10s 542us/step - loss: 0.8667 - acc: 0.5948 - val_loss: 0.9159 - val_acc: 0.5798\n",
      "Epoch 38/100\n",
      "18054/18054 [==============================] - 10s 542us/step - loss: 0.8658 - acc: 0.6008 - val_loss: 0.9147 - val_acc: 0.5798\n",
      "Epoch 39/100\n",
      "18054/18054 [==============================] - 10s 553us/step - loss: 0.8660 - acc: 0.5964 - val_loss: 0.9075 - val_acc: 0.5773\n",
      "Epoch 40/100\n",
      "18054/18054 [==============================] - 10s 535us/step - loss: 0.8643 - acc: 0.5989 - val_loss: 0.9094 - val_acc: 0.5818\n",
      "Epoch 41/100\n",
      "18054/18054 [==============================] - 10s 544us/step - loss: 0.8650 - acc: 0.6015 - val_loss: 0.9111 - val_acc: 0.5798\n",
      "Epoch 42/100\n",
      "18054/18054 [==============================] - 10s 544us/step - loss: 0.8636 - acc: 0.5994 - val_loss: 0.9086 - val_acc: 0.5837\n",
      "Epoch 43/100\n",
      "18054/18054 [==============================] - 11s 591us/step - loss: 0.8638 - acc: 0.5983 - val_loss: 0.9141 - val_acc: 0.5753\n",
      "Epoch 44/100\n",
      "18054/18054 [==============================] - 11s 635us/step - loss: 0.8631 - acc: 0.5989 - val_loss: 0.9085 - val_acc: 0.5798\n",
      "Epoch 45/100\n",
      "18054/18054 [==============================] - 11s 591us/step - loss: 0.8631 - acc: 0.6022 - val_loss: 0.9095 - val_acc: 0.5813\n",
      "Epoch 46/100\n",
      "18054/18054 [==============================] - 10s 572us/step - loss: 0.8625 - acc: 0.6023 - val_loss: 0.9108 - val_acc: 0.5763\n",
      "Epoch 47/100\n",
      "18054/18054 [==============================] - 10s 552us/step - loss: 0.8618 - acc: 0.6011 - val_loss: 0.9196 - val_acc: 0.5683\n",
      "Epoch 48/100\n",
      "18054/18054 [==============================] - 10s 546us/step - loss: 0.8619 - acc: 0.6014 - val_loss: 0.9083 - val_acc: 0.5852\n",
      "Epoch 49/100\n",
      "18054/18054 [==============================] - 11s 633us/step - loss: 0.8614 - acc: 0.6004 - val_loss: 0.9100 - val_acc: 0.5793\n",
      "Epoch 50/100\n",
      "18054/18054 [==============================] - 11s 627us/step - loss: 0.8606 - acc: 0.6022 - val_loss: 0.9167 - val_acc: 0.5743\n",
      "Epoch 51/100\n",
      "18054/18054 [==============================] - 10s 563us/step - loss: 0.8607 - acc: 0.6032 - val_loss: 0.9093 - val_acc: 0.5813\n",
      "Epoch 52/100\n",
      "18054/18054 [==============================] - 10s 561us/step - loss: 0.8603 - acc: 0.6041 - val_loss: 0.9065 - val_acc: 0.5798\n",
      "Epoch 53/100\n",
      "18054/18054 [==============================] - 10s 556us/step - loss: 0.8594 - acc: 0.6028 - val_loss: 0.9098 - val_acc: 0.5833\n",
      "Epoch 54/100\n",
      "18054/18054 [==============================] - 10s 556us/step - loss: 0.8591 - acc: 0.6020 - val_loss: 0.9167 - val_acc: 0.5818\n",
      "Epoch 55/100\n",
      "18054/18054 [==============================] - 10s 576us/step - loss: 0.8585 - acc: 0.6051 - val_loss: 0.9098 - val_acc: 0.5857\n",
      "Epoch 56/100\n",
      "18054/18054 [==============================] - 10s 570us/step - loss: 0.8582 - acc: 0.6045 - val_loss: 0.9096 - val_acc: 0.5808\n",
      "Epoch 57/100\n",
      "18054/18054 [==============================] - 10s 541us/step - loss: 0.8576 - acc: 0.6018 - val_loss: 0.9115 - val_acc: 0.5768\n",
      "Epoch 58/100\n",
      "18054/18054 [==============================] - 10s 546us/step - loss: 0.8575 - acc: 0.6044 - val_loss: 0.9120 - val_acc: 0.5818\n"
     ]
    },
    {
     "name": "stdout",
     "output_type": "stream",
     "text": [
      "Epoch 59/100\n",
      "18054/18054 [==============================] - 10s 535us/step - loss: 0.8577 - acc: 0.6047 - val_loss: 0.9111 - val_acc: 0.5808\n",
      "Epoch 60/100\n",
      "18054/18054 [==============================] - 9s 524us/step - loss: 0.8574 - acc: 0.6049 - val_loss: 0.9096 - val_acc: 0.5808\n",
      "Epoch 61/100\n",
      "18054/18054 [==============================] - 10s 534us/step - loss: 0.8567 - acc: 0.6044 - val_loss: 0.9100 - val_acc: 0.5798\n",
      "Epoch 62/100\n",
      "18054/18054 [==============================] - 10s 554us/step - loss: 0.8564 - acc: 0.6036 - val_loss: 0.9080 - val_acc: 0.5783\n",
      "Epoch 63/100\n",
      "18054/18054 [==============================] - 10s 541us/step - loss: 0.8557 - acc: 0.6069 - val_loss: 0.9112 - val_acc: 0.5852\n",
      "Epoch 64/100\n",
      "18054/18054 [==============================] - 10s 552us/step - loss: 0.8550 - acc: 0.6042 - val_loss: 0.9150 - val_acc: 0.5798\n",
      "Epoch 65/100\n",
      "18054/18054 [==============================] - 10s 542us/step - loss: 0.8547 - acc: 0.6067 - val_loss: 0.9094 - val_acc: 0.5798\n",
      "Epoch 66/100\n",
      "18054/18054 [==============================] - 10s 533us/step - loss: 0.8546 - acc: 0.6069 - val_loss: 0.9134 - val_acc: 0.5798\n",
      "Epoch 67/100\n",
      "18054/18054 [==============================] - 10s 532us/step - loss: 0.8542 - acc: 0.6075 - val_loss: 0.9128 - val_acc: 0.5818\n",
      "Epoch 68/100\n",
      "18054/18054 [==============================] - 10s 539us/step - loss: 0.8542 - acc: 0.6075 - val_loss: 0.9087 - val_acc: 0.5823\n",
      "Epoch 69/100\n",
      "18054/18054 [==============================] - 10s 541us/step - loss: 0.8538 - acc: 0.6056 - val_loss: 0.9150 - val_acc: 0.5808\n",
      "Epoch 70/100\n",
      "18054/18054 [==============================] - 10s 546us/step - loss: 0.8532 - acc: 0.6083 - val_loss: 0.9107 - val_acc: 0.5833\n",
      "Epoch 71/100\n",
      "18054/18054 [==============================] - 10s 536us/step - loss: 0.8527 - acc: 0.6070 - val_loss: 0.9136 - val_acc: 0.5773\n",
      "Epoch 72/100\n",
      "18054/18054 [==============================] - 10s 560us/step - loss: 0.8526 - acc: 0.6075 - val_loss: 0.9101 - val_acc: 0.5783\n",
      "Epoch 73/100\n",
      "18054/18054 [==============================] - 10s 544us/step - loss: 0.8527 - acc: 0.6089 - val_loss: 0.9123 - val_acc: 0.5823\n",
      "Epoch 74/100\n",
      "18054/18054 [==============================] - 10s 539us/step - loss: 0.8520 - acc: 0.6078 - val_loss: 0.9108 - val_acc: 0.5748\n",
      "Epoch 75/100\n",
      "18054/18054 [==============================] - 10s 534us/step - loss: 0.8514 - acc: 0.6107 - val_loss: 0.9132 - val_acc: 0.5763\n",
      "Epoch 76/100\n",
      "18054/18054 [==============================] - 10s 547us/step - loss: 0.8513 - acc: 0.6088 - val_loss: 0.9106 - val_acc: 0.5788\n",
      "Epoch 77/100\n",
      "18054/18054 [==============================] - 10s 546us/step - loss: 0.8512 - acc: 0.6084 - val_loss: 0.9125 - val_acc: 0.5803\n",
      "Epoch 78/100\n",
      "18054/18054 [==============================] - 10s 531us/step - loss: 0.8503 - acc: 0.6093 - val_loss: 0.9116 - val_acc: 0.5773\n",
      "Epoch 79/100\n",
      "18054/18054 [==============================] - 10s 541us/step - loss: 0.8498 - acc: 0.6077 - val_loss: 0.9125 - val_acc: 0.5847\n",
      "Epoch 80/100\n",
      "18054/18054 [==============================] - 10s 559us/step - loss: 0.8497 - acc: 0.6113 - val_loss: 0.9116 - val_acc: 0.5793\n",
      "Epoch 81/100\n",
      "18054/18054 [==============================] - 10s 548us/step - loss: 0.8488 - acc: 0.6085 - val_loss: 0.9162 - val_acc: 0.5783\n",
      "Epoch 82/100\n",
      "18054/18054 [==============================] - 10s 546us/step - loss: 0.8484 - acc: 0.6108 - val_loss: 0.9118 - val_acc: 0.5828\n",
      "Epoch 83/100\n",
      "18054/18054 [==============================] - 10s 531us/step - loss: 0.8481 - acc: 0.6112 - val_loss: 0.9174 - val_acc: 0.5758\n",
      "Epoch 84/100\n",
      "18054/18054 [==============================] - 10s 545us/step - loss: 0.8479 - acc: 0.6127 - val_loss: 0.9133 - val_acc: 0.5768\n",
      "Epoch 85/100\n",
      "18054/18054 [==============================] - 10s 541us/step - loss: 0.8473 - acc: 0.6117 - val_loss: 0.9110 - val_acc: 0.5828\n",
      "Epoch 86/100\n",
      "18054/18054 [==============================] - 10s 566us/step - loss: 0.8471 - acc: 0.6101 - val_loss: 0.9180 - val_acc: 0.5833\n",
      "Epoch 87/100\n",
      "18054/18054 [==============================] - 10s 549us/step - loss: 0.8461 - acc: 0.6111 - val_loss: 0.9133 - val_acc: 0.5793\n",
      "Epoch 88/100\n",
      "18054/18054 [==============================] - 10s 548us/step - loss: 0.8461 - acc: 0.6123 - val_loss: 0.9151 - val_acc: 0.5748\n",
      "Epoch 89/100\n",
      "18054/18054 [==============================] - 10s 548us/step - loss: 0.8457 - acc: 0.6129 - val_loss: 0.9123 - val_acc: 0.5773\n",
      "Epoch 90/100\n",
      "18054/18054 [==============================] - 10s 546us/step - loss: 0.8451 - acc: 0.6124 - val_loss: 0.9136 - val_acc: 0.5818\n",
      "Epoch 91/100\n",
      "18054/18054 [==============================] - 10s 532us/step - loss: 0.8442 - acc: 0.6124 - val_loss: 0.9123 - val_acc: 0.5753\n",
      "Epoch 92/100\n",
      "18054/18054 [==============================] - 10s 555us/step - loss: 0.8444 - acc: 0.6132 - val_loss: 0.9191 - val_acc: 0.5813\n",
      "Epoch 93/100\n",
      "18054/18054 [==============================] - 10s 546us/step - loss: 0.8440 - acc: 0.6135 - val_loss: 0.9181 - val_acc: 0.5768\n",
      "Epoch 94/100\n",
      "18054/18054 [==============================] - 10s 550us/step - loss: 0.8433 - acc: 0.6142 - val_loss: 0.9149 - val_acc: 0.5743\n",
      "Epoch 95/100\n",
      "18054/18054 [==============================] - 10s 563us/step - loss: 0.8434 - acc: 0.6131 - val_loss: 0.9237 - val_acc: 0.5773\n",
      "Epoch 96/100\n",
      "18054/18054 [==============================] - 10s 547us/step - loss: 0.8430 - acc: 0.6139 - val_loss: 0.9155 - val_acc: 0.5803\n",
      "Epoch 97/100\n",
      "18054/18054 [==============================] - 10s 556us/step - loss: 0.8428 - acc: 0.6145 - val_loss: 0.9175 - val_acc: 0.5803\n",
      "Epoch 98/100\n",
      "18054/18054 [==============================] - 10s 549us/step - loss: 0.8422 - acc: 0.6165 - val_loss: 0.9183 - val_acc: 0.5808\n",
      "Epoch 99/100\n",
      "18054/18054 [==============================] - 10s 544us/step - loss: 0.8416 - acc: 0.6146 - val_loss: 0.9158 - val_acc: 0.5783\n",
      "Epoch 100/100\n",
      "18054/18054 [==============================] - 10s 538us/step - loss: 0.8416 - acc: 0.6128 - val_loss: 0.9163 - val_acc: 0.5763\n"
     ]
    }
   ],
   "source": [
    "history = full_model.fit(x=X_train_inputs, y=y_train_enc, batch_size=8, shuffle=True, epochs=100, \n",
    "          validation_data=(X_test_inputs, y_test_enc), callbacks=[reduce_lr])"
   ]
  },
  {
   "cell_type": "code",
   "execution_count": 727,
   "metadata": {},
   "outputs": [
    {
     "name": "stdout",
     "output_type": "stream",
     "text": [
      "dict_keys(['val_acc', 'val_loss', 'acc', 'loss', 'lr'])\n"
     ]
    },
    {
     "data": {
      "image/png": "[encoded data removed]",
      "text/plain": [
       "<Figure size 432x288 with 1 Axes>"
      ]
     },
     "metadata": {},
     "output_type": "display_data"
    }
   ],
   "source": [
    "import matplotlib.pyplot as plt\n",
    "\n",
    "# list all data in history\n",
    "print(history.history.keys())\n",
    "# summarize history for accuracy\n",
    "plt.plot(history.history['acc'])\n",
    "plt.plot(history.history['val_acc'])\n",
    "plt.title('model accuracy')\n",
    "plt.ylabel('accuracy')\n",
    "plt.xlabel('epoch')\n",
    "plt.legend(['train', 'test'], loc='upper left')\n",
    "plt.show()"
   ]
  },
  {
   "cell_type": "code",
   "execution_count": 728,
   "metadata": {},
   "outputs": [
    {
     "data": {
      "image/png": "[encoded data removed]",
      "text/plain": [
       "<Figure size 432x288 with 1 Axes>"
      ]
     },
     "metadata": {},
     "output_type": "display_data"
    }
   ],
   "source": [
    "# summarize history for loss\n",
    "plt.plot(history.history['loss'])\n",
    "plt.plot(history.history['val_loss'])\n",
    "plt.title('model loss')\n",
    "plt.ylabel('loss')\n",
    "plt.xlabel('epoch')\n",
    "plt.legend(['train', 'test'], loc='upper left')\n",
    "plt.show()"
   ]
  },
  {
   "cell_type": "code",
   "execution_count": 729,
   "metadata": {},
   "outputs": [],
   "source": [
    "full_model.save(\"full_model.h5\")"
   ]
  },
  {
   "cell_type": "markdown",
   "metadata": {},
   "source": [
    "### Without learning rate scheduler"
   ]
  },
  {
   "cell_type": "code",
   "execution_count": 714,
   "metadata": {
    "scrolled": true
   },
   "outputs": [
    {
     "name": "stdout",
     "output_type": "stream",
     "text": [
      "Train on 18054 samples, validate on 2006 samples\n",
      "Epoch 1/100\n",
      "18054/18054 [==============================] - 13s 740us/step - loss: 1.0596 - acc: 0.4561 - val_loss: 1.0422 - val_acc: 0.4706\n",
      "Epoch 2/100\n",
      "18054/18054 [==============================] - 10s 554us/step - loss: 1.0282 - acc: 0.4772 - val_loss: 1.0131 - val_acc: 0.5145\n",
      "Epoch 3/100\n",
      "18054/18054 [==============================] - 10s 553us/step - loss: 0.9863 - acc: 0.5198 - val_loss: 0.9718 - val_acc: 0.5389\n",
      "Epoch 4/100\n",
      "18054/18054 [==============================] - 10s 550us/step - loss: 0.9543 - acc: 0.5469 - val_loss: 0.9558 - val_acc: 0.5404\n",
      "Epoch 5/100\n",
      "18054/18054 [==============================] - 10s 541us/step - loss: 0.9361 - acc: 0.5619 - val_loss: 0.9428 - val_acc: 0.5538\n",
      "Epoch 6/100\n",
      "18054/18054 [==============================] - 10s 540us/step - loss: 0.9259 - acc: 0.5666 - val_loss: 0.9412 - val_acc: 0.5628\n",
      "Epoch 7/100\n",
      "18054/18054 [==============================] - 10s 548us/step - loss: 0.9198 - acc: 0.5726 - val_loss: 0.9403 - val_acc: 0.5543\n",
      "Epoch 8/100\n",
      "18054/18054 [==============================] - 10s 548us/step - loss: 0.9159 - acc: 0.5768 - val_loss: 0.9327 - val_acc: 0.5613\n",
      "Epoch 9/100\n",
      "18054/18054 [==============================] - 10s 549us/step - loss: 0.9142 - acc: 0.5784 - val_loss: 0.9325 - val_acc: 0.5633\n",
      "Epoch 10/100\n",
      "18054/18054 [==============================] - 10s 542us/step - loss: 0.9120 - acc: 0.5784 - val_loss: 0.9331 - val_acc: 0.5558\n",
      "Epoch 11/100\n",
      "18054/18054 [==============================] - 10s 544us/step - loss: 0.9106 - acc: 0.5791 - val_loss: 0.9300 - val_acc: 0.5628\n",
      "Epoch 12/100\n",
      "18054/18054 [==============================] - 10s 563us/step - loss: 0.9090 - acc: 0.5813 - val_loss: 0.9311 - val_acc: 0.5623\n",
      "Epoch 13/100\n",
      "18054/18054 [==============================] - 11s 594us/step - loss: 0.9083 - acc: 0.5828 - val_loss: 0.9319 - val_acc: 0.5638\n",
      "Epoch 14/100\n",
      "18054/18054 [==============================] - 10s 549us/step - loss: 0.9067 - acc: 0.5811 - val_loss: 0.9281 - val_acc: 0.5663\n",
      "Epoch 15/100\n",
      "18054/18054 [==============================] - 10s 539us/step - loss: 0.9065 - acc: 0.5828 - val_loss: 0.9298 - val_acc: 0.5658\n",
      "Epoch 16/100\n",
      "18054/18054 [==============================] - 10s 543us/step - loss: 0.9058 - acc: 0.5835 - val_loss: 0.9318 - val_acc: 0.5633\n",
      "Epoch 17/100\n",
      "18054/18054 [==============================] - 10s 538us/step - loss: 0.9050 - acc: 0.5851 - val_loss: 0.9279 - val_acc: 0.5663\n",
      "Epoch 18/100\n",
      "18054/18054 [==============================] - 10s 533us/step - loss: 0.9051 - acc: 0.5816 - val_loss: 0.9252 - val_acc: 0.5688\n",
      "Epoch 19/100\n",
      "18054/18054 [==============================] - 11s 627us/step - loss: 0.9038 - acc: 0.5829 - val_loss: 0.9256 - val_acc: 0.5668\n",
      "Epoch 20/100\n",
      "18054/18054 [==============================] - 13s 696us/step - loss: 0.9036 - acc: 0.5860 - val_loss: 0.9291 - val_acc: 0.5678\n",
      "Epoch 21/100\n",
      "18054/18054 [==============================] - 12s 663us/step - loss: 0.9029 - acc: 0.5856 - val_loss: 0.9300 - val_acc: 0.5643\n",
      "Epoch 22/100\n",
      "18054/18054 [==============================] - 12s 661us/step - loss: 0.9023 - acc: 0.5855 - val_loss: 0.9232 - val_acc: 0.5678\n",
      "Epoch 23/100\n",
      "18054/18054 [==============================] - 12s 666us/step - loss: 0.9025 - acc: 0.5860 - val_loss: 0.9229 - val_acc: 0.5703\n",
      "Epoch 24/100\n",
      "18054/18054 [==============================] - 12s 660us/step - loss: 0.9019 - acc: 0.5850 - val_loss: 0.9252 - val_acc: 0.5703\n",
      "Epoch 25/100\n",
      "18054/18054 [==============================] - 13s 696us/step - loss: 0.9012 - acc: 0.5863 - val_loss: 0.9328 - val_acc: 0.5598\n",
      "Epoch 26/100\n",
      "18054/18054 [==============================] - 12s 679us/step - loss: 0.9009 - acc: 0.5845 - val_loss: 0.9265 - val_acc: 0.5648\n",
      "Epoch 27/100\n",
      "18054/18054 [==============================] - 12s 680us/step - loss: 0.9007 - acc: 0.5855 - val_loss: 0.9258 - val_acc: 0.5678\n",
      "Epoch 28/100\n",
      "18054/18054 [==============================] - 12s 660us/step - loss: 0.8997 - acc: 0.5882 - val_loss: 0.9213 - val_acc: 0.5663\n",
      "Epoch 29/100\n",
      "18054/18054 [==============================] - 10s 578us/step - loss: 0.8995 - acc: 0.5882 - val_loss: 0.9222 - val_acc: 0.5663\n",
      "Epoch 30/100\n",
      "18054/18054 [==============================] - 10s 576us/step - loss: 0.8996 - acc: 0.5849 - val_loss: 0.9218 - val_acc: 0.5723\n",
      "Epoch 31/100\n",
      "18054/18054 [==============================] - 10s 549us/step - loss: 0.8990 - acc: 0.5870 - val_loss: 0.9243 - val_acc: 0.5728\n",
      "Epoch 32/100\n",
      "18054/18054 [==============================] - 10s 572us/step - loss: 0.8985 - acc: 0.5865 - val_loss: 0.9214 - val_acc: 0.5743\n",
      "Epoch 33/100\n",
      "18054/18054 [==============================] - 10s 570us/step - loss: 0.8979 - acc: 0.5852 - val_loss: 0.9205 - val_acc: 0.5643\n",
      "Epoch 34/100\n",
      "18054/18054 [==============================] - 12s 647us/step - loss: 0.8977 - acc: 0.5857 - val_loss: 0.9231 - val_acc: 0.5663\n",
      "Epoch 35/100\n",
      "18054/18054 [==============================] - 12s 659us/step - loss: 0.8966 - acc: 0.5884 - val_loss: 0.9275 - val_acc: 0.5658\n",
      "Epoch 36/100\n",
      "18054/18054 [==============================] - 12s 652us/step - loss: 0.8967 - acc: 0.5894 - val_loss: 0.9188 - val_acc: 0.5713\n",
      "Epoch 37/100\n",
      "18054/18054 [==============================] - 12s 639us/step - loss: 0.8968 - acc: 0.5902 - val_loss: 0.9221 - val_acc: 0.5738\n",
      "Epoch 38/100\n",
      "18054/18054 [==============================] - 11s 637us/step - loss: 0.8961 - acc: 0.5870 - val_loss: 0.9197 - val_acc: 0.5748\n",
      "Epoch 39/100\n",
      "18054/18054 [==============================] - 11s 617us/step - loss: 0.8955 - acc: 0.5868 - val_loss: 0.9197 - val_acc: 0.5718\n",
      "Epoch 40/100\n",
      "18054/18054 [==============================] - 11s 624us/step - loss: 0.8948 - acc: 0.5880 - val_loss: 0.9193 - val_acc: 0.5678\n",
      "Epoch 41/100\n",
      "18054/18054 [==============================] - 12s 672us/step - loss: 0.8946 - acc: 0.5890 - val_loss: 0.9203 - val_acc: 0.5768\n",
      "Epoch 42/100\n",
      "18054/18054 [==============================] - 11s 628us/step - loss: 0.8940 - acc: 0.5891 - val_loss: 0.9163 - val_acc: 0.5678\n",
      "Epoch 43/100\n",
      "18054/18054 [==============================] - 11s 603us/step - loss: 0.8933 - acc: 0.5871 - val_loss: 0.9176 - val_acc: 0.5688\n",
      "Epoch 44/100\n",
      "18054/18054 [==============================] - 10s 571us/step - loss: 0.8930 - acc: 0.5875 - val_loss: 0.9199 - val_acc: 0.5648\n",
      "Epoch 45/100\n",
      "18054/18054 [==============================] - 10s 570us/step - loss: 0.8922 - acc: 0.5883 - val_loss: 0.9174 - val_acc: 0.5738\n",
      "Epoch 46/100\n",
      "18054/18054 [==============================] - 10s 551us/step - loss: 0.8919 - acc: 0.5908 - val_loss: 0.9149 - val_acc: 0.5738\n",
      "Epoch 47/100\n",
      "18054/18054 [==============================] - 10s 542us/step - loss: 0.8912 - acc: 0.5897 - val_loss: 0.9138 - val_acc: 0.5738\n",
      "Epoch 48/100\n",
      "18054/18054 [==============================] - 10s 546us/step - loss: 0.8907 - acc: 0.5907 - val_loss: 0.9150 - val_acc: 0.5688\n",
      "Epoch 49/100\n",
      "18054/18054 [==============================] - 10s 540us/step - loss: 0.8906 - acc: 0.5887 - val_loss: 0.9151 - val_acc: 0.5633\n",
      "Epoch 50/100\n",
      "18054/18054 [==============================] - 10s 537us/step - loss: 0.8898 - acc: 0.5887 - val_loss: 0.9125 - val_acc: 0.5673\n",
      "Epoch 51/100\n",
      "18054/18054 [==============================] - 10s 530us/step - loss: 0.8892 - acc: 0.5886 - val_loss: 0.9141 - val_acc: 0.5778\n",
      "Epoch 52/100\n",
      "18054/18054 [==============================] - 10s 530us/step - loss: 0.8888 - acc: 0.5911 - val_loss: 0.9139 - val_acc: 0.5763\n",
      "Epoch 53/100\n",
      "18054/18054 [==============================] - 10s 531us/step - loss: 0.8883 - acc: 0.5926 - val_loss: 0.9171 - val_acc: 0.5633\n",
      "Epoch 54/100\n",
      "18054/18054 [==============================] - 10s 543us/step - loss: 0.8882 - acc: 0.5906 - val_loss: 0.9150 - val_acc: 0.5668\n",
      "Epoch 55/100\n",
      "18054/18054 [==============================] - 10s 532us/step - loss: 0.8874 - acc: 0.5903 - val_loss: 0.9154 - val_acc: 0.5643\n",
      "Epoch 56/100\n",
      "18054/18054 [==============================] - 10s 530us/step - loss: 0.8874 - acc: 0.5888 - val_loss: 0.9168 - val_acc: 0.5678\n",
      "Epoch 57/100\n",
      "18054/18054 [==============================] - 10s 536us/step - loss: 0.8874 - acc: 0.5896 - val_loss: 0.9141 - val_acc: 0.5663\n",
      "Epoch 58/100\n",
      "18054/18054 [==============================] - 10s 531us/step - loss: 0.8866 - acc: 0.5907 - val_loss: 0.9166 - val_acc: 0.5673\n"
     ]
    },
    {
     "name": "stdout",
     "output_type": "stream",
     "text": [
      "Epoch 59/100\n",
      "18054/18054 [==============================] - 10s 528us/step - loss: 0.8860 - acc: 0.5914 - val_loss: 0.9101 - val_acc: 0.5713\n",
      "Epoch 60/100\n",
      "18054/18054 [==============================] - 9s 525us/step - loss: 0.8855 - acc: 0.5923 - val_loss: 0.9158 - val_acc: 0.5728\n",
      "Epoch 61/100\n",
      "18054/18054 [==============================] - 11s 625us/step - loss: 0.8855 - acc: 0.5901 - val_loss: 0.9109 - val_acc: 0.5728\n",
      "Epoch 62/100\n",
      "18054/18054 [==============================] - 11s 588us/step - loss: 0.8852 - acc: 0.5908 - val_loss: 0.9115 - val_acc: 0.5673\n",
      "Epoch 63/100\n",
      "18054/18054 [==============================] - 12s 660us/step - loss: 0.8853 - acc: 0.5897 - val_loss: 0.9093 - val_acc: 0.5723\n",
      "Epoch 64/100\n",
      "18054/18054 [==============================] - 11s 612us/step - loss: 0.8854 - acc: 0.5913 - val_loss: 0.9100 - val_acc: 0.5693\n",
      "Epoch 65/100\n",
      "18054/18054 [==============================] - 11s 634us/step - loss: 0.8848 - acc: 0.5903 - val_loss: 0.9118 - val_acc: 0.5673\n",
      "Epoch 66/100\n",
      "18054/18054 [==============================] - 11s 620us/step - loss: 0.8847 - acc: 0.5904 - val_loss: 0.9137 - val_acc: 0.5668\n",
      "Epoch 67/100\n",
      "18054/18054 [==============================] - 11s 616us/step - loss: 0.8844 - acc: 0.5921 - val_loss: 0.9082 - val_acc: 0.5723\n",
      "Epoch 68/100\n",
      "18054/18054 [==============================] - 11s 598us/step - loss: 0.8841 - acc: 0.5898 - val_loss: 0.9082 - val_acc: 0.5668\n",
      "Epoch 69/100\n",
      "18054/18054 [==============================] - 11s 613us/step - loss: 0.8841 - acc: 0.5898 - val_loss: 0.9084 - val_acc: 0.5728\n",
      "Epoch 70/100\n",
      "18054/18054 [==============================] - 11s 603us/step - loss: 0.8840 - acc: 0.5913 - val_loss: 0.9110 - val_acc: 0.5638\n",
      "Epoch 71/100\n",
      "18054/18054 [==============================] - 11s 604us/step - loss: 0.8837 - acc: 0.5918 - val_loss: 0.9144 - val_acc: 0.5668\n",
      "Epoch 72/100\n",
      "18054/18054 [==============================] - 11s 612us/step - loss: 0.8832 - acc: 0.5907 - val_loss: 0.9102 - val_acc: 0.5733\n",
      "Epoch 73/100\n",
      "18054/18054 [==============================] - 11s 593us/step - loss: 0.8831 - acc: 0.5919 - val_loss: 0.9097 - val_acc: 0.5638\n",
      "Epoch 74/100\n",
      "18054/18054 [==============================] - 11s 599us/step - loss: 0.8829 - acc: 0.5929 - val_loss: 0.9084 - val_acc: 0.5643\n",
      "Epoch 75/100\n",
      "18054/18054 [==============================] - 11s 591us/step - loss: 0.8827 - acc: 0.5909 - val_loss: 0.9073 - val_acc: 0.5668\n",
      "Epoch 76/100\n",
      "18054/18054 [==============================] - 11s 593us/step - loss: 0.8826 - acc: 0.5918 - val_loss: 0.9077 - val_acc: 0.5648\n",
      "Epoch 77/100\n",
      "18054/18054 [==============================] - 11s 589us/step - loss: 0.8824 - acc: 0.5907 - val_loss: 0.9128 - val_acc: 0.5683\n",
      "Epoch 78/100\n",
      "18054/18054 [==============================] - 10s 574us/step - loss: 0.8820 - acc: 0.5903 - val_loss: 0.9092 - val_acc: 0.5678\n",
      "Epoch 79/100\n",
      "18054/18054 [==============================] - 11s 584us/step - loss: 0.8819 - acc: 0.5933 - val_loss: 0.9077 - val_acc: 0.5713\n",
      "Epoch 80/100\n",
      "18054/18054 [==============================] - 11s 592us/step - loss: 0.8813 - acc: 0.5928 - val_loss: 0.9090 - val_acc: 0.5663\n",
      "Epoch 81/100\n",
      "18054/18054 [==============================] - 11s 599us/step - loss: 0.8823 - acc: 0.5907 - val_loss: 0.9070 - val_acc: 0.5688\n",
      "Epoch 82/100\n",
      "18054/18054 [==============================] - 11s 601us/step - loss: 0.8818 - acc: 0.5939 - val_loss: 0.9081 - val_acc: 0.5738\n",
      "Epoch 83/100\n",
      "18054/18054 [==============================] - 11s 604us/step - loss: 0.8813 - acc: 0.5922 - val_loss: 0.9093 - val_acc: 0.5703\n",
      "Epoch 84/100\n",
      "18054/18054 [==============================] - 11s 589us/step - loss: 0.8816 - acc: 0.5925 - val_loss: 0.9079 - val_acc: 0.5723\n",
      "Epoch 85/100\n",
      "18054/18054 [==============================] - 11s 589us/step - loss: 0.8815 - acc: 0.5937 - val_loss: 0.9067 - val_acc: 0.5703\n",
      "Epoch 86/100\n",
      "18054/18054 [==============================] - 11s 591us/step - loss: 0.8813 - acc: 0.5916 - val_loss: 0.9139 - val_acc: 0.5673\n",
      "Epoch 87/100\n",
      "18054/18054 [==============================] - 11s 593us/step - loss: 0.8812 - acc: 0.5916 - val_loss: 0.9071 - val_acc: 0.5703\n",
      "Epoch 88/100\n",
      "18054/18054 [==============================] - 11s 590us/step - loss: 0.8810 - acc: 0.5908 - val_loss: 0.9094 - val_acc: 0.5728\n",
      "Epoch 89/100\n",
      "18054/18054 [==============================] - 11s 605us/step - loss: 0.8811 - acc: 0.5938 - val_loss: 0.9097 - val_acc: 0.5678\n",
      "Epoch 90/100\n",
      "18054/18054 [==============================] - 11s 602us/step - loss: 0.8811 - acc: 0.5917 - val_loss: 0.9063 - val_acc: 0.5693\n",
      "Epoch 91/100\n",
      "18054/18054 [==============================] - 11s 602us/step - loss: 0.8804 - acc: 0.5909 - val_loss: 0.9079 - val_acc: 0.5713\n",
      "Epoch 92/100\n",
      "18054/18054 [==============================] - 11s 594us/step - loss: 0.8805 - acc: 0.5917 - val_loss: 0.9070 - val_acc: 0.5728\n",
      "Epoch 93/100\n",
      "18054/18054 [==============================] - 11s 599us/step - loss: 0.8803 - acc: 0.5923 - val_loss: 0.9077 - val_acc: 0.5718\n",
      "Epoch 94/100\n",
      "18054/18054 [==============================] - 11s 582us/step - loss: 0.8804 - acc: 0.5922 - val_loss: 0.9072 - val_acc: 0.5718\n",
      "Epoch 95/100\n",
      "18054/18054 [==============================] - 11s 590us/step - loss: 0.8805 - acc: 0.5913 - val_loss: 0.9080 - val_acc: 0.5708\n",
      "Epoch 96/100\n",
      "18054/18054 [==============================] - 11s 589us/step - loss: 0.8799 - acc: 0.5905 - val_loss: 0.9077 - val_acc: 0.5698\n",
      "Epoch 97/100\n",
      "18054/18054 [==============================] - 11s 587us/step - loss: 0.8802 - acc: 0.5919 - val_loss: 0.9093 - val_acc: 0.5708\n",
      "Epoch 98/100\n",
      "18054/18054 [==============================] - 11s 590us/step - loss: 0.8798 - acc: 0.5904 - val_loss: 0.9098 - val_acc: 0.5703\n",
      "Epoch 99/100\n",
      "18054/18054 [==============================] - 11s 592us/step - loss: 0.8798 - acc: 0.5921 - val_loss: 0.9112 - val_acc: 0.5698\n",
      "Epoch 100/100\n",
      "18054/18054 [==============================] - 11s 590us/step - loss: 0.8793 - acc: 0.5923 - val_loss: 0.9081 - val_acc: 0.5713\n"
     ]
    }
   ],
   "source": [
    "history = full_model.fit(x=X_train_inputs, y=y_train_enc, batch_size=8, shuffle=True, epochs=100, \n",
    "          validation_data=(X_test_inputs, y_test_enc), callbacks=[reduce_lr])"
   ]
  },
  {
   "cell_type": "code",
   "execution_count": 715,
   "metadata": {},
   "outputs": [
    {
     "name": "stdout",
     "output_type": "stream",
     "text": [
      "dict_keys(['val_acc', 'val_loss', 'acc', 'loss'])\n"
     ]
    },
    {
     "data": {
      "image/png": "[encoded data removed]",
      "text/plain": [
       "<Figure size 432x288 with 1 Axes>"
      ]
     },
     "metadata": {},
     "output_type": "display_data"
    }
   ],
   "source": [
    "import matplotlib.pyplot as plt\n",
    "\n",
    "# list all data in history\n",
    "print(history.history.keys())\n",
    "# summarize history for accuracy\n",
    "plt.plot(history.history['acc'])\n",
    "plt.plot(history.history['val_acc'])\n",
    "plt.title('model accuracy')\n",
    "plt.ylabel('accuracy')\n",
    "plt.xlabel('epoch')\n",
    "plt.legend(['train', 'test'], loc='upper left')\n",
    "plt.show()"
   ]
  },
  {
   "cell_type": "code",
   "execution_count": 716,
   "metadata": {},
   "outputs": [
    {
     "data": {
      "image/png": "[encoded data removed]",
      "text/plain": [
       "<Figure size 432x288 with 1 Axes>"
      ]
     },
     "metadata": {},
     "output_type": "display_data"
    }
   ],
   "source": [
    "# summarize history for loss\n",
    "plt.plot(history.history['loss'])\n",
    "plt.plot(history.history['val_loss'])\n",
    "plt.title('model loss')\n",
    "plt.ylabel('loss')\n",
    "plt.xlabel('epoch')\n",
    "plt.legend(['train', 'test'], loc='upper left')\n",
    "plt.show()"
   ]
  },
  {
   "cell_type": "code",
   "execution_count": null,
   "metadata": {},
   "outputs": [],
   "source": []
  }
 ],
 "metadata": {
  "kernelspec": {
   "display_name": "Python 3",
   "language": "python",
   "name": "python3"
  },
  "language_info": {
   "codemirror_mode": {
    "name": "ipython",
    "version": 3
   },
   "file_extension": ".py",
   "mimetype": "text/x-python",
   "name": "python",
   "nbconvert_exporter": "python",
   "pygments_lexer": "ipython3",
   "version": "3.5.5"
  }
 },
 "nbformat": 4,
 "nbformat_minor": 2
}
