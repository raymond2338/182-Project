{
 "cells": [
  {
   "cell_type": "code",
   "execution_count": 19,
   "metadata": {},
   "outputs": [],
   "source": [
    "import numpy as np\n",
    "import pandas as pd\n",
    "from sklearn.decomposition import PCA\n",
    "import os"
   ]
  },
  {
   "cell_type": "code",
   "execution_count": 20,
   "metadata": {},
   "outputs": [],
   "source": [
    "data_formation = pd.read_csv(\"data/X_resampled_formation.csv\").values\n",
    "test_data_formation = pd.read_csv(\"data/X_test_formation.csv\").values\n",
    "label_formation = pd.read_csv(\"data/y_resampled_formation.csv\").idxmax(axis=1).values\n",
    "test_label_formation = pd.read_csv(\"data/y_test_formation.csv\").idxmax(axis=1).values"
   ]
  },
  {
   "cell_type": "code",
   "execution_count": 21,
   "metadata": {},
   "outputs": [],
   "source": [
    "for num_features in [5, 10, 25, 50, 100, 250, 500]:\n",
    "    cur_pca = PCA(n_components=num_features)\n",
    "    cur_pca.fit(data_formation)\n",
    "    \n",
    "    data_formation_tr = cur_pca.transform(data_formation)\n",
    "    test_data_formation_tf = cur_pca.transform(data_formation)\n",
    "    \n",
    "    file_name_data_formation = \"data/pca/\" + str(num_features)\n",
    "    file_name_test_data_formation = \"data/pca/\" + str(num_features)\n",
    "    \n",
    "    os.makedirs(file_name_data_formation, exist_ok=True)\n",
    "    os.makedirs(file_name_test_data_formation, exist_ok=True)\n",
    "    \n",
    "    np.save(file_name_data_formation + \"/data_formation_\" + str(num_features), data_formation_tr)\n",
    "    np.save(file_name_test_data_formation + \"/test_data_formation_\" + str(num_features), test_data_formation_tf)"
   ]
  }
 ],
 "metadata": {
  "kernelspec": {
   "display_name": "Python 3",
   "language": "python",
   "name": "python3"
  },
  "language_info": {
   "codemirror_mode": {
    "name": "ipython",
    "version": 3
   },
   "file_extension": ".py",
   "mimetype": "text/x-python",
   "name": "python",
   "nbconvert_exporter": "python",
   "pygments_lexer": "ipython3",
   "version": "3.6.7"
  }
 },
 "nbformat": 4,
 "nbformat_minor": 2
}
