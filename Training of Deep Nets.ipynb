{
 "cells": [
  {
   "cell_type": "code",
   "execution_count": 67,
   "metadata": {},
   "outputs": [],
   "source": [
    "import numpy as np\n",
    "import pandas as pd\n",
    "from keras.layers import *\n",
    "from keras.models import *\n",
    "from keras.optimizers import *\n",
    "from sklearn.model_selection import StratifiedKFold\n",
    "from sklearn.preprocessing import LabelEncoder"
   ]
  },
  {
   "cell_type": "markdown",
   "metadata": {},
   "source": [
    "# Load data"
   ]
  },
  {
   "cell_type": "markdown",
   "metadata": {},
   "source": [
    "The first cell loads the encoded images and splits them into two (home/away). The images are of shape 9x11x3 and are inputs for the siamese net. The second cell loads the match data. "
   ]
  },
  {
   "cell_type": "code",
   "execution_count": 68,
   "metadata": {},
   "outputs": [],
   "source": [
    "images = np.load(\"data/formations.npy\")"
   ]
  },
  {
   "cell_type": "code",
   "execution_count": 69,
   "metadata": {},
   "outputs": [],
   "source": [
    "data_formation = pd.read_csv(\"data/X_resampled_formation.csv\").values\n",
    "label_data_formation = pd.read_csv(\"data/y_resampled_formation.csv\").values"
   ]
  },
  {
   "cell_type": "markdown",
   "metadata": {},
   "source": [
    "# Construct Siamese Model"
   ]
  },
  {
   "cell_type": "code",
   "execution_count": 70,
   "metadata": {},
   "outputs": [],
   "source": [
    "def get_siamese_model(input_shape):\n",
    "    \"\"\"\n",
    "        Model architecture\n",
    "    \"\"\"\n",
    "    \n",
    "    # Define the tensors for the two input images\n",
    "    left_input = Input(input_shape)\n",
    "    right_input = Input(input_shape)\n",
    "    \n",
    "    # Convolutional Neural Network\n",
    "    model = Sequential()\n",
    "    model.add(Conv2D(64, (2,2), activation='relu', input_shape=input_shape))\n",
    "    model.add(MaxPooling2D())\n",
    "    model.add(Flatten())\n",
    "    model.add(Dense(128, activation='sigmoid'))\n",
    "    \n",
    "    # Generate the encodings (feature vectors) for the two images\n",
    "    encoded_l = model(left_input)\n",
    "    encoded_r = model(right_input)\n",
    "    \n",
    "    # Add a customized layer to compute the absolute difference between the encodings\n",
    "    L1_layer = Lambda(lambda tensors:K.abs(tensors[0] - tensors[1]))\n",
    "    L1_distance = L1_layer([encoded_l, encoded_r])\n",
    "    \n",
    "    # Add a dense layer with a softmax unit to generate the probabilities of home and away team winning\n",
    "    prediction = Dense(3,activation='softmax')(L1_distance)\n",
    "    \n",
    "    # Connect the inputs with the outputs\n",
    "    siamese_net = Model(inputs=[left_input,right_input], outputs=prediction)\n",
    "    optimizer = Adam(lr = 0.00006)\n",
    "    siamese_net.compile(loss=\"binary_crossentropy\",optimizer=optimizer)\n",
    "    # return the model\n",
    "    return siamese_net"
   ]
  },
  {
   "cell_type": "markdown",
   "metadata": {},
   "source": [
    "# Train the Siamese Net"
   ]
  },
  {
   "cell_type": "markdown",
   "metadata": {},
   "source": [
    "Train with k-fold cross validation. "
   ]
  },
  {
   "cell_type": "code",
   "execution_count": 71,
   "metadata": {},
   "outputs": [
    {
     "name": "stdout",
     "output_type": "stream",
     "text": [
      "Epoch 1/1\n",
      "15528/15528 [==============================] - 3s 205us/step - loss: 0.6363\n",
      "7764/7764 [==============================] - 0s 60us/step\n",
      "0.6363654960252033\n",
      "Epoch 1/1\n",
      "15528/15528 [==============================] - 3s 206us/step - loss: 0.6363\n",
      "7764/7764 [==============================] - 0s 62us/step\n",
      "0.6363200212433927\n",
      "Epoch 1/1\n",
      "15528/15528 [==============================] - 3s 210us/step - loss: 0.6365\n",
      "7764/7764 [==============================] - 0s 64us/step\n",
      "0.6360298367212385\n"
     ]
    }
   ],
   "source": [
    "num_splits = 3\n",
    "skf = StratifiedKFold(n_splits=num_splits)\n",
    "for i, (train_index, val_index) in enumerate(skf.split(images, label_data_formation.argmax(1))):\n",
    "    \n",
    "    # we need to split the images into home and away teams\n",
    "    images_A_train_kf, images_B_train_kf = images[train_index, 0, :, :, :], images[train_index, 1, :, :, :]\n",
    "    images_A_val_kf, images_B_val_kf= images[val_index, 0, :, :, :], images[val_index, 1, :, :, :]\n",
    "    \n",
    "    y_train_kf, y_val_kf = label_data_formation[train_index], label_data_formation[val_index]\n",
    "    \n",
    "    siamese_net = get_siamese_model(images_A_train_kf[0].shape)\n",
    "    siamese_net.fit(x=[images_A_train_kf, images_B_train_kf], y=y_train_kf, batch_size=16, epochs=1)\n",
    "    \n",
    "    print(siamese_net.evaluate(x=[images_A_val_kf, images_B_val_kf], y=y_val_kf))"
   ]
  },
  {
   "cell_type": "markdown",
   "metadata": {},
   "source": [
    "Train with entire training dataset."
   ]
  },
  {
   "cell_type": "code",
   "execution_count": 76,
   "metadata": {},
   "outputs": [
    {
     "name": "stdout",
     "output_type": "stream",
     "text": [
      "Epoch 1/1\n",
      "23292/23292 [==============================] - 14s 622us/step - loss: 0.6363\n"
     ]
    },
    {
     "data": {
      "text/plain": [
       "<keras.callbacks.History at 0x7fdbdbc3dac8>"
      ]
     },
     "execution_count": 76,
     "metadata": {},
     "output_type": "execute_result"
    }
   ],
   "source": [
    "# split images into home/away teams\n",
    "images_A = images[:, 0, :, :, :]\n",
    "images_B = images[:, 1, :, :, :]\n",
    "\n",
    "siamese_net = get_siamese_model(images_A[0].shape)\n",
    "siamese_net.fit(x=[images_A, images_B], y=label_data_formation, batch_size=16, epochs=1)"
   ]
  },
  {
   "cell_type": "markdown",
   "metadata": {},
   "source": [
    "Get the \"predictions\" of the siamese net as inputs to train the Dense Net."
   ]
  },
  {
   "cell_type": "code",
   "execution_count": 77,
   "metadata": {},
   "outputs": [],
   "source": [
    "siamese_train_predictions = siamese_net.predict(x=[images_A, images_B])"
   ]
  },
  {
   "cell_type": "markdown",
   "metadata": {},
   "source": [
    "# Construct Dense Net with Output of Siamese Net"
   ]
  },
  {
   "cell_type": "code",
   "execution_count": 80,
   "metadata": {},
   "outputs": [],
   "source": [
    "def get_dense_model(team_data_input_shape, siamese_model_output_shape):\n",
    "    \"\"\"\n",
    "        Model architecture\n",
    "    \"\"\"\n",
    "    \n",
    "    input1 = keras.layers.Input(shape=team_data_input_shape)\n",
    "    input2 = keras.layers.Input(shape=siamese_model_output_shape)\n",
    "    concat_inputs = keras.layers.Concatenate()([input1, input2])\n",
    "    \n",
    "    out = Dense(units=256, activation='softmax')(concat_inputs)\n",
    "    out = Dense(units=3, activation='softmax')(out)\n",
    "    \n",
    "    \n",
    "    dense_net = keras.models.Model(inputs=[input1, input2], outputs=out)\n",
    "    dense_net.compile(loss='categorical_crossentropy', optimizer='adam')\n",
    "    return dense_net"
   ]
  },
  {
   "cell_type": "markdown",
   "metadata": {},
   "source": [
    "# Train Dense Net with Output of Siamese Net"
   ]
  },
  {
   "cell_type": "markdown",
   "metadata": {},
   "source": [
    "Train with k-fold cross validation."
   ]
  },
  {
   "cell_type": "code",
   "execution_count": 83,
   "metadata": {},
   "outputs": [
    {
     "name": "stdout",
     "output_type": "stream",
     "text": [
      "Epoch 1/1\n",
      "15528/15528 [==============================] - 7s 452us/step - loss: 1.0991\n",
      "7764/7764 [==============================] - 1s 65us/step\n",
      "1.0986455347905264\n",
      "Epoch 1/1\n",
      "15528/15528 [==============================] - 7s 457us/step - loss: 1.0990\n",
      "7764/7764 [==============================] - 1s 85us/step\n",
      "1.0987146531473049\n",
      "Epoch 1/1\n",
      "15528/15528 [==============================] - 7s 454us/step - loss: 1.0990\n",
      "7764/7764 [==============================] - 1s 90us/step\n",
      "1.0987583121830873\n"
     ]
    }
   ],
   "source": [
    "num_splits = 3\n",
    "skf = StratifiedKFold(n_splits=num_splits)\n",
    "for i, (train_index, val_index) in enumerate(skf.split(data_formation, label_data_formation.argmax(1))):\n",
    "    \n",
    "    # we need to split the images into home and away teams\n",
    "    data_formation_train_kf, siamese_predictions_train_kf = data_formation[train_index], siamese_train_predictions[train_index]\n",
    "    data_formation_val_kf, siamese_predictions_val_kf= data_formation[val_index], siamese_train_predictions[val_index]\n",
    "    \n",
    "    y_train_kf, y_val_kf = label_data_formation[train_index], label_data_formation[val_index]\n",
    "    \n",
    "    dense_net = get_dense_model(data_formation[0].shape, siamese_train_predictions[0].shape)\n",
    "    dense_net.fit(x=[data_formation_train_kf, siamese_predictions_train_kf], y=y_train_kf, batch_size=16, epochs=1)\n",
    "    \n",
    "    print(dense_net.evaluate(x=[data_formation_val_kf, siamese_predictions_val_kf], y=y_val_kf))"
   ]
  },
  {
   "cell_type": "markdown",
   "metadata": {},
   "source": [
    "Train the dense net with the entire dataset."
   ]
  },
  {
   "cell_type": "code",
   "execution_count": 81,
   "metadata": {},
   "outputs": [
    {
     "name": "stdout",
     "output_type": "stream",
     "text": [
      "Epoch 1/1\n",
      "23292/23292 [==============================] - 12s 516us/step - loss: 1.0989\n"
     ]
    },
    {
     "data": {
      "text/plain": [
       "<keras.callbacks.History at 0x7fdbd8a3d748>"
      ]
     },
     "execution_count": 81,
     "metadata": {},
     "output_type": "execute_result"
    }
   ],
   "source": [
    "dense_net = get_dense_model(data_formation[0].shape, siamese_train_predictions[0].shape)\n",
    "dense_net.fit(x=[data_formation, siamese_train_predictions], y=label_data_formation, batch_size=16, epochs=1)"
   ]
  }
 ],
 "metadata": {
  "hide_input": false,
  "kernelspec": {
   "display_name": "Python 3",
   "language": "python",
   "name": "python3"
  },
  "language_info": {
   "codemirror_mode": {
    "name": "ipython",
    "version": 3
   },
   "file_extension": ".py",
   "mimetype": "text/x-python",
   "name": "python",
   "nbconvert_exporter": "python",
   "pygments_lexer": "ipython3",
   "version": "3.6.6"
  }
 },
 "nbformat": 4,
 "nbformat_minor": 2
}
