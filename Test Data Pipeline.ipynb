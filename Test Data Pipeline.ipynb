{
 "cells": [
  {
   "cell_type": "code",
   "execution_count": 35,
   "metadata": {},
   "outputs": [],
   "source": [
    "import numpy as np\n",
    "from numpy import array\n",
    "from numpy import argmax\n",
    "import pandas as pd\n",
    "import keras\n",
    "import tensorflow as tf\n",
    "from keras.layers import Dense\n",
    "from keras.models import Sequential\n",
    "from keras.utils import to_categorical\n",
    "from sklearn.preprocessing import LabelEncoder\n",
    "from sklearn.preprocessing import OneHotEncoder"
   ]
  },
  {
   "cell_type": "code",
   "execution_count": 36,
   "metadata": {},
   "outputs": [],
   "source": [
    "data = pd.read_csv(\"match_with_home_and_away_team_stats.csv\")\n",
    "data = data.sort_values(by=['date'])\n",
    "data = data.drop(columns=['Unnamed: 0', 'Unnamed: 0.1', 'date'])\n",
    "data_array = data.values\n",
    "data_array = data_array.astype(float)"
   ]
  },
  {
   "cell_type": "code",
   "execution_count": 37,
   "metadata": {},
   "outputs": [
    {
     "data": {
      "text/plain": [
       "['match_api_id',\n",
       " 'home_team_api_id',\n",
       " 'away_team_api_id',\n",
       " 'home_player_X1',\n",
       " 'home_player_X2',\n",
       " 'home_player_X3',\n",
       " 'home_player_X4',\n",
       " 'home_player_X5',\n",
       " 'home_player_X6',\n",
       " 'home_player_X7',\n",
       " 'home_player_X8',\n",
       " 'home_player_X9',\n",
       " 'home_player_X10',\n",
       " 'home_player_X11',\n",
       " 'away_player_X1',\n",
       " 'away_player_X2',\n",
       " 'away_player_X3',\n",
       " 'away_player_X4',\n",
       " 'away_player_X5',\n",
       " 'away_player_X6',\n",
       " 'away_player_X7',\n",
       " 'away_player_X8',\n",
       " 'away_player_X9',\n",
       " 'away_player_X10',\n",
       " 'away_player_X11',\n",
       " 'home_player_Y1',\n",
       " 'home_player_Y2',\n",
       " 'home_player_Y3',\n",
       " 'home_player_Y4',\n",
       " 'home_player_Y5',\n",
       " 'home_player_Y6',\n",
       " 'home_player_Y7',\n",
       " 'home_player_Y8',\n",
       " 'home_player_Y9',\n",
       " 'home_player_Y10',\n",
       " 'home_player_Y11',\n",
       " 'away_player_Y1',\n",
       " 'away_player_Y2',\n",
       " 'away_player_Y3',\n",
       " 'away_player_Y4',\n",
       " 'away_player_Y5',\n",
       " 'away_player_Y6',\n",
       " 'away_player_Y7',\n",
       " 'away_player_Y8',\n",
       " 'away_player_Y9',\n",
       " 'away_player_Y10',\n",
       " 'away_player_Y11',\n",
       " 'home_player_1',\n",
       " 'home_player_2',\n",
       " 'home_player_3',\n",
       " 'home_player_4',\n",
       " 'home_player_5',\n",
       " 'home_player_6',\n",
       " 'home_player_7',\n",
       " 'home_player_8',\n",
       " 'home_player_9',\n",
       " 'home_player_10',\n",
       " 'home_player_11',\n",
       " 'away_player_1',\n",
       " 'away_player_2',\n",
       " 'away_player_3',\n",
       " 'away_player_4',\n",
       " 'away_player_5',\n",
       " 'away_player_6',\n",
       " 'away_player_7',\n",
       " 'away_player_8',\n",
       " 'away_player_9',\n",
       " 'away_player_10',\n",
       " 'away_player_11',\n",
       " 'home_buildUpPlaySpeed',\n",
       " 'home_buildUpPlayDribbling',\n",
       " 'home_buildUpPlayPassing',\n",
       " 'home_chanceCreationPassing',\n",
       " 'home_chanceCreationCrossing',\n",
       " 'home_chanceCreationShooting',\n",
       " 'home_defencePressure',\n",
       " 'home_defenceAggression',\n",
       " 'home_defenceTeamWidth',\n",
       " 'away_buildUpPlaySpeed',\n",
       " 'away_buildUpPlayDribbling',\n",
       " 'away_buildUpPlayPassing',\n",
       " 'away_chanceCreationPassing',\n",
       " 'away_chanceCreationCrossing',\n",
       " 'away_chanceCreationShooting',\n",
       " 'away_defencePressure',\n",
       " 'away_defenceAggression',\n",
       " 'away_defenceTeamWidth']"
      ]
     },
     "execution_count": 37,
     "metadata": {},
     "output_type": "execute_result"
    }
   ],
   "source": [
    "list(data.columns.values)"
   ]
  },
  {
   "cell_type": "code",
   "execution_count": 38,
   "metadata": {},
   "outputs": [],
   "source": [
    "labels = pd.read_csv(\"label.csv\")\n",
    "labels = labels.sort_values(by=['Date'])\n",
    "labels = labels.drop(columns=['Unnamed: 0', 'Date'])\n",
    "labels_array = labels.values\n",
    "labels_array = labels.astype(float).loc[:, 'Home']\n",
    "labels_array = labels_array.values\n",
    "\n",
    "labels_array = [i + 1 for i in labels_array]\n",
    "labels_array = array(labels_array)\n",
    "encoded_labels = to_categorical(labels_array)\n"
   ]
  },
  {
   "cell_type": "code",
   "execution_count": null,
   "metadata": {},
   "outputs": [],
   "source": []
  },
  {
   "cell_type": "markdown",
   "metadata": {},
   "source": [
    "### Create a Model"
   ]
  },
  {
   "cell_type": "code",
   "execution_count": 52,
   "metadata": {},
   "outputs": [],
   "source": [
    "def createToyModel(input_dim):\n",
    "    model = Sequential()\n",
    "    model.add(Dense(units=100, activation='relu', input_dim=input_dim))\n",
    "    model.add(Dense(units=3, activation='relu', input_dim=100))\n",
    "    model.compile(loss='categorical_crossentropy', optimizer='sgd')\n",
    "    \n",
    "    return model"
   ]
  },
  {
   "cell_type": "code",
   "execution_count": 53,
   "metadata": {},
   "outputs": [],
   "source": [
    "test_model = createToyModel(data_array[0].shape[0])"
   ]
  },
  {
   "cell_type": "markdown",
   "metadata": {},
   "source": [
    "### Test a Batch"
   ]
  },
  {
   "cell_type": "code",
   "execution_count": 55,
   "metadata": {},
   "outputs": [
    {
     "name": "stdout",
     "output_type": "stream",
     "text": [
      "Epoch 1/1\n",
      "\r",
      "10/10 [==============================] - 0s 97us/step - loss: 3.7067\n"
     ]
    },
    {
     "data": {
      "text/plain": [
       "<keras.callbacks.History at 0x7fb7347594a8>"
      ]
     },
     "execution_count": 55,
     "metadata": {},
     "output_type": "execute_result"
    }
   ],
   "source": [
    "batch_size = 10\n",
    "test_batch = data_array[:batch_size]\n",
    "test_labels =encoded_labels[:batch_size]\n",
    "f = test_model.predict(x=test_batch)\n",
    "test_model.fit(x=test_batch, y=test_labels)"
   ]
  },
  {
   "cell_type": "code",
   "execution_count": null,
   "metadata": {},
   "outputs": [],
   "source": []
  }
 ],
 "metadata": {
  "kernelspec": {
   "display_name": "Python 3",
   "language": "python",
   "name": "python3"
  },
  "language_info": {
   "codemirror_mode": {
    "name": "ipython",
    "version": 3
   },
   "file_extension": ".py",
   "mimetype": "text/x-python",
   "name": "python",
   "nbconvert_exporter": "python",
   "pygments_lexer": "ipython3",
   "version": "3.6.6"
  }
 },
 "nbformat": 4,
 "nbformat_minor": 2
}
