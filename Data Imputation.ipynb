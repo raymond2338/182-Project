{
 "cells": [
  {
   "cell_type": "code",
   "execution_count": 19,
   "metadata": {},
   "outputs": [],
   "source": [
    "import pandas as pd\n",
    "import numpy as np"
   ]
  },
  {
   "cell_type": "code",
   "execution_count": 22,
   "metadata": {},
   "outputs": [
    {
     "name": "stdout",
     "output_type": "stream",
     "text": [
      "20060\n"
     ]
    }
   ],
   "source": [
    "data = pd.read_csv(\"x_y_added_player_stat.csv\")\n",
    "num_rows = data.shape[0]\n",
    "desc = data.describe()\n",
    "print(num_rows)"
   ]
  },
  {
   "cell_type": "code",
   "execution_count": 26,
   "metadata": {},
   "outputs": [
    {
     "name": "stdout",
     "output_type": "stream",
     "text": [
      "154\n",
      "(0.9884845463609172, 1.0)\n"
     ]
    }
   ],
   "source": [
    "counts = desc.loc['count'].values.tolist()\n",
    "relative_counts = [c/float(num_rows) for c in counts]\n",
    "print(len(relative_counts) - sum([1 if i == 1.0 else 0 for i in relative_counts]))\n",
    "print((min(relative_counts), max(relative_counts)))"
   ]
  },
  {
   "cell_type": "code",
   "execution_count": 23,
   "metadata": {},
   "outputs": [
    {
     "data": {
      "text/plain": [
       "2755"
      ]
     },
     "execution_count": 23,
     "metadata": {},
     "output_type": "execute_result"
    }
   ],
   "source": [
    "sum([True for idx,row in data.iterrows() if any(row.isnull())])"
   ]
  },
  {
   "cell_type": "code",
   "execution_count": 45,
   "metadata": {},
   "outputs": [
    {
     "name": "stdout",
     "output_type": "stream",
     "text": [
      "Number of Columns Missing: 176\n",
      "['home_player_1_attacking_work_rate', 'home_player_1_volleys', 'home_player_1_curve', 'home_player_1_agility', 'home_player_1_balance', 'home_player_1_jumping', 'home_player_1_vision', 'home_player_1_sliding_tackle', 'home_player_2_attacking_work_rate', 'home_player_2_volleys', 'home_player_2_curve', 'home_player_2_agility', 'home_player_2_balance', 'home_player_2_jumping', 'home_player_2_vision', 'home_player_2_sliding_tackle', 'home_player_3_attacking_work_rate', 'home_player_3_volleys', 'home_player_3_curve', 'home_player_3_agility', 'home_player_3_balance', 'home_player_3_jumping', 'home_player_3_vision', 'home_player_3_sliding_tackle', 'home_player_4_attacking_work_rate', 'home_player_4_volleys', 'home_player_4_curve', 'home_player_4_agility', 'home_player_4_balance', 'home_player_4_jumping', 'home_player_4_vision', 'home_player_4_sliding_tackle', 'home_player_5_attacking_work_rate', 'home_player_5_volleys', 'home_player_5_curve', 'home_player_5_agility', 'home_player_5_balance', 'home_player_5_jumping', 'home_player_5_vision', 'home_player_5_sliding_tackle', 'home_player_6_attacking_work_rate', 'home_player_6_volleys', 'home_player_6_curve', 'home_player_6_agility', 'home_player_6_balance', 'home_player_6_jumping', 'home_player_6_vision', 'home_player_6_sliding_tackle', 'home_player_7_attacking_work_rate', 'home_player_7_volleys', 'home_player_7_curve', 'home_player_7_agility', 'home_player_7_balance', 'home_player_7_jumping', 'home_player_7_vision', 'home_player_7_sliding_tackle', 'home_player_8_attacking_work_rate', 'home_player_8_volleys', 'home_player_8_curve', 'home_player_8_agility', 'home_player_8_balance', 'home_player_8_jumping', 'home_player_8_vision', 'home_player_8_sliding_tackle', 'home_player_9_attacking_work_rate', 'home_player_9_volleys', 'home_player_9_curve', 'home_player_9_agility', 'home_player_9_balance', 'home_player_9_jumping', 'home_player_9_vision', 'home_player_9_sliding_tackle', 'home_player_10_attacking_work_rate', 'home_player_10_volleys', 'home_player_10_curve', 'home_player_10_agility', 'home_player_10_balance', 'home_player_10_jumping', 'home_player_10_vision', 'home_player_10_sliding_tackle', 'home_player_11_attacking_work_rate', 'home_player_11_volleys', 'home_player_11_curve', 'home_player_11_agility', 'home_player_11_balance', 'home_player_11_jumping', 'home_player_11_vision', 'home_player_11_sliding_tackle', 'away_player_1_attacking_work_rate', 'away_player_1_volleys', 'away_player_1_curve', 'away_player_1_agility', 'away_player_1_balance', 'away_player_1_jumping', 'away_player_1_vision', 'away_player_1_sliding_tackle', 'away_player_2_attacking_work_rate', 'away_player_2_volleys', 'away_player_2_curve', 'away_player_2_agility', 'away_player_2_balance', 'away_player_2_jumping', 'away_player_2_vision', 'away_player_2_sliding_tackle', 'away_player_3_attacking_work_rate', 'away_player_3_volleys', 'away_player_3_curve', 'away_player_3_agility', 'away_player_3_balance', 'away_player_3_jumping', 'away_player_3_vision', 'away_player_3_sliding_tackle', 'away_player_4_attacking_work_rate', 'away_player_4_volleys', 'away_player_4_curve', 'away_player_4_agility', 'away_player_4_balance', 'away_player_4_jumping', 'away_player_4_vision', 'away_player_4_sliding_tackle', 'away_player_5_attacking_work_rate', 'away_player_5_volleys', 'away_player_5_curve', 'away_player_5_agility', 'away_player_5_balance', 'away_player_5_jumping', 'away_player_5_vision', 'away_player_5_sliding_tackle', 'away_player_6_attacking_work_rate', 'away_player_6_volleys', 'away_player_6_curve', 'away_player_6_agility', 'away_player_6_balance', 'away_player_6_jumping', 'away_player_6_vision', 'away_player_6_sliding_tackle', 'away_player_7_attacking_work_rate', 'away_player_7_volleys', 'away_player_7_curve', 'away_player_7_agility', 'away_player_7_balance', 'away_player_7_jumping', 'away_player_7_vision', 'away_player_7_sliding_tackle', 'away_player_8_attacking_work_rate', 'away_player_8_volleys', 'away_player_8_curve', 'away_player_8_agility', 'away_player_8_balance', 'away_player_8_jumping', 'away_player_8_vision', 'away_player_8_sliding_tackle', 'away_player_9_attacking_work_rate', 'away_player_9_volleys', 'away_player_9_curve', 'away_player_9_agility', 'away_player_9_balance', 'away_player_9_jumping', 'away_player_9_vision', 'away_player_9_sliding_tackle', 'away_player_10_attacking_work_rate', 'away_player_10_volleys', 'away_player_10_curve', 'away_player_10_agility', 'away_player_10_balance', 'away_player_10_jumping', 'away_player_10_vision', 'away_player_10_sliding_tackle', 'away_player_11_attacking_work_rate', 'away_player_11_volleys', 'away_player_11_curve', 'away_player_11_agility', 'away_player_11_balance', 'away_player_11_jumping', 'away_player_11_vision', 'away_player_11_sliding_tackle']\n"
     ]
    }
   ],
   "source": [
    "l = data.columns[data.isnull().any()].tolist()\n",
    "print(\"Number of Columns Missing: \" + str(len(l)))\n",
    "print(l)"
   ]
  },
  {
   "cell_type": "code",
   "execution_count": 46,
   "metadata": {},
   "outputs": [
    {
     "name": "stdout",
     "output_type": "stream",
     "text": [
      "Number of players: 10273\n"
     ]
    }
   ],
   "source": [
    "player_ids = set()\n",
    "for i in range(1, 12):\n",
    "    player_ids = player_ids.union(set(data.loc[:, 'home_player_'+str(i)].values))\n",
    "    player_ids = player_ids.union(set(data.loc[:, 'away_player_'+str(i)].values))\n",
    "print(\"Number of players: \" + str(len(player_ids)))"
   ]
  },
  {
   "cell_type": "code",
   "execution_count": 59,
   "metadata": {},
   "outputs": [],
   "source": [
    "missing_player_attr = ['attacking_work_rate', 'volleys', 'curve', 'agility', 'balance', 'jumping', 'vision', 'sliding_tackle']\n",
    "general_player_attr = ['overall_rating', 'potential', 'preferred_foot', 'attacking_work_rate', \n",
    "                                                 'defensive_work_rate', 'crossing', 'finishing', 'heading_accuracy', 'short_passing',\n",
    "                                                 'volleys', 'dribbling', 'curve', 'free_kick_accuracy', 'long_passing', 'ball_control',\n",
    "                                                 'acceleration', 'sprint_speed', 'agility', 'reactions', 'balance', 'shot_power',\n",
    "                                                 'jumping', 'stamina', 'strength', 'long_shots', 'aggression', 'interceptions',\n",
    "                                                 'positioning', 'vision', 'penalties', 'marking', 'standing_tackle', 'sliding_tackle',\n",
    "                                                 'gk_diving', 'gk_handling', 'gk_kicking', 'gk_positioning', 'gk_reflexes']\n",
    "missing_player_dict = {}\n",
    "general_player_dict = {}\n",
    "for i in player_ids:\n",
    "    missing_player_dict[i] = {}\n",
    "    general_player_dict[i] = {}"
   ]
  },
  {
   "cell_type": "code",
   "execution_count": 60,
   "metadata": {},
   "outputs": [],
   "source": [
    "for i, row in data.iterrows():\n",
    "    for loc in ['home_player', 'away_player']:\n",
    "        for pl_num in range(1, 12):\n",
    "            cur_player_id = row[loc + '_' + str(pl_num)]\n",
    "            for attr in missing_player_attr:\n",
    "                key_name = loc + '_' + str(pl_num) + '_' + attr\n",
    "                #print((key_name, type(key_name)))\n",
    "                if attr not in missing_player_dict[cur_player_id].keys() and not pd.isna(row[key_name]):\n",
    "                    missing_player_dict[cur_player_id][attr] = row[key_name]\n",
    "            \n",
    "            for attr in general_player_attr:\n",
    "                key_name = loc + '_' + str(pl_num) + '_' + attr\n",
    "                #print((key_name, type(key_name)))\n",
    "                if attr not in general_player_dict[cur_player_id].keys() and not pd.isna(row[key_name]):\n",
    "                    general_player_dict[cur_player_id][attr] = row[key_name]\n",
    "            \n"
   ]
  },
  {
   "cell_type": "code",
   "execution_count": 61,
   "metadata": {},
   "outputs": [
    {
     "name": "stdout",
     "output_type": "stream",
     "text": [
      "[255, 69, 0, 0, 0, 0, 0, 127, 9822]\n",
      "(0, 8)\n"
     ]
    }
   ],
   "source": [
    "missing_counts = [len(missing_player_dict[i]) for i in player_ids]\n",
    "buckets = [0] * 9\n",
    "for c in missing_counts:\n",
    "    buckets[c] += 1\n",
    "print(buckets)\n",
    "print((min(missing_counts), max(missing_counts)))"
   ]
  },
  {
   "cell_type": "code",
   "execution_count": 64,
   "metadata": {},
   "outputs": [
    {
     "name": "stdout",
     "output_type": "stream",
     "text": [
      "[0, 0, 0, 0, 0, 0, 0, 0, 0, 0, 0, 0, 0, 0, 0, 0, 0, 0, 0, 0, 0, 0, 0, 0, 0, 0, 0, 0, 0, 0, 255, 69, 0, 0, 0, 0, 0, 127, 9822]\n",
      "(30, 38)\n"
     ]
    }
   ],
   "source": [
    "general_counts = [len(general_player_dict[i]) for i in player_ids]\n",
    "buckets = [0] * (len(general_player_attr) + 1)\n",
    "for c in general_counts:\n",
    "    buckets[c] += 1\n",
    "print(buckets)\n",
    "print((min(general_counts), max(general_counts)))"
   ]
  },
  {
   "cell_type": "code",
   "execution_count": null,
   "metadata": {},
   "outputs": [],
   "source": []
  }
 ],
 "metadata": {
  "kernelspec": {
   "display_name": "Python 3",
   "language": "python",
   "name": "python3"
  },
  "language_info": {
   "codemirror_mode": {
    "name": "ipython",
    "version": 3
   },
   "file_extension": ".py",
   "mimetype": "text/x-python",
   "name": "python",
   "nbconvert_exporter": "python",
   "pygments_lexer": "ipython3",
   "version": "3.6.6"
  }
 },
 "nbformat": 4,
 "nbformat_minor": 2
}
